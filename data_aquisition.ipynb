{
 "cells": [
  {
   "cell_type": "code",
   "execution_count": 51,
   "id": "f31f74c0-3154-48bc-9c21-9e43bdd6b44c",
   "metadata": {
    "scrolled": true
   },
   "outputs": [],
   "source": [
    "import yfinance as yf\n",
    "import pandas as pd\n",
    "from datetime import datetime, timedelta\n",
    "import csv\n",
    "\n",
    "\n",
    "# Get the list of NASDAQ companies\n",
    "nasdaq_tickers = pd.read_csv('nasdaq_screener.csv')\n",
    "#nasdaq_tickers= pd.read_csv('https://datahub.io/core/nasdaq-listings/r/nasdaq-listed-symbols.csv')\n",
    "tickers_total = nasdaq_tickers['Symbol'].tolist()\n",
    "tickers = tickers_total[10:13]\n",
    "\n",
    "# Prepare the CSV file\n",
    "header_written = False\n",
    "csv_file = 'nasdaq_financial_data.csv'\n",
    "\n",
    "\n",
    "# Helper function to get the stock price on a specific date\n",
    "def get_stock_price(ticker, date):\n",
    "    for i in range(7):        \n",
    "        try:\n",
    "            adjusted_date = date + timedelta(days=i)\n",
    "            stock_data = yf.download(ticker, start=adjusted_date, end=adjusted_date + timedelta(days=1), progress=False)\n",
    "            if not stock_data.empty:\n",
    "                return stock_data['Close'].iloc[0]\n",
    "        except Exception as e: \n",
    "            print(f\"Error processing ticker {ticker}: {e}\")\n",
    "\n",
    "\n",
    "\n",
    "# Function that flattens the data of a dataframe concatenate the columns and put everything in a row\n",
    "def flatten_data(df, ticker):    \n",
    "    \n",
    "    df_u = df.unstack().reset_index()\n",
    "    df_u['Ticker'] = df_u.apply(lambda row: str(row['level_0'].year) + ' ' + row['level_1'], axis=1)\n",
    "    df_u.set_index(keys = 'Ticker')\n",
    "    df_ordered = df_u.drop(columns = ['level_0','level_1'])\n",
    "    df_transposed = df_ordered.set_index(keys='Ticker').T\n",
    "    df_transposed['Ticker'] = ticker\n",
    "    df_transposed.set_index(keys='Ticker',inplace = True)  \n",
    "    \n",
    "    return df_transposed\n",
    "\n",
    "\n"
   ]
  },
  {
   "cell_type": "code",
   "execution_count": 52,
   "id": "e3e13791-7138-4dd2-b54c-ceca3d945eba",
   "metadata": {},
   "outputs": [],
   "source": [
    "#Compute the stock value ratio (item_stock%/sp500_stock%) in a year\n",
    "\n",
    "def get_stock_value_ratio(date, ticker):\n",
    "    for i in range(7):\n",
    "        print(i)\n",
    "        try:\n",
    "            # Adjust date by i days\n",
    "            adjusted_date = date + timedelta(days=i)\n",
    "            stock_data = get_stock_price(ticker, adjusted_date)\n",
    "            \n",
    "            if not stock_data.empty:\n",
    "                date_diff = adjusted_date - timedelta(weeks=52)\n",
    "                #change in s&p 500 price in %     \n",
    "                sp500_change = get_stock_price(\"^GSPC\", adjusted_date) / get_stock_price(\"^GSPC\",date_diff)\n",
    "                #change in stock price in %\n",
    "                stock_change = get_stock_price(ticker,adjusted_date)/ get_stock_price(ticker,date_diff)\n",
    "                #ratio of change_stock / change_s&p500\n",
    "                ratio = stock_change / sp500_change\n",
    "                if ratio is not None: \n",
    "                    return ratio\n",
    "        except Exception as e: \n",
    "            print(f\"Error processing ticker {ticker}: {e}\")"
   ]
  },
  {
   "cell_type": "code",
   "execution_count": 53,
   "id": "53e6641e-f59c-4634-8a4c-24fd7ef51768",
   "metadata": {},
   "outputs": [],
   "source": [
    "#function to get the stock value corresponding to the date date\n",
    "\n",
    "def get_stock_value(df, ticker) :\n",
    "    lst_stock_value = []\n",
    "    lst_stock_ratio = []\n",
    "    for date in df.columns :\n",
    "        date_str = date.strftime('%Y-%m-%d')\n",
    "        lst_stock_value.append(get_stock_price(ticker, date))\n",
    "        lst_stock_ratio.append(get_stock_value_ratio(ticker, date))\n",
    "        \n",
    "    df.loc['Stock value'] = lst_stock_value\n",
    "    df.loc['Ratio ticker sp500'] = lst_stock_ratio\n",
    "    return df"
   ]
  },
  {
   "cell_type": "code",
   "execution_count": 54,
   "id": "94a03ff7-91ed-430b-bd4d-f4778b078bb6",
   "metadata": {},
   "outputs": [],
   "source": [
    "\n",
    "def create_df(tickers):\n",
    "    df_complete = pd.DataFrame()\n",
    "    for ticker in tickers:  \n",
    "        df_row = pd.DataFrame()\n",
    "        try: \n",
    "            # Get financial statements for the ticker ticker\n",
    "            stock = yf.Ticker(ticker)\n",
    "            balance_sheet = stock.balance_sheet\n",
    "            income_statement = stock.financials\n",
    "            cashflow_statement = stock.cashflow\n",
    "            \n",
    "            # add the stock value and flatten the dataframe\n",
    "            df_bs = get_stock_value(balance_sheet,ticker)\n",
    "            df_bs_f = flatten_data(df_bs,ticker)\n",
    "            df_is_f = flatten_data(income_statement,ticker)\n",
    "            df_cs_f = flatten_data(cashflow_statement,ticker)\n",
    "            #concatenate\n",
    "            df_row = pd.concat([df_bs_f,df_is_f,df_cs_f],axis=1)\n",
    "            df_complete = pd.concat([df_complete, df_row])\n",
    "    \n",
    "        except Exception as e: \n",
    "            print(f\"Error processing ticker {ticker}: {e}\")\n",
    "    return df_complete\n",
    "        \n",
    "     "
   ]
  },
  {
   "cell_type": "code",
   "execution_count": 55,
   "id": "7035cef1-082c-4848-90e7-c0dd73b1b5e7",
   "metadata": {
    "scrolled": true
   },
   "outputs": [
    {
     "name": "stderr",
     "output_type": "stream",
     "text": [
      "\n",
      "1 Failed download:\n",
      "['AAMC']: YFPricesMissingError('$%ticker%: possibly delisted; No price data found  (1d 2023-12-31 00:00:00 -> 2024-01-01 00:00:00)')\n",
      "\n",
      "1 Failed download:\n",
      "['AAMC']: YFPricesMissingError('$%ticker%: possibly delisted; No price data found  (1d 2024-01-01 00:00:00 -> 2024-01-02 00:00:00)')\n"
     ]
    },
    {
     "name": "stdout",
     "output_type": "stream",
     "text": [
      "$AAMC: possibly delisted; No price data found  (1d 2023-12-31 00:00:00 -> 2024-01-01 00:00:00)\n",
      "$AAMC: possibly delisted; No price data found  (1d 2024-01-01 00:00:00 -> 2024-01-02 00:00:00)\n",
      "0\n",
      "Error processing ticker 2023-12-31 00:00:00: can only concatenate str (not \"datetime.timedelta\") to str\n",
      "1\n",
      "Error processing ticker 2023-12-31 00:00:00: can only concatenate str (not \"datetime.timedelta\") to str\n",
      "2\n",
      "Error processing ticker 2023-12-31 00:00:00: can only concatenate str (not \"datetime.timedelta\") to str\n",
      "3\n",
      "Error processing ticker 2023-12-31 00:00:00: can only concatenate str (not \"datetime.timedelta\") to str\n",
      "4\n",
      "Error processing ticker 2023-12-31 00:00:00: can only concatenate str (not \"datetime.timedelta\") to str\n",
      "5\n",
      "Error processing ticker 2023-12-31 00:00:00: can only concatenate str (not \"datetime.timedelta\") to str\n",
      "6\n",
      "Error processing ticker 2023-12-31 00:00:00: can only concatenate str (not \"datetime.timedelta\") to str\n",
      "0\n",
      "Error processing ticker 2022-12-31 00:00:00: can only concatenate str (not \"datetime.timedelta\") to str\n",
      "1\n",
      "Error processing ticker 2022-12-31 00:00:00: can only concatenate str (not \"datetime.timedelta\") to str\n",
      "2\n",
      "Error processing ticker 2022-12-31 00:00:00: can only concatenate str (not \"datetime.timedelta\") to str\n",
      "3\n",
      "Error processing ticker 2022-12-31 00:00:00: can only concatenate str (not \"datetime.timedelta\") to str\n",
      "4\n",
      "Error processing ticker 2022-12-31 00:00:00: can only concatenate str (not \"datetime.timedelta\") to str\n",
      "5\n",
      "Error processing ticker 2022-12-31 00:00:00: can only concatenate str (not \"datetime.timedelta\") to str\n",
      "6\n",
      "Error processing ticker 2022-12-31 00:00:00: can only concatenate str (not \"datetime.timedelta\") to str\n"
     ]
    },
    {
     "name": "stderr",
     "output_type": "stream",
     "text": [
      "\n",
      "1 Failed download:\n",
      "['AAMC']: YFPricesMissingError('$%ticker%: possibly delisted; No price data found  (1d 2022-12-31 00:00:00 -> 2023-01-01 00:00:00)')\n"
     ]
    },
    {
     "name": "stdout",
     "output_type": "stream",
     "text": [
      "$AAMC: possibly delisted; No price data found  (1d 2022-12-31 00:00:00 -> 2023-01-01 00:00:00)\n"
     ]
    },
    {
     "name": "stderr",
     "output_type": "stream",
     "text": [
      "\n",
      "1 Failed download:\n",
      "['AAMC']: YFChartError(\"%ticker%: Data doesn't exist for startDate = 1640926800, endDate = 1641013200\")\n",
      "\n",
      "1 Failed download:\n",
      "['AAMC']: YFChartError(\"%ticker%: Data doesn't exist for startDate = 1641013200, endDate = 1641099600\")\n",
      "\n",
      "1 Failed download:\n",
      "['AAMC']: YFChartError(\"%ticker%: Data doesn't exist for startDate = 1641099600, endDate = 1641186000\")\n",
      "\n",
      "1 Failed download:\n",
      "['AAMC']: YFChartError(\"%ticker%: Data doesn't exist for startDate = 1641186000, endDate = 1641272400\")\n",
      "\n",
      "1 Failed download:\n",
      "['AAMC']: YFChartError(\"%ticker%: Data doesn't exist for startDate = 1641272400, endDate = 1641358800\")\n",
      "\n",
      "1 Failed download:\n",
      "['AAMC']: YFChartError(\"%ticker%: Data doesn't exist for startDate = 1641358800, endDate = 1641445200\")\n"
     ]
    },
    {
     "name": "stdout",
     "output_type": "stream",
     "text": [
      "0\n",
      "Error processing ticker 2021-12-31 00:00:00: can only concatenate str (not \"datetime.timedelta\") to str\n",
      "1\n",
      "Error processing ticker 2021-12-31 00:00:00: can only concatenate str (not \"datetime.timedelta\") to str\n",
      "2\n",
      "Error processing ticker 2021-12-31 00:00:00: can only concatenate str (not \"datetime.timedelta\") to str\n",
      "3\n",
      "Error processing ticker 2021-12-31 00:00:00: can only concatenate str (not \"datetime.timedelta\") to str\n",
      "4\n",
      "Error processing ticker 2021-12-31 00:00:00: can only concatenate str (not \"datetime.timedelta\") to str\n",
      "5\n",
      "Error processing ticker 2021-12-31 00:00:00: can only concatenate str (not \"datetime.timedelta\") to str\n",
      "6\n",
      "Error processing ticker 2021-12-31 00:00:00: can only concatenate str (not \"datetime.timedelta\") to str\n"
     ]
    },
    {
     "name": "stderr",
     "output_type": "stream",
     "text": [
      "\n",
      "1 Failed download:\n",
      "['AAMC']: YFChartError(\"%ticker%: Data doesn't exist for startDate = 1641445200, endDate = 1641531600\")\n",
      "\n",
      "1 Failed download:\n",
      "['AAMC']: YFChartError(\"%ticker%: Data doesn't exist for startDate = 1609477200, endDate = 1609563600\")\n",
      "\n",
      "1 Failed download:\n",
      "['AAMC']: YFChartError(\"%ticker%: Data doesn't exist for startDate = 1609563600, endDate = 1609650000\")\n",
      "\n",
      "1 Failed download:\n",
      "['AAMC']: YFChartError(\"%ticker%: Data doesn't exist for startDate = 1609650000, endDate = 1609736400\")\n",
      "\n",
      "1 Failed download:\n",
      "['AAMC']: YFChartError(\"%ticker%: Data doesn't exist for startDate = 1609736400, endDate = 1609822800\")\n",
      "\n",
      "1 Failed download:\n",
      "['AAMC']: YFChartError(\"%ticker%: Data doesn't exist for startDate = 1609822800, endDate = 1609909200\")\n",
      "\n",
      "1 Failed download:\n",
      "['AAMC']: YFChartError(\"%ticker%: Data doesn't exist for startDate = 1609909200, endDate = 1609995600\")\n"
     ]
    },
    {
     "name": "stdout",
     "output_type": "stream",
     "text": [
      "0\n",
      "Error processing ticker 2020-12-31 00:00:00: can only concatenate str (not \"datetime.timedelta\") to str\n",
      "1\n",
      "Error processing ticker 2020-12-31 00:00:00: can only concatenate str (not \"datetime.timedelta\") to str\n",
      "2\n",
      "Error processing ticker 2020-12-31 00:00:00: can only concatenate str (not \"datetime.timedelta\") to str\n",
      "3\n",
      "Error processing ticker 2020-12-31 00:00:00: can only concatenate str (not \"datetime.timedelta\") to str\n",
      "4\n",
      "Error processing ticker 2020-12-31 00:00:00: can only concatenate str (not \"datetime.timedelta\") to str\n",
      "5\n",
      "Error processing ticker 2020-12-31 00:00:00: can only concatenate str (not \"datetime.timedelta\") to str\n",
      "6\n",
      "Error processing ticker 2020-12-31 00:00:00: can only concatenate str (not \"datetime.timedelta\") to str\n"
     ]
    },
    {
     "name": "stderr",
     "output_type": "stream",
     "text": [
      "\n",
      "1 Failed download:\n",
      "['AAMC']: YFChartError(\"%ticker%: Data doesn't exist for startDate = 1577768400, endDate = 1577854800\")\n",
      "\n",
      "1 Failed download:\n",
      "['AAMC']: YFChartError(\"%ticker%: Data doesn't exist for startDate = 1577854800, endDate = 1577941200\")\n",
      "\n",
      "1 Failed download:\n",
      "['AAMC']: YFChartError(\"%ticker%: Data doesn't exist for startDate = 1577941200, endDate = 1578027600\")\n",
      "\n",
      "1 Failed download:\n",
      "['AAMC']: YFChartError(\"%ticker%: Data doesn't exist for startDate = 1578027600, endDate = 1578114000\")\n",
      "\n",
      "1 Failed download:\n",
      "['AAMC']: YFChartError(\"%ticker%: Data doesn't exist for startDate = 1578114000, endDate = 1578200400\")\n",
      "\n",
      "1 Failed download:\n",
      "['AAMC']: YFChartError(\"%ticker%: Data doesn't exist for startDate = 1578200400, endDate = 1578286800\")\n",
      "\n",
      "1 Failed download:\n",
      "['AAMC']: YFChartError(\"%ticker%: Data doesn't exist for startDate = 1578286800, endDate = 1578373200\")\n"
     ]
    },
    {
     "name": "stdout",
     "output_type": "stream",
     "text": [
      "0\n",
      "Error processing ticker 2019-12-31 00:00:00: can only concatenate str (not \"datetime.timedelta\") to str\n",
      "1\n",
      "Error processing ticker 2019-12-31 00:00:00: can only concatenate str (not \"datetime.timedelta\") to str\n",
      "2\n",
      "Error processing ticker 2019-12-31 00:00:00: can only concatenate str (not \"datetime.timedelta\") to str\n",
      "3\n",
      "Error processing ticker 2019-12-31 00:00:00: can only concatenate str (not \"datetime.timedelta\") to str\n",
      "4\n",
      "Error processing ticker 2019-12-31 00:00:00: can only concatenate str (not \"datetime.timedelta\") to str\n",
      "5\n",
      "Error processing ticker 2019-12-31 00:00:00: can only concatenate str (not \"datetime.timedelta\") to str\n",
      "6\n",
      "Error processing ticker 2019-12-31 00:00:00: can only concatenate str (not \"datetime.timedelta\") to str\n"
     ]
    },
    {
     "name": "stderr",
     "output_type": "stream",
     "text": [
      "\n",
      "1 Failed download:\n",
      "['AAME']: YFPricesMissingError('$%ticker%: possibly delisted; No price data found  (1d 2022-12-31 00:00:00 -> 2023-01-01 00:00:00)')\n",
      "\n",
      "1 Failed download:\n",
      "['AAME']: YFPricesMissingError('$%ticker%: possibly delisted; No price data found  (1d 2023-01-01 00:00:00 -> 2023-01-02 00:00:00)')\n",
      "\n",
      "1 Failed download:\n",
      "['AAME']: YFPricesMissingError('$%ticker%: possibly delisted; No price data found  (1d 2023-01-02 00:00:00 -> 2023-01-03 00:00:00)')\n"
     ]
    },
    {
     "name": "stdout",
     "output_type": "stream",
     "text": [
      "$AAME: possibly delisted; No price data found  (1d 2022-12-31 00:00:00 -> 2023-01-01 00:00:00)\n",
      "$AAME: possibly delisted; No price data found  (1d 2023-01-01 00:00:00 -> 2023-01-02 00:00:00)\n",
      "$AAME: possibly delisted; No price data found  (1d 2023-01-02 00:00:00 -> 2023-01-03 00:00:00)\n",
      "0\n",
      "Error processing ticker 2022-12-31 00:00:00: can only concatenate str (not \"datetime.timedelta\") to str\n",
      "1\n",
      "Error processing ticker 2022-12-31 00:00:00: can only concatenate str (not \"datetime.timedelta\") to str\n",
      "2\n",
      "Error processing ticker 2022-12-31 00:00:00: can only concatenate str (not \"datetime.timedelta\") to str\n",
      "3\n",
      "Error processing ticker 2022-12-31 00:00:00: can only concatenate str (not \"datetime.timedelta\") to str\n",
      "4\n",
      "Error processing ticker 2022-12-31 00:00:00: can only concatenate str (not \"datetime.timedelta\") to str\n",
      "5\n",
      "Error processing ticker 2022-12-31 00:00:00: can only concatenate str (not \"datetime.timedelta\") to str\n",
      "6\n",
      "Error processing ticker 2022-12-31 00:00:00: can only concatenate str (not \"datetime.timedelta\") to str\n",
      "0\n",
      "Error processing ticker 2021-12-31 00:00:00: can only concatenate str (not \"datetime.timedelta\") to str\n",
      "1\n",
      "Error processing ticker 2021-12-31 00:00:00: can only concatenate str (not \"datetime.timedelta\") to str\n",
      "2\n",
      "Error processing ticker 2021-12-31 00:00:00: can only concatenate str (not \"datetime.timedelta\") to str\n",
      "3\n",
      "Error processing ticker 2021-12-31 00:00:00: can only concatenate str (not \"datetime.timedelta\") to str\n",
      "4\n",
      "Error processing ticker 2021-12-31 00:00:00: can only concatenate str (not \"datetime.timedelta\") to str\n",
      "5\n",
      "Error processing ticker 2021-12-31 00:00:00: can only concatenate str (not \"datetime.timedelta\") to str\n",
      "6\n",
      "Error processing ticker 2021-12-31 00:00:00: can only concatenate str (not \"datetime.timedelta\") to str\n",
      "0\n",
      "Error processing ticker 2020-12-31 00:00:00: can only concatenate str (not \"datetime.timedelta\") to str\n",
      "1\n",
      "Error processing ticker 2020-12-31 00:00:00: can only concatenate str (not \"datetime.timedelta\") to str\n",
      "2\n",
      "Error processing ticker 2020-12-31 00:00:00: can only concatenate str (not \"datetime.timedelta\") to str\n",
      "3\n",
      "Error processing ticker 2020-12-31 00:00:00: can only concatenate str (not \"datetime.timedelta\") to str\n",
      "4\n",
      "Error processing ticker 2020-12-31 00:00:00: can only concatenate str (not \"datetime.timedelta\") to str\n",
      "5\n",
      "Error processing ticker 2020-12-31 00:00:00: can only concatenate str (not \"datetime.timedelta\") to str\n",
      "6\n",
      "Error processing ticker 2020-12-31 00:00:00: can only concatenate str (not \"datetime.timedelta\") to str\n",
      "0\n",
      "Error processing ticker 2019-12-31 00:00:00: can only concatenate str (not \"datetime.timedelta\") to str\n",
      "1\n",
      "Error processing ticker 2019-12-31 00:00:00: can only concatenate str (not \"datetime.timedelta\") to str\n",
      "2\n",
      "Error processing ticker 2019-12-31 00:00:00: can only concatenate str (not \"datetime.timedelta\") to str\n",
      "3\n",
      "Error processing ticker 2019-12-31 00:00:00: can only concatenate str (not \"datetime.timedelta\") to str\n",
      "4\n",
      "Error processing ticker 2019-12-31 00:00:00: can only concatenate str (not \"datetime.timedelta\") to str\n",
      "5\n",
      "Error processing ticker 2019-12-31 00:00:00: can only concatenate str (not \"datetime.timedelta\") to str\n",
      "6\n",
      "Error processing ticker 2019-12-31 00:00:00: can only concatenate str (not \"datetime.timedelta\") to str\n"
     ]
    },
    {
     "name": "stderr",
     "output_type": "stream",
     "text": [
      "\n",
      "1 Failed download:\n",
      "['AAN']: YFPricesMissingError('$%ticker%: possibly delisted; No price data found  (1d 2023-12-31 00:00:00 -> 2024-01-01 00:00:00)')\n",
      "\n",
      "1 Failed download:\n",
      "['AAN']: YFPricesMissingError('$%ticker%: possibly delisted; No price data found  (1d 2024-01-01 00:00:00 -> 2024-01-02 00:00:00)')\n"
     ]
    },
    {
     "name": "stdout",
     "output_type": "stream",
     "text": [
      "$AAN: possibly delisted; No price data found  (1d 2023-12-31 00:00:00 -> 2024-01-01 00:00:00)\n",
      "$AAN: possibly delisted; No price data found  (1d 2024-01-01 00:00:00 -> 2024-01-02 00:00:00)\n"
     ]
    },
    {
     "name": "stderr",
     "output_type": "stream",
     "text": [
      "\n",
      "1 Failed download:\n",
      "['AAN']: YFPricesMissingError('$%ticker%: possibly delisted; No price data found  (1d 2022-12-31 00:00:00 -> 2023-01-01 00:00:00)')\n",
      "\n",
      "1 Failed download:\n",
      "['AAN']: YFPricesMissingError('$%ticker%: possibly delisted; No price data found  (1d 2023-01-01 00:00:00 -> 2023-01-02 00:00:00)')\n"
     ]
    },
    {
     "name": "stdout",
     "output_type": "stream",
     "text": [
      "0\n",
      "Error processing ticker 2023-12-31 00:00:00: can only concatenate str (not \"datetime.timedelta\") to str\n",
      "1\n",
      "Error processing ticker 2023-12-31 00:00:00: can only concatenate str (not \"datetime.timedelta\") to str\n",
      "2\n",
      "Error processing ticker 2023-12-31 00:00:00: can only concatenate str (not \"datetime.timedelta\") to str\n",
      "3\n",
      "Error processing ticker 2023-12-31 00:00:00: can only concatenate str (not \"datetime.timedelta\") to str\n",
      "4\n",
      "Error processing ticker 2023-12-31 00:00:00: can only concatenate str (not \"datetime.timedelta\") to str\n",
      "5\n",
      "Error processing ticker 2023-12-31 00:00:00: can only concatenate str (not \"datetime.timedelta\") to str\n",
      "6\n",
      "Error processing ticker 2023-12-31 00:00:00: can only concatenate str (not \"datetime.timedelta\") to str\n",
      "$AAN: possibly delisted; No price data found  (1d 2022-12-31 00:00:00 -> 2023-01-01 00:00:00)\n",
      "$AAN: possibly delisted; No price data found  (1d 2023-01-01 00:00:00 -> 2023-01-02 00:00:00)\n"
     ]
    },
    {
     "name": "stderr",
     "output_type": "stream",
     "text": [
      "\n",
      "1 Failed download:\n",
      "['AAN']: YFPricesMissingError('$%ticker%: possibly delisted; No price data found  (1d 2023-01-02 00:00:00 -> 2023-01-03 00:00:00)')\n"
     ]
    },
    {
     "name": "stdout",
     "output_type": "stream",
     "text": [
      "$AAN: possibly delisted; No price data found  (1d 2023-01-02 00:00:00 -> 2023-01-03 00:00:00)\n",
      "0\n",
      "Error processing ticker 2022-12-31 00:00:00: can only concatenate str (not \"datetime.timedelta\") to str\n",
      "1\n",
      "Error processing ticker 2022-12-31 00:00:00: can only concatenate str (not \"datetime.timedelta\") to str\n",
      "2\n",
      "Error processing ticker 2022-12-31 00:00:00: can only concatenate str (not \"datetime.timedelta\") to str\n",
      "3\n",
      "Error processing ticker 2022-12-31 00:00:00: can only concatenate str (not \"datetime.timedelta\") to str\n",
      "4\n",
      "Error processing ticker 2022-12-31 00:00:00: can only concatenate str (not \"datetime.timedelta\") to str\n",
      "5\n",
      "Error processing ticker 2022-12-31 00:00:00: can only concatenate str (not \"datetime.timedelta\") to str\n",
      "6\n",
      "Error processing ticker 2022-12-31 00:00:00: can only concatenate str (not \"datetime.timedelta\") to str\n",
      "0\n",
      "Error processing ticker 2021-12-31 00:00:00: can only concatenate str (not \"datetime.timedelta\") to str\n",
      "1\n",
      "Error processing ticker 2021-12-31 00:00:00: can only concatenate str (not \"datetime.timedelta\") to str\n",
      "2\n",
      "Error processing ticker 2021-12-31 00:00:00: can only concatenate str (not \"datetime.timedelta\") to str\n",
      "3\n",
      "Error processing ticker 2021-12-31 00:00:00: can only concatenate str (not \"datetime.timedelta\") to str\n",
      "4\n",
      "Error processing ticker 2021-12-31 00:00:00: can only concatenate str (not \"datetime.timedelta\") to str\n",
      "5\n",
      "Error processing ticker 2021-12-31 00:00:00: can only concatenate str (not \"datetime.timedelta\") to str\n",
      "6\n",
      "Error processing ticker 2021-12-31 00:00:00: can only concatenate str (not \"datetime.timedelta\") to str\n",
      "0\n",
      "Error processing ticker 2020-12-31 00:00:00: can only concatenate str (not \"datetime.timedelta\") to str\n",
      "1\n",
      "Error processing ticker 2020-12-31 00:00:00: can only concatenate str (not \"datetime.timedelta\") to str\n",
      "2\n",
      "Error processing ticker 2020-12-31 00:00:00: can only concatenate str (not \"datetime.timedelta\") to str\n",
      "3\n",
      "Error processing ticker 2020-12-31 00:00:00: can only concatenate str (not \"datetime.timedelta\") to str\n",
      "4\n",
      "Error processing ticker 2020-12-31 00:00:00: can only concatenate str (not \"datetime.timedelta\") to str\n",
      "5\n",
      "Error processing ticker 2020-12-31 00:00:00: can only concatenate str (not \"datetime.timedelta\") to str\n",
      "6\n",
      "Error processing ticker 2020-12-31 00:00:00: can only concatenate str (not \"datetime.timedelta\") to str\n"
     ]
    },
    {
     "name": "stderr",
     "output_type": "stream",
     "text": [
      "\n",
      "1 Failed download:\n",
      "['AAN']: YFChartError(\"%ticker%: Data doesn't exist for startDate = 1577768400, endDate = 1577854800\")\n",
      "\n",
      "1 Failed download:\n",
      "['AAN']: YFChartError(\"%ticker%: Data doesn't exist for startDate = 1577854800, endDate = 1577941200\")\n",
      "\n",
      "1 Failed download:\n",
      "['AAN']: YFChartError(\"%ticker%: Data doesn't exist for startDate = 1577941200, endDate = 1578027600\")\n",
      "\n",
      "1 Failed download:\n",
      "['AAN']: YFChartError(\"%ticker%: Data doesn't exist for startDate = 1578027600, endDate = 1578114000\")\n",
      "\n",
      "1 Failed download:\n",
      "['AAN']: YFChartError(\"%ticker%: Data doesn't exist for startDate = 1578114000, endDate = 1578200400\")\n",
      "\n",
      "1 Failed download:\n",
      "['AAN']: YFChartError(\"%ticker%: Data doesn't exist for startDate = 1578200400, endDate = 1578286800\")\n",
      "\n",
      "1 Failed download:\n",
      "['AAN']: YFChartError(\"%ticker%: Data doesn't exist for startDate = 1578286800, endDate = 1578373200\")\n"
     ]
    },
    {
     "name": "stdout",
     "output_type": "stream",
     "text": [
      "0\n",
      "Error processing ticker 2019-12-31 00:00:00: can only concatenate str (not \"datetime.timedelta\") to str\n",
      "1\n",
      "Error processing ticker 2019-12-31 00:00:00: can only concatenate str (not \"datetime.timedelta\") to str\n",
      "2\n",
      "Error processing ticker 2019-12-31 00:00:00: can only concatenate str (not \"datetime.timedelta\") to str\n",
      "3\n",
      "Error processing ticker 2019-12-31 00:00:00: can only concatenate str (not \"datetime.timedelta\") to str\n",
      "4\n",
      "Error processing ticker 2019-12-31 00:00:00: can only concatenate str (not \"datetime.timedelta\") to str\n",
      "5\n",
      "Error processing ticker 2019-12-31 00:00:00: can only concatenate str (not \"datetime.timedelta\") to str\n",
      "6\n",
      "Error processing ticker 2019-12-31 00:00:00: can only concatenate str (not \"datetime.timedelta\") to str\n"
     ]
    }
   ],
   "source": [
    "tickers\n",
    "df = create_df(tickers)"
   ]
  },
  {
   "cell_type": "code",
   "execution_count": 50,
   "id": "195186ea-1066-456e-984a-d7ced4be991c",
   "metadata": {},
   "outputs": [
    {
     "data": {
      "text/html": [
       "<div>\n",
       "<style scoped>\n",
       "    .dataframe tbody tr th:only-of-type {\n",
       "        vertical-align: middle;\n",
       "    }\n",
       "\n",
       "    .dataframe tbody tr th {\n",
       "        vertical-align: top;\n",
       "    }\n",
       "\n",
       "    .dataframe thead th {\n",
       "        text-align: right;\n",
       "    }\n",
       "</style>\n",
       "<table border=\"1\" class=\"dataframe\">\n",
       "  <thead>\n",
       "    <tr style=\"text-align: right;\">\n",
       "      <th>Ticker</th>\n",
       "      <th>2023 Treasury Shares Number</th>\n",
       "      <th>2023 Ordinary Shares Number</th>\n",
       "      <th>2023 Share Issued</th>\n",
       "      <th>2023 Net Debt</th>\n",
       "      <th>2023 Total Debt</th>\n",
       "      <th>2023 Tangible Book Value</th>\n",
       "      <th>2023 Invested Capital</th>\n",
       "      <th>2023 Working Capital</th>\n",
       "      <th>2023 Net Tangible Assets</th>\n",
       "      <th>2023 Capital Lease Obligations</th>\n",
       "      <th>...</th>\n",
       "      <th>2020 Sale Of Business</th>\n",
       "      <th>2020 Purchase Of Business</th>\n",
       "      <th>2020 Change In Inventory</th>\n",
       "      <th>2020 Provisionand Write Offof Assets</th>\n",
       "      <th>2019 Short Term Debt Payments</th>\n",
       "      <th>2019 Net Business Purchase And Sale</th>\n",
       "      <th>2019 Sale Of Business</th>\n",
       "      <th>2019 Purchase Of Business</th>\n",
       "      <th>2019 Change In Inventory</th>\n",
       "      <th>2019 Provisionand Write Offof Assets</th>\n",
       "    </tr>\n",
       "    <tr>\n",
       "      <th>Ticker</th>\n",
       "      <th></th>\n",
       "      <th></th>\n",
       "      <th></th>\n",
       "      <th></th>\n",
       "      <th></th>\n",
       "      <th></th>\n",
       "      <th></th>\n",
       "      <th></th>\n",
       "      <th></th>\n",
       "      <th></th>\n",
       "      <th></th>\n",
       "      <th></th>\n",
       "      <th></th>\n",
       "      <th></th>\n",
       "      <th></th>\n",
       "      <th></th>\n",
       "      <th></th>\n",
       "      <th></th>\n",
       "      <th></th>\n",
       "      <th></th>\n",
       "      <th></th>\n",
       "    </tr>\n",
       "  </thead>\n",
       "  <tbody>\n",
       "    <tr>\n",
       "      <th>AAMC</th>\n",
       "      <td>2129973.0</td>\n",
       "      <td>2554512.0</td>\n",
       "      <td>4684485.0</td>\n",
       "      <td>NaN</td>\n",
       "      <td>900000.0</td>\n",
       "      <td>-125843000.0</td>\n",
       "      <td>NaN</td>\n",
       "      <td>NaN</td>\n",
       "      <td>-125843000.0</td>\n",
       "      <td>900000.0</td>\n",
       "      <td>...</td>\n",
       "      <td>NaN</td>\n",
       "      <td>NaN</td>\n",
       "      <td>NaN</td>\n",
       "      <td>NaN</td>\n",
       "      <td>NaN</td>\n",
       "      <td>NaN</td>\n",
       "      <td>NaN</td>\n",
       "      <td>NaN</td>\n",
       "      <td>NaN</td>\n",
       "      <td>NaN</td>\n",
       "    </tr>\n",
       "    <tr>\n",
       "      <th>AAME</th>\n",
       "      <td>NaN</td>\n",
       "      <td>NaN</td>\n",
       "      <td>NaN</td>\n",
       "      <td>NaN</td>\n",
       "      <td>NaN</td>\n",
       "      <td>NaN</td>\n",
       "      <td>NaN</td>\n",
       "      <td>NaN</td>\n",
       "      <td>NaN</td>\n",
       "      <td>NaN</td>\n",
       "      <td>...</td>\n",
       "      <td>NaN</td>\n",
       "      <td>NaN</td>\n",
       "      <td>NaN</td>\n",
       "      <td>NaN</td>\n",
       "      <td>NaN</td>\n",
       "      <td>NaN</td>\n",
       "      <td>NaN</td>\n",
       "      <td>NaN</td>\n",
       "      <td>NaN</td>\n",
       "      <td>NaN</td>\n",
       "    </tr>\n",
       "    <tr>\n",
       "      <th>AAN</th>\n",
       "      <td>6295216.0</td>\n",
       "      <td>30361434.0</td>\n",
       "      <td>36656650.0</td>\n",
       "      <td>134928000.0</td>\n",
       "      <td>696655000.0</td>\n",
       "      <td>522230000.0</td>\n",
       "      <td>880101000.0</td>\n",
       "      <td>385925000.0</td>\n",
       "      <td>522230000.0</td>\n",
       "      <td>502692000.0</td>\n",
       "      <td>...</td>\n",
       "      <td>359000.0</td>\n",
       "      <td>-14793000.0</td>\n",
       "      <td>0.0</td>\n",
       "      <td>30753000.0</td>\n",
       "      <td>NaN</td>\n",
       "      <td>NaN</td>\n",
       "      <td>2813000.0</td>\n",
       "      <td>NaN</td>\n",
       "      <td>NaN</td>\n",
       "      <td>NaN</td>\n",
       "    </tr>\n",
       "  </tbody>\n",
       "</table>\n",
       "<p>3 rows × 1121 columns</p>\n",
       "</div>"
      ],
      "text/plain": [
       "Ticker 2023 Treasury Shares Number 2023 Ordinary Shares Number  \\\n",
       "Ticker                                                           \n",
       "AAMC                     2129973.0                   2554512.0   \n",
       "AAME                           NaN                         NaN   \n",
       "AAN                      6295216.0                  30361434.0   \n",
       "\n",
       "Ticker 2023 Share Issued 2023 Net Debt 2023 Total Debt  \\\n",
       "Ticker                                                   \n",
       "AAMC           4684485.0           NaN        900000.0   \n",
       "AAME                 NaN           NaN             NaN   \n",
       "AAN           36656650.0   134928000.0     696655000.0   \n",
       "\n",
       "Ticker 2023 Tangible Book Value 2023 Invested Capital 2023 Working Capital  \\\n",
       "Ticker                                                                       \n",
       "AAMC               -125843000.0                   NaN                  NaN   \n",
       "AAME                        NaN                   NaN                  NaN   \n",
       "AAN                 522230000.0           880101000.0          385925000.0   \n",
       "\n",
       "Ticker 2023 Net Tangible Assets 2023 Capital Lease Obligations  ...  \\\n",
       "Ticker                                                          ...   \n",
       "AAMC               -125843000.0                       900000.0  ...   \n",
       "AAME                        NaN                            NaN  ...   \n",
       "AAN                 522230000.0                    502692000.0  ...   \n",
       "\n",
       "Ticker 2020 Sale Of Business 2020 Purchase Of Business  \\\n",
       "Ticker                                                   \n",
       "AAMC                     NaN                       NaN   \n",
       "AAME                     NaN                       NaN   \n",
       "AAN                 359000.0               -14793000.0   \n",
       "\n",
       "Ticker 2020 Change In Inventory 2020 Provisionand Write Offof Assets  \\\n",
       "Ticker                                                                 \n",
       "AAMC                        NaN                                  NaN   \n",
       "AAME                        NaN                                  NaN   \n",
       "AAN                         0.0                           30753000.0   \n",
       "\n",
       "Ticker 2019 Short Term Debt Payments 2019 Net Business Purchase And Sale  \\\n",
       "Ticker                                                                     \n",
       "AAMC                             NaN                                 NaN   \n",
       "AAME                             NaN                                 NaN   \n",
       "AAN                              NaN                                 NaN   \n",
       "\n",
       "Ticker 2019 Sale Of Business 2019 Purchase Of Business  \\\n",
       "Ticker                                                   \n",
       "AAMC                     NaN                       NaN   \n",
       "AAME                     NaN                       NaN   \n",
       "AAN                2813000.0                       NaN   \n",
       "\n",
       "Ticker 2019 Change In Inventory 2019 Provisionand Write Offof Assets  \n",
       "Ticker                                                                \n",
       "AAMC                        NaN                                  NaN  \n",
       "AAME                        NaN                                  NaN  \n",
       "AAN                         NaN                                  NaN  \n",
       "\n",
       "[3 rows x 1121 columns]"
      ]
     },
     "execution_count": 50,
     "metadata": {},
     "output_type": "execute_result"
    }
   ],
   "source": [
    "df"
   ]
  },
  {
   "cell_type": "code",
   "execution_count": 83,
   "id": "447f6e96-b8c6-46e9-a2f1-8baf36d01c6f",
   "metadata": {},
   "outputs": [],
   "source": [
    "stock = yf.Ticker('AAMC')\n",
    "df_bs_test = stock.balance_sheet\n"
   ]
  },
  {
   "cell_type": "code",
   "execution_count": 77,
   "id": "7b938d87-cd07-4649-9017-df761ee95853",
   "metadata": {},
   "outputs": [
    {
     "data": {
      "text/plain": [
       "[None, None, None, None, None]"
      ]
     },
     "execution_count": 77,
     "metadata": {},
     "output_type": "execute_result"
    }
   ],
   "source": [
    "lst_ratio"
   ]
  },
  {
   "cell_type": "code",
   "execution_count": 25,
   "id": "199aa17e-a59d-4345-94a8-0e9609233734",
   "metadata": {
    "scrolled": true
   },
   "outputs": [
    {
     "data": {
      "text/html": [
       "<div>\n",
       "<style scoped>\n",
       "    .dataframe tbody tr th:only-of-type {\n",
       "        vertical-align: middle;\n",
       "    }\n",
       "\n",
       "    .dataframe tbody tr th {\n",
       "        vertical-align: top;\n",
       "    }\n",
       "\n",
       "    .dataframe thead th {\n",
       "        text-align: right;\n",
       "    }\n",
       "</style>\n",
       "<table border=\"1\" class=\"dataframe\">\n",
       "  <thead>\n",
       "    <tr style=\"text-align: right;\">\n",
       "      <th></th>\n",
       "      <th>2023-09-30</th>\n",
       "      <th>2022-09-30</th>\n",
       "      <th>2021-09-30</th>\n",
       "      <th>2020-09-30</th>\n",
       "      <th>2019-09-30</th>\n",
       "    </tr>\n",
       "  </thead>\n",
       "  <tbody>\n",
       "    <tr>\n",
       "      <th>Treasury Shares Number</th>\n",
       "      <td>0.0</td>\n",
       "      <td>NaN</td>\n",
       "      <td>NaN</td>\n",
       "      <td>NaN</td>\n",
       "      <td>NaN</td>\n",
       "    </tr>\n",
       "    <tr>\n",
       "      <th>Ordinary Shares Number</th>\n",
       "      <td>15550061000.0</td>\n",
       "      <td>15943425000.0</td>\n",
       "      <td>16426786000.0</td>\n",
       "      <td>16976763000.0</td>\n",
       "      <td>NaN</td>\n",
       "    </tr>\n",
       "    <tr>\n",
       "      <th>Share Issued</th>\n",
       "      <td>15550061000.0</td>\n",
       "      <td>15943425000.0</td>\n",
       "      <td>16426786000.0</td>\n",
       "      <td>16976763000.0</td>\n",
       "      <td>NaN</td>\n",
       "    </tr>\n",
       "    <tr>\n",
       "      <th>Net Debt</th>\n",
       "      <td>81123000000.0</td>\n",
       "      <td>96423000000.0</td>\n",
       "      <td>89779000000.0</td>\n",
       "      <td>74420000000.0</td>\n",
       "      <td>NaN</td>\n",
       "    </tr>\n",
       "    <tr>\n",
       "      <th>Total Debt</th>\n",
       "      <td>111088000000.0</td>\n",
       "      <td>120069000000.0</td>\n",
       "      <td>124719000000.0</td>\n",
       "      <td>112436000000.0</td>\n",
       "      <td>NaN</td>\n",
       "    </tr>\n",
       "    <tr>\n",
       "      <th>...</th>\n",
       "      <td>...</td>\n",
       "      <td>...</td>\n",
       "      <td>...</td>\n",
       "      <td>...</td>\n",
       "      <td>...</td>\n",
       "    </tr>\n",
       "    <tr>\n",
       "      <th>Other Short Term Investments</th>\n",
       "      <td>31590000000.0</td>\n",
       "      <td>24658000000.0</td>\n",
       "      <td>27699000000.0</td>\n",
       "      <td>52927000000.0</td>\n",
       "      <td>NaN</td>\n",
       "    </tr>\n",
       "    <tr>\n",
       "      <th>Cash And Cash Equivalents</th>\n",
       "      <td>29965000000.0</td>\n",
       "      <td>23646000000.0</td>\n",
       "      <td>34940000000.0</td>\n",
       "      <td>38016000000.0</td>\n",
       "      <td>NaN</td>\n",
       "    </tr>\n",
       "    <tr>\n",
       "      <th>Cash Equivalents</th>\n",
       "      <td>1606000000.0</td>\n",
       "      <td>5100000000.0</td>\n",
       "      <td>17635000000.0</td>\n",
       "      <td>20243000000.0</td>\n",
       "      <td>NaN</td>\n",
       "    </tr>\n",
       "    <tr>\n",
       "      <th>Cash Financial</th>\n",
       "      <td>28359000000.0</td>\n",
       "      <td>18546000000.0</td>\n",
       "      <td>17305000000.0</td>\n",
       "      <td>17773000000.0</td>\n",
       "      <td>NaN</td>\n",
       "    </tr>\n",
       "    <tr>\n",
       "      <th>Ratio stock, sp500</th>\n",
       "      <td>None</td>\n",
       "      <td>None</td>\n",
       "      <td>None</td>\n",
       "      <td>None</td>\n",
       "      <td>None</td>\n",
       "    </tr>\n",
       "  </tbody>\n",
       "</table>\n",
       "<p>63 rows × 5 columns</p>\n",
       "</div>"
      ],
      "text/plain": [
       "                                  2023-09-30      2022-09-30      2021-09-30  \\\n",
       "Treasury Shares Number                   0.0             NaN             NaN   \n",
       "Ordinary Shares Number         15550061000.0   15943425000.0   16426786000.0   \n",
       "Share Issued                   15550061000.0   15943425000.0   16426786000.0   \n",
       "Net Debt                       81123000000.0   96423000000.0   89779000000.0   \n",
       "Total Debt                    111088000000.0  120069000000.0  124719000000.0   \n",
       "...                                      ...             ...             ...   \n",
       "Other Short Term Investments   31590000000.0   24658000000.0   27699000000.0   \n",
       "Cash And Cash Equivalents      29965000000.0   23646000000.0   34940000000.0   \n",
       "Cash Equivalents                1606000000.0    5100000000.0   17635000000.0   \n",
       "Cash Financial                 28359000000.0   18546000000.0   17305000000.0   \n",
       "Ratio stock, sp500                      None            None            None   \n",
       "\n",
       "                                  2020-09-30 2019-09-30  \n",
       "Treasury Shares Number                   NaN        NaN  \n",
       "Ordinary Shares Number         16976763000.0        NaN  \n",
       "Share Issued                   16976763000.0        NaN  \n",
       "Net Debt                       74420000000.0        NaN  \n",
       "Total Debt                    112436000000.0        NaN  \n",
       "...                                      ...        ...  \n",
       "Other Short Term Investments   52927000000.0        NaN  \n",
       "Cash And Cash Equivalents      38016000000.0        NaN  \n",
       "Cash Equivalents               20243000000.0        NaN  \n",
       "Cash Financial                 17773000000.0        NaN  \n",
       "Ratio stock, sp500                      None       None  \n",
       "\n",
       "[63 rows x 5 columns]"
      ]
     },
     "execution_count": 25,
     "metadata": {},
     "output_type": "execute_result"
    }
   ],
   "source": [
    "balance_sheet_aapl"
   ]
  },
  {
   "cell_type": "code",
   "execution_count": 49,
   "id": "46d80c6d-1f91-4299-b0b0-9d73fbde5c82",
   "metadata": {
    "scrolled": true
   },
   "outputs": [
    {
     "name": "stdout",
     "output_type": "stream",
     "text": [
      "this is the ratio 1.816573322620761\n",
      "this is the sp change 1.1646309144563025\n",
      "this is the stock change 2.1156374499007407\n",
      "this is the ratio 1.8213555400437105\n",
      "this is the sp change 1.1615355386791075\n",
      "this is the stock change 2.115569188330848\n"
     ]
    },
    {
     "name": "stderr",
     "output_type": "stream",
     "text": [
      "\n",
      "1 Failed download:\n",
      "['AAPL']: YFPricesMissingError('$%ticker%: possibly delisted; No price data found  (1d 2020-10-03 00:00:00 -> 2020-10-04 00:00:00)')\n"
     ]
    },
    {
     "name": "stdout",
     "output_type": "stream",
     "text": [
      "this is the ratio 1.7556915213382562\n",
      "this is the sp change 1.1342847452407006\n",
      "this is the stock change 1.991454110002422\n",
      "$AAPL: possibly delisted; No price data found  (1d 2020-10-03 00:00:00 -> 2020-10-04 00:00:00)\n"
     ]
    },
    {
     "name": "stderr",
     "output_type": "stream",
     "text": [
      "\n",
      "1 Failed download:\n",
      "['AAPL']: YFPricesMissingError('$%ticker%: possibly delisted; No price data found  (1d 2020-10-04 00:00:00 -> 2020-10-05 00:00:00)')\n"
     ]
    },
    {
     "name": "stdout",
     "output_type": "stream",
     "text": [
      "$AAPL: possibly delisted; No price data found  (1d 2020-10-04 00:00:00 -> 2020-10-05 00:00:00)\n"
     ]
    },
    {
     "name": "stderr",
     "output_type": "stream",
     "text": [
      "\n",
      "1 Failed download:\n",
      "['^GSPC']: YFPricesMissingError('$%ticker%: possibly delisted; No price data found  (1d 2020-10-03 00:00:00 -> 2020-10-04 00:00:00)')\n",
      "\n",
      "1 Failed download:\n",
      "['^GSPC']: YFPricesMissingError('$%ticker%: possibly delisted; No price data found  (1d 2020-10-04 00:00:00 -> 2020-10-05 00:00:00)')\n"
     ]
    },
    {
     "name": "stdout",
     "output_type": "stream",
     "text": [
      "$^GSPC: possibly delisted; No price data found  (1d 2020-10-03 00:00:00 -> 2020-10-04 00:00:00)\n",
      "$^GSPC: possibly delisted; No price data found  (1d 2020-10-04 00:00:00 -> 2020-10-05 00:00:00)\n"
     ]
    },
    {
     "name": "stderr",
     "output_type": "stream",
     "text": [
      "\n",
      "1 Failed download:\n",
      "['^GSPC']: YFPricesMissingError('$%ticker%: possibly delisted; No price data found  (1d 2019-10-05 00:00:00 -> 2019-10-06 00:00:00)')\n",
      "\n",
      "1 Failed download:\n",
      "['^GSPC']: YFPricesMissingError('$%ticker%: possibly delisted; No price data found  (1d 2019-10-06 00:00:00 -> 2019-10-07 00:00:00)')\n",
      "\n",
      "1 Failed download:\n",
      "['AAPL']: YFPricesMissingError('$%ticker%: possibly delisted; No price data found  (1d 2020-10-03 00:00:00 -> 2020-10-04 00:00:00)')\n"
     ]
    },
    {
     "name": "stdout",
     "output_type": "stream",
     "text": [
      "$^GSPC: possibly delisted; No price data found  (1d 2019-10-05 00:00:00 -> 2019-10-06 00:00:00)\n",
      "$^GSPC: possibly delisted; No price data found  (1d 2019-10-06 00:00:00 -> 2019-10-07 00:00:00)\n",
      "$AAPL: possibly delisted; No price data found  (1d 2020-10-03 00:00:00 -> 2020-10-04 00:00:00)\n",
      "$AAPL: possibly delisted; No price data found  (1d 2020-10-04 00:00:00 -> 2020-10-05 00:00:00)\n"
     ]
    },
    {
     "name": "stderr",
     "output_type": "stream",
     "text": [
      "\n",
      "1 Failed download:\n",
      "['AAPL']: YFPricesMissingError('$%ticker%: possibly delisted; No price data found  (1d 2020-10-04 00:00:00 -> 2020-10-05 00:00:00)')\n",
      "\n",
      "1 Failed download:\n",
      "['AAPL']: YFPricesMissingError('$%ticker%: possibly delisted; No price data found  (1d 2019-10-05 00:00:00 -> 2019-10-06 00:00:00)')\n",
      "\n",
      "1 Failed download:\n",
      "['AAPL']: YFPricesMissingError('$%ticker%: possibly delisted; No price data found  (1d 2019-10-06 00:00:00 -> 2019-10-07 00:00:00)')\n"
     ]
    },
    {
     "name": "stdout",
     "output_type": "stream",
     "text": [
      "$AAPL: possibly delisted; No price data found  (1d 2019-10-05 00:00:00 -> 2019-10-06 00:00:00)\n",
      "$AAPL: possibly delisted; No price data found  (1d 2019-10-06 00:00:00 -> 2019-10-07 00:00:00)\n"
     ]
    },
    {
     "name": "stderr",
     "output_type": "stream",
     "text": [
      "\n",
      "1 Failed download:\n",
      "['AAPL']: YFPricesMissingError('$%ticker%: possibly delisted; No price data found  (1d 2020-10-04 00:00:00 -> 2020-10-05 00:00:00)')\n",
      "\n",
      "1 Failed download:\n",
      "['^GSPC']: YFPricesMissingError('$%ticker%: possibly delisted; No price data found  (1d 2020-10-04 00:00:00 -> 2020-10-05 00:00:00)')\n",
      "\n",
      "1 Failed download:\n",
      "['^GSPC']: YFPricesMissingError('$%ticker%: possibly delisted; No price data found  (1d 2019-10-06 00:00:00 -> 2019-10-07 00:00:00)')\n",
      "\n",
      "1 Failed download:\n",
      "['AAPL']: YFPricesMissingError('$%ticker%: possibly delisted; No price data found  (1d 2020-10-04 00:00:00 -> 2020-10-05 00:00:00)')\n",
      "\n",
      "1 Failed download:\n",
      "['AAPL']: YFPricesMissingError('$%ticker%: possibly delisted; No price data found  (1d 2019-10-06 00:00:00 -> 2019-10-07 00:00:00)')\n"
     ]
    },
    {
     "name": "stdout",
     "output_type": "stream",
     "text": [
      "this is the ratio 1.7694479618581698\n",
      "this is the sp change 1.1598651323670688\n",
      "this is the stock change 2.0523209944972662\n",
      "$AAPL: possibly delisted; No price data found  (1d 2020-10-04 00:00:00 -> 2020-10-05 00:00:00)\n",
      "$^GSPC: possibly delisted; No price data found  (1d 2020-10-04 00:00:00 -> 2020-10-05 00:00:00)\n",
      "$^GSPC: possibly delisted; No price data found  (1d 2019-10-06 00:00:00 -> 2019-10-07 00:00:00)\n",
      "$AAPL: possibly delisted; No price data found  (1d 2020-10-04 00:00:00 -> 2020-10-05 00:00:00)\n",
      "$AAPL: possibly delisted; No price data found  (1d 2019-10-06 00:00:00 -> 2019-10-07 00:00:00)\n",
      "this is the ratio 1.7694479618581698\n",
      "this is the sp change 1.1598651323670688\n",
      "this is the stock change 2.0523209944972662\n",
      "this is the ratio 1.7694479618581698\n",
      "this is the sp change 1.1598651323670688\n",
      "this is the stock change 2.0523209944972662\n",
      "this is the ratio 1.7362926255597926\n",
      "this is the sp change 1.161735291571104\n",
      "this is the stock change 2.017112419607463\n"
     ]
    }
   ],
   "source": [
    "ticker = 'AAPL'\n",
    "stock = yf.Ticker(ticker)\n",
    "balance_sheet = stock.balance_sheet\n",
    "date = balance_sheet_aapl.columns[3]\n",
    "\n",
    "for i in range(7):\n",
    "    # Adjust date by i days\n",
    "    adjusted_date = date + timedelta(days=i)\n",
    "    stock_data = get_stock_price(ticker, adjusted_date)\n",
    "    #change in s&p 500 price in %     \n",
    "    date_diff = adjusted_date - timedelta(weeks=52)\n",
    "    sp500_change = get_stock_price(\"^GSPC\",adjusted_date) / get_stock_price(\"^GSPC\",date_diff)\n",
    "    #change in stock price in %\n",
    "    stock_change = get_stock_price(ticker,adjusted_date)/ get_stock_price(ticker,date_diff)\n",
    "    #ratio of change_stock / change_s&p500\n",
    "    ratio = stock_change / sp500_change\n",
    "    if ratio is not None: \n",
    "        print(f'this is the ratio {ratio}')\n",
    "        print(f'this is the sp change {sp500_change}')\n",
    "        print(f'this is the stock change {stock_change}')\n",
    "       \n"
   ]
  },
  {
   "cell_type": "code",
   "execution_count": 107,
   "id": "fceef69c-89fb-47bd-9287-d02865c50306",
   "metadata": {},
   "outputs": [
    {
     "name": "stderr",
     "output_type": "stream",
     "text": [
      "\n",
      "1 Failed download:\n",
      "['AACI']: YFChartError(\"%ticker%: Data doesn't exist for startDate = 1601956800, endDate = 1603166400\")\n"
     ]
    },
    {
     "name": "stdout",
     "output_type": "stream",
     "text": [
      "Empty DataFrame\n",
      "Columns: [Open, High, Low, Close, Adj Close, Volume]\n",
      "Index: []\n",
      "2020-09-30 00:00:00\n",
      "AACI\n"
     ]
    },
    {
     "ename": "SyntaxError",
     "evalue": "'return' outside function (3639899727.py, line 12)",
     "output_type": "error",
     "traceback": [
      "\u001b[0;36m  Cell \u001b[0;32mIn[107], line 12\u001b[0;36m\u001b[0m\n\u001b[0;31m    return None\u001b[0m\n\u001b[0m    ^\u001b[0m\n\u001b[0;31mSyntaxError\u001b[0m\u001b[0;31m:\u001b[0m 'return' outside function\n"
     ]
    }
   ],
   "source": [
    "\n",
    "\n",
    "ticker = tickers_total[3]\n",
    "#date = yf.Ticker(ticker).balance_sheet.columns[]\n",
    "value = 0\n",
    "adjusted_date = date + timedelta(days=i)\n",
    "stock_data = yf.download(ticker, start=adjusted_date, end=adjusted_date + timedelta(weeks=2),progress=False)\n",
    "print(stock_data)\n",
    "print(date)\n",
    "print(ticker)\n",
    "if not stock_data.empty:\n",
    "    value =  stock_data['Close'].iloc[0]\n",
    "else :\n",
    "    return None\n",
    "value, ticker, date"
   ]
  },
  {
   "cell_type": "code",
   "execution_count": 104,
   "id": "75ce9cb9-bd3a-4589-8018-451e2805b3fa",
   "metadata": {},
   "outputs": [
    {
     "name": "stderr",
     "output_type": "stream",
     "text": [
      "\n",
      "1 Failed download:\n",
      "['AACI']: YFChartError(\"%ticker%: Data doesn't exist for startDate = 1601956800, endDate = 1603166400\")\n"
     ]
    },
    {
     "data": {
      "text/html": [
       "<div>\n",
       "<style scoped>\n",
       "    .dataframe tbody tr th:only-of-type {\n",
       "        vertical-align: middle;\n",
       "    }\n",
       "\n",
       "    .dataframe tbody tr th {\n",
       "        vertical-align: top;\n",
       "    }\n",
       "\n",
       "    .dataframe thead th {\n",
       "        text-align: right;\n",
       "    }\n",
       "</style>\n",
       "<table border=\"1\" class=\"dataframe\">\n",
       "  <thead>\n",
       "    <tr style=\"text-align: right;\">\n",
       "      <th></th>\n",
       "      <th>Open</th>\n",
       "      <th>High</th>\n",
       "      <th>Low</th>\n",
       "      <th>Close</th>\n",
       "      <th>Adj Close</th>\n",
       "      <th>Volume</th>\n",
       "    </tr>\n",
       "    <tr>\n",
       "      <th>Date</th>\n",
       "      <th></th>\n",
       "      <th></th>\n",
       "      <th></th>\n",
       "      <th></th>\n",
       "      <th></th>\n",
       "      <th></th>\n",
       "    </tr>\n",
       "  </thead>\n",
       "  <tbody>\n",
       "  </tbody>\n",
       "</table>\n",
       "</div>"
      ],
      "text/plain": [
       "Empty DataFrame\n",
       "Columns: [Open, High, Low, Close, Adj Close, Volume]\n",
       "Index: []"
      ]
     },
     "execution_count": 104,
     "metadata": {},
     "output_type": "execute_result"
    }
   ],
   "source": [
    " yf.download(ticker, start=adjusted_date, end=adjusted_date + timedelta(weeks=2),progress=False)"
   ]
  },
  {
   "cell_type": "code",
   "execution_count": null,
   "id": "b25dca2e-52ab-41e2-8ac0-72bb2d69689f",
   "metadata": {},
   "outputs": [],
   "source": [
    "print("
   ]
  },
  {
   "cell_type": "code",
   "execution_count": null,
   "id": "3fdb5ba8-2052-46a4-b937-f9e15be20311",
   "metadata": {},
   "outputs": [],
   "source": []
  },
  {
   "cell_type": "code",
   "execution_count": 115,
   "id": "1b05bcbb-f17d-4d00-aeb8-5f415472262a",
   "metadata": {},
   "outputs": [],
   "source": []
  },
  {
   "cell_type": "code",
   "execution_count": null,
   "id": "ba1a877b-07b4-48b2-ad1d-b4f3b87cf658",
   "metadata": {},
   "outputs": [],
   "source": []
  },
  {
   "cell_type": "code",
   "execution_count": 7,
   "id": "8e82bc99-0237-4ade-9afc-ebbebd12a301",
   "metadata": {
    "scrolled": true
   },
   "outputs": [
    {
     "name": "stderr",
     "output_type": "stream",
     "text": [
      "[*********************100%%**********************]  1 of 1 completed\n",
      "\n",
      "1 Failed download:\n",
      "['AAPL']: YFPricesMissingError('$%ticker%: possibly delisted; No price data found  (1d 2023-12-31 00:00:00 -> 2024-01-01 00:00:00)')\n"
     ]
    },
    {
     "name": "stdout",
     "output_type": "stream",
     "text": [
      "[]\n",
      "$AAPL: possibly delisted; No price data found  (1d 2023-12-31 00:00:00 -> 2024-01-01 00:00:00)\n"
     ]
    },
    {
     "name": "stderr",
     "output_type": "stream",
     "text": [
      "[*********************100%%**********************]  1 of 1 completed\n",
      "\n",
      "1 Failed download:\n",
      "['AAPL']: YFPricesMissingError('$%ticker%: possibly delisted; No price data found  (1d 2024-01-01 00:00:00 -> 2024-01-02 00:00:00)')\n",
      "[*********************100%%**********************]  1 of 1 completed\n",
      "[*********************100%%**********************]  1 of 1 completed\n",
      "\n",
      "1 Failed download:\n",
      "['AAPL']: YFPricesMissingError('$%ticker%: possibly delisted; No price data found  (1d 2023-12-31 00:00:00 -> 2024-01-01 00:00:00)')\n",
      "[*********************100%%**********************]  1 of 1 completed\n",
      "\n",
      "1 Failed download:\n",
      "['AAPL']: YFPricesMissingError('$%ticker%: possibly delisted; No price data found  (1d 2024-01-01 00:00:00 -> 2024-01-02 00:00:00)')\n",
      "[*********************100%%**********************]  1 of 1 completed"
     ]
    },
    {
     "name": "stdout",
     "output_type": "stream",
     "text": [
      "$AAPL: possibly delisted; No price data found  (1d 2024-01-01 00:00:00 -> 2024-01-02 00:00:00)\n",
      "$AAPL: possibly delisted; No price data found  (1d 2023-12-31 00:00:00 -> 2024-01-01 00:00:00)\n",
      "$AAPL: possibly delisted; No price data found  (1d 2024-01-01 00:00:00 -> 2024-01-02 00:00:00)\n",
      "[185.63999938964844]\n"
     ]
    },
    {
     "name": "stderr",
     "output_type": "stream",
     "text": [
      "\n",
      "[*********************100%%**********************]  1 of 1 completed\n",
      "\n",
      "1 Failed download:\n",
      "['AAPL']: YFPricesMissingError('$%ticker%: possibly delisted; No price data found  (1d 2022-12-31 00:00:00 -> 2023-01-01 00:00:00)')\n",
      "[*********************100%%**********************]  1 of 1 completed\n",
      "\n",
      "1 Failed download:\n",
      "['AAPL']: YFPricesMissingError('$%ticker%: possibly delisted; No price data found  (1d 2023-01-01 00:00:00 -> 2023-01-02 00:00:00)')\n"
     ]
    },
    {
     "name": "stdout",
     "output_type": "stream",
     "text": [
      "$AAPL: possibly delisted; No price data found  (1d 2022-12-31 00:00:00 -> 2023-01-01 00:00:00)\n",
      "$AAPL: possibly delisted; No price data found  (1d 2023-01-01 00:00:00 -> 2023-01-02 00:00:00)\n"
     ]
    },
    {
     "name": "stderr",
     "output_type": "stream",
     "text": [
      "[*********************100%%**********************]  1 of 1 completed\n",
      "\n",
      "1 Failed download:\n",
      "['AAPL']: YFPricesMissingError('$%ticker%: possibly delisted; No price data found  (1d 2023-01-02 00:00:00 -> 2023-01-03 00:00:00)')\n",
      "[*********************100%%**********************]  1 of 1 completed\n",
      "[*********************100%%**********************]  1 of 1 completed\n",
      "\n",
      "1 Failed download:\n",
      "['AAPL']: YFPricesMissingError('$%ticker%: possibly delisted; No price data found  (1d 2022-12-31 00:00:00 -> 2023-01-01 00:00:00)')\n",
      "[*********************100%%**********************]  1 of 1 completed\n",
      "\n",
      "1 Failed download:\n",
      "['AAPL']: YFPricesMissingError('$%ticker%: possibly delisted; No price data found  (1d 2023-01-01 00:00:00 -> 2023-01-02 00:00:00)')\n"
     ]
    },
    {
     "name": "stdout",
     "output_type": "stream",
     "text": [
      "$AAPL: possibly delisted; No price data found  (1d 2023-01-02 00:00:00 -> 2023-01-03 00:00:00)\n",
      "$AAPL: possibly delisted; No price data found  (1d 2022-12-31 00:00:00 -> 2023-01-01 00:00:00)\n",
      "$AAPL: possibly delisted; No price data found  (1d 2023-01-01 00:00:00 -> 2023-01-02 00:00:00)\n",
      "$AAPL: possibly delisted; No price data found  (1d 2023-01-02 00:00:00 -> 2023-01-03 00:00:00)\n"
     ]
    },
    {
     "name": "stderr",
     "output_type": "stream",
     "text": [
      "[*********************100%%**********************]  1 of 1 completed\n",
      "\n",
      "1 Failed download:\n",
      "['AAPL']: YFPricesMissingError('$%ticker%: possibly delisted; No price data found  (1d 2023-01-02 00:00:00 -> 2023-01-03 00:00:00)')\n",
      "[*********************100%%**********************]  1 of 1 completed\n",
      "[*********************100%%**********************]  1 of 1 completed\n",
      "[*********************100%%**********************]  1 of 1 completed\n"
     ]
    },
    {
     "name": "stdout",
     "output_type": "stream",
     "text": [
      "[185.63999938964844, 125.06999969482422]\n",
      "[185.63999938964844, 125.06999969482422, 177.57000732421875]\n"
     ]
    },
    {
     "name": "stderr",
     "output_type": "stream",
     "text": [
      "[*********************100%%**********************]  1 of 1 completed\n",
      "[*********************100%%**********************]  1 of 1 completed\n",
      "[*********************100%%**********************]  1 of 1 completed\n",
      "[*********************100%%**********************]  1 of 1 completed"
     ]
    },
    {
     "name": "stdout",
     "output_type": "stream",
     "text": [
      "[185.63999938964844, 125.06999969482422, 177.57000732421875, 132.69000244140625]\n"
     ]
    },
    {
     "name": "stderr",
     "output_type": "stream",
     "text": [
      "\n"
     ]
    }
   ],
   "source": [
    "df = df_bs_test\n",
    "ticker = 'AAPL'\n",
    "lst = []\n",
    "for date in df.columns :\n",
    "    print(lst)\n",
    "    date_str = date.strftime('%Y-%m-%d')\n",
    "    if get_stock_price(ticker, date):\n",
    "        lst.append(get_stock_price(ticker, date))\n",
    "df.loc['Stock value'] = lst \n"
   ]
  },
  {
   "cell_type": "code",
   "execution_count": null,
   "id": "296bd927-daab-4044-abc6-d0312180aeb0",
   "metadata": {},
   "outputs": [],
   "source": []
  },
  {
   "cell_type": "code",
   "execution_count": null,
   "id": "c1ec8a33-d3ed-407e-a5a8-36b09efdbcec",
   "metadata": {
    "scrolled": true
   },
   "outputs": [],
   "source": [
    "df_complete = pd.DataFrame()\n",
    "for ticker in tickers:    \n",
    "    try: \n",
    "        # Get financial statements for the ticker ticker\n",
    "        stock = yf.Ticker(ticker)\n",
    "        balance_sheet = stock.balance_sheet\n",
    "        income_statement = stock.financials\n",
    "        cashflow_statement = stock.cashflow\n",
    "        # add the stock value and flatten the dataframe\n",
    "        df_bs = get_stock_value(balance_sheet,ticker)\n",
    "        df_bs_f = flatten_data(df_bs)\n",
    "        df_is_f = flatten_data(income_statement)\n",
    "        df_cs_f = flatten_data(cashflow_statement)\n",
    "        #concatenate\n",
    "        df_row = pd.concat([df_bs_f,df_is_f,df_cs_f],axis=1)\n",
    "        df\n",
    "        df_complete = pd.concat([df_complete, df_row])\n",
    "\n",
    "    except Exception as e: \n",
    "        print(f\"Error processing ticker {ticker}: {e}\")\n",
    "        \n",
    "        \n",
    "        "
   ]
  },
  {
   "cell_type": "code",
   "execution_count": null,
   "id": "09dfb875-7370-4e2e-bfbd-fcc645228ad8",
   "metadata": {},
   "outputs": [],
   "source": [
    "df_row"
   ]
  },
  {
   "cell_type": "code",
   "execution_count": null,
   "id": "3c604af1-a45d-466e-abac-945f54733fb9",
   "metadata": {},
   "outputs": [],
   "source": [
    "df_preprocessed.columns"
   ]
  },
  {
   "cell_type": "code",
   "execution_count": null,
   "id": "95f5da1c-14eb-4a40-8e7b-22f2f238ab78",
   "metadata": {},
   "outputs": [],
   "source": [
    "tickers "
   ]
  },
  {
   "cell_type": "code",
   "execution_count": null,
   "id": "a0ebf9a6-6996-4132-a9cd-1120831e56b3",
   "metadata": {},
   "outputs": [],
   "source": [
    "df_data = pd.DataFrame"
   ]
  },
  {
   "cell_type": "code",
   "execution_count": null,
   "id": "27e27ea6-d366-4484-a891-17ca1b0ac0ab",
   "metadata": {},
   "outputs": [],
   "source": [
    "df_data.mean()"
   ]
  },
  {
   "cell_type": "code",
   "execution_count": null,
   "id": "dcdaef50-8222-4b6f-aaf1-34409edcc382",
   "metadata": {
    "scrolled": true
   },
   "outputs": [],
   "source": [
    "# Loop through tickers\n",
    "\n",
    "for ticker in tickers:\n",
    "    try:\n",
    "        stock = yf.Ticker(ticker)\n",
    "        \n",
    "        # Get financial statements\n",
    "        balance_sheet = stock.balance_sheet\n",
    "        income_statement = stock.financials\n",
    "        cashflow_statement = stock.cashflow\n",
    "        \n",
    "        # Ensure we have data for the past 4 years\n",
    "        if len(balance_sheet.columns) >= 4 and len(income_statement.columns) >= 4 and len(cashflow_statement.columns) >= 4:\n",
    "            row = {'Ticker' : ticker}\n",
    "            for i in range(4):\n",
    "                date = balance_sheet.columns[i]\n",
    "                date_str = date.strftime('%Y-%m-%d')\n",
    "                stock_price = get_stock_price(ticker, date)\n",
    "                \n",
    "                # Add data to the row with year-specific keys\n",
    "                row[f'Date_{i+1}'] = date_str\n",
    "                row[f'Stock_Price_{i+1}'] = stock_price\n",
    "                \n",
    "                for col in balance_sheet.index:\n",
    "                    row[f'BS_{col}_{i+1}'] = balance_sheet.loc[col, date]\n",
    "                for col in income_statement.index:\n",
    "                    row[f'IS_{col}_{i+1}'] = income_statement.loc[col, date]\n",
    "                for col in cashflow_statement.index:\n",
    "                    row[f'CF_{col}_{i+1}'] = cashflow_statement.loc[col, date]\n",
    "            print(row)\n",
    "            # Write the row to the CSV file\n",
    "            with open(csv_file, mode='a', newline='') as file:\n",
    "                writer = csv.DictWriter(file, fieldnames=row.keys())\n",
    "                \n",
    "                if not header_written:\n",
    "                    writer.writeheader()\n",
    "                    header_written = True\n",
    "                \n",
    "                writer.writerow(row)\n",
    "            \n",
    "                    \n",
    "    except Exception as e:\n",
    "        print(f\"Error processing ticker {ticker}: {e}\")\n",
    "\n",
    "print(f\"Data extraction complete. Data saved to '{csv_file}'.\")"
   ]
  },
  {
   "cell_type": "code",
   "execution_count": null,
   "id": "556a5de6-d932-4a9c-addf-43a8a719db15",
   "metadata": {
    "scrolled": true
   },
   "outputs": [],
   "source": [
    "data = pd.read_csv(csv_file)"
   ]
  },
  {
   "cell_type": "code",
   "execution_count": null,
   "id": "5ea5c5d8-8e97-4fd0-88a4-7750b45da1ee",
   "metadata": {},
   "outputs": [],
   "source": [
    "data"
   ]
  },
  {
   "cell_type": "code",
   "execution_count": null,
   "id": "34ac6b34-6ff3-467b-b347-16ff1ed78676",
   "metadata": {
    "scrolled": true
   },
   "outputs": [],
   "source": [
    "# Define the ticker symbol\n",
    "ticker = 'AAPL'\n",
    "\n",
    "# Get data for this ticker\n",
    "stock_data = yf.download(ticker, start='2019-01-01', end='2023-12-31')\n",
    "\n",
    "stock_data = yf.Ticker(tickers[0])\n",
    "\n",
    "df_balance = stock_data.balance_sheet\n",
    "df_income_s = stock.financials\n",
    "df_cash = stock.cashflow\n",
    "\n",
    "# flatten the data and set the ticker as index\n",
    "df_balance_u = df_balance.unstack().reset_index()\n",
    "df_balance_u['Ticker'] = df_balance_u.apply(lambda row: str(row['level_0'].year) + ' ' + row['level_1'], axis=1)\n",
    "df_balance_u.set_index(keys = 'Ticker')\n",
    "df_ordered = df_balance_u.drop(columns = ['level_0','level_1'])\n",
    "df_transposed = df_ordered.set_index(keys='Ticker').T\n",
    "df_transposed['Ticker'] = ticker\n",
    "df_transposed.set_index(keys='Ticker')\n"
   ]
  },
  {
   "cell_type": "code",
   "execution_count": null,
   "id": "0ec00919-ac0c-4ea4-b07c-09d0eef0e79b",
   "metadata": {},
   "outputs": [],
   "source": [
    "stock_data.balance_sheet"
   ]
  },
  {
   "cell_type": "code",
   "execution_count": null,
   "id": "a3057d1d-adc7-422b-ab3c-5d471cfa42eb",
   "metadata": {
    "scrolled": true
   },
   "outputs": [],
   "source": [
    "df_bs = stock_data.balance_sheet\n",
    "df_bs"
   ]
  },
  {
   "cell_type": "code",
   "execution_count": null,
   "id": "35ae50f8-a247-468c-a090-dc686aca8d73",
   "metadata": {},
   "outputs": [],
   "source": [
    "df_bs"
   ]
  },
  {
   "cell_type": "code",
   "execution_count": null,
   "id": "5272644d-7dc6-4710-bbd6-472ce44b0bce",
   "metadata": {},
   "outputs": [],
   "source": []
  }
 ],
 "metadata": {
  "kernelspec": {
   "display_name": "Python 3 (ipykernel)",
   "language": "python",
   "name": "python3"
  },
  "language_info": {
   "codemirror_mode": {
    "name": "ipython",
    "version": 3
   },
   "file_extension": ".py",
   "mimetype": "text/x-python",
   "name": "python",
   "nbconvert_exporter": "python",
   "pygments_lexer": "ipython3",
   "version": "3.10.6"
  }
 },
 "nbformat": 4,
 "nbformat_minor": 5
}
