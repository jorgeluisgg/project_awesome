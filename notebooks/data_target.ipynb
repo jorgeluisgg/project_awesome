{
 "cells": [
  {
   "cell_type": "code",
   "execution_count": 2,
   "id": "5719f3bd-9eaa-40cb-aaf5-c00647b4c120",
   "metadata": {},
   "outputs": [],
   "source": [
    "import yfinance as yf\n",
    "import pandas as pd\n",
    "from datetime import datetime, timedelta\n",
    "import csv\n",
    "\n",
    "# Get the list of NASDAQ companies\n",
    "nasdaq_tickers = pd.read_csv('raw_data/raw_data_ticker_labels_ALL.csv')\n",
    "#nasdaq_tickers= pd.read_csv('https://datahub.io/core/nasdaq-listings/r/nasdaq-listed-symbols.csv')\n",
    "tickers_total = nasdaq_tickers['Ticker'].tolist()\n",
    "\n",
    "\n",
    "\n",
    "# Helper function to get the stock price on a specific date\n",
    "def get_stock_price(ticker, date, stock):\n",
    "    stock_data = stock.history(start=date, end=date + timedelta(days=7))\n",
    "    for i in range(7):        \n",
    "        try:\n",
    "            adjusted_date = date + timedelta(days=i)\n",
    "            stock_data_l = stock.history(start=adjusted_date, end=adjusted_date+timedelta(days=1))\n",
    "            if not stock_data_l.empty:\n",
    "                return stock_data_l['Close'].iloc[0]\n",
    "        except Exception as e: \n",
    "            print(f\"get_stock_price : Error processing ticker {ticker}: {e}\")\n",
    "\n",
    "\n",
    "\n",
    "#Compute the stock value ratio (item_stock%/sp500_stock%) in a year\n",
    "def get_stock_value_ratio(date, ticker, stock, stock_sp_y1, stock_sp_y0):\n",
    "    try:\n",
    "        stock_data = get_stock_price(ticker, date, stock)\n",
    "        if stock_data is not None:\n",
    "            date_diff = date - timedelta(weeks=52)\n",
    "            #change in s&p 500 price in %\n",
    "            sp500_change = stock_sp_y1 / stock_sp_y0\n",
    "            #change in stock price in %\n",
    "            stock_change = get_stock_price(ticker, date, stock)/ get_stock_price(ticker,date_diff, stock)\n",
    "            #ratio of change_stock / change_s&p500\n",
    "            ratio = stock_change / sp500_change\n",
    "            if ratio is not None:\n",
    "                return ratio\n",
    "    except Exception as e:\n",
    "        print(f\"get_stock_value_ratio : Error processing ticker {ticker}: {e}\")\n",
    "\n"
   ]
  },
  {
   "cell_type": "code",
   "execution_count": 3,
   "id": "6b7d2cc0-7d58-475a-bada-b30aeea32799",
   "metadata": {},
   "outputs": [
    {
     "data": {
      "text/plain": [
       "6334"
      ]
     },
     "execution_count": 3,
     "metadata": {},
     "output_type": "execute_result"
    }
   ],
   "source": [
    "tickers = tickers_total\n",
    "len(tickers)"
   ]
  },
  {
   "cell_type": "code",
   "execution_count": 4,
   "id": "2dae473c-e51c-4e58-a1ab-0b1b5728a243",
   "metadata": {},
   "outputs": [],
   "source": [
    "#computing the target -> for the 15 may 2024 !\n",
    "\n",
    "def create_df_target(tickers):\n",
    "    # get the stock of the sp\n",
    "    # date 15th of may \n",
    "    date = datetime(2024, 5, 15)\n",
    "    stock_sp = yf.Ticker('^GSPC')\n",
    "    stock_sp_v_2024 = get_stock_price('^GSPC',date, stock_sp)\n",
    "    stock_sp_v_2023 = get_stock_price('^GSPC',date - timedelta(weeks=52), stock_sp)\n",
    "    # Create an initial DataFrame\n",
    "    df_target = pd.DataFrame(columns=['Ticker', 'Ratio ticker sp500'])  \n",
    "    for ticker in tickers: \n",
    "        stock= yf.Ticker(ticker)\n",
    "        ratio_ticker = get_stock_value_ratio(date, ticker, stock, stock_sp_v_2024, stock_sp_v_2023)\n",
    "        \n",
    "        df_target.loc[len(df_target)] = [ticker, ratio_ticker]\n",
    "    \n",
    "    return df_target "
   ]
  },
  {
   "cell_type": "code",
   "execution_count": 8,
   "id": "6144fdb8-6388-4621-bd4d-cbad6fe7a6eb",
   "metadata": {},
   "outputs": [
    {
     "data": {
      "text/plain": [
       "7133"
      ]
     },
     "execution_count": 8,
     "metadata": {},
     "output_type": "execute_result"
    }
   ],
   "source": [
    "len(tickers_total)"
   ]
  },
  {
   "cell_type": "code",
   "execution_count": 5,
   "id": "70dcc756-0503-4f28-941c-286eeb103887",
   "metadata": {
    "scrolled": true
   },
   "outputs": [
    {
     "name": "stderr",
     "output_type": "stream",
     "text": [
      "AACIW: Period '1mo' is invalid, must be one of ['1d', '5d']\n",
      "AACIW: Period '1mo' is invalid, must be one of ['1d', '5d']\n",
      "AACIW: Period '1mo' is invalid, must be one of ['1d', '5d']\n",
      "AACIW: Period '1mo' is invalid, must be one of ['1d', '5d']\n",
      "AACIW: Period '1mo' is invalid, must be one of ['1d', '5d']\n",
      "AACIW: Period '1mo' is invalid, must be one of ['1d', '5d']\n",
      "AACIW: Period '1mo' is invalid, must be one of ['1d', '5d']\n",
      "AACIW: Period '1mo' is invalid, must be one of ['1d', '5d']\n",
      "/var/folders/77/05l3f4755g34m9yb1kt19stm0000gn/T/ipykernel_41131/295811338.py:16: FutureWarning: The behavior of DataFrame concatenation with empty or all-NA entries is deprecated. In a future version, this will no longer exclude empty or all-NA columns when determining the result dtypes. To retain the old behavior, exclude the relevant entries before the concat operation.\n",
      "  df_target.loc[len(df_target)] = [ticker, ratio_ticker]\n",
      "AACT: Data doesn't exist for startDate = 1684296000, endDate = 1684900800\n",
      "AACT: Data doesn't exist for startDate = 1684296000, endDate = 1684382400\n",
      "AACT: Data doesn't exist for startDate = 1684382400, endDate = 1684468800\n",
      "AACT: Data doesn't exist for startDate = 1684468800, endDate = 1684555200\n",
      "AACT: Data doesn't exist for startDate = 1684555200, endDate = 1684641600\n",
      "AACT: Data doesn't exist for startDate = 1684641600, endDate = 1684728000\n",
      "AACT: Data doesn't exist for startDate = 1684728000, endDate = 1684814400\n",
      "AACT: Data doesn't exist for startDate = 1684814400, endDate = 1684900800\n",
      "/var/folders/77/05l3f4755g34m9yb1kt19stm0000gn/T/ipykernel_41131/295811338.py:16: FutureWarning: The behavior of DataFrame concatenation with empty or all-NA entries is deprecated. In a future version, this will no longer exclude empty or all-NA columns when determining the result dtypes. To retain the old behavior, exclude the relevant entries before the concat operation.\n",
      "  df_target.loc[len(df_target)] = [ticker, ratio_ticker]\n"
     ]
    },
    {
     "name": "stdout",
     "output_type": "stream",
     "text": [
      "get_stock_value_ratio : Error processing ticker AACT: unsupported operand type(s) for /: 'float' and 'NoneType'\n"
     ]
    },
    {
     "name": "stderr",
     "output_type": "stream",
     "text": [
      "AAGRW: Period '1mo' is invalid, must be one of ['1d', '5d']\n",
      "AAGRW: Period '1mo' is invalid, must be one of ['1d', '5d']\n",
      "AAGRW: Period '1mo' is invalid, must be one of ['1d', '5d']\n",
      "AAGRW: Period '1mo' is invalid, must be one of ['1d', '5d']\n",
      "AAGRW: Period '1mo' is invalid, must be one of ['1d', '5d']\n",
      "AAGRW: Period '1mo' is invalid, must be one of ['1d', '5d']\n",
      "AAGRW: Period '1mo' is invalid, must be one of ['1d', '5d']\n",
      "AAGRW: Period '1mo' is invalid, must be one of ['1d', '5d']\n",
      "/var/folders/77/05l3f4755g34m9yb1kt19stm0000gn/T/ipykernel_41131/295811338.py:16: FutureWarning: The behavior of DataFrame concatenation with empty or all-NA entries is deprecated. In a future version, this will no longer exclude empty or all-NA columns when determining the result dtypes. To retain the old behavior, exclude the relevant entries before the concat operation.\n",
      "  df_target.loc[len(df_target)] = [ticker, ratio_ticker]\n",
      "ABLLL: Data doesn't exist for startDate = 1684296000, endDate = 1684900800\n",
      "ABLLL: Data doesn't exist for startDate = 1684296000, endDate = 1684382400\n",
      "ABLLL: Data doesn't exist for startDate = 1684382400, endDate = 1684468800\n",
      "ABLLL: Data doesn't exist for startDate = 1684468800, endDate = 1684555200\n",
      "ABLLL: Data doesn't exist for startDate = 1684555200, endDate = 1684641600\n",
      "ABLLL: Data doesn't exist for startDate = 1684641600, endDate = 1684728000\n",
      "ABLLL: Data doesn't exist for startDate = 1684728000, endDate = 1684814400\n",
      "ABLLL: Data doesn't exist for startDate = 1684814400, endDate = 1684900800\n",
      "/var/folders/77/05l3f4755g34m9yb1kt19stm0000gn/T/ipykernel_41131/295811338.py:16: FutureWarning: The behavior of DataFrame concatenation with empty or all-NA entries is deprecated. In a future version, this will no longer exclude empty or all-NA columns when determining the result dtypes. To retain the old behavior, exclude the relevant entries before the concat operation.\n",
      "  df_target.loc[len(df_target)] = [ticker, ratio_ticker]\n",
      "ABLLW: Period '1mo' is invalid, must be one of ['1d', '5d']\n",
      "ABLLW: Period '1mo' is invalid, must be one of ['1d', '5d']\n"
     ]
    },
    {
     "name": "stdout",
     "output_type": "stream",
     "text": [
      "get_stock_value_ratio : Error processing ticker ABLLL: unsupported operand type(s) for /: 'float' and 'NoneType'\n"
     ]
    },
    {
     "name": "stderr",
     "output_type": "stream",
     "text": [
      "ABLLW: Period '1mo' is invalid, must be one of ['1d', '5d']\n",
      "ABLLW: Period '1mo' is invalid, must be one of ['1d', '5d']\n",
      "ABLLW: Period '1mo' is invalid, must be one of ['1d', '5d']\n",
      "ABLLW: Period '1mo' is invalid, must be one of ['1d', '5d']\n",
      "ABLLW: Period '1mo' is invalid, must be one of ['1d', '5d']\n",
      "ABLLW: Period '1mo' is invalid, must be one of ['1d', '5d']\n",
      "/var/folders/77/05l3f4755g34m9yb1kt19stm0000gn/T/ipykernel_41131/295811338.py:16: FutureWarning: The behavior of DataFrame concatenation with empty or all-NA entries is deprecated. In a future version, this will no longer exclude empty or all-NA columns when determining the result dtypes. To retain the old behavior, exclude the relevant entries before the concat operation.\n",
      "  df_target.loc[len(df_target)] = [ticker, ratio_ticker]\n",
      "ABLV: Data doesn't exist for startDate = 1684296000, endDate = 1684900800\n",
      "ABLV: Data doesn't exist for startDate = 1684296000, endDate = 1684382400\n",
      "ABLV: Data doesn't exist for startDate = 1684382400, endDate = 1684468800\n",
      "ABLV: Data doesn't exist for startDate = 1684468800, endDate = 1684555200\n",
      "ABLV: Data doesn't exist for startDate = 1684555200, endDate = 1684641600\n",
      "ABLV: Data doesn't exist for startDate = 1684641600, endDate = 1684728000\n",
      "ABLV: Data doesn't exist for startDate = 1684728000, endDate = 1684814400\n",
      "ABLV: Data doesn't exist for startDate = 1684814400, endDate = 1684900800\n",
      "/var/folders/77/05l3f4755g34m9yb1kt19stm0000gn/T/ipykernel_41131/295811338.py:16: FutureWarning: The behavior of DataFrame concatenation with empty or all-NA entries is deprecated. In a future version, this will no longer exclude empty or all-NA columns when determining the result dtypes. To retain the old behavior, exclude the relevant entries before the concat operation.\n",
      "  df_target.loc[len(df_target)] = [ticker, ratio_ticker]\n"
     ]
    },
    {
     "name": "stdout",
     "output_type": "stream",
     "text": [
      "get_stock_value_ratio : Error processing ticker ABLV: unsupported operand type(s) for /: 'float' and 'NoneType'\n"
     ]
    },
    {
     "name": "stderr",
     "output_type": "stream",
     "text": [
      "ABVX: Data doesn't exist for startDate = 1684296000, endDate = 1684900800\n",
      "ABVX: Data doesn't exist for startDate = 1684296000, endDate = 1684382400\n",
      "ABVX: Data doesn't exist for startDate = 1684382400, endDate = 1684468800\n",
      "ABVX: Data doesn't exist for startDate = 1684468800, endDate = 1684555200\n",
      "ABVX: Data doesn't exist for startDate = 1684555200, endDate = 1684641600\n",
      "ABVX: Data doesn't exist for startDate = 1684641600, endDate = 1684728000\n",
      "ABVX: Data doesn't exist for startDate = 1684728000, endDate = 1684814400\n",
      "ABVX: Data doesn't exist for startDate = 1684814400, endDate = 1684900800\n",
      "/var/folders/77/05l3f4755g34m9yb1kt19stm0000gn/T/ipykernel_41131/295811338.py:16: FutureWarning: The behavior of DataFrame concatenation with empty or all-NA entries is deprecated. In a future version, this will no longer exclude empty or all-NA columns when determining the result dtypes. To retain the old behavior, exclude the relevant entries before the concat operation.\n",
      "  df_target.loc[len(df_target)] = [ticker, ratio_ticker]\n"
     ]
    },
    {
     "name": "stdout",
     "output_type": "stream",
     "text": [
      "get_stock_value_ratio : Error processing ticker ABVX: unsupported operand type(s) for /: 'float' and 'NoneType'\n"
     ]
    },
    {
     "name": "stderr",
     "output_type": "stream",
     "text": [
      "ACONW: Period '1mo' is invalid, must be one of ['1d', '5d']\n",
      "ACONW: Period '1mo' is invalid, must be one of ['1d', '5d']\n",
      "ACONW: Period '1mo' is invalid, must be one of ['1d', '5d']\n",
      "ACONW: Period '1mo' is invalid, must be one of ['1d', '5d']\n",
      "ACONW: Period '1mo' is invalid, must be one of ['1d', '5d']\n",
      "ACONW: Period '1mo' is invalid, must be one of ['1d', '5d']\n",
      "ACONW: Period '1mo' is invalid, must be one of ['1d', '5d']\n",
      "ACONW: Period '1mo' is invalid, must be one of ['1d', '5d']\n",
      "/var/folders/77/05l3f4755g34m9yb1kt19stm0000gn/T/ipykernel_41131/295811338.py:16: FutureWarning: The behavior of DataFrame concatenation with empty or all-NA entries is deprecated. In a future version, this will no longer exclude empty or all-NA columns when determining the result dtypes. To retain the old behavior, exclude the relevant entries before the concat operation.\n",
      "  df_target.loc[len(df_target)] = [ticker, ratio_ticker]\n",
      "ADNWW: Period '1mo' is invalid, must be one of ['1d', '5d']\n",
      "ADNWW: Period '1mo' is invalid, must be one of ['1d', '5d']\n",
      "ADNWW: Period '1mo' is invalid, must be one of ['1d', '5d']\n",
      "ADNWW: Period '1mo' is invalid, must be one of ['1d', '5d']\n",
      "ADNWW: Period '1mo' is invalid, must be one of ['1d', '5d']\n",
      "ADNWW: Period '1mo' is invalid, must be one of ['1d', '5d']\n",
      "ADNWW: Period '1mo' is invalid, must be one of ['1d', '5d']\n",
      "ADNWW: Period '1mo' is invalid, must be one of ['1d', '5d']\n",
      "/var/folders/77/05l3f4755g34m9yb1kt19stm0000gn/T/ipykernel_41131/295811338.py:16: FutureWarning: The behavior of DataFrame concatenation with empty or all-NA entries is deprecated. In a future version, this will no longer exclude empty or all-NA columns when determining the result dtypes. To retain the old behavior, exclude the relevant entries before the concat operation.\n",
      "  df_target.loc[len(df_target)] = [ticker, ratio_ticker]\n",
      "ADSEW: Period '1mo' is invalid, must be one of ['1d', '5d']\n",
      "ADSEW: Period '1mo' is invalid, must be one of ['1d', '5d']\n",
      "ADSEW: Period '1mo' is invalid, must be one of ['1d', '5d']\n",
      "ADSEW: Period '1mo' is invalid, must be one of ['1d', '5d']\n",
      "ADSEW: Period '1mo' is invalid, must be one of ['1d', '5d']\n",
      "ADSEW: Period '1mo' is invalid, must be one of ['1d', '5d']\n",
      "ADSEW: Period '1mo' is invalid, must be one of ['1d', '5d']\n",
      "ADSEW: Period '1mo' is invalid, must be one of ['1d', '5d']\n",
      "/var/folders/77/05l3f4755g34m9yb1kt19stm0000gn/T/ipykernel_41131/295811338.py:16: FutureWarning: The behavior of DataFrame concatenation with empty or all-NA entries is deprecated. In a future version, this will no longer exclude empty or all-NA columns when determining the result dtypes. To retain the old behavior, exclude the relevant entries before the concat operation.\n",
      "  df_target.loc[len(df_target)] = [ticker, ratio_ticker]\n",
      "ADTHW: Period '1mo' is invalid, must be one of ['1d', '5d']\n",
      "ADTHW: Period '1mo' is invalid, must be one of ['1d', '5d']\n",
      "ADTHW: Period '1mo' is invalid, must be one of ['1d', '5d']\n",
      "ADTHW: Period '1mo' is invalid, must be one of ['1d', '5d']\n",
      "ADTHW: Period '1mo' is invalid, must be one of ['1d', '5d']\n",
      "ADTHW: Period '1mo' is invalid, must be one of ['1d', '5d']\n",
      "ADTHW: Period '1mo' is invalid, must be one of ['1d', '5d']\n",
      "ADTHW: Period '1mo' is invalid, must be one of ['1d', '5d']\n",
      "/var/folders/77/05l3f4755g34m9yb1kt19stm0000gn/T/ipykernel_41131/295811338.py:16: FutureWarning: The behavior of DataFrame concatenation with empty or all-NA entries is deprecated. In a future version, this will no longer exclude empty or all-NA columns when determining the result dtypes. To retain the old behavior, exclude the relevant entries before the concat operation.\n",
      "  df_target.loc[len(df_target)] = [ticker, ratio_ticker]\n",
      "ADVWW: Period '1mo' is invalid, must be one of ['1d', '5d']\n",
      "ADVWW: Period '1mo' is invalid, must be one of ['1d', '5d']\n",
      "ADVWW: Period '1mo' is invalid, must be one of ['1d', '5d']\n",
      "ADVWW: Period '1mo' is invalid, must be one of ['1d', '5d']\n",
      "ADVWW: Period '1mo' is invalid, must be one of ['1d', '5d']\n",
      "ADVWW: Period '1mo' is invalid, must be one of ['1d', '5d']\n",
      "ADVWW: Period '1mo' is invalid, must be one of ['1d', '5d']\n",
      "ADVWW: Period '1mo' is invalid, must be one of ['1d', '5d']\n",
      "/var/folders/77/05l3f4755g34m9yb1kt19stm0000gn/T/ipykernel_41131/295811338.py:16: FutureWarning: The behavior of DataFrame concatenation with empty or all-NA entries is deprecated. In a future version, this will no longer exclude empty or all-NA columns when determining the result dtypes. To retain the old behavior, exclude the relevant entries before the concat operation.\n",
      "  df_target.loc[len(df_target)] = [ticker, ratio_ticker]\n",
      "AEAEW: Period '1mo' is invalid, must be one of ['1d', '5d']\n",
      "AEAEW: Period '1mo' is invalid, must be one of ['1d', '5d']\n",
      "AEAEW: Period '1mo' is invalid, must be one of ['1d', '5d']\n",
      "AEAEW: Period '1mo' is invalid, must be one of ['1d', '5d']\n",
      "AEAEW: Period '1mo' is invalid, must be one of ['1d', '5d']\n",
      "AEAEW: Period '1mo' is invalid, must be one of ['1d', '5d']\n",
      "AEAEW: Period '1mo' is invalid, must be one of ['1d', '5d']\n",
      "AEAEW: Period '1mo' is invalid, must be one of ['1d', '5d']\n",
      "/var/folders/77/05l3f4755g34m9yb1kt19stm0000gn/T/ipykernel_41131/295811338.py:16: FutureWarning: The behavior of DataFrame concatenation with empty or all-NA entries is deprecated. In a future version, this will no longer exclude empty or all-NA columns when determining the result dtypes. To retain the old behavior, exclude the relevant entries before the concat operation.\n",
      "  df_target.loc[len(df_target)] = [ticker, ratio_ticker]\n",
      "AEON: Data doesn't exist for startDate = 1684296000, endDate = 1684900800\n",
      "AEON: Data doesn't exist for startDate = 1684296000, endDate = 1684382400\n",
      "AEON: Data doesn't exist for startDate = 1684382400, endDate = 1684468800\n",
      "AEON: Data doesn't exist for startDate = 1684468800, endDate = 1684555200\n",
      "AEON: Data doesn't exist for startDate = 1684555200, endDate = 1684641600\n",
      "AEON: Data doesn't exist for startDate = 1684641600, endDate = 1684728000\n",
      "AEON: Data doesn't exist for startDate = 1684728000, endDate = 1684814400\n",
      "AEON: Data doesn't exist for startDate = 1684814400, endDate = 1684900800\n",
      "/var/folders/77/05l3f4755g34m9yb1kt19stm0000gn/T/ipykernel_41131/295811338.py:16: FutureWarning: The behavior of DataFrame concatenation with empty or all-NA entries is deprecated. In a future version, this will no longer exclude empty or all-NA columns when determining the result dtypes. To retain the old behavior, exclude the relevant entries before the concat operation.\n",
      "  df_target.loc[len(df_target)] = [ticker, ratio_ticker]\n"
     ]
    },
    {
     "name": "stdout",
     "output_type": "stream",
     "text": [
      "get_stock_value_ratio : Error processing ticker AEON: unsupported operand type(s) for /: 'float' and 'NoneType'\n"
     ]
    },
    {
     "name": "stderr",
     "output_type": "stream",
     "text": [
      "AERTW: Period '1mo' is invalid, must be one of ['1d', '5d']\n",
      "AERTW: Period '1mo' is invalid, must be one of ['1d', '5d']\n",
      "AERTW: Period '1mo' is invalid, must be one of ['1d', '5d']\n",
      "AERTW: Period '1mo' is invalid, must be one of ['1d', '5d']\n",
      "AERTW: Period '1mo' is invalid, must be one of ['1d', '5d']\n",
      "AERTW: Period '1mo' is invalid, must be one of ['1d', '5d']\n",
      "AERTW: Period '1mo' is invalid, must be one of ['1d', '5d']\n",
      "AERTW: Period '1mo' is invalid, must be one of ['1d', '5d']\n",
      "/var/folders/77/05l3f4755g34m9yb1kt19stm0000gn/T/ipykernel_41131/295811338.py:16: FutureWarning: The behavior of DataFrame concatenation with empty or all-NA entries is deprecated. In a future version, this will no longer exclude empty or all-NA columns when determining the result dtypes. To retain the old behavior, exclude the relevant entries before the concat operation.\n",
      "  df_target.loc[len(df_target)] = [ticker, ratio_ticker]\n",
      "AFRIW: Period '1mo' is invalid, must be one of ['1d', '5d']\n",
      "AFRIW: Period '1mo' is invalid, must be one of ['1d', '5d']\n",
      "AFRIW: Period '1mo' is invalid, must be one of ['1d', '5d']\n",
      "AFRIW: Period '1mo' is invalid, must be one of ['1d', '5d']\n",
      "AFRIW: Period '1mo' is invalid, must be one of ['1d', '5d']\n",
      "AFRIW: Period '1mo' is invalid, must be one of ['1d', '5d']\n",
      "AFRIW: Period '1mo' is invalid, must be one of ['1d', '5d']\n",
      "AFRIW: Period '1mo' is invalid, must be one of ['1d', '5d']\n",
      "/var/folders/77/05l3f4755g34m9yb1kt19stm0000gn/T/ipykernel_41131/295811338.py:16: FutureWarning: The behavior of DataFrame concatenation with empty or all-NA entries is deprecated. In a future version, this will no longer exclude empty or all-NA columns when determining the result dtypes. To retain the old behavior, exclude the relevant entries before the concat operation.\n",
      "  df_target.loc[len(df_target)] = [ticker, ratio_ticker]\n",
      "AGBAW: Period '1mo' is invalid, must be one of ['1d', '5d']\n",
      "AGBAW: Period '1mo' is invalid, must be one of ['1d', '5d']\n",
      "AGBAW: Period '1mo' is invalid, must be one of ['1d', '5d']\n",
      "AGBAW: Period '1mo' is invalid, must be one of ['1d', '5d']\n",
      "AGBAW: Period '1mo' is invalid, must be one of ['1d', '5d']\n",
      "AGBAW: Period '1mo' is invalid, must be one of ['1d', '5d']\n",
      "AGBAW: Period '1mo' is invalid, must be one of ['1d', '5d']\n",
      "AGBAW: Period '1mo' is invalid, must be one of ['1d', '5d']\n",
      "/var/folders/77/05l3f4755g34m9yb1kt19stm0000gn/T/ipykernel_41131/295811338.py:16: FutureWarning: The behavior of DataFrame concatenation with empty or all-NA entries is deprecated. In a future version, this will no longer exclude empty or all-NA columns when determining the result dtypes. To retain the old behavior, exclude the relevant entries before the concat operation.\n",
      "  df_target.loc[len(df_target)] = [ticker, ratio_ticker]\n",
      "AGRIW: Period '1mo' is invalid, must be one of ['1d', '5d']\n",
      "AGRIW: Period '1mo' is invalid, must be one of ['1d', '5d']\n",
      "AGRIW: Period '1mo' is invalid, must be one of ['1d', '5d']\n",
      "AGRIW: Period '1mo' is invalid, must be one of ['1d', '5d']\n",
      "AGRIW: Period '1mo' is invalid, must be one of ['1d', '5d']\n",
      "AGRIW: Period '1mo' is invalid, must be one of ['1d', '5d']\n",
      "AGRIW: Period '1mo' is invalid, must be one of ['1d', '5d']\n",
      "AGRIW: Period '1mo' is invalid, must be one of ['1d', '5d']\n",
      "/var/folders/77/05l3f4755g34m9yb1kt19stm0000gn/T/ipykernel_41131/295811338.py:16: FutureWarning: The behavior of DataFrame concatenation with empty or all-NA entries is deprecated. In a future version, this will no longer exclude empty or all-NA columns when determining the result dtypes. To retain the old behavior, exclude the relevant entries before the concat operation.\n",
      "  df_target.loc[len(df_target)] = [ticker, ratio_ticker]\n",
      "AHR: Data doesn't exist for startDate = 1684296000, endDate = 1684900800\n",
      "AHR: Data doesn't exist for startDate = 1684296000, endDate = 1684382400\n",
      "AHR: Data doesn't exist for startDate = 1684382400, endDate = 1684468800\n",
      "$AHR: possibly delisted; No price data found  (1d 2023-05-19 00:00:00 -> 2023-05-20 00:00:00)\n",
      "AHR: Data doesn't exist for startDate = 1684555200, endDate = 1684641600\n",
      "AHR: Data doesn't exist for startDate = 1684641600, endDate = 1684728000\n",
      "AHR: Data doesn't exist for startDate = 1684728000, endDate = 1684814400\n",
      "AHR: Data doesn't exist for startDate = 1684814400, endDate = 1684900800\n",
      "/var/folders/77/05l3f4755g34m9yb1kt19stm0000gn/T/ipykernel_41131/295811338.py:16: FutureWarning: The behavior of DataFrame concatenation with empty or all-NA entries is deprecated. In a future version, this will no longer exclude empty or all-NA columns when determining the result dtypes. To retain the old behavior, exclude the relevant entries before the concat operation.\n",
      "  df_target.loc[len(df_target)] = [ticker, ratio_ticker]\n"
     ]
    },
    {
     "name": "stdout",
     "output_type": "stream",
     "text": [
      "get_stock_value_ratio : Error processing ticker AHR: unsupported operand type(s) for /: 'float' and 'NoneType'\n"
     ]
    },
    {
     "name": "stderr",
     "output_type": "stream",
     "text": [
      "AILEW: Period '1mo' is invalid, must be one of ['1d', '5d']\n",
      "AILEW: Period '1mo' is invalid, must be one of ['1d', '5d']\n",
      "AILEW: Period '1mo' is invalid, must be one of ['1d', '5d']\n",
      "AILEW: Period '1mo' is invalid, must be one of ['1d', '5d']\n",
      "AILEW: Period '1mo' is invalid, must be one of ['1d', '5d']\n",
      "AILEW: Period '1mo' is invalid, must be one of ['1d', '5d']\n",
      "AILEW: Period '1mo' is invalid, must be one of ['1d', '5d']\n",
      "AILEW: Period '1mo' is invalid, must be one of ['1d', '5d']\n",
      "/var/folders/77/05l3f4755g34m9yb1kt19stm0000gn/T/ipykernel_41131/295811338.py:16: FutureWarning: The behavior of DataFrame concatenation with empty or all-NA entries is deprecated. In a future version, this will no longer exclude empty or all-NA columns when determining the result dtypes. To retain the old behavior, exclude the relevant entries before the concat operation.\n",
      "  df_target.loc[len(df_target)] = [ticker, ratio_ticker]\n",
      "AIMBU: Data doesn't exist for startDate = 1684296000, endDate = 1684900800\n",
      "AIMBU: Data doesn't exist for startDate = 1684296000, endDate = 1684382400\n",
      "AIMBU: Data doesn't exist for startDate = 1684382400, endDate = 1684468800\n",
      "AIMBU: Data doesn't exist for startDate = 1684468800, endDate = 1684555200\n",
      "AIMBU: Data doesn't exist for startDate = 1684555200, endDate = 1684641600\n",
      "AIMBU: Data doesn't exist for startDate = 1684641600, endDate = 1684728000\n",
      "AIMBU: Data doesn't exist for startDate = 1684728000, endDate = 1684814400\n",
      "AIMBU: Data doesn't exist for startDate = 1684814400, endDate = 1684900800\n",
      "/var/folders/77/05l3f4755g34m9yb1kt19stm0000gn/T/ipykernel_41131/295811338.py:16: FutureWarning: The behavior of DataFrame concatenation with empty or all-NA entries is deprecated. In a future version, this will no longer exclude empty or all-NA columns when determining the result dtypes. To retain the old behavior, exclude the relevant entries before the concat operation.\n",
      "  df_target.loc[len(df_target)] = [ticker, ratio_ticker]\n"
     ]
    },
    {
     "name": "stdout",
     "output_type": "stream",
     "text": [
      "get_stock_value_ratio : Error processing ticker AIMBU: unsupported operand type(s) for /: 'float' and 'NoneType'\n"
     ]
    },
    {
     "name": "stderr",
     "output_type": "stream",
     "text": [
      "AIRE: Data doesn't exist for startDate = 1684296000, endDate = 1684900800\n",
      "AIRE: Data doesn't exist for startDate = 1684296000, endDate = 1684382400\n",
      "AIRE: Data doesn't exist for startDate = 1684382400, endDate = 1684468800\n",
      "AIRE: Data doesn't exist for startDate = 1684468800, endDate = 1684555200\n",
      "AIRE: Data doesn't exist for startDate = 1684555200, endDate = 1684641600\n",
      "AIRE: Data doesn't exist for startDate = 1684641600, endDate = 1684728000\n",
      "AIRE: Data doesn't exist for startDate = 1684728000, endDate = 1684814400\n",
      "AIRE: Data doesn't exist for startDate = 1684814400, endDate = 1684900800\n",
      "/var/folders/77/05l3f4755g34m9yb1kt19stm0000gn/T/ipykernel_41131/295811338.py:16: FutureWarning: The behavior of DataFrame concatenation with empty or all-NA entries is deprecated. In a future version, this will no longer exclude empty or all-NA columns when determining the result dtypes. To retain the old behavior, exclude the relevant entries before the concat operation.\n",
      "  df_target.loc[len(df_target)] = [ticker, ratio_ticker]\n"
     ]
    },
    {
     "name": "stdout",
     "output_type": "stream",
     "text": [
      "get_stock_value_ratio : Error processing ticker AIRE: unsupported operand type(s) for /: 'float' and 'NoneType'\n"
     ]
    },
    {
     "name": "stderr",
     "output_type": "stream",
     "text": [
      "AIRJW: Period '1mo' is invalid, must be one of ['1d', '5d']\n",
      "AIRJW: Period '1mo' is invalid, must be one of ['1d', '5d']\n",
      "AIRJW: Period '1mo' is invalid, must be one of ['1d', '5d']\n",
      "AIRJW: Period '1mo' is invalid, must be one of ['1d', '5d']\n",
      "AIRJW: Period '1mo' is invalid, must be one of ['1d', '5d']\n",
      "AIRJW: Period '1mo' is invalid, must be one of ['1d', '5d']\n",
      "AIRJW: Period '1mo' is invalid, must be one of ['1d', '5d']\n",
      "AIRJW: Period '1mo' is invalid, must be one of ['1d', '5d']\n",
      "/var/folders/77/05l3f4755g34m9yb1kt19stm0000gn/T/ipykernel_41131/295811338.py:16: FutureWarning: The behavior of DataFrame concatenation with empty or all-NA entries is deprecated. In a future version, this will no longer exclude empty or all-NA columns when determining the result dtypes. To retain the old behavior, exclude the relevant entries before the concat operation.\n",
      "  df_target.loc[len(df_target)] = [ticker, ratio_ticker]\n",
      "AISPW: Period '1mo' is invalid, must be one of ['1d', '5d']\n",
      "AISPW: Period '1mo' is invalid, must be one of ['1d', '5d']\n",
      "AISPW: Period '1mo' is invalid, must be one of ['1d', '5d']\n",
      "AISPW: Period '1mo' is invalid, must be one of ['1d', '5d']\n",
      "AISPW: Period '1mo' is invalid, must be one of ['1d', '5d']\n",
      "AISPW: Period '1mo' is invalid, must be one of ['1d', '5d']\n",
      "AISPW: Period '1mo' is invalid, must be one of ['1d', '5d']\n",
      "AISPW: Period '1mo' is invalid, must be one of ['1d', '5d']\n",
      "/var/folders/77/05l3f4755g34m9yb1kt19stm0000gn/T/ipykernel_41131/295811338.py:16: FutureWarning: The behavior of DataFrame concatenation with empty or all-NA entries is deprecated. In a future version, this will no longer exclude empty or all-NA columns when determining the result dtypes. To retain the old behavior, exclude the relevant entries before the concat operation.\n",
      "  df_target.loc[len(df_target)] = [ticker, ratio_ticker]\n",
      "AITR: Data doesn't exist for startDate = 1684296000, endDate = 1684900800\n",
      "AITR: Data doesn't exist for startDate = 1684296000, endDate = 1684382400\n",
      "AITR: Data doesn't exist for startDate = 1684382400, endDate = 1684468800\n",
      "AITR: Data doesn't exist for startDate = 1684468800, endDate = 1684555200\n",
      "AITR: Data doesn't exist for startDate = 1684555200, endDate = 1684641600\n",
      "AITR: Data doesn't exist for startDate = 1684641600, endDate = 1684728000\n",
      "AITR: Data doesn't exist for startDate = 1684728000, endDate = 1684814400\n",
      "AITR: Data doesn't exist for startDate = 1684814400, endDate = 1684900800\n",
      "/var/folders/77/05l3f4755g34m9yb1kt19stm0000gn/T/ipykernel_41131/295811338.py:16: FutureWarning: The behavior of DataFrame concatenation with empty or all-NA entries is deprecated. In a future version, this will no longer exclude empty or all-NA columns when determining the result dtypes. To retain the old behavior, exclude the relevant entries before the concat operation.\n",
      "  df_target.loc[len(df_target)] = [ticker, ratio_ticker]\n"
     ]
    },
    {
     "name": "stdout",
     "output_type": "stream",
     "text": [
      "get_stock_value_ratio : Error processing ticker AITR: unsupported operand type(s) for /: 'float' and 'NoneType'\n"
     ]
    },
    {
     "name": "stderr",
     "output_type": "stream",
     "text": [
      "AITRU: Data doesn't exist for startDate = 1684296000, endDate = 1684900800\n",
      "AITRU: Data doesn't exist for startDate = 1684296000, endDate = 1684382400\n",
      "AITRU: Data doesn't exist for startDate = 1684382400, endDate = 1684468800\n",
      "AITRU: Data doesn't exist for startDate = 1684468800, endDate = 1684555200\n",
      "AITRU: Data doesn't exist for startDate = 1684555200, endDate = 1684641600\n",
      "AITRU: Data doesn't exist for startDate = 1684641600, endDate = 1684728000\n",
      "AITRU: Data doesn't exist for startDate = 1684728000, endDate = 1684814400\n",
      "AITRU: Data doesn't exist for startDate = 1684814400, endDate = 1684900800\n",
      "/var/folders/77/05l3f4755g34m9yb1kt19stm0000gn/T/ipykernel_41131/295811338.py:16: FutureWarning: The behavior of DataFrame concatenation with empty or all-NA entries is deprecated. In a future version, this will no longer exclude empty or all-NA columns when determining the result dtypes. To retain the old behavior, exclude the relevant entries before the concat operation.\n",
      "  df_target.loc[len(df_target)] = [ticker, ratio_ticker]\n"
     ]
    },
    {
     "name": "stdout",
     "output_type": "stream",
     "text": [
      "get_stock_value_ratio : Error processing ticker AITRU: unsupported operand type(s) for /: 'float' and 'NoneType'\n"
     ]
    },
    {
     "name": "stderr",
     "output_type": "stream",
     "text": [
      "ALAB: Data doesn't exist for startDate = 1684296000, endDate = 1684900800\n",
      "ALAB: Data doesn't exist for startDate = 1684296000, endDate = 1684382400\n",
      "ALAB: Data doesn't exist for startDate = 1684382400, endDate = 1684468800\n",
      "ALAB: Data doesn't exist for startDate = 1684468800, endDate = 1684555200\n",
      "ALAB: Data doesn't exist for startDate = 1684555200, endDate = 1684641600\n",
      "ALAB: Data doesn't exist for startDate = 1684641600, endDate = 1684728000\n",
      "ALAB: Data doesn't exist for startDate = 1684728000, endDate = 1684814400\n",
      "ALAB: Data doesn't exist for startDate = 1684814400, endDate = 1684900800\n",
      "/var/folders/77/05l3f4755g34m9yb1kt19stm0000gn/T/ipykernel_41131/295811338.py:16: FutureWarning: The behavior of DataFrame concatenation with empty or all-NA entries is deprecated. In a future version, this will no longer exclude empty or all-NA columns when determining the result dtypes. To retain the old behavior, exclude the relevant entries before the concat operation.\n",
      "  df_target.loc[len(df_target)] = [ticker, ratio_ticker]\n"
     ]
    },
    {
     "name": "stdout",
     "output_type": "stream",
     "text": [
      "get_stock_value_ratio : Error processing ticker ALAB: unsupported operand type(s) for /: 'float' and 'NoneType'\n"
     ]
    },
    {
     "name": "stderr",
     "output_type": "stream",
     "text": [
      "ALCY: Data doesn't exist for startDate = 1684296000, endDate = 1684900800\n",
      "ALCY: Data doesn't exist for startDate = 1684296000, endDate = 1684382400\n",
      "ALCY: Data doesn't exist for startDate = 1684382400, endDate = 1684468800\n",
      "ALCY: Data doesn't exist for startDate = 1684468800, endDate = 1684555200\n",
      "ALCY: Data doesn't exist for startDate = 1684555200, endDate = 1684641600\n",
      "ALCY: Data doesn't exist for startDate = 1684641600, endDate = 1684728000\n",
      "ALCY: Data doesn't exist for startDate = 1684728000, endDate = 1684814400\n",
      "ALCY: Data doesn't exist for startDate = 1684814400, endDate = 1684900800\n",
      "/var/folders/77/05l3f4755g34m9yb1kt19stm0000gn/T/ipykernel_41131/295811338.py:16: FutureWarning: The behavior of DataFrame concatenation with empty or all-NA entries is deprecated. In a future version, this will no longer exclude empty or all-NA columns when determining the result dtypes. To retain the old behavior, exclude the relevant entries before the concat operation.\n",
      "  df_target.loc[len(df_target)] = [ticker, ratio_ticker]\n",
      "ALCYW: Period '1mo' is invalid, must be one of ['1d', '5d']\n",
      "ALCYW: Period '1mo' is invalid, must be one of ['1d', '5d']\n"
     ]
    },
    {
     "name": "stdout",
     "output_type": "stream",
     "text": [
      "get_stock_value_ratio : Error processing ticker ALCY: unsupported operand type(s) for /: 'float' and 'NoneType'\n"
     ]
    },
    {
     "name": "stderr",
     "output_type": "stream",
     "text": [
      "ALCYW: Period '1mo' is invalid, must be one of ['1d', '5d']\n",
      "ALCYW: Period '1mo' is invalid, must be one of ['1d', '5d']\n",
      "ALCYW: Period '1mo' is invalid, must be one of ['1d', '5d']\n",
      "ALCYW: Period '1mo' is invalid, must be one of ['1d', '5d']\n",
      "ALCYW: Period '1mo' is invalid, must be one of ['1d', '5d']\n",
      "ALCYW: Period '1mo' is invalid, must be one of ['1d', '5d']\n",
      "/var/folders/77/05l3f4755g34m9yb1kt19stm0000gn/T/ipykernel_41131/295811338.py:16: FutureWarning: The behavior of DataFrame concatenation with empty or all-NA entries is deprecated. In a future version, this will no longer exclude empty or all-NA columns when determining the result dtypes. To retain the old behavior, exclude the relevant entries before the concat operation.\n",
      "  df_target.loc[len(df_target)] = [ticker, ratio_ticker]\n",
      "ALSAW: Period '1mo' is invalid, must be one of ['1d', '5d']\n",
      "ALSAW: Period '1mo' is invalid, must be one of ['1d', '5d']\n",
      "ALSAW: Period '1mo' is invalid, must be one of ['1d', '5d']\n",
      "ALSAW: Period '1mo' is invalid, must be one of ['1d', '5d']\n",
      "ALSAW: Period '1mo' is invalid, must be one of ['1d', '5d']\n",
      "ALSAW: Period '1mo' is invalid, must be one of ['1d', '5d']\n",
      "ALSAW: Period '1mo' is invalid, must be one of ['1d', '5d']\n",
      "ALSAW: Period '1mo' is invalid, must be one of ['1d', '5d']\n",
      "/var/folders/77/05l3f4755g34m9yb1kt19stm0000gn/T/ipykernel_41131/295811338.py:16: FutureWarning: The behavior of DataFrame concatenation with empty or all-NA entries is deprecated. In a future version, this will no longer exclude empty or all-NA columns when determining the result dtypes. To retain the old behavior, exclude the relevant entries before the concat operation.\n",
      "  df_target.loc[len(df_target)] = [ticker, ratio_ticker]\n",
      "ALVOW: Period '1mo' is invalid, must be one of ['1d', '5d']\n",
      "ALVOW: Period '1mo' is invalid, must be one of ['1d', '5d']\n",
      "ALVOW: Period '1mo' is invalid, must be one of ['1d', '5d']\n",
      "ALVOW: Period '1mo' is invalid, must be one of ['1d', '5d']\n",
      "ALVOW: Period '1mo' is invalid, must be one of ['1d', '5d']\n",
      "ALVOW: Period '1mo' is invalid, must be one of ['1d', '5d']\n",
      "ALVOW: Period '1mo' is invalid, must be one of ['1d', '5d']\n",
      "ALVOW: Period '1mo' is invalid, must be one of ['1d', '5d']\n",
      "/var/folders/77/05l3f4755g34m9yb1kt19stm0000gn/T/ipykernel_41131/295811338.py:16: FutureWarning: The behavior of DataFrame concatenation with empty or all-NA entries is deprecated. In a future version, this will no longer exclude empty or all-NA columns when determining the result dtypes. To retain the old behavior, exclude the relevant entries before the concat operation.\n",
      "  df_target.loc[len(df_target)] = [ticker, ratio_ticker]\n",
      "ANGHW: Period '1mo' is invalid, must be one of ['1d', '5d']\n",
      "ANGHW: Period '1mo' is invalid, must be one of ['1d', '5d']\n",
      "ANGHW: Period '1mo' is invalid, must be one of ['1d', '5d']\n",
      "ANGHW: Period '1mo' is invalid, must be one of ['1d', '5d']\n",
      "ANGHW: Period '1mo' is invalid, must be one of ['1d', '5d']\n",
      "ANGHW: Period '1mo' is invalid, must be one of ['1d', '5d']\n",
      "ANGHW: Period '1mo' is invalid, must be one of ['1d', '5d']\n",
      "ANGHW: Period '1mo' is invalid, must be one of ['1d', '5d']\n",
      "/var/folders/77/05l3f4755g34m9yb1kt19stm0000gn/T/ipykernel_41131/295811338.py:16: FutureWarning: The behavior of DataFrame concatenation with empty or all-NA entries is deprecated. In a future version, this will no longer exclude empty or all-NA columns when determining the result dtypes. To retain the old behavior, exclude the relevant entries before the concat operation.\n",
      "  df_target.loc[len(df_target)] = [ticker, ratio_ticker]\n",
      "ANL: Data doesn't exist for startDate = 1684296000, endDate = 1684900800\n",
      "ANL: Data doesn't exist for startDate = 1684296000, endDate = 1684382400\n",
      "ANL: Data doesn't exist for startDate = 1684382400, endDate = 1684468800\n",
      "ANL: Data doesn't exist for startDate = 1684468800, endDate = 1684555200\n",
      "ANL: Data doesn't exist for startDate = 1684555200, endDate = 1684641600\n",
      "ANL: Data doesn't exist for startDate = 1684641600, endDate = 1684728000\n",
      "ANL: Data doesn't exist for startDate = 1684728000, endDate = 1684814400\n",
      "ANL: Data doesn't exist for startDate = 1684814400, endDate = 1684900800\n",
      "/var/folders/77/05l3f4755g34m9yb1kt19stm0000gn/T/ipykernel_41131/295811338.py:16: FutureWarning: The behavior of DataFrame concatenation with empty or all-NA entries is deprecated. In a future version, this will no longer exclude empty or all-NA columns when determining the result dtypes. To retain the old behavior, exclude the relevant entries before the concat operation.\n",
      "  df_target.loc[len(df_target)] = [ticker, ratio_ticker]\n"
     ]
    },
    {
     "name": "stdout",
     "output_type": "stream",
     "text": [
      "get_stock_value_ratio : Error processing ticker ANL: unsupported operand type(s) for /: 'float' and 'NoneType'\n"
     ]
    },
    {
     "name": "stderr",
     "output_type": "stream",
     "text": [
      "ANRO: Data doesn't exist for startDate = 1684296000, endDate = 1684900800\n",
      "ANRO: Data doesn't exist for startDate = 1684296000, endDate = 1684382400\n",
      "ANRO: Data doesn't exist for startDate = 1684382400, endDate = 1684468800\n",
      "ANRO: Data doesn't exist for startDate = 1684468800, endDate = 1684555200\n",
      "ANRO: Data doesn't exist for startDate = 1684555200, endDate = 1684641600\n",
      "ANRO: Data doesn't exist for startDate = 1684641600, endDate = 1684728000\n",
      "ANRO: Data doesn't exist for startDate = 1684728000, endDate = 1684814400\n",
      "ANRO: Data doesn't exist for startDate = 1684814400, endDate = 1684900800\n",
      "/var/folders/77/05l3f4755g34m9yb1kt19stm0000gn/T/ipykernel_41131/295811338.py:16: FutureWarning: The behavior of DataFrame concatenation with empty or all-NA entries is deprecated. In a future version, this will no longer exclude empty or all-NA columns when determining the result dtypes. To retain the old behavior, exclude the relevant entries before the concat operation.\n",
      "  df_target.loc[len(df_target)] = [ticker, ratio_ticker]\n"
     ]
    },
    {
     "name": "stdout",
     "output_type": "stream",
     "text": [
      "get_stock_value_ratio : Error processing ticker ANRO: unsupported operand type(s) for /: 'float' and 'NoneType'\n"
     ]
    },
    {
     "name": "stderr",
     "output_type": "stream",
     "text": [
      "ANSC: Data doesn't exist for startDate = 1684296000, endDate = 1684900800\n",
      "ANSC: Data doesn't exist for startDate = 1684296000, endDate = 1684382400\n",
      "ANSC: Data doesn't exist for startDate = 1684382400, endDate = 1684468800\n",
      "ANSC: Data doesn't exist for startDate = 1684468800, endDate = 1684555200\n",
      "ANSC: Data doesn't exist for startDate = 1684555200, endDate = 1684641600\n",
      "ANSC: Data doesn't exist for startDate = 1684641600, endDate = 1684728000\n",
      "ANSC: Data doesn't exist for startDate = 1684728000, endDate = 1684814400\n",
      "ANSC: Data doesn't exist for startDate = 1684814400, endDate = 1684900800\n",
      "/var/folders/77/05l3f4755g34m9yb1kt19stm0000gn/T/ipykernel_41131/295811338.py:16: FutureWarning: The behavior of DataFrame concatenation with empty or all-NA entries is deprecated. In a future version, this will no longer exclude empty or all-NA columns when determining the result dtypes. To retain the old behavior, exclude the relevant entries before the concat operation.\n",
      "  df_target.loc[len(df_target)] = [ticker, ratio_ticker]\n"
     ]
    },
    {
     "name": "stdout",
     "output_type": "stream",
     "text": [
      "get_stock_value_ratio : Error processing ticker ANSC: unsupported operand type(s) for /: 'float' and 'NoneType'\n"
     ]
    },
    {
     "name": "stderr",
     "output_type": "stream",
     "text": [
      "ANSCU: Data doesn't exist for startDate = 1684296000, endDate = 1684900800\n",
      "ANSCU: Data doesn't exist for startDate = 1684296000, endDate = 1684382400\n",
      "ANSCU: Data doesn't exist for startDate = 1684382400, endDate = 1684468800\n",
      "ANSCU: Data doesn't exist for startDate = 1684468800, endDate = 1684555200\n",
      "ANSCU: Data doesn't exist for startDate = 1684555200, endDate = 1684641600\n",
      "ANSCU: Data doesn't exist for startDate = 1684641600, endDate = 1684728000\n",
      "ANSCU: Data doesn't exist for startDate = 1684728000, endDate = 1684814400\n",
      "ANSCU: Data doesn't exist for startDate = 1684814400, endDate = 1684900800\n",
      "/var/folders/77/05l3f4755g34m9yb1kt19stm0000gn/T/ipykernel_41131/295811338.py:16: FutureWarning: The behavior of DataFrame concatenation with empty or all-NA entries is deprecated. In a future version, this will no longer exclude empty or all-NA columns when determining the result dtypes. To retain the old behavior, exclude the relevant entries before the concat operation.\n",
      "  df_target.loc[len(df_target)] = [ticker, ratio_ticker]\n",
      "ANSCW: Period '1mo' is invalid, must be one of ['1d', '5d']\n",
      "ANSCW: Period '1mo' is invalid, must be one of ['1d', '5d']\n"
     ]
    },
    {
     "name": "stdout",
     "output_type": "stream",
     "text": [
      "get_stock_value_ratio : Error processing ticker ANSCU: unsupported operand type(s) for /: 'float' and 'NoneType'\n"
     ]
    },
    {
     "name": "stderr",
     "output_type": "stream",
     "text": [
      "ANSCW: Period '1mo' is invalid, must be one of ['1d', '5d']\n",
      "ANSCW: Period '1mo' is invalid, must be one of ['1d', '5d']\n",
      "ANSCW: Period '1mo' is invalid, must be one of ['1d', '5d']\n",
      "ANSCW: Period '1mo' is invalid, must be one of ['1d', '5d']\n",
      "ANSCW: Period '1mo' is invalid, must be one of ['1d', '5d']\n",
      "ANSCW: Period '1mo' is invalid, must be one of ['1d', '5d']\n",
      "/var/folders/77/05l3f4755g34m9yb1kt19stm0000gn/T/ipykernel_41131/295811338.py:16: FutureWarning: The behavior of DataFrame concatenation with empty or all-NA entries is deprecated. In a future version, this will no longer exclude empty or all-NA columns when determining the result dtypes. To retain the old behavior, exclude the relevant entries before the concat operation.\n",
      "  df_target.loc[len(df_target)] = [ticker, ratio_ticker]\n",
      "AONCW: Period '1mo' is invalid, must be one of ['1d', '5d']\n",
      "AONCW: Period '1mo' is invalid, must be one of ['1d', '5d']\n",
      "AONCW: Period '1mo' is invalid, must be one of ['1d', '5d']\n",
      "AONCW: Period '1mo' is invalid, must be one of ['1d', '5d']\n",
      "AONCW: Period '1mo' is invalid, must be one of ['1d', '5d']\n",
      "AONCW: Period '1mo' is invalid, must be one of ['1d', '5d']\n",
      "AONCW: Period '1mo' is invalid, must be one of ['1d', '5d']\n",
      "AONCW: Period '1mo' is invalid, must be one of ['1d', '5d']\n",
      "/var/folders/77/05l3f4755g34m9yb1kt19stm0000gn/T/ipykernel_41131/295811338.py:16: FutureWarning: The behavior of DataFrame concatenation with empty or all-NA entries is deprecated. In a future version, this will no longer exclude empty or all-NA columns when determining the result dtypes. To retain the old behavior, exclude the relevant entries before the concat operation.\n",
      "  df_target.loc[len(df_target)] = [ticker, ratio_ticker]\n",
      "APCXW: Period '1mo' is invalid, must be one of ['1d', '5d']\n",
      "APCXW: Period '1mo' is invalid, must be one of ['1d', '5d']\n",
      "APCXW: Period '1mo' is invalid, must be one of ['1d', '5d']\n",
      "APCXW: Period '1mo' is invalid, must be one of ['1d', '5d']\n",
      "APCXW: Period '1mo' is invalid, must be one of ['1d', '5d']\n",
      "APCXW: Period '1mo' is invalid, must be one of ['1d', '5d']\n",
      "APCXW: Period '1mo' is invalid, must be one of ['1d', '5d']\n",
      "APCXW: Period '1mo' is invalid, must be one of ['1d', '5d']\n",
      "/var/folders/77/05l3f4755g34m9yb1kt19stm0000gn/T/ipykernel_41131/295811338.py:16: FutureWarning: The behavior of DataFrame concatenation with empty or all-NA entries is deprecated. In a future version, this will no longer exclude empty or all-NA columns when determining the result dtypes. To retain the old behavior, exclude the relevant entries before the concat operation.\n",
      "  df_target.loc[len(df_target)] = [ticker, ratio_ticker]\n",
      "APGE: Data doesn't exist for startDate = 1684296000, endDate = 1684900800\n",
      "APGE: Data doesn't exist for startDate = 1684296000, endDate = 1684382400\n",
      "APGE: Data doesn't exist for startDate = 1684382400, endDate = 1684468800\n",
      "APGE: Data doesn't exist for startDate = 1684468800, endDate = 1684555200\n",
      "APGE: Data doesn't exist for startDate = 1684555200, endDate = 1684641600\n",
      "APGE: Data doesn't exist for startDate = 1684641600, endDate = 1684728000\n",
      "APGE: Data doesn't exist for startDate = 1684728000, endDate = 1684814400\n",
      "APGE: Data doesn't exist for startDate = 1684814400, endDate = 1684900800\n",
      "/var/folders/77/05l3f4755g34m9yb1kt19stm0000gn/T/ipykernel_41131/295811338.py:16: FutureWarning: The behavior of DataFrame concatenation with empty or all-NA entries is deprecated. In a future version, this will no longer exclude empty or all-NA columns when determining the result dtypes. To retain the old behavior, exclude the relevant entries before the concat operation.\n",
      "  df_target.loc[len(df_target)] = [ticker, ratio_ticker]\n"
     ]
    },
    {
     "name": "stdout",
     "output_type": "stream",
     "text": [
      "get_stock_value_ratio : Error processing ticker APGE: unsupported operand type(s) for /: 'float' and 'NoneType'\n"
     ]
    },
    {
     "name": "stderr",
     "output_type": "stream",
     "text": [
      "APXIW: Period '1mo' is invalid, must be one of ['1d', '5d']\n",
      "APXIW: Period '1mo' is invalid, must be one of ['1d', '5d']\n",
      "APXIW: Period '1mo' is invalid, must be one of ['1d', '5d']\n",
      "APXIW: Period '1mo' is invalid, must be one of ['1d', '5d']\n",
      "APXIW: Period '1mo' is invalid, must be one of ['1d', '5d']\n",
      "APXIW: Period '1mo' is invalid, must be one of ['1d', '5d']\n",
      "APXIW: Period '1mo' is invalid, must be one of ['1d', '5d']\n",
      "APXIW: Period '1mo' is invalid, must be one of ['1d', '5d']\n",
      "/var/folders/77/05l3f4755g34m9yb1kt19stm0000gn/T/ipykernel_41131/295811338.py:16: FutureWarning: The behavior of DataFrame concatenation with empty or all-NA entries is deprecated. In a future version, this will no longer exclude empty or all-NA columns when determining the result dtypes. To retain the old behavior, exclude the relevant entries before the concat operation.\n",
      "  df_target.loc[len(df_target)] = [ticker, ratio_ticker]\n",
      "ARBEW: Period '1mo' is invalid, must be one of ['1d', '5d']\n",
      "ARBEW: Period '1mo' is invalid, must be one of ['1d', '5d']\n",
      "ARBEW: Period '1mo' is invalid, must be one of ['1d', '5d']\n",
      "ARBEW: Period '1mo' is invalid, must be one of ['1d', '5d']\n",
      "ARBEW: Period '1mo' is invalid, must be one of ['1d', '5d']\n",
      "ARBEW: Period '1mo' is invalid, must be one of ['1d', '5d']\n",
      "ARBEW: Period '1mo' is invalid, must be one of ['1d', '5d']\n",
      "ARBEW: Period '1mo' is invalid, must be one of ['1d', '5d']\n",
      "/var/folders/77/05l3f4755g34m9yb1kt19stm0000gn/T/ipykernel_41131/295811338.py:16: FutureWarning: The behavior of DataFrame concatenation with empty or all-NA entries is deprecated. In a future version, this will no longer exclude empty or all-NA columns when determining the result dtypes. To retain the old behavior, exclude the relevant entries before the concat operation.\n",
      "  df_target.loc[len(df_target)] = [ticker, ratio_ticker]\n",
      "AREBW: Period '1mo' is invalid, must be one of ['1d', '5d']\n",
      "AREBW: Period '1mo' is invalid, must be one of ['1d', '5d']\n",
      "AREBW: Period '1mo' is invalid, must be one of ['1d', '5d']\n",
      "AREBW: Period '1mo' is invalid, must be one of ['1d', '5d']\n",
      "AREBW: Period '1mo' is invalid, must be one of ['1d', '5d']\n",
      "AREBW: Period '1mo' is invalid, must be one of ['1d', '5d']\n",
      "AREBW: Period '1mo' is invalid, must be one of ['1d', '5d']\n",
      "AREBW: Period '1mo' is invalid, must be one of ['1d', '5d']\n",
      "/var/folders/77/05l3f4755g34m9yb1kt19stm0000gn/T/ipykernel_41131/295811338.py:16: FutureWarning: The behavior of DataFrame concatenation with empty or all-NA entries is deprecated. In a future version, this will no longer exclude empty or all-NA columns when determining the result dtypes. To retain the old behavior, exclude the relevant entries before the concat operation.\n",
      "  df_target.loc[len(df_target)] = [ticker, ratio_ticker]\n",
      "ARKOW: Period '1mo' is invalid, must be one of ['1d', '5d']\n",
      "ARKOW: Period '1mo' is invalid, must be one of ['1d', '5d']\n",
      "ARKOW: Period '1mo' is invalid, must be one of ['1d', '5d']\n",
      "ARKOW: Period '1mo' is invalid, must be one of ['1d', '5d']\n",
      "ARKOW: Period '1mo' is invalid, must be one of ['1d', '5d']\n",
      "ARKOW: Period '1mo' is invalid, must be one of ['1d', '5d']\n",
      "ARKOW: Period '1mo' is invalid, must be one of ['1d', '5d']\n",
      "ARKOW: Period '1mo' is invalid, must be one of ['1d', '5d']\n",
      "/var/folders/77/05l3f4755g34m9yb1kt19stm0000gn/T/ipykernel_41131/295811338.py:16: FutureWarning: The behavior of DataFrame concatenation with empty or all-NA entries is deprecated. In a future version, this will no longer exclude empty or all-NA columns when determining the result dtypes. To retain the old behavior, exclude the relevant entries before the concat operation.\n",
      "  df_target.loc[len(df_target)] = [ticker, ratio_ticker]\n",
      "ARM: Data doesn't exist for startDate = 1684296000, endDate = 1684900800\n",
      "ARM: Data doesn't exist for startDate = 1684296000, endDate = 1684382400\n",
      "ARM: Data doesn't exist for startDate = 1684382400, endDate = 1684468800\n",
      "ARM: Data doesn't exist for startDate = 1684468800, endDate = 1684555200\n",
      "ARM: Data doesn't exist for startDate = 1684555200, endDate = 1684641600\n",
      "ARM: Data doesn't exist for startDate = 1684641600, endDate = 1684728000\n",
      "ARM: Data doesn't exist for startDate = 1684728000, endDate = 1684814400\n",
      "ARM: Data doesn't exist for startDate = 1684814400, endDate = 1684900800\n",
      "/var/folders/77/05l3f4755g34m9yb1kt19stm0000gn/T/ipykernel_41131/295811338.py:16: FutureWarning: The behavior of DataFrame concatenation with empty or all-NA entries is deprecated. In a future version, this will no longer exclude empty or all-NA columns when determining the result dtypes. To retain the old behavior, exclude the relevant entries before the concat operation.\n",
      "  df_target.loc[len(df_target)] = [ticker, ratio_ticker]\n"
     ]
    },
    {
     "name": "stdout",
     "output_type": "stream",
     "text": [
      "get_stock_value_ratio : Error processing ticker ARM: unsupported operand type(s) for /: 'float' and 'NoneType'\n"
     ]
    },
    {
     "name": "stderr",
     "output_type": "stream",
     "text": [
      "ARTLW: Period '1mo' is invalid, must be one of ['1d', '5d']\n",
      "ARTLW: Period '1mo' is invalid, must be one of ['1d', '5d']\n",
      "ARTLW: Period '1mo' is invalid, must be one of ['1d', '5d']\n",
      "ARTLW: Period '1mo' is invalid, must be one of ['1d', '5d']\n",
      "ARTLW: Period '1mo' is invalid, must be one of ['1d', '5d']\n",
      "ARTLW: Period '1mo' is invalid, must be one of ['1d', '5d']\n",
      "ARTLW: Period '1mo' is invalid, must be one of ['1d', '5d']\n",
      "ARTLW: Period '1mo' is invalid, must be one of ['1d', '5d']\n",
      "/var/folders/77/05l3f4755g34m9yb1kt19stm0000gn/T/ipykernel_41131/295811338.py:16: FutureWarning: The behavior of DataFrame concatenation with empty or all-NA entries is deprecated. In a future version, this will no longer exclude empty or all-NA columns when determining the result dtypes. To retain the old behavior, exclude the relevant entries before the concat operation.\n",
      "  df_target.loc[len(df_target)] = [ticker, ratio_ticker]\n",
      "AS: Data doesn't exist for startDate = 1684296000, endDate = 1684900800\n",
      "AS: Data doesn't exist for startDate = 1684296000, endDate = 1684382400\n",
      "AS: Data doesn't exist for startDate = 1684382400, endDate = 1684468800\n",
      "AS: Data doesn't exist for startDate = 1684468800, endDate = 1684555200\n",
      "AS: Data doesn't exist for startDate = 1684555200, endDate = 1684641600\n",
      "AS: Data doesn't exist for startDate = 1684641600, endDate = 1684728000\n",
      "AS: Data doesn't exist for startDate = 1684728000, endDate = 1684814400\n",
      "AS: Data doesn't exist for startDate = 1684814400, endDate = 1684900800\n",
      "/var/folders/77/05l3f4755g34m9yb1kt19stm0000gn/T/ipykernel_41131/295811338.py:16: FutureWarning: The behavior of DataFrame concatenation with empty or all-NA entries is deprecated. In a future version, this will no longer exclude empty or all-NA columns when determining the result dtypes. To retain the old behavior, exclude the relevant entries before the concat operation.\n",
      "  df_target.loc[len(df_target)] = [ticker, ratio_ticker]\n"
     ]
    },
    {
     "name": "stdout",
     "output_type": "stream",
     "text": [
      "get_stock_value_ratio : Error processing ticker AS: unsupported operand type(s) for /: 'float' and 'NoneType'\n"
     ]
    },
    {
     "name": "stderr",
     "output_type": "stream",
     "text": [
      "ASCBW: Period '1mo' is invalid, must be one of ['1d', '5d']\n",
      "ASCBW: Period '1mo' is invalid, must be one of ['1d', '5d']\n",
      "ASCBW: Period '1mo' is invalid, must be one of ['1d', '5d']\n",
      "ASCBW: Period '1mo' is invalid, must be one of ['1d', '5d']\n",
      "ASCBW: Period '1mo' is invalid, must be one of ['1d', '5d']\n",
      "ASCBW: Period '1mo' is invalid, must be one of ['1d', '5d']\n",
      "ASCBW: Period '1mo' is invalid, must be one of ['1d', '5d']\n",
      "ASCBW: Period '1mo' is invalid, must be one of ['1d', '5d']\n",
      "/var/folders/77/05l3f4755g34m9yb1kt19stm0000gn/T/ipykernel_41131/295811338.py:16: FutureWarning: The behavior of DataFrame concatenation with empty or all-NA entries is deprecated. In a future version, this will no longer exclude empty or all-NA columns when determining the result dtypes. To retain the old behavior, exclude the relevant entries before the concat operation.\n",
      "  df_target.loc[len(df_target)] = [ticker, ratio_ticker]\n",
      "ASTLW: Period '1mo' is invalid, must be one of ['1d', '5d']\n",
      "ASTLW: Period '1mo' is invalid, must be one of ['1d', '5d']\n",
      "ASTLW: Period '1mo' is invalid, must be one of ['1d', '5d']\n",
      "ASTLW: Period '1mo' is invalid, must be one of ['1d', '5d']\n",
      "ASTLW: Period '1mo' is invalid, must be one of ['1d', '5d']\n",
      "ASTLW: Period '1mo' is invalid, must be one of ['1d', '5d']\n",
      "ASTLW: Period '1mo' is invalid, must be one of ['1d', '5d']\n",
      "ASTLW: Period '1mo' is invalid, must be one of ['1d', '5d']\n",
      "/var/folders/77/05l3f4755g34m9yb1kt19stm0000gn/T/ipykernel_41131/295811338.py:16: FutureWarning: The behavior of DataFrame concatenation with empty or all-NA entries is deprecated. In a future version, this will no longer exclude empty or all-NA columns when determining the result dtypes. To retain the old behavior, exclude the relevant entries before the concat operation.\n",
      "  df_target.loc[len(df_target)] = [ticker, ratio_ticker]\n",
      "ASTSW: Period '1mo' is invalid, must be one of ['1d', '5d']\n",
      "ASTSW: Period '1mo' is invalid, must be one of ['1d', '5d']\n",
      "ASTSW: Period '1mo' is invalid, must be one of ['1d', '5d']\n",
      "ASTSW: Period '1mo' is invalid, must be one of ['1d', '5d']\n",
      "ASTSW: Period '1mo' is invalid, must be one of ['1d', '5d']\n",
      "ASTSW: Period '1mo' is invalid, must be one of ['1d', '5d']\n",
      "ASTSW: Period '1mo' is invalid, must be one of ['1d', '5d']\n",
      "ASTSW: Period '1mo' is invalid, must be one of ['1d', '5d']\n",
      "/var/folders/77/05l3f4755g34m9yb1kt19stm0000gn/T/ipykernel_41131/295811338.py:16: FutureWarning: The behavior of DataFrame concatenation with empty or all-NA entries is deprecated. In a future version, this will no longer exclude empty or all-NA columns when determining the result dtypes. To retain the old behavior, exclude the relevant entries before the concat operation.\n",
      "  df_target.loc[len(df_target)] = [ticker, ratio_ticker]\n",
      "ATGL: Data doesn't exist for startDate = 1684296000, endDate = 1684900800\n",
      "ATGL: Data doesn't exist for startDate = 1684296000, endDate = 1684382400\n",
      "ATGL: Data doesn't exist for startDate = 1684382400, endDate = 1684468800\n",
      "ATGL: Data doesn't exist for startDate = 1684468800, endDate = 1684555200\n",
      "ATGL: Data doesn't exist for startDate = 1684555200, endDate = 1684641600\n",
      "ATGL: Data doesn't exist for startDate = 1684641600, endDate = 1684728000\n",
      "ATGL: Data doesn't exist for startDate = 1684728000, endDate = 1684814400\n",
      "ATGL: Data doesn't exist for startDate = 1684814400, endDate = 1684900800\n",
      "/var/folders/77/05l3f4755g34m9yb1kt19stm0000gn/T/ipykernel_41131/295811338.py:16: FutureWarning: The behavior of DataFrame concatenation with empty or all-NA entries is deprecated. In a future version, this will no longer exclude empty or all-NA columns when determining the result dtypes. To retain the old behavior, exclude the relevant entries before the concat operation.\n",
      "  df_target.loc[len(df_target)] = [ticker, ratio_ticker]\n"
     ]
    },
    {
     "name": "stdout",
     "output_type": "stream",
     "text": [
      "get_stock_value_ratio : Error processing ticker ATGL: unsupported operand type(s) for /: 'float' and 'NoneType'\n"
     ]
    },
    {
     "name": "stderr",
     "output_type": "stream",
     "text": [
      "ATMCW: Period '1mo' is invalid, must be one of ['1d', '5d']\n",
      "ATMCW: Period '1mo' is invalid, must be one of ['1d', '5d']\n",
      "ATMCW: Period '1mo' is invalid, must be one of ['1d', '5d']\n",
      "ATMCW: Period '1mo' is invalid, must be one of ['1d', '5d']\n",
      "ATMCW: Period '1mo' is invalid, must be one of ['1d', '5d']\n",
      "ATMCW: Period '1mo' is invalid, must be one of ['1d', '5d']\n",
      "ATMCW: Period '1mo' is invalid, must be one of ['1d', '5d']\n",
      "ATMCW: Period '1mo' is invalid, must be one of ['1d', '5d']\n",
      "/var/folders/77/05l3f4755g34m9yb1kt19stm0000gn/T/ipykernel_41131/295811338.py:16: FutureWarning: The behavior of DataFrame concatenation with empty or all-NA entries is deprecated. In a future version, this will no longer exclude empty or all-NA columns when determining the result dtypes. To retain the old behavior, exclude the relevant entries before the concat operation.\n",
      "  df_target.loc[len(df_target)] = [ticker, ratio_ticker]\n",
      "ATMU: Data doesn't exist for startDate = 1684296000, endDate = 1684900800\n",
      "ATMU: Data doesn't exist for startDate = 1684296000, endDate = 1684382400\n",
      "ATMU: Data doesn't exist for startDate = 1684382400, endDate = 1684468800\n",
      "ATMU: Data doesn't exist for startDate = 1684468800, endDate = 1684555200\n",
      "ATMU: Data doesn't exist for startDate = 1684555200, endDate = 1684641600\n",
      "ATMU: Data doesn't exist for startDate = 1684641600, endDate = 1684728000\n",
      "ATMU: Data doesn't exist for startDate = 1684728000, endDate = 1684814400\n",
      "ATMU: Data doesn't exist for startDate = 1684814400, endDate = 1684900800\n",
      "/var/folders/77/05l3f4755g34m9yb1kt19stm0000gn/T/ipykernel_41131/295811338.py:16: FutureWarning: The behavior of DataFrame concatenation with empty or all-NA entries is deprecated. In a future version, this will no longer exclude empty or all-NA columns when determining the result dtypes. To retain the old behavior, exclude the relevant entries before the concat operation.\n",
      "  df_target.loc[len(df_target)] = [ticker, ratio_ticker]\n"
     ]
    },
    {
     "name": "stdout",
     "output_type": "stream",
     "text": [
      "get_stock_value_ratio : Error processing ticker ATMU: unsupported operand type(s) for /: 'float' and 'NoneType'\n"
     ]
    },
    {
     "name": "stderr",
     "output_type": "stream",
     "text": [
      "ATNFW: Period '1mo' is invalid, must be one of ['1d', '5d']\n",
      "ATNFW: Period '1mo' is invalid, must be one of ['1d', '5d']\n",
      "ATNFW: Period '1mo' is invalid, must be one of ['1d', '5d']\n",
      "ATNFW: Period '1mo' is invalid, must be one of ['1d', '5d']\n",
      "ATNFW: Period '1mo' is invalid, must be one of ['1d', '5d']\n",
      "ATNFW: Period '1mo' is invalid, must be one of ['1d', '5d']\n",
      "ATNFW: Period '1mo' is invalid, must be one of ['1d', '5d']\n",
      "ATNFW: Period '1mo' is invalid, must be one of ['1d', '5d']\n",
      "/var/folders/77/05l3f4755g34m9yb1kt19stm0000gn/T/ipykernel_41131/295811338.py:16: FutureWarning: The behavior of DataFrame concatenation with empty or all-NA entries is deprecated. In a future version, this will no longer exclude empty or all-NA columns when determining the result dtypes. To retain the old behavior, exclude the relevant entries before the concat operation.\n",
      "  df_target.loc[len(df_target)] = [ticker, ratio_ticker]\n",
      "ATPC: Data doesn't exist for startDate = 1684296000, endDate = 1684900800\n",
      "ATPC: Data doesn't exist for startDate = 1684296000, endDate = 1684382400\n",
      "ATPC: Data doesn't exist for startDate = 1684382400, endDate = 1684468800\n",
      "ATPC: Data doesn't exist for startDate = 1684468800, endDate = 1684555200\n",
      "ATPC: Data doesn't exist for startDate = 1684555200, endDate = 1684641600\n",
      "ATPC: Data doesn't exist for startDate = 1684641600, endDate = 1684728000\n",
      "ATPC: Data doesn't exist for startDate = 1684728000, endDate = 1684814400\n",
      "ATPC: Data doesn't exist for startDate = 1684814400, endDate = 1684900800\n",
      "/var/folders/77/05l3f4755g34m9yb1kt19stm0000gn/T/ipykernel_41131/295811338.py:16: FutureWarning: The behavior of DataFrame concatenation with empty or all-NA entries is deprecated. In a future version, this will no longer exclude empty or all-NA columns when determining the result dtypes. To retain the old behavior, exclude the relevant entries before the concat operation.\n",
      "  df_target.loc[len(df_target)] = [ticker, ratio_ticker]\n"
     ]
    },
    {
     "name": "stdout",
     "output_type": "stream",
     "text": [
      "get_stock_value_ratio : Error processing ticker ATPC: unsupported operand type(s) for /: 'float' and 'NoneType'\n"
     ]
    },
    {
     "name": "stderr",
     "output_type": "stream",
     "text": [
      "AUNA: Data doesn't exist for startDate = 1684296000, endDate = 1684900800\n",
      "AUNA: Data doesn't exist for startDate = 1684296000, endDate = 1684382400\n",
      "AUNA: Data doesn't exist for startDate = 1684382400, endDate = 1684468800\n",
      "AUNA: Data doesn't exist for startDate = 1684468800, endDate = 1684555200\n",
      "AUNA: Data doesn't exist for startDate = 1684555200, endDate = 1684641600\n",
      "AUNA: Data doesn't exist for startDate = 1684641600, endDate = 1684728000\n",
      "AUNA: Data doesn't exist for startDate = 1684728000, endDate = 1684814400\n",
      "AUNA: Data doesn't exist for startDate = 1684814400, endDate = 1684900800\n",
      "/var/folders/77/05l3f4755g34m9yb1kt19stm0000gn/T/ipykernel_41131/295811338.py:16: FutureWarning: The behavior of DataFrame concatenation with empty or all-NA entries is deprecated. In a future version, this will no longer exclude empty or all-NA columns when determining the result dtypes. To retain the old behavior, exclude the relevant entries before the concat operation.\n",
      "  df_target.loc[len(df_target)] = [ticker, ratio_ticker]\n"
     ]
    },
    {
     "name": "stdout",
     "output_type": "stream",
     "text": [
      "get_stock_value_ratio : Error processing ticker AUNA: unsupported operand type(s) for /: 'float' and 'NoneType'\n"
     ]
    },
    {
     "name": "stderr",
     "output_type": "stream",
     "text": [
      "AUROW: Period '1mo' is invalid, must be one of ['1d', '5d']\n",
      "AUROW: Period '1mo' is invalid, must be one of ['1d', '5d']\n",
      "AUROW: Period '1mo' is invalid, must be one of ['1d', '5d']\n",
      "AUROW: Period '1mo' is invalid, must be one of ['1d', '5d']\n",
      "AUROW: Period '1mo' is invalid, must be one of ['1d', '5d']\n",
      "AUROW: Period '1mo' is invalid, must be one of ['1d', '5d']\n",
      "AUROW: Period '1mo' is invalid, must be one of ['1d', '5d']\n",
      "AUROW: Period '1mo' is invalid, must be one of ['1d', '5d']\n",
      "/var/folders/77/05l3f4755g34m9yb1kt19stm0000gn/T/ipykernel_41131/295811338.py:16: FutureWarning: The behavior of DataFrame concatenation with empty or all-NA entries is deprecated. In a future version, this will no longer exclude empty or all-NA columns when determining the result dtypes. To retain the old behavior, exclude the relevant entries before the concat operation.\n",
      "  df_target.loc[len(df_target)] = [ticker, ratio_ticker]\n",
      "AUUDW: Period '1mo' is invalid, must be one of ['1d', '5d']\n",
      "AUUDW: Period '1mo' is invalid, must be one of ['1d', '5d']\n",
      "AUUDW: Period '1mo' is invalid, must be one of ['1d', '5d']\n",
      "AUUDW: Period '1mo' is invalid, must be one of ['1d', '5d']\n",
      "AUUDW: Period '1mo' is invalid, must be one of ['1d', '5d']\n",
      "AUUDW: Period '1mo' is invalid, must be one of ['1d', '5d']\n",
      "AUUDW: Period '1mo' is invalid, must be one of ['1d', '5d']\n",
      "AUUDW: Period '1mo' is invalid, must be one of ['1d', '5d']\n",
      "/var/folders/77/05l3f4755g34m9yb1kt19stm0000gn/T/ipykernel_41131/295811338.py:16: FutureWarning: The behavior of DataFrame concatenation with empty or all-NA entries is deprecated. In a future version, this will no longer exclude empty or all-NA columns when determining the result dtypes. To retain the old behavior, exclude the relevant entries before the concat operation.\n",
      "  df_target.loc[len(df_target)] = [ticker, ratio_ticker]\n",
      "AVBP: Data doesn't exist for startDate = 1684296000, endDate = 1684900800\n",
      "AVBP: Data doesn't exist for startDate = 1684296000, endDate = 1684382400\n",
      "AVBP: Data doesn't exist for startDate = 1684382400, endDate = 1684468800\n",
      "AVBP: Data doesn't exist for startDate = 1684468800, endDate = 1684555200\n",
      "AVBP: Data doesn't exist for startDate = 1684555200, endDate = 1684641600\n",
      "AVBP: Data doesn't exist for startDate = 1684641600, endDate = 1684728000\n",
      "AVBP: Data doesn't exist for startDate = 1684728000, endDate = 1684814400\n",
      "AVBP: Data doesn't exist for startDate = 1684814400, endDate = 1684900800\n",
      "/var/folders/77/05l3f4755g34m9yb1kt19stm0000gn/T/ipykernel_41131/295811338.py:16: FutureWarning: The behavior of DataFrame concatenation with empty or all-NA entries is deprecated. In a future version, this will no longer exclude empty or all-NA columns when determining the result dtypes. To retain the old behavior, exclude the relevant entries before the concat operation.\n",
      "  df_target.loc[len(df_target)] = [ticker, ratio_ticker]\n"
     ]
    },
    {
     "name": "stdout",
     "output_type": "stream",
     "text": [
      "get_stock_value_ratio : Error processing ticker AVBP: unsupported operand type(s) for /: 'float' and 'NoneType'\n"
     ]
    },
    {
     "name": "stderr",
     "output_type": "stream",
     "text": [
      "AVPTW: Period '1mo' is invalid, must be one of ['1d', '5d']\n",
      "AVPTW: Period '1mo' is invalid, must be one of ['1d', '5d']\n",
      "AVPTW: Period '1mo' is invalid, must be one of ['1d', '5d']\n",
      "AVPTW: Period '1mo' is invalid, must be one of ['1d', '5d']\n",
      "AVPTW: Period '1mo' is invalid, must be one of ['1d', '5d']\n",
      "AVPTW: Period '1mo' is invalid, must be one of ['1d', '5d']\n",
      "AVPTW: Period '1mo' is invalid, must be one of ['1d', '5d']\n",
      "AVPTW: Period '1mo' is invalid, must be one of ['1d', '5d']\n",
      "/var/folders/77/05l3f4755g34m9yb1kt19stm0000gn/T/ipykernel_41131/295811338.py:16: FutureWarning: The behavior of DataFrame concatenation with empty or all-NA entries is deprecated. In a future version, this will no longer exclude empty or all-NA columns when determining the result dtypes. To retain the old behavior, exclude the relevant entries before the concat operation.\n",
      "  df_target.loc[len(df_target)] = [ticker, ratio_ticker]\n",
      "AWINW: Period '1mo' is invalid, must be one of ['1d', '5d']\n",
      "AWINW: Period '1mo' is invalid, must be one of ['1d', '5d']\n",
      "AWINW: Period '1mo' is invalid, must be one of ['1d', '5d']\n",
      "AWINW: Period '1mo' is invalid, must be one of ['1d', '5d']\n",
      "AWINW: Period '1mo' is invalid, must be one of ['1d', '5d']\n",
      "AWINW: Period '1mo' is invalid, must be one of ['1d', '5d']\n",
      "AWINW: Period '1mo' is invalid, must be one of ['1d', '5d']\n",
      "AWINW: Period '1mo' is invalid, must be one of ['1d', '5d']\n",
      "/var/folders/77/05l3f4755g34m9yb1kt19stm0000gn/T/ipykernel_41131/295811338.py:16: FutureWarning: The behavior of DataFrame concatenation with empty or all-NA entries is deprecated. In a future version, this will no longer exclude empty or all-NA columns when determining the result dtypes. To retain the old behavior, exclude the relevant entries before the concat operation.\n",
      "  df_target.loc[len(df_target)] = [ticker, ratio_ticker]\n",
      "AXIL: Data doesn't exist for startDate = 1684296000, endDate = 1684900800\n",
      "AXIL: Data doesn't exist for startDate = 1684296000, endDate = 1684382400\n",
      "AXIL: Data doesn't exist for startDate = 1684382400, endDate = 1684468800\n",
      "AXIL: Data doesn't exist for startDate = 1684468800, endDate = 1684555200\n",
      "AXIL: Data doesn't exist for startDate = 1684555200, endDate = 1684641600\n",
      "AXIL: Data doesn't exist for startDate = 1684641600, endDate = 1684728000\n",
      "AXIL: Data doesn't exist for startDate = 1684728000, endDate = 1684814400\n",
      "AXIL: Data doesn't exist for startDate = 1684814400, endDate = 1684900800\n",
      "/var/folders/77/05l3f4755g34m9yb1kt19stm0000gn/T/ipykernel_41131/295811338.py:16: FutureWarning: The behavior of DataFrame concatenation with empty or all-NA entries is deprecated. In a future version, this will no longer exclude empty or all-NA columns when determining the result dtypes. To retain the old behavior, exclude the relevant entries before the concat operation.\n",
      "  df_target.loc[len(df_target)] = [ticker, ratio_ticker]\n"
     ]
    },
    {
     "name": "stdout",
     "output_type": "stream",
     "text": [
      "get_stock_value_ratio : Error processing ticker AXIL: unsupported operand type(s) for /: 'float' and 'NoneType'\n"
     ]
    },
    {
     "name": "stderr",
     "output_type": "stream",
     "text": [
      "AZTR: Data doesn't exist for startDate = 1684296000, endDate = 1684900800\n",
      "AZTR: Data doesn't exist for startDate = 1684296000, endDate = 1684382400\n",
      "AZTR: Data doesn't exist for startDate = 1684382400, endDate = 1684468800\n",
      "AZTR: Data doesn't exist for startDate = 1684468800, endDate = 1684555200\n",
      "AZTR: Data doesn't exist for startDate = 1684555200, endDate = 1684641600\n",
      "AZTR: Data doesn't exist for startDate = 1684641600, endDate = 1684728000\n",
      "AZTR: Data doesn't exist for startDate = 1684728000, endDate = 1684814400\n",
      "AZTR: Data doesn't exist for startDate = 1684814400, endDate = 1684900800\n",
      "/var/folders/77/05l3f4755g34m9yb1kt19stm0000gn/T/ipykernel_41131/295811338.py:16: FutureWarning: The behavior of DataFrame concatenation with empty or all-NA entries is deprecated. In a future version, this will no longer exclude empty or all-NA columns when determining the result dtypes. To retain the old behavior, exclude the relevant entries before the concat operation.\n",
      "  df_target.loc[len(df_target)] = [ticker, ratio_ticker]\n"
     ]
    },
    {
     "name": "stdout",
     "output_type": "stream",
     "text": [
      "get_stock_value_ratio : Error processing ticker AZTR: unsupported operand type(s) for /: 'float' and 'NoneType'\n"
     ]
    },
    {
     "name": "stderr",
     "output_type": "stream",
     "text": [
      "BAERW: Period '1mo' is invalid, must be one of ['1d', '5d']\n",
      "BAERW: Period '1mo' is invalid, must be one of ['1d', '5d']\n",
      "BAERW: Period '1mo' is invalid, must be one of ['1d', '5d']\n",
      "BAERW: Period '1mo' is invalid, must be one of ['1d', '5d']\n",
      "BAERW: Period '1mo' is invalid, must be one of ['1d', '5d']\n",
      "BAERW: Period '1mo' is invalid, must be one of ['1d', '5d']\n",
      "BAERW: Period '1mo' is invalid, must be one of ['1d', '5d']\n",
      "BAERW: Period '1mo' is invalid, must be one of ['1d', '5d']\n",
      "/var/folders/77/05l3f4755g34m9yb1kt19stm0000gn/T/ipykernel_41131/295811338.py:16: FutureWarning: The behavior of DataFrame concatenation with empty or all-NA entries is deprecated. In a future version, this will no longer exclude empty or all-NA columns when determining the result dtypes. To retain the old behavior, exclude the relevant entries before the concat operation.\n",
      "  df_target.loc[len(df_target)] = [ticker, ratio_ticker]\n",
      "BCDAW: Period '1mo' is invalid, must be one of ['1d', '5d']\n",
      "BCDAW: Period '1mo' is invalid, must be one of ['1d', '5d']\n",
      "BCDAW: Period '1mo' is invalid, must be one of ['1d', '5d']\n",
      "BCDAW: Period '1mo' is invalid, must be one of ['1d', '5d']\n",
      "BCDAW: Period '1mo' is invalid, must be one of ['1d', '5d']\n",
      "BCDAW: Period '1mo' is invalid, must be one of ['1d', '5d']\n",
      "BCDAW: Period '1mo' is invalid, must be one of ['1d', '5d']\n",
      "BCDAW: Period '1mo' is invalid, must be one of ['1d', '5d']\n",
      "/var/folders/77/05l3f4755g34m9yb1kt19stm0000gn/T/ipykernel_41131/295811338.py:16: FutureWarning: The behavior of DataFrame concatenation with empty or all-NA entries is deprecated. In a future version, this will no longer exclude empty or all-NA columns when determining the result dtypes. To retain the old behavior, exclude the relevant entries before the concat operation.\n",
      "  df_target.loc[len(df_target)] = [ticker, ratio_ticker]\n",
      "BCG: Data doesn't exist for startDate = 1684296000, endDate = 1684900800\n",
      "BCG: Data doesn't exist for startDate = 1684296000, endDate = 1684382400\n",
      "BCG: Data doesn't exist for startDate = 1684382400, endDate = 1684468800\n",
      "BCG: Data doesn't exist for startDate = 1684468800, endDate = 1684555200\n",
      "BCG: Data doesn't exist for startDate = 1684555200, endDate = 1684641600\n",
      "BCG: Data doesn't exist for startDate = 1684641600, endDate = 1684728000\n",
      "BCG: Data doesn't exist for startDate = 1684728000, endDate = 1684814400\n",
      "BCG: Data doesn't exist for startDate = 1684814400, endDate = 1684900800\n",
      "/var/folders/77/05l3f4755g34m9yb1kt19stm0000gn/T/ipykernel_41131/295811338.py:16: FutureWarning: The behavior of DataFrame concatenation with empty or all-NA entries is deprecated. In a future version, this will no longer exclude empty or all-NA columns when determining the result dtypes. To retain the old behavior, exclude the relevant entries before the concat operation.\n",
      "  df_target.loc[len(df_target)] = [ticker, ratio_ticker]\n",
      "BCGWW: Period '1mo' is invalid, must be one of ['1d', '5d']\n",
      "BCGWW: Period '1mo' is invalid, must be one of ['1d', '5d']\n"
     ]
    },
    {
     "name": "stdout",
     "output_type": "stream",
     "text": [
      "get_stock_value_ratio : Error processing ticker BCG: unsupported operand type(s) for /: 'float' and 'NoneType'\n"
     ]
    },
    {
     "name": "stderr",
     "output_type": "stream",
     "text": [
      "BCGWW: Period '1mo' is invalid, must be one of ['1d', '5d']\n",
      "BCGWW: Period '1mo' is invalid, must be one of ['1d', '5d']\n",
      "BCGWW: Period '1mo' is invalid, must be one of ['1d', '5d']\n",
      "BCGWW: Period '1mo' is invalid, must be one of ['1d', '5d']\n",
      "BCGWW: Period '1mo' is invalid, must be one of ['1d', '5d']\n",
      "BCGWW: Period '1mo' is invalid, must be one of ['1d', '5d']\n",
      "/var/folders/77/05l3f4755g34m9yb1kt19stm0000gn/T/ipykernel_41131/295811338.py:16: FutureWarning: The behavior of DataFrame concatenation with empty or all-NA entries is deprecated. In a future version, this will no longer exclude empty or all-NA columns when determining the result dtypes. To retain the old behavior, exclude the relevant entries before the concat operation.\n",
      "  df_target.loc[len(df_target)] = [ticker, ratio_ticker]\n",
      "BCSAW: Period '1mo' is invalid, must be one of ['1d', '5d']\n",
      "BCSAW: Period '1mo' is invalid, must be one of ['1d', '5d']\n",
      "BCSAW: Period '1mo' is invalid, must be one of ['1d', '5d']\n",
      "BCSAW: Period '1mo' is invalid, must be one of ['1d', '5d']\n",
      "BCSAW: Period '1mo' is invalid, must be one of ['1d', '5d']\n",
      "BCSAW: Period '1mo' is invalid, must be one of ['1d', '5d']\n",
      "BCSAW: Period '1mo' is invalid, must be one of ['1d', '5d']\n",
      "BCSAW: Period '1mo' is invalid, must be one of ['1d', '5d']\n",
      "/var/folders/77/05l3f4755g34m9yb1kt19stm0000gn/T/ipykernel_41131/295811338.py:16: FutureWarning: The behavior of DataFrame concatenation with empty or all-NA entries is deprecated. In a future version, this will no longer exclude empty or all-NA columns when determining the result dtypes. To retain the old behavior, exclude the relevant entries before the concat operation.\n",
      "  df_target.loc[len(df_target)] = [ticker, ratio_ticker]\n",
      "BCTXW: Period '1mo' is invalid, must be one of ['1d', '5d']\n",
      "BCTXW: Period '1mo' is invalid, must be one of ['1d', '5d']\n",
      "BCTXW: Period '1mo' is invalid, must be one of ['1d', '5d']\n",
      "BCTXW: Period '1mo' is invalid, must be one of ['1d', '5d']\n",
      "BCTXW: Period '1mo' is invalid, must be one of ['1d', '5d']\n",
      "BCTXW: Period '1mo' is invalid, must be one of ['1d', '5d']\n",
      "BCTXW: Period '1mo' is invalid, must be one of ['1d', '5d']\n",
      "BCTXW: Period '1mo' is invalid, must be one of ['1d', '5d']\n",
      "/var/folders/77/05l3f4755g34m9yb1kt19stm0000gn/T/ipykernel_41131/295811338.py:16: FutureWarning: The behavior of DataFrame concatenation with empty or all-NA entries is deprecated. In a future version, this will no longer exclude empty or all-NA columns when determining the result dtypes. To retain the old behavior, exclude the relevant entries before the concat operation.\n",
      "  df_target.loc[len(df_target)] = [ticker, ratio_ticker]\n",
      "BEATW: Period '1mo' is invalid, must be one of ['1d', '5d']\n",
      "BEATW: Period '1mo' is invalid, must be one of ['1d', '5d']\n",
      "BEATW: Period '1mo' is invalid, must be one of ['1d', '5d']\n",
      "BEATW: Period '1mo' is invalid, must be one of ['1d', '5d']\n",
      "BEATW: Period '1mo' is invalid, must be one of ['1d', '5d']\n",
      "BEATW: Period '1mo' is invalid, must be one of ['1d', '5d']\n",
      "BEATW: Period '1mo' is invalid, must be one of ['1d', '5d']\n",
      "BEATW: Period '1mo' is invalid, must be one of ['1d', '5d']\n",
      "/var/folders/77/05l3f4755g34m9yb1kt19stm0000gn/T/ipykernel_41131/295811338.py:16: FutureWarning: The behavior of DataFrame concatenation with empty or all-NA entries is deprecated. In a future version, this will no longer exclude empty or all-NA columns when determining the result dtypes. To retain the old behavior, exclude the relevant entries before the concat operation.\n",
      "  df_target.loc[len(df_target)] = [ticker, ratio_ticker]\n",
      "BEEP: Data doesn't exist for startDate = 1684296000, endDate = 1684900800\n",
      "BEEP: Data doesn't exist for startDate = 1684296000, endDate = 1684382400\n",
      "BEEP: Data doesn't exist for startDate = 1684382400, endDate = 1684468800\n",
      "BEEP: Data doesn't exist for startDate = 1684468800, endDate = 1684555200\n",
      "BEEP: Data doesn't exist for startDate = 1684555200, endDate = 1684641600\n",
      "BEEP: Data doesn't exist for startDate = 1684641600, endDate = 1684728000\n",
      "BEEP: Data doesn't exist for startDate = 1684728000, endDate = 1684814400\n",
      "BEEP: Data doesn't exist for startDate = 1684814400, endDate = 1684900800\n",
      "/var/folders/77/05l3f4755g34m9yb1kt19stm0000gn/T/ipykernel_41131/295811338.py:16: FutureWarning: The behavior of DataFrame concatenation with empty or all-NA entries is deprecated. In a future version, this will no longer exclude empty or all-NA columns when determining the result dtypes. To retain the old behavior, exclude the relevant entries before the concat operation.\n",
      "  df_target.loc[len(df_target)] = [ticker, ratio_ticker]\n"
     ]
    },
    {
     "name": "stdout",
     "output_type": "stream",
     "text": [
      "get_stock_value_ratio : Error processing ticker BEEP: unsupported operand type(s) for /: 'float' and 'NoneType'\n"
     ]
    },
    {
     "name": "stderr",
     "output_type": "stream",
     "text": [
      "BENFW: Period '1mo' is invalid, must be one of ['1d', '5d']\n",
      "BENFW: Period '1mo' is invalid, must be one of ['1d', '5d']\n",
      "BENFW: Period '1mo' is invalid, must be one of ['1d', '5d']\n",
      "BENFW: Period '1mo' is invalid, must be one of ['1d', '5d']\n",
      "BENFW: Period '1mo' is invalid, must be one of ['1d', '5d']\n",
      "BENFW: Period '1mo' is invalid, must be one of ['1d', '5d']\n",
      "BENFW: Period '1mo' is invalid, must be one of ['1d', '5d']\n",
      "BENFW: Period '1mo' is invalid, must be one of ['1d', '5d']\n",
      "/var/folders/77/05l3f4755g34m9yb1kt19stm0000gn/T/ipykernel_41131/295811338.py:16: FutureWarning: The behavior of DataFrame concatenation with empty or all-NA entries is deprecated. In a future version, this will no longer exclude empty or all-NA columns when determining the result dtypes. To retain the old behavior, exclude the relevant entries before the concat operation.\n",
      "  df_target.loc[len(df_target)] = [ticker, ratio_ticker]\n",
      "BETRW: Period '1mo' is invalid, must be one of ['1d', '5d']\n",
      "BETRW: Period '1mo' is invalid, must be one of ['1d', '5d']\n",
      "BETRW: Period '1mo' is invalid, must be one of ['1d', '5d']\n",
      "BETRW: Period '1mo' is invalid, must be one of ['1d', '5d']\n",
      "BETRW: Period '1mo' is invalid, must be one of ['1d', '5d']\n",
      "BETRW: Period '1mo' is invalid, must be one of ['1d', '5d']\n",
      "BETRW: Period '1mo' is invalid, must be one of ['1d', '5d']\n",
      "BETRW: Period '1mo' is invalid, must be one of ['1d', '5d']\n",
      "/var/folders/77/05l3f4755g34m9yb1kt19stm0000gn/T/ipykernel_41131/295811338.py:16: FutureWarning: The behavior of DataFrame concatenation with empty or all-NA entries is deprecated. In a future version, this will no longer exclude empty or all-NA columns when determining the result dtypes. To retain the old behavior, exclude the relevant entries before the concat operation.\n",
      "  df_target.loc[len(df_target)] = [ticker, ratio_ticker]\n",
      "BFRGW: Period '1mo' is invalid, must be one of ['1d', '5d']\n",
      "BFRGW: Period '1mo' is invalid, must be one of ['1d', '5d']\n",
      "BFRGW: Period '1mo' is invalid, must be one of ['1d', '5d']\n",
      "BFRGW: Period '1mo' is invalid, must be one of ['1d', '5d']\n",
      "BFRGW: Period '1mo' is invalid, must be one of ['1d', '5d']\n",
      "BFRGW: Period '1mo' is invalid, must be one of ['1d', '5d']\n",
      "BFRGW: Period '1mo' is invalid, must be one of ['1d', '5d']\n",
      "BFRGW: Period '1mo' is invalid, must be one of ['1d', '5d']\n",
      "/var/folders/77/05l3f4755g34m9yb1kt19stm0000gn/T/ipykernel_41131/295811338.py:16: FutureWarning: The behavior of DataFrame concatenation with empty or all-NA entries is deprecated. In a future version, this will no longer exclude empty or all-NA columns when determining the result dtypes. To retain the old behavior, exclude the relevant entries before the concat operation.\n",
      "  df_target.loc[len(df_target)] = [ticker, ratio_ticker]\n",
      "BFRIW: Period '1mo' is invalid, must be one of ['1d', '5d']\n",
      "BFRIW: Period '1mo' is invalid, must be one of ['1d', '5d']\n",
      "BFRIW: Period '1mo' is invalid, must be one of ['1d', '5d']\n",
      "BFRIW: Period '1mo' is invalid, must be one of ['1d', '5d']\n",
      "BFRIW: Period '1mo' is invalid, must be one of ['1d', '5d']\n",
      "BFRIW: Period '1mo' is invalid, must be one of ['1d', '5d']\n",
      "BFRIW: Period '1mo' is invalid, must be one of ['1d', '5d']\n",
      "BFRIW: Period '1mo' is invalid, must be one of ['1d', '5d']\n",
      "/var/folders/77/05l3f4755g34m9yb1kt19stm0000gn/T/ipykernel_41131/295811338.py:16: FutureWarning: The behavior of DataFrame concatenation with empty or all-NA entries is deprecated. In a future version, this will no longer exclude empty or all-NA columns when determining the result dtypes. To retain the old behavior, exclude the relevant entries before the concat operation.\n",
      "  df_target.loc[len(df_target)] = [ticker, ratio_ticker]\n",
      "BHACW: Period '1mo' is invalid, must be one of ['1d', '5d']\n",
      "BHACW: Period '1mo' is invalid, must be one of ['1d', '5d']\n",
      "BHACW: Period '1mo' is invalid, must be one of ['1d', '5d']\n",
      "BHACW: Period '1mo' is invalid, must be one of ['1d', '5d']\n",
      "BHACW: Period '1mo' is invalid, must be one of ['1d', '5d']\n",
      "BHACW: Period '1mo' is invalid, must be one of ['1d', '5d']\n",
      "BHACW: Period '1mo' is invalid, must be one of ['1d', '5d']\n",
      "BHACW: Period '1mo' is invalid, must be one of ['1d', '5d']\n",
      "/var/folders/77/05l3f4755g34m9yb1kt19stm0000gn/T/ipykernel_41131/295811338.py:16: FutureWarning: The behavior of DataFrame concatenation with empty or all-NA entries is deprecated. In a future version, this will no longer exclude empty or all-NA columns when determining the result dtypes. To retain the old behavior, exclude the relevant entries before the concat operation.\n",
      "  df_target.loc[len(df_target)] = [ticker, ratio_ticker]\n",
      "BIAFW: Period '1mo' is invalid, must be one of ['1d', '5d']\n",
      "BIAFW: Period '1mo' is invalid, must be one of ['1d', '5d']\n",
      "BIAFW: Period '1mo' is invalid, must be one of ['1d', '5d']\n",
      "BIAFW: Period '1mo' is invalid, must be one of ['1d', '5d']\n",
      "BIAFW: Period '1mo' is invalid, must be one of ['1d', '5d']\n",
      "BIAFW: Period '1mo' is invalid, must be one of ['1d', '5d']\n",
      "BIAFW: Period '1mo' is invalid, must be one of ['1d', '5d']\n",
      "BIAFW: Period '1mo' is invalid, must be one of ['1d', '5d']\n",
      "/var/folders/77/05l3f4755g34m9yb1kt19stm0000gn/T/ipykernel_41131/295811338.py:16: FutureWarning: The behavior of DataFrame concatenation with empty or all-NA entries is deprecated. In a future version, this will no longer exclude empty or all-NA columns when determining the result dtypes. To retain the old behavior, exclude the relevant entries before the concat operation.\n",
      "  df_target.loc[len(df_target)] = [ticker, ratio_ticker]\n",
      "BIRK: Data doesn't exist for startDate = 1684296000, endDate = 1684900800\n",
      "BIRK: Data doesn't exist for startDate = 1684296000, endDate = 1684382400\n",
      "BIRK: Data doesn't exist for startDate = 1684382400, endDate = 1684468800\n",
      "BIRK: Data doesn't exist for startDate = 1684468800, endDate = 1684555200\n",
      "BIRK: Data doesn't exist for startDate = 1684555200, endDate = 1684641600\n",
      "BIRK: Data doesn't exist for startDate = 1684641600, endDate = 1684728000\n",
      "BIRK: Data doesn't exist for startDate = 1684728000, endDate = 1684814400\n",
      "BIRK: Data doesn't exist for startDate = 1684814400, endDate = 1684900800\n",
      "/var/folders/77/05l3f4755g34m9yb1kt19stm0000gn/T/ipykernel_41131/295811338.py:16: FutureWarning: The behavior of DataFrame concatenation with empty or all-NA entries is deprecated. In a future version, this will no longer exclude empty or all-NA columns when determining the result dtypes. To retain the old behavior, exclude the relevant entries before the concat operation.\n",
      "  df_target.loc[len(df_target)] = [ticker, ratio_ticker]\n"
     ]
    },
    {
     "name": "stdout",
     "output_type": "stream",
     "text": [
      "get_stock_value_ratio : Error processing ticker BIRK: unsupported operand type(s) for /: 'float' and 'NoneType'\n"
     ]
    },
    {
     "name": "stderr",
     "output_type": "stream",
     "text": [
      "BNAIW: Period '1mo' is invalid, must be one of ['1d', '5d']\n",
      "BNAIW: Period '1mo' is invalid, must be one of ['1d', '5d']\n",
      "BNAIW: Period '1mo' is invalid, must be one of ['1d', '5d']\n",
      "BNAIW: Period '1mo' is invalid, must be one of ['1d', '5d']\n",
      "BNAIW: Period '1mo' is invalid, must be one of ['1d', '5d']\n",
      "BNAIW: Period '1mo' is invalid, must be one of ['1d', '5d']\n",
      "BNAIW: Period '1mo' is invalid, must be one of ['1d', '5d']\n",
      "BNAIW: Period '1mo' is invalid, must be one of ['1d', '5d']\n",
      "/var/folders/77/05l3f4755g34m9yb1kt19stm0000gn/T/ipykernel_41131/295811338.py:16: FutureWarning: The behavior of DataFrame concatenation with empty or all-NA entries is deprecated. In a future version, this will no longer exclude empty or all-NA columns when determining the result dtypes. To retain the old behavior, exclude the relevant entries before the concat operation.\n",
      "  df_target.loc[len(df_target)] = [ticker, ratio_ticker]\n",
      "BNZIW: Period '1mo' is invalid, must be one of ['1d', '5d']\n",
      "BNZIW: Period '1mo' is invalid, must be one of ['1d', '5d']\n",
      "BNZIW: Period '1mo' is invalid, must be one of ['1d', '5d']\n",
      "BNZIW: Period '1mo' is invalid, must be one of ['1d', '5d']\n",
      "BNZIW: Period '1mo' is invalid, must be one of ['1d', '5d']\n",
      "BNZIW: Period '1mo' is invalid, must be one of ['1d', '5d']\n",
      "BNZIW: Period '1mo' is invalid, must be one of ['1d', '5d']\n",
      "BNZIW: Period '1mo' is invalid, must be one of ['1d', '5d']\n",
      "/var/folders/77/05l3f4755g34m9yb1kt19stm0000gn/T/ipykernel_41131/295811338.py:16: FutureWarning: The behavior of DataFrame concatenation with empty or all-NA entries is deprecated. In a future version, this will no longer exclude empty or all-NA columns when determining the result dtypes. To retain the old behavior, exclude the relevant entries before the concat operation.\n",
      "  df_target.loc[len(df_target)] = [ticker, ratio_ticker]\n",
      "BOCNW: Period '1mo' is invalid, must be one of ['1d', '5d']\n",
      "BOCNW: Period '1mo' is invalid, must be one of ['1d', '5d']\n",
      "BOCNW: Period '1mo' is invalid, must be one of ['1d', '5d']\n",
      "BOCNW: Period '1mo' is invalid, must be one of ['1d', '5d']\n",
      "BOCNW: Period '1mo' is invalid, must be one of ['1d', '5d']\n",
      "BOCNW: Period '1mo' is invalid, must be one of ['1d', '5d']\n",
      "BOCNW: Period '1mo' is invalid, must be one of ['1d', '5d']\n",
      "BOCNW: Period '1mo' is invalid, must be one of ['1d', '5d']\n",
      "/var/folders/77/05l3f4755g34m9yb1kt19stm0000gn/T/ipykernel_41131/295811338.py:16: FutureWarning: The behavior of DataFrame concatenation with empty or all-NA entries is deprecated. In a future version, this will no longer exclude empty or all-NA columns when determining the result dtypes. To retain the old behavior, exclude the relevant entries before the concat operation.\n",
      "  df_target.loc[len(df_target)] = [ticker, ratio_ticker]\n",
      "BOF: Data doesn't exist for startDate = 1684296000, endDate = 1684900800\n",
      "BOF: Data doesn't exist for startDate = 1684296000, endDate = 1684382400\n",
      "BOF: Data doesn't exist for startDate = 1684382400, endDate = 1684468800\n",
      "BOF: Data doesn't exist for startDate = 1684468800, endDate = 1684555200\n",
      "BOF: Data doesn't exist for startDate = 1684555200, endDate = 1684641600\n",
      "BOF: Data doesn't exist for startDate = 1684641600, endDate = 1684728000\n",
      "BOF: Data doesn't exist for startDate = 1684728000, endDate = 1684814400\n",
      "BOF: Data doesn't exist for startDate = 1684814400, endDate = 1684900800\n",
      "/var/folders/77/05l3f4755g34m9yb1kt19stm0000gn/T/ipykernel_41131/295811338.py:16: FutureWarning: The behavior of DataFrame concatenation with empty or all-NA entries is deprecated. In a future version, this will no longer exclude empty or all-NA columns when determining the result dtypes. To retain the old behavior, exclude the relevant entries before the concat operation.\n",
      "  df_target.loc[len(df_target)] = [ticker, ratio_ticker]\n"
     ]
    },
    {
     "name": "stdout",
     "output_type": "stream",
     "text": [
      "get_stock_value_ratio : Error processing ticker BOF: unsupported operand type(s) for /: 'float' and 'NoneType'\n"
     ]
    },
    {
     "name": "stderr",
     "output_type": "stream",
     "text": [
      "BOLD: Data doesn't exist for startDate = 1684296000, endDate = 1684900800\n",
      "BOLD: Data doesn't exist for startDate = 1684296000, endDate = 1684382400\n",
      "BOLD: Data doesn't exist for startDate = 1684382400, endDate = 1684468800\n",
      "BOLD: Data doesn't exist for startDate = 1684468800, endDate = 1684555200\n",
      "BOLD: Data doesn't exist for startDate = 1684555200, endDate = 1684641600\n",
      "BOLD: Data doesn't exist for startDate = 1684641600, endDate = 1684728000\n",
      "BOLD: Data doesn't exist for startDate = 1684728000, endDate = 1684814400\n",
      "BOLD: Data doesn't exist for startDate = 1684814400, endDate = 1684900800\n",
      "/var/folders/77/05l3f4755g34m9yb1kt19stm0000gn/T/ipykernel_41131/295811338.py:16: FutureWarning: The behavior of DataFrame concatenation with empty or all-NA entries is deprecated. In a future version, this will no longer exclude empty or all-NA columns when determining the result dtypes. To retain the old behavior, exclude the relevant entries before the concat operation.\n",
      "  df_target.loc[len(df_target)] = [ticker, ratio_ticker]\n"
     ]
    },
    {
     "name": "stdout",
     "output_type": "stream",
     "text": [
      "get_stock_value_ratio : Error processing ticker BOLD: unsupported operand type(s) for /: 'float' and 'NoneType'\n"
     ]
    },
    {
     "name": "stderr",
     "output_type": "stream",
     "text": [
      "BOW: Data doesn't exist for startDate = 1715745600, endDate = 1716350400\n",
      "BOW: Data doesn't exist for startDate = 1715745600, endDate = 1715832000\n",
      "BOW: Data doesn't exist for startDate = 1715832000, endDate = 1715918400\n",
      "BOW: Data doesn't exist for startDate = 1715918400, endDate = 1716004800\n",
      "BOW: Data doesn't exist for startDate = 1716004800, endDate = 1716091200\n",
      "BOW: Data doesn't exist for startDate = 1716091200, endDate = 1716177600\n",
      "BOW: Data doesn't exist for startDate = 1716177600, endDate = 1716264000\n",
      "BOW: Data doesn't exist for startDate = 1716264000, endDate = 1716350400\n",
      "/var/folders/77/05l3f4755g34m9yb1kt19stm0000gn/T/ipykernel_41131/295811338.py:16: FutureWarning: The behavior of DataFrame concatenation with empty or all-NA entries is deprecated. In a future version, this will no longer exclude empty or all-NA columns when determining the result dtypes. To retain the old behavior, exclude the relevant entries before the concat operation.\n",
      "  df_target.loc[len(df_target)] = [ticker, ratio_ticker]\n",
      "BQ: Data doesn't exist for startDate = 1684296000, endDate = 1684900800\n",
      "BQ: Data doesn't exist for startDate = 1684296000, endDate = 1684382400\n",
      "BQ: Data doesn't exist for startDate = 1684382400, endDate = 1684468800\n",
      "BQ: Data doesn't exist for startDate = 1684468800, endDate = 1684555200\n",
      "BQ: Data doesn't exist for startDate = 1684555200, endDate = 1684641600\n",
      "BQ: Data doesn't exist for startDate = 1684641600, endDate = 1684728000\n",
      "BQ: Data doesn't exist for startDate = 1684728000, endDate = 1684814400\n",
      "BQ: Data doesn't exist for startDate = 1684814400, endDate = 1684900800\n",
      "/var/folders/77/05l3f4755g34m9yb1kt19stm0000gn/T/ipykernel_41131/295811338.py:16: FutureWarning: The behavior of DataFrame concatenation with empty or all-NA entries is deprecated. In a future version, this will no longer exclude empty or all-NA columns when determining the result dtypes. To retain the old behavior, exclude the relevant entries before the concat operation.\n",
      "  df_target.loc[len(df_target)] = [ticker, ratio_ticker]\n"
     ]
    },
    {
     "name": "stdout",
     "output_type": "stream",
     "text": [
      "get_stock_value_ratio : Error processing ticker BQ: unsupported operand type(s) for /: 'float' and 'NoneType'\n"
     ]
    },
    {
     "name": "stderr",
     "output_type": "stream",
     "text": [
      "BRKHW: Period '1mo' is invalid, must be one of ['1d', '5d']\n",
      "BRKHW: Period '1mo' is invalid, must be one of ['1d', '5d']\n",
      "BRKHW: Period '1mo' is invalid, must be one of ['1d', '5d']\n",
      "BRKHW: Period '1mo' is invalid, must be one of ['1d', '5d']\n",
      "BRKHW: Period '1mo' is invalid, must be one of ['1d', '5d']\n",
      "BRKHW: Period '1mo' is invalid, must be one of ['1d', '5d']\n",
      "BRKHW: Period '1mo' is invalid, must be one of ['1d', '5d']\n",
      "BRKHW: Period '1mo' is invalid, must be one of ['1d', '5d']\n",
      "/var/folders/77/05l3f4755g34m9yb1kt19stm0000gn/T/ipykernel_41131/295811338.py:16: FutureWarning: The behavior of DataFrame concatenation with empty or all-NA entries is deprecated. In a future version, this will no longer exclude empty or all-NA columns when determining the result dtypes. To retain the old behavior, exclude the relevant entries before the concat operation.\n",
      "  df_target.loc[len(df_target)] = [ticker, ratio_ticker]\n",
      "BRLSW: Period '1mo' is invalid, must be one of ['1d', '5d']\n",
      "BRLSW: Period '1mo' is invalid, must be one of ['1d', '5d']\n",
      "BRLSW: Period '1mo' is invalid, must be one of ['1d', '5d']\n",
      "BRLSW: Period '1mo' is invalid, must be one of ['1d', '5d']\n",
      "BRLSW: Period '1mo' is invalid, must be one of ['1d', '5d']\n",
      "BRLSW: Period '1mo' is invalid, must be one of ['1d', '5d']\n",
      "BRLSW: Period '1mo' is invalid, must be one of ['1d', '5d']\n",
      "BRLSW: Period '1mo' is invalid, must be one of ['1d', '5d']\n",
      "/var/folders/77/05l3f4755g34m9yb1kt19stm0000gn/T/ipykernel_41131/295811338.py:16: FutureWarning: The behavior of DataFrame concatenation with empty or all-NA entries is deprecated. In a future version, this will no longer exclude empty or all-NA columns when determining the result dtypes. To retain the old behavior, exclude the relevant entries before the concat operation.\n",
      "  df_target.loc[len(df_target)] = [ticker, ratio_ticker]\n",
      "BROGW: Period '1mo' is invalid, must be one of ['1d', '5d']\n",
      "BROGW: Period '1mo' is invalid, must be one of ['1d', '5d']\n",
      "BROGW: Period '1mo' is invalid, must be one of ['1d', '5d']\n",
      "BROGW: Period '1mo' is invalid, must be one of ['1d', '5d']\n",
      "BROGW: Period '1mo' is invalid, must be one of ['1d', '5d']\n",
      "BROGW: Period '1mo' is invalid, must be one of ['1d', '5d']\n",
      "BROGW: Period '1mo' is invalid, must be one of ['1d', '5d']\n",
      "BROGW: Period '1mo' is invalid, must be one of ['1d', '5d']\n",
      "/var/folders/77/05l3f4755g34m9yb1kt19stm0000gn/T/ipykernel_41131/295811338.py:16: FutureWarning: The behavior of DataFrame concatenation with empty or all-NA entries is deprecated. In a future version, this will no longer exclude empty or all-NA columns when determining the result dtypes. To retain the old behavior, exclude the relevant entries before the concat operation.\n",
      "  df_target.loc[len(df_target)] = [ticker, ratio_ticker]\n",
      "BRSHW: Period '1mo' is invalid, must be one of ['1d', '5d']\n",
      "BRSHW: Period '1mo' is invalid, must be one of ['1d', '5d']\n",
      "BRSHW: Period '1mo' is invalid, must be one of ['1d', '5d']\n",
      "BRSHW: Period '1mo' is invalid, must be one of ['1d', '5d']\n",
      "BRSHW: Period '1mo' is invalid, must be one of ['1d', '5d']\n",
      "BRSHW: Period '1mo' is invalid, must be one of ['1d', '5d']\n",
      "BRSHW: Period '1mo' is invalid, must be one of ['1d', '5d']\n",
      "BRSHW: Period '1mo' is invalid, must be one of ['1d', '5d']\n",
      "/var/folders/77/05l3f4755g34m9yb1kt19stm0000gn/T/ipykernel_41131/295811338.py:16: FutureWarning: The behavior of DataFrame concatenation with empty or all-NA entries is deprecated. In a future version, this will no longer exclude empty or all-NA columns when determining the result dtypes. To retain the old behavior, exclude the relevant entries before the concat operation.\n",
      "  df_target.loc[len(df_target)] = [ticker, ratio_ticker]\n",
      "BTCTW: Period '1mo' is invalid, must be one of ['1d', '5d']\n",
      "BTCTW: Period '1mo' is invalid, must be one of ['1d', '5d']\n",
      "BTCTW: Period '1mo' is invalid, must be one of ['1d', '5d']\n",
      "BTCTW: Period '1mo' is invalid, must be one of ['1d', '5d']\n",
      "BTCTW: Period '1mo' is invalid, must be one of ['1d', '5d']\n",
      "BTCTW: Period '1mo' is invalid, must be one of ['1d', '5d']\n",
      "BTCTW: Period '1mo' is invalid, must be one of ['1d', '5d']\n",
      "BTCTW: Period '1mo' is invalid, must be one of ['1d', '5d']\n",
      "/var/folders/77/05l3f4755g34m9yb1kt19stm0000gn/T/ipykernel_41131/295811338.py:16: FutureWarning: The behavior of DataFrame concatenation with empty or all-NA entries is deprecated. In a future version, this will no longer exclude empty or all-NA columns when determining the result dtypes. To retain the old behavior, exclude the relevant entries before the concat operation.\n",
      "  df_target.loc[len(df_target)] = [ticker, ratio_ticker]\n",
      "BTMWW: Period '1mo' is invalid, must be one of ['1d', '5d']\n",
      "BTMWW: Period '1mo' is invalid, must be one of ['1d', '5d']\n",
      "BTMWW: Period '1mo' is invalid, must be one of ['1d', '5d']\n",
      "BTMWW: Period '1mo' is invalid, must be one of ['1d', '5d']\n",
      "BTMWW: Period '1mo' is invalid, must be one of ['1d', '5d']\n",
      "BTMWW: Period '1mo' is invalid, must be one of ['1d', '5d']\n",
      "BTMWW: Period '1mo' is invalid, must be one of ['1d', '5d']\n",
      "BTMWW: Period '1mo' is invalid, must be one of ['1d', '5d']\n",
      "/var/folders/77/05l3f4755g34m9yb1kt19stm0000gn/T/ipykernel_41131/295811338.py:16: FutureWarning: The behavior of DataFrame concatenation with empty or all-NA entries is deprecated. In a future version, this will no longer exclude empty or all-NA columns when determining the result dtypes. To retain the old behavior, exclude the relevant entries before the concat operation.\n",
      "  df_target.loc[len(df_target)] = [ticker, ratio_ticker]\n",
      "BTOC: Data doesn't exist for startDate = 1684296000, endDate = 1684900800\n",
      "BTOC: Data doesn't exist for startDate = 1684296000, endDate = 1684382400\n",
      "BTOC: Data doesn't exist for startDate = 1684382400, endDate = 1684468800\n",
      "BTOC: Data doesn't exist for startDate = 1684468800, endDate = 1684555200\n",
      "BTOC: Data doesn't exist for startDate = 1684555200, endDate = 1684641600\n",
      "BTOC: Data doesn't exist for startDate = 1684641600, endDate = 1684728000\n",
      "BTOC: Data doesn't exist for startDate = 1684728000, endDate = 1684814400\n",
      "BTOC: Data doesn't exist for startDate = 1684814400, endDate = 1684900800\n",
      "/var/folders/77/05l3f4755g34m9yb1kt19stm0000gn/T/ipykernel_41131/295811338.py:16: FutureWarning: The behavior of DataFrame concatenation with empty or all-NA entries is deprecated. In a future version, this will no longer exclude empty or all-NA columns when determining the result dtypes. To retain the old behavior, exclude the relevant entries before the concat operation.\n",
      "  df_target.loc[len(df_target)] = [ticker, ratio_ticker]\n"
     ]
    },
    {
     "name": "stdout",
     "output_type": "stream",
     "text": [
      "get_stock_value_ratio : Error processing ticker BTOC: unsupported operand type(s) for /: 'float' and 'NoneType'\n"
     ]
    },
    {
     "name": "stderr",
     "output_type": "stream",
     "text": [
      "BTSG: Data doesn't exist for startDate = 1684296000, endDate = 1684900800\n",
      "BTSG: Data doesn't exist for startDate = 1684296000, endDate = 1684382400\n",
      "BTSG: Data doesn't exist for startDate = 1684382400, endDate = 1684468800\n",
      "BTSG: Data doesn't exist for startDate = 1684468800, endDate = 1684555200\n",
      "BTSG: Data doesn't exist for startDate = 1684555200, endDate = 1684641600\n",
      "BTSG: Data doesn't exist for startDate = 1684641600, endDate = 1684728000\n",
      "BTSG: Data doesn't exist for startDate = 1684728000, endDate = 1684814400\n",
      "BTSG: Data doesn't exist for startDate = 1684814400, endDate = 1684900800\n",
      "/var/folders/77/05l3f4755g34m9yb1kt19stm0000gn/T/ipykernel_41131/295811338.py:16: FutureWarning: The behavior of DataFrame concatenation with empty or all-NA entries is deprecated. In a future version, this will no longer exclude empty or all-NA columns when determining the result dtypes. To retain the old behavior, exclude the relevant entries before the concat operation.\n",
      "  df_target.loc[len(df_target)] = [ticker, ratio_ticker]\n"
     ]
    },
    {
     "name": "stdout",
     "output_type": "stream",
     "text": [
      "get_stock_value_ratio : Error processing ticker BTSG: unsupported operand type(s) for /: 'float' and 'NoneType'\n"
     ]
    },
    {
     "name": "stderr",
     "output_type": "stream",
     "text": [
      "BTSGU: Data doesn't exist for startDate = 1684296000, endDate = 1684900800\n",
      "BTSGU: Data doesn't exist for startDate = 1684296000, endDate = 1684382400\n",
      "BTSGU: Data doesn't exist for startDate = 1684382400, endDate = 1684468800\n",
      "BTSGU: Data doesn't exist for startDate = 1684468800, endDate = 1684555200\n",
      "BTSGU: Data doesn't exist for startDate = 1684555200, endDate = 1684641600\n",
      "BTSGU: Data doesn't exist for startDate = 1684641600, endDate = 1684728000\n",
      "BTSGU: Data doesn't exist for startDate = 1684728000, endDate = 1684814400\n",
      "BTSGU: Data doesn't exist for startDate = 1684814400, endDate = 1684900800\n",
      "/var/folders/77/05l3f4755g34m9yb1kt19stm0000gn/T/ipykernel_41131/295811338.py:16: FutureWarning: The behavior of DataFrame concatenation with empty or all-NA entries is deprecated. In a future version, this will no longer exclude empty or all-NA columns when determining the result dtypes. To retain the old behavior, exclude the relevant entries before the concat operation.\n",
      "  df_target.loc[len(df_target)] = [ticker, ratio_ticker]\n"
     ]
    },
    {
     "name": "stdout",
     "output_type": "stream",
     "text": [
      "get_stock_value_ratio : Error processing ticker BTSGU: unsupported operand type(s) for /: 'float' and 'NoneType'\n"
     ]
    },
    {
     "name": "stderr",
     "output_type": "stream",
     "text": [
      "BWAQW: Period '1mo' is invalid, must be one of ['1d', '5d']\n",
      "BWAQW: Period '1mo' is invalid, must be one of ['1d', '5d']\n",
      "BWAQW: Period '1mo' is invalid, must be one of ['1d', '5d']\n",
      "BWAQW: Period '1mo' is invalid, must be one of ['1d', '5d']\n",
      "BWAQW: Period '1mo' is invalid, must be one of ['1d', '5d']\n",
      "BWAQW: Period '1mo' is invalid, must be one of ['1d', '5d']\n",
      "BWAQW: Period '1mo' is invalid, must be one of ['1d', '5d']\n",
      "BWAQW: Period '1mo' is invalid, must be one of ['1d', '5d']\n",
      "/var/folders/77/05l3f4755g34m9yb1kt19stm0000gn/T/ipykernel_41131/295811338.py:16: FutureWarning: The behavior of DataFrame concatenation with empty or all-NA entries is deprecated. In a future version, this will no longer exclude empty or all-NA columns when determining the result dtypes. To retain the old behavior, exclude the relevant entries before the concat operation.\n",
      "  df_target.loc[len(df_target)] = [ticker, ratio_ticker]\n",
      "BYNOW: Period '1mo' is invalid, must be one of ['1d', '5d']\n",
      "BYNOW: Period '1mo' is invalid, must be one of ['1d', '5d']\n",
      "BYNOW: Period '1mo' is invalid, must be one of ['1d', '5d']\n",
      "BYNOW: Period '1mo' is invalid, must be one of ['1d', '5d']\n",
      "BYNOW: Period '1mo' is invalid, must be one of ['1d', '5d']\n",
      "BYNOW: Period '1mo' is invalid, must be one of ['1d', '5d']\n",
      "BYNOW: Period '1mo' is invalid, must be one of ['1d', '5d']\n",
      "BYNOW: Period '1mo' is invalid, must be one of ['1d', '5d']\n",
      "/var/folders/77/05l3f4755g34m9yb1kt19stm0000gn/T/ipykernel_41131/295811338.py:16: FutureWarning: The behavior of DataFrame concatenation with empty or all-NA entries is deprecated. In a future version, this will no longer exclude empty or all-NA columns when determining the result dtypes. To retain the old behavior, exclude the relevant entries before the concat operation.\n",
      "  df_target.loc[len(df_target)] = [ticker, ratio_ticker]\n",
      "BZFDW: Period '1mo' is invalid, must be one of ['1d', '5d']\n",
      "BZFDW: Period '1mo' is invalid, must be one of ['1d', '5d']\n",
      "BZFDW: Period '1mo' is invalid, must be one of ['1d', '5d']\n",
      "BZFDW: Period '1mo' is invalid, must be one of ['1d', '5d']\n",
      "BZFDW: Period '1mo' is invalid, must be one of ['1d', '5d']\n",
      "BZFDW: Period '1mo' is invalid, must be one of ['1d', '5d']\n",
      "BZFDW: Period '1mo' is invalid, must be one of ['1d', '5d']\n",
      "BZFDW: Period '1mo' is invalid, must be one of ['1d', '5d']\n",
      "/var/folders/77/05l3f4755g34m9yb1kt19stm0000gn/T/ipykernel_41131/295811338.py:16: FutureWarning: The behavior of DataFrame concatenation with empty or all-NA entries is deprecated. In a future version, this will no longer exclude empty or all-NA columns when determining the result dtypes. To retain the old behavior, exclude the relevant entries before the concat operation.\n",
      "  df_target.loc[len(df_target)] = [ticker, ratio_ticker]\n",
      "CALC: Data doesn't exist for startDate = 1684296000, endDate = 1684900800\n",
      "CALC: Data doesn't exist for startDate = 1684296000, endDate = 1684382400\n",
      "CALC: Data doesn't exist for startDate = 1684382400, endDate = 1684468800\n",
      "CALC: Data doesn't exist for startDate = 1684468800, endDate = 1684555200\n",
      "CALC: Data doesn't exist for startDate = 1684555200, endDate = 1684641600\n",
      "CALC: Data doesn't exist for startDate = 1684641600, endDate = 1684728000\n",
      "CALC: Data doesn't exist for startDate = 1684728000, endDate = 1684814400\n",
      "CALC: Data doesn't exist for startDate = 1684814400, endDate = 1684900800\n",
      "/var/folders/77/05l3f4755g34m9yb1kt19stm0000gn/T/ipykernel_41131/295811338.py:16: FutureWarning: The behavior of DataFrame concatenation with empty or all-NA entries is deprecated. In a future version, this will no longer exclude empty or all-NA columns when determining the result dtypes. To retain the old behavior, exclude the relevant entries before the concat operation.\n",
      "  df_target.loc[len(df_target)] = [ticker, ratio_ticker]\n"
     ]
    },
    {
     "name": "stdout",
     "output_type": "stream",
     "text": [
      "get_stock_value_ratio : Error processing ticker CALC: unsupported operand type(s) for /: 'float' and 'NoneType'\n"
     ]
    },
    {
     "name": "stderr",
     "output_type": "stream",
     "text": [
      "CAPTW: Period '1mo' is invalid, must be one of ['1d', '5d']\n",
      "CAPTW: Period '1mo' is invalid, must be one of ['1d', '5d']\n",
      "CAPTW: Period '1mo' is invalid, must be one of ['1d', '5d']\n",
      "CAPTW: Period '1mo' is invalid, must be one of ['1d', '5d']\n",
      "CAPTW: Period '1mo' is invalid, must be one of ['1d', '5d']\n",
      "CAPTW: Period '1mo' is invalid, must be one of ['1d', '5d']\n",
      "CAPTW: Period '1mo' is invalid, must be one of ['1d', '5d']\n",
      "CAPTW: Period '1mo' is invalid, must be one of ['1d', '5d']\n",
      "/var/folders/77/05l3f4755g34m9yb1kt19stm0000gn/T/ipykernel_41131/295811338.py:16: FutureWarning: The behavior of DataFrame concatenation with empty or all-NA entries is deprecated. In a future version, this will no longer exclude empty or all-NA columns when determining the result dtypes. To retain the old behavior, exclude the relevant entries before the concat operation.\n",
      "  df_target.loc[len(df_target)] = [ticker, ratio_ticker]\n",
      "CART: Data doesn't exist for startDate = 1684296000, endDate = 1684900800\n",
      "CART: Data doesn't exist for startDate = 1684296000, endDate = 1684382400\n",
      "CART: Data doesn't exist for startDate = 1684382400, endDate = 1684468800\n",
      "CART: Data doesn't exist for startDate = 1684468800, endDate = 1684555200\n",
      "CART: Data doesn't exist for startDate = 1684555200, endDate = 1684641600\n",
      "CART: Data doesn't exist for startDate = 1684641600, endDate = 1684728000\n",
      "CART: Data doesn't exist for startDate = 1684728000, endDate = 1684814400\n",
      "CART: Data doesn't exist for startDate = 1684814400, endDate = 1684900800\n",
      "/var/folders/77/05l3f4755g34m9yb1kt19stm0000gn/T/ipykernel_41131/295811338.py:16: FutureWarning: The behavior of DataFrame concatenation with empty or all-NA entries is deprecated. In a future version, this will no longer exclude empty or all-NA columns when determining the result dtypes. To retain the old behavior, exclude the relevant entries before the concat operation.\n",
      "  df_target.loc[len(df_target)] = [ticker, ratio_ticker]\n"
     ]
    },
    {
     "name": "stdout",
     "output_type": "stream",
     "text": [
      "get_stock_value_ratio : Error processing ticker CART: unsupported operand type(s) for /: 'float' and 'NoneType'\n"
     ]
    },
    {
     "name": "stderr",
     "output_type": "stream",
     "text": [
      "CAVA: Data doesn't exist for startDate = 1684296000, endDate = 1684900800\n",
      "CAVA: Data doesn't exist for startDate = 1684296000, endDate = 1684382400\n",
      "CAVA: Data doesn't exist for startDate = 1684382400, endDate = 1684468800\n",
      "CAVA: Data doesn't exist for startDate = 1684468800, endDate = 1684555200\n",
      "CAVA: Data doesn't exist for startDate = 1684555200, endDate = 1684641600\n",
      "CAVA: Data doesn't exist for startDate = 1684641600, endDate = 1684728000\n",
      "CAVA: Data doesn't exist for startDate = 1684728000, endDate = 1684814400\n",
      "CAVA: Data doesn't exist for startDate = 1684814400, endDate = 1684900800\n",
      "/var/folders/77/05l3f4755g34m9yb1kt19stm0000gn/T/ipykernel_41131/295811338.py:16: FutureWarning: The behavior of DataFrame concatenation with empty or all-NA entries is deprecated. In a future version, this will no longer exclude empty or all-NA columns when determining the result dtypes. To retain the old behavior, exclude the relevant entries before the concat operation.\n",
      "  df_target.loc[len(df_target)] = [ticker, ratio_ticker]\n"
     ]
    },
    {
     "name": "stdout",
     "output_type": "stream",
     "text": [
      "get_stock_value_ratio : Error processing ticker CAVA: unsupported operand type(s) for /: 'float' and 'NoneType'\n"
     ]
    },
    {
     "name": "stderr",
     "output_type": "stream",
     "text": [
      "CCG: Data doesn't exist for startDate = 1684296000, endDate = 1684900800\n",
      "CCG: Data doesn't exist for startDate = 1684296000, endDate = 1684382400\n",
      "CCG: Data doesn't exist for startDate = 1684382400, endDate = 1684468800\n",
      "CCG: Data doesn't exist for startDate = 1684468800, endDate = 1684555200\n",
      "CCG: Data doesn't exist for startDate = 1684555200, endDate = 1684641600\n",
      "CCG: Data doesn't exist for startDate = 1684641600, endDate = 1684728000\n",
      "CCG: Data doesn't exist for startDate = 1684728000, endDate = 1684814400\n",
      "CCG: Data doesn't exist for startDate = 1684814400, endDate = 1684900800\n",
      "/var/folders/77/05l3f4755g34m9yb1kt19stm0000gn/T/ipykernel_41131/295811338.py:16: FutureWarning: The behavior of DataFrame concatenation with empty or all-NA entries is deprecated. In a future version, this will no longer exclude empty or all-NA columns when determining the result dtypes. To retain the old behavior, exclude the relevant entries before the concat operation.\n",
      "  df_target.loc[len(df_target)] = [ticker, ratio_ticker]\n"
     ]
    },
    {
     "name": "stdout",
     "output_type": "stream",
     "text": [
      "get_stock_value_ratio : Error processing ticker CCG: unsupported operand type(s) for /: 'float' and 'NoneType'\n"
     ]
    },
    {
     "name": "stderr",
     "output_type": "stream",
     "text": [
      "CCGWW: Data doesn't exist for startDate = 1684296000, endDate = 1684900800\n",
      "CCGWW: Data doesn't exist for startDate = 1684296000, endDate = 1684382400\n",
      "CCGWW: Data doesn't exist for startDate = 1684382400, endDate = 1684468800\n",
      "CCGWW: Data doesn't exist for startDate = 1684468800, endDate = 1684555200\n",
      "CCGWW: Data doesn't exist for startDate = 1684555200, endDate = 1684641600\n",
      "CCGWW: Data doesn't exist for startDate = 1684641600, endDate = 1684728000\n",
      "CCGWW: Data doesn't exist for startDate = 1684728000, endDate = 1684814400\n",
      "CCGWW: Data doesn't exist for startDate = 1684814400, endDate = 1684900800\n",
      "/var/folders/77/05l3f4755g34m9yb1kt19stm0000gn/T/ipykernel_41131/295811338.py:16: FutureWarning: The behavior of DataFrame concatenation with empty or all-NA entries is deprecated. In a future version, this will no longer exclude empty or all-NA columns when determining the result dtypes. To retain the old behavior, exclude the relevant entries before the concat operation.\n",
      "  df_target.loc[len(df_target)] = [ticker, ratio_ticker]\n"
     ]
    },
    {
     "name": "stdout",
     "output_type": "stream",
     "text": [
      "get_stock_value_ratio : Error processing ticker CCGWW: unsupported operand type(s) for /: 'float' and 'NoneType'\n"
     ]
    },
    {
     "name": "stderr",
     "output_type": "stream",
     "text": [
      "CCIA: Data doesn't exist for startDate = 1684296000, endDate = 1684900800\n",
      "CCIA: Data doesn't exist for startDate = 1684296000, endDate = 1684382400\n",
      "CCIA: Data doesn't exist for startDate = 1684382400, endDate = 1684468800\n",
      "CCIA: Data doesn't exist for startDate = 1684468800, endDate = 1684555200\n",
      "CCIA: Data doesn't exist for startDate = 1684555200, endDate = 1684641600\n",
      "CCIA: Data doesn't exist for startDate = 1684641600, endDate = 1684728000\n",
      "CCIA: Data doesn't exist for startDate = 1684728000, endDate = 1684814400\n",
      "CCIA: Data doesn't exist for startDate = 1684814400, endDate = 1684900800\n",
      "/var/folders/77/05l3f4755g34m9yb1kt19stm0000gn/T/ipykernel_41131/295811338.py:16: FutureWarning: The behavior of DataFrame concatenation with empty or all-NA entries is deprecated. In a future version, this will no longer exclude empty or all-NA columns when determining the result dtypes. To retain the old behavior, exclude the relevant entries before the concat operation.\n",
      "  df_target.loc[len(df_target)] = [ticker, ratio_ticker]\n"
     ]
    },
    {
     "name": "stdout",
     "output_type": "stream",
     "text": [
      "get_stock_value_ratio : Error processing ticker CCIA: unsupported operand type(s) for /: 'float' and 'NoneType'\n"
     ]
    },
    {
     "name": "stderr",
     "output_type": "stream",
     "text": [
      "CCTG: Data doesn't exist for startDate = 1684296000, endDate = 1684900800\n",
      "CCTG: Data doesn't exist for startDate = 1684296000, endDate = 1684382400\n",
      "CCTG: Data doesn't exist for startDate = 1684382400, endDate = 1684468800\n",
      "CCTG: Data doesn't exist for startDate = 1684468800, endDate = 1684555200\n",
      "CCTG: Data doesn't exist for startDate = 1684555200, endDate = 1684641600\n",
      "CCTG: Data doesn't exist for startDate = 1684641600, endDate = 1684728000\n",
      "CCTG: Data doesn't exist for startDate = 1684728000, endDate = 1684814400\n",
      "CCTG: Data doesn't exist for startDate = 1684814400, endDate = 1684900800\n",
      "/var/folders/77/05l3f4755g34m9yb1kt19stm0000gn/T/ipykernel_41131/295811338.py:16: FutureWarning: The behavior of DataFrame concatenation with empty or all-NA entries is deprecated. In a future version, this will no longer exclude empty or all-NA columns when determining the result dtypes. To retain the old behavior, exclude the relevant entries before the concat operation.\n",
      "  df_target.loc[len(df_target)] = [ticker, ratio_ticker]\n"
     ]
    },
    {
     "name": "stdout",
     "output_type": "stream",
     "text": [
      "get_stock_value_ratio : Error processing ticker CCTG: unsupported operand type(s) for /: 'float' and 'NoneType'\n"
     ]
    },
    {
     "name": "stderr",
     "output_type": "stream",
     "text": [
      "CCTSW: Period '1mo' is invalid, must be one of ['1d', '5d']\n",
      "CCTSW: Period '1mo' is invalid, must be one of ['1d', '5d']\n",
      "CCTSW: Period '1mo' is invalid, must be one of ['1d', '5d']\n",
      "CCTSW: Period '1mo' is invalid, must be one of ['1d', '5d']\n",
      "CCTSW: Period '1mo' is invalid, must be one of ['1d', '5d']\n",
      "CCTSW: Period '1mo' is invalid, must be one of ['1d', '5d']\n",
      "CCTSW: Period '1mo' is invalid, must be one of ['1d', '5d']\n",
      "CCTSW: Period '1mo' is invalid, must be one of ['1d', '5d']\n",
      "/var/folders/77/05l3f4755g34m9yb1kt19stm0000gn/T/ipykernel_41131/295811338.py:16: FutureWarning: The behavior of DataFrame concatenation with empty or all-NA entries is deprecated. In a future version, this will no longer exclude empty or all-NA columns when determining the result dtypes. To retain the old behavior, exclude the relevant entries before the concat operation.\n",
      "  df_target.loc[len(df_target)] = [ticker, ratio_ticker]\n",
      "CDAQW: Period '1mo' is invalid, must be one of ['1d', '5d']\n",
      "CDAQW: Period '1mo' is invalid, must be one of ['1d', '5d']\n",
      "CDAQW: Period '1mo' is invalid, must be one of ['1d', '5d']\n",
      "CDAQW: Period '1mo' is invalid, must be one of ['1d', '5d']\n",
      "CDAQW: Period '1mo' is invalid, must be one of ['1d', '5d']\n",
      "CDAQW: Period '1mo' is invalid, must be one of ['1d', '5d']\n",
      "CDAQW: Period '1mo' is invalid, must be one of ['1d', '5d']\n",
      "CDAQW: Period '1mo' is invalid, must be one of ['1d', '5d']\n",
      "/var/folders/77/05l3f4755g34m9yb1kt19stm0000gn/T/ipykernel_41131/295811338.py:16: FutureWarning: The behavior of DataFrame concatenation with empty or all-NA entries is deprecated. In a future version, this will no longer exclude empty or all-NA columns when determining the result dtypes. To retain the old behavior, exclude the relevant entries before the concat operation.\n",
      "  df_target.loc[len(df_target)] = [ticker, ratio_ticker]\n",
      "CDIOW: Period '1mo' is invalid, must be one of ['1d', '5d']\n",
      "CDIOW: Period '1mo' is invalid, must be one of ['1d', '5d']\n",
      "CDIOW: Period '1mo' is invalid, must be one of ['1d', '5d']\n",
      "CDIOW: Period '1mo' is invalid, must be one of ['1d', '5d']\n",
      "CDIOW: Period '1mo' is invalid, must be one of ['1d', '5d']\n",
      "CDIOW: Period '1mo' is invalid, must be one of ['1d', '5d']\n",
      "CDIOW: Period '1mo' is invalid, must be one of ['1d', '5d']\n",
      "CDIOW: Period '1mo' is invalid, must be one of ['1d', '5d']\n",
      "/var/folders/77/05l3f4755g34m9yb1kt19stm0000gn/T/ipykernel_41131/295811338.py:16: FutureWarning: The behavior of DataFrame concatenation with empty or all-NA entries is deprecated. In a future version, this will no longer exclude empty or all-NA columns when determining the result dtypes. To retain the old behavior, exclude the relevant entries before the concat operation.\n",
      "  df_target.loc[len(df_target)] = [ticker, ratio_ticker]\n",
      "CDLR: Data doesn't exist for startDate = 1684296000, endDate = 1684900800\n",
      "CDLR: Data doesn't exist for startDate = 1684296000, endDate = 1684382400\n",
      "CDLR: Data doesn't exist for startDate = 1684382400, endDate = 1684468800\n",
      "CDLR: Data doesn't exist for startDate = 1684468800, endDate = 1684555200\n",
      "CDLR: Data doesn't exist for startDate = 1684555200, endDate = 1684641600\n",
      "CDLR: Data doesn't exist for startDate = 1684641600, endDate = 1684728000\n",
      "CDLR: Data doesn't exist for startDate = 1684728000, endDate = 1684814400\n",
      "CDLR: Data doesn't exist for startDate = 1684814400, endDate = 1684900800\n",
      "/var/folders/77/05l3f4755g34m9yb1kt19stm0000gn/T/ipykernel_41131/295811338.py:16: FutureWarning: The behavior of DataFrame concatenation with empty or all-NA entries is deprecated. In a future version, this will no longer exclude empty or all-NA columns when determining the result dtypes. To retain the old behavior, exclude the relevant entries before the concat operation.\n",
      "  df_target.loc[len(df_target)] = [ticker, ratio_ticker]\n"
     ]
    },
    {
     "name": "stdout",
     "output_type": "stream",
     "text": [
      "get_stock_value_ratio : Error processing ticker CDLR: unsupported operand type(s) for /: 'float' and 'NoneType'\n"
     ]
    },
    {
     "name": "stderr",
     "output_type": "stream",
     "text": [
      "CDROW: Period '1mo' is invalid, must be one of ['1d', '5d']\n",
      "CDROW: Period '1mo' is invalid, must be one of ['1d', '5d']\n",
      "CDROW: Period '1mo' is invalid, must be one of ['1d', '5d']\n",
      "CDROW: Period '1mo' is invalid, must be one of ['1d', '5d']\n",
      "CDROW: Period '1mo' is invalid, must be one of ['1d', '5d']\n",
      "CDROW: Period '1mo' is invalid, must be one of ['1d', '5d']\n",
      "CDROW: Period '1mo' is invalid, must be one of ['1d', '5d']\n",
      "CDROW: Period '1mo' is invalid, must be one of ['1d', '5d']\n",
      "/var/folders/77/05l3f4755g34m9yb1kt19stm0000gn/T/ipykernel_41131/295811338.py:16: FutureWarning: The behavior of DataFrame concatenation with empty or all-NA entries is deprecated. In a future version, this will no longer exclude empty or all-NA columns when determining the result dtypes. To retain the old behavior, exclude the relevant entries before the concat operation.\n",
      "  df_target.loc[len(df_target)] = [ticker, ratio_ticker]\n",
      "CDTG: Data doesn't exist for startDate = 1684296000, endDate = 1684900800\n",
      "CDTG: Data doesn't exist for startDate = 1684296000, endDate = 1684382400\n",
      "CDTG: Data doesn't exist for startDate = 1684382400, endDate = 1684468800\n",
      "CDTG: Data doesn't exist for startDate = 1684468800, endDate = 1684555200\n",
      "CDTG: Data doesn't exist for startDate = 1684555200, endDate = 1684641600\n",
      "CDTG: Data doesn't exist for startDate = 1684641600, endDate = 1684728000\n",
      "CDTG: Data doesn't exist for startDate = 1684728000, endDate = 1684814400\n",
      "CDTG: Data doesn't exist for startDate = 1684814400, endDate = 1684900800\n",
      "/var/folders/77/05l3f4755g34m9yb1kt19stm0000gn/T/ipykernel_41131/295811338.py:16: FutureWarning: The behavior of DataFrame concatenation with empty or all-NA entries is deprecated. In a future version, this will no longer exclude empty or all-NA columns when determining the result dtypes. To retain the old behavior, exclude the relevant entries before the concat operation.\n",
      "  df_target.loc[len(df_target)] = [ticker, ratio_ticker]\n",
      "CDTTW: Period '1mo' is invalid, must be one of ['1d', '5d']\n",
      "CDTTW: Period '1mo' is invalid, must be one of ['1d', '5d']\n"
     ]
    },
    {
     "name": "stdout",
     "output_type": "stream",
     "text": [
      "get_stock_value_ratio : Error processing ticker CDTG: unsupported operand type(s) for /: 'float' and 'NoneType'\n"
     ]
    },
    {
     "name": "stderr",
     "output_type": "stream",
     "text": [
      "CDTTW: Period '1mo' is invalid, must be one of ['1d', '5d']\n",
      "CDTTW: Period '1mo' is invalid, must be one of ['1d', '5d']\n",
      "CDTTW: Period '1mo' is invalid, must be one of ['1d', '5d']\n",
      "CDTTW: Period '1mo' is invalid, must be one of ['1d', '5d']\n",
      "CDTTW: Period '1mo' is invalid, must be one of ['1d', '5d']\n",
      "CDTTW: Period '1mo' is invalid, must be one of ['1d', '5d']\n",
      "/var/folders/77/05l3f4755g34m9yb1kt19stm0000gn/T/ipykernel_41131/295811338.py:16: FutureWarning: The behavior of DataFrame concatenation with empty or all-NA entries is deprecated. In a future version, this will no longer exclude empty or all-NA columns when determining the result dtypes. To retain the old behavior, exclude the relevant entries before the concat operation.\n",
      "  df_target.loc[len(df_target)] = [ticker, ratio_ticker]\n",
      "CELUW: Period '1mo' is invalid, must be one of ['1d', '5d']\n",
      "CELUW: Period '1mo' is invalid, must be one of ['1d', '5d']\n",
      "CELUW: Period '1mo' is invalid, must be one of ['1d', '5d']\n",
      "CELUW: Period '1mo' is invalid, must be one of ['1d', '5d']\n",
      "CELUW: Period '1mo' is invalid, must be one of ['1d', '5d']\n",
      "CELUW: Period '1mo' is invalid, must be one of ['1d', '5d']\n",
      "CELUW: Period '1mo' is invalid, must be one of ['1d', '5d']\n",
      "CELUW: Period '1mo' is invalid, must be one of ['1d', '5d']\n",
      "/var/folders/77/05l3f4755g34m9yb1kt19stm0000gn/T/ipykernel_41131/295811338.py:16: FutureWarning: The behavior of DataFrame concatenation with empty or all-NA entries is deprecated. In a future version, this will no longer exclude empty or all-NA columns when determining the result dtypes. To retain the old behavior, exclude the relevant entries before the concat operation.\n",
      "  df_target.loc[len(df_target)] = [ticker, ratio_ticker]\n",
      "CEROW: Period '1mo' is invalid, must be one of ['1d', '5d']\n",
      "CEROW: Period '1mo' is invalid, must be one of ['1d', '5d']\n",
      "CEROW: Period '1mo' is invalid, must be one of ['1d', '5d']\n",
      "CEROW: Period '1mo' is invalid, must be one of ['1d', '5d']\n",
      "CEROW: Period '1mo' is invalid, must be one of ['1d', '5d']\n",
      "CEROW: Period '1mo' is invalid, must be one of ['1d', '5d']\n",
      "CEROW: Period '1mo' is invalid, must be one of ['1d', '5d']\n",
      "CEROW: Period '1mo' is invalid, must be one of ['1d', '5d']\n",
      "/var/folders/77/05l3f4755g34m9yb1kt19stm0000gn/T/ipykernel_41131/295811338.py:16: FutureWarning: The behavior of DataFrame concatenation with empty or all-NA entries is deprecated. In a future version, this will no longer exclude empty or all-NA columns when determining the result dtypes. To retain the old behavior, exclude the relevant entries before the concat operation.\n",
      "  df_target.loc[len(df_target)] = [ticker, ratio_ticker]\n",
      "CGON: Data doesn't exist for startDate = 1684296000, endDate = 1684900800\n",
      "CGON: Data doesn't exist for startDate = 1684296000, endDate = 1684382400\n",
      "CGON: Data doesn't exist for startDate = 1684382400, endDate = 1684468800\n",
      "CGON: Data doesn't exist for startDate = 1684468800, endDate = 1684555200\n",
      "CGON: Data doesn't exist for startDate = 1684555200, endDate = 1684641600\n",
      "CGON: Data doesn't exist for startDate = 1684641600, endDate = 1684728000\n",
      "CGON: Data doesn't exist for startDate = 1684728000, endDate = 1684814400\n",
      "CGON: Data doesn't exist for startDate = 1684814400, endDate = 1684900800\n",
      "/var/folders/77/05l3f4755g34m9yb1kt19stm0000gn/T/ipykernel_41131/295811338.py:16: FutureWarning: The behavior of DataFrame concatenation with empty or all-NA entries is deprecated. In a future version, this will no longer exclude empty or all-NA columns when determining the result dtypes. To retain the old behavior, exclude the relevant entries before the concat operation.\n",
      "  df_target.loc[len(df_target)] = [ticker, ratio_ticker]\n"
     ]
    },
    {
     "name": "stdout",
     "output_type": "stream",
     "text": [
      "get_stock_value_ratio : Error processing ticker CGON: unsupported operand type(s) for /: 'float' and 'NoneType'\n"
     ]
    },
    {
     "name": "stderr",
     "output_type": "stream",
     "text": [
      "CHRO: Data doesn't exist for startDate = 1684296000, endDate = 1684900800\n",
      "CHRO: Data doesn't exist for startDate = 1684296000, endDate = 1684382400\n",
      "CHRO: Data doesn't exist for startDate = 1684382400, endDate = 1684468800\n",
      "CHRO: Data doesn't exist for startDate = 1684468800, endDate = 1684555200\n",
      "CHRO: Data doesn't exist for startDate = 1684555200, endDate = 1684641600\n",
      "CHRO: Data doesn't exist for startDate = 1684641600, endDate = 1684728000\n",
      "CHRO: Data doesn't exist for startDate = 1684728000, endDate = 1684814400\n",
      "CHRO: Data doesn't exist for startDate = 1684814400, endDate = 1684900800\n",
      "/var/folders/77/05l3f4755g34m9yb1kt19stm0000gn/T/ipykernel_41131/295811338.py:16: FutureWarning: The behavior of DataFrame concatenation with empty or all-NA entries is deprecated. In a future version, this will no longer exclude empty or all-NA columns when determining the result dtypes. To retain the old behavior, exclude the relevant entries before the concat operation.\n",
      "  df_target.loc[len(df_target)] = [ticker, ratio_ticker]\n"
     ]
    },
    {
     "name": "stdout",
     "output_type": "stream",
     "text": [
      "get_stock_value_ratio : Error processing ticker CHRO: unsupported operand type(s) for /: 'float' and 'NoneType'\n"
     ]
    },
    {
     "name": "stderr",
     "output_type": "stream",
     "text": [
      "CINGW: Period '1mo' is invalid, must be one of ['1d', '5d']\n",
      "CINGW: Period '1mo' is invalid, must be one of ['1d', '5d']\n",
      "CINGW: Period '1mo' is invalid, must be one of ['1d', '5d']\n",
      "CINGW: Period '1mo' is invalid, must be one of ['1d', '5d']\n",
      "CINGW: Period '1mo' is invalid, must be one of ['1d', '5d']\n",
      "CINGW: Period '1mo' is invalid, must be one of ['1d', '5d']\n",
      "CINGW: Period '1mo' is invalid, must be one of ['1d', '5d']\n",
      "CINGW: Period '1mo' is invalid, must be one of ['1d', '5d']\n",
      "/var/folders/77/05l3f4755g34m9yb1kt19stm0000gn/T/ipykernel_41131/295811338.py:16: FutureWarning: The behavior of DataFrame concatenation with empty or all-NA entries is deprecated. In a future version, this will no longer exclude empty or all-NA columns when determining the result dtypes. To retain the old behavior, exclude the relevant entries before the concat operation.\n",
      "  df_target.loc[len(df_target)] = [ticker, ratio_ticker]\n",
      "CISS: Data doesn't exist for startDate = 1684296000, endDate = 1684900800\n",
      "CISS: Data doesn't exist for startDate = 1684296000, endDate = 1684382400\n",
      "CISS: Data doesn't exist for startDate = 1684382400, endDate = 1684468800\n",
      "CISS: Data doesn't exist for startDate = 1684468800, endDate = 1684555200\n",
      "CISS: Data doesn't exist for startDate = 1684555200, endDate = 1684641600\n",
      "CISS: Data doesn't exist for startDate = 1684641600, endDate = 1684728000\n",
      "CISS: Data doesn't exist for startDate = 1684728000, endDate = 1684814400\n",
      "CISS: Data doesn't exist for startDate = 1684814400, endDate = 1684900800\n",
      "/var/folders/77/05l3f4755g34m9yb1kt19stm0000gn/T/ipykernel_41131/295811338.py:16: FutureWarning: The behavior of DataFrame concatenation with empty or all-NA entries is deprecated. In a future version, this will no longer exclude empty or all-NA columns when determining the result dtypes. To retain the old behavior, exclude the relevant entries before the concat operation.\n",
      "  df_target.loc[len(df_target)] = [ticker, ratio_ticker]\n"
     ]
    },
    {
     "name": "stdout",
     "output_type": "stream",
     "text": [
      "get_stock_value_ratio : Error processing ticker CISS: unsupported operand type(s) for /: 'float' and 'NoneType'\n"
     ]
    },
    {
     "name": "stderr",
     "output_type": "stream",
     "text": [
      "CITEW: Period '1mo' is invalid, must be one of ['1d', '5d']\n",
      "CITEW: Period '1mo' is invalid, must be one of ['1d', '5d']\n",
      "CITEW: Period '1mo' is invalid, must be one of ['1d', '5d']\n",
      "CITEW: Period '1mo' is invalid, must be one of ['1d', '5d']\n",
      "CITEW: Period '1mo' is invalid, must be one of ['1d', '5d']\n",
      "CITEW: Period '1mo' is invalid, must be one of ['1d', '5d']\n",
      "CITEW: Period '1mo' is invalid, must be one of ['1d', '5d']\n",
      "CITEW: Period '1mo' is invalid, must be one of ['1d', '5d']\n",
      "/var/folders/77/05l3f4755g34m9yb1kt19stm0000gn/T/ipykernel_41131/295811338.py:16: FutureWarning: The behavior of DataFrame concatenation with empty or all-NA entries is deprecated. In a future version, this will no longer exclude empty or all-NA columns when determining the result dtypes. To retain the old behavior, exclude the relevant entries before the concat operation.\n",
      "  df_target.loc[len(df_target)] = [ticker, ratio_ticker]\n",
      "CLBTW: Period '1mo' is invalid, must be one of ['1d', '5d']\n",
      "CLBTW: Period '1mo' is invalid, must be one of ['1d', '5d']\n",
      "CLBTW: Period '1mo' is invalid, must be one of ['1d', '5d']\n",
      "CLBTW: Period '1mo' is invalid, must be one of ['1d', '5d']\n",
      "CLBTW: Period '1mo' is invalid, must be one of ['1d', '5d']\n",
      "CLBTW: Period '1mo' is invalid, must be one of ['1d', '5d']\n",
      "CLBTW: Period '1mo' is invalid, must be one of ['1d', '5d']\n",
      "CLBTW: Period '1mo' is invalid, must be one of ['1d', '5d']\n",
      "/var/folders/77/05l3f4755g34m9yb1kt19stm0000gn/T/ipykernel_41131/295811338.py:16: FutureWarning: The behavior of DataFrame concatenation with empty or all-NA entries is deprecated. In a future version, this will no longer exclude empty or all-NA columns when determining the result dtypes. To retain the old behavior, exclude the relevant entries before the concat operation.\n",
      "  df_target.loc[len(df_target)] = [ticker, ratio_ticker]\n",
      "CLNNW: Period '1mo' is invalid, must be one of ['1d', '5d']\n",
      "CLNNW: Period '1mo' is invalid, must be one of ['1d', '5d']\n",
      "CLNNW: Period '1mo' is invalid, must be one of ['1d', '5d']\n",
      "CLNNW: Period '1mo' is invalid, must be one of ['1d', '5d']\n",
      "CLNNW: Period '1mo' is invalid, must be one of ['1d', '5d']\n",
      "CLNNW: Period '1mo' is invalid, must be one of ['1d', '5d']\n",
      "CLNNW: Period '1mo' is invalid, must be one of ['1d', '5d']\n",
      "CLNNW: Period '1mo' is invalid, must be one of ['1d', '5d']\n",
      "/var/folders/77/05l3f4755g34m9yb1kt19stm0000gn/T/ipykernel_41131/295811338.py:16: FutureWarning: The behavior of DataFrame concatenation with empty or all-NA entries is deprecated. In a future version, this will no longer exclude empty or all-NA columns when determining the result dtypes. To retain the old behavior, exclude the relevant entries before the concat operation.\n",
      "  df_target.loc[len(df_target)] = [ticker, ratio_ticker]\n",
      "CLRCW: Period '1mo' is invalid, must be one of ['1d', '5d']\n",
      "CLRCW: Period '1mo' is invalid, must be one of ['1d', '5d']\n",
      "CLRCW: Period '1mo' is invalid, must be one of ['1d', '5d']\n",
      "CLRCW: Period '1mo' is invalid, must be one of ['1d', '5d']\n",
      "CLRCW: Period '1mo' is invalid, must be one of ['1d', '5d']\n",
      "CLRCW: Period '1mo' is invalid, must be one of ['1d', '5d']\n",
      "CLRCW: Period '1mo' is invalid, must be one of ['1d', '5d']\n",
      "CLRCW: Period '1mo' is invalid, must be one of ['1d', '5d']\n",
      "/var/folders/77/05l3f4755g34m9yb1kt19stm0000gn/T/ipykernel_41131/295811338.py:16: FutureWarning: The behavior of DataFrame concatenation with empty or all-NA entries is deprecated. In a future version, this will no longer exclude empty or all-NA columns when determining the result dtypes. To retain the old behavior, exclude the relevant entries before the concat operation.\n",
      "  df_target.loc[len(df_target)] = [ticker, ratio_ticker]\n",
      "CMAXW: Period '1mo' is invalid, must be one of ['1d', '5d']\n",
      "CMAXW: Period '1mo' is invalid, must be one of ['1d', '5d']\n",
      "CMAXW: Period '1mo' is invalid, must be one of ['1d', '5d']\n",
      "CMAXW: Period '1mo' is invalid, must be one of ['1d', '5d']\n",
      "CMAXW: Period '1mo' is invalid, must be one of ['1d', '5d']\n",
      "CMAXW: Period '1mo' is invalid, must be one of ['1d', '5d']\n",
      "CMAXW: Period '1mo' is invalid, must be one of ['1d', '5d']\n",
      "CMAXW: Period '1mo' is invalid, must be one of ['1d', '5d']\n",
      "/var/folders/77/05l3f4755g34m9yb1kt19stm0000gn/T/ipykernel_41131/295811338.py:16: FutureWarning: The behavior of DataFrame concatenation with empty or all-NA entries is deprecated. In a future version, this will no longer exclude empty or all-NA columns when determining the result dtypes. To retain the old behavior, exclude the relevant entries before the concat operation.\n",
      "  df_target.loc[len(df_target)] = [ticker, ratio_ticker]\n",
      "CMCAW: Period '1mo' is invalid, must be one of ['1d', '5d']\n",
      "CMCAW: Period '1mo' is invalid, must be one of ['1d', '5d']\n",
      "CMCAW: Period '1mo' is invalid, must be one of ['1d', '5d']\n",
      "CMCAW: Period '1mo' is invalid, must be one of ['1d', '5d']\n",
      "CMCAW: Period '1mo' is invalid, must be one of ['1d', '5d']\n",
      "CMCAW: Period '1mo' is invalid, must be one of ['1d', '5d']\n",
      "CMCAW: Period '1mo' is invalid, must be one of ['1d', '5d']\n",
      "CMCAW: Period '1mo' is invalid, must be one of ['1d', '5d']\n",
      "/var/folders/77/05l3f4755g34m9yb1kt19stm0000gn/T/ipykernel_41131/295811338.py:16: FutureWarning: The behavior of DataFrame concatenation with empty or all-NA entries is deprecated. In a future version, this will no longer exclude empty or all-NA columns when determining the result dtypes. To retain the old behavior, exclude the relevant entries before the concat operation.\n",
      "  df_target.loc[len(df_target)] = [ticker, ratio_ticker]\n",
      "CMPOW: Period '1mo' is invalid, must be one of ['1d', '5d']\n",
      "CMPOW: Period '1mo' is invalid, must be one of ['1d', '5d']\n",
      "CMPOW: Period '1mo' is invalid, must be one of ['1d', '5d']\n",
      "CMPOW: Period '1mo' is invalid, must be one of ['1d', '5d']\n",
      "CMPOW: Period '1mo' is invalid, must be one of ['1d', '5d']\n",
      "CMPOW: Period '1mo' is invalid, must be one of ['1d', '5d']\n",
      "CMPOW: Period '1mo' is invalid, must be one of ['1d', '5d']\n",
      "CMPOW: Period '1mo' is invalid, must be one of ['1d', '5d']\n",
      "/var/folders/77/05l3f4755g34m9yb1kt19stm0000gn/T/ipykernel_41131/295811338.py:16: FutureWarning: The behavior of DataFrame concatenation with empty or all-NA entries is deprecated. In a future version, this will no longer exclude empty or all-NA columns when determining the result dtypes. To retain the old behavior, exclude the relevant entries before the concat operation.\n",
      "  df_target.loc[len(df_target)] = [ticker, ratio_ticker]\n",
      "COCHW: Period '1mo' is invalid, must be one of ['1d', '5d']\n",
      "COCHW: Period '1mo' is invalid, must be one of ['1d', '5d']\n",
      "COCHW: Period '1mo' is invalid, must be one of ['1d', '5d']\n",
      "COCHW: Period '1mo' is invalid, must be one of ['1d', '5d']\n",
      "COCHW: Period '1mo' is invalid, must be one of ['1d', '5d']\n",
      "COCHW: Period '1mo' is invalid, must be one of ['1d', '5d']\n",
      "COCHW: Period '1mo' is invalid, must be one of ['1d', '5d']\n",
      "COCHW: Period '1mo' is invalid, must be one of ['1d', '5d']\n",
      "/var/folders/77/05l3f4755g34m9yb1kt19stm0000gn/T/ipykernel_41131/295811338.py:16: FutureWarning: The behavior of DataFrame concatenation with empty or all-NA entries is deprecated. In a future version, this will no longer exclude empty or all-NA columns when determining the result dtypes. To retain the old behavior, exclude the relevant entries before the concat operation.\n",
      "  df_target.loc[len(df_target)] = [ticker, ratio_ticker]\n",
      "COEPW: Period '1mo' is invalid, must be one of ['1d', '5d']\n",
      "COEPW: Period '1mo' is invalid, must be one of ['1d', '5d']\n",
      "COEPW: Period '1mo' is invalid, must be one of ['1d', '5d']\n",
      "COEPW: Period '1mo' is invalid, must be one of ['1d', '5d']\n",
      "COEPW: Period '1mo' is invalid, must be one of ['1d', '5d']\n",
      "COEPW: Period '1mo' is invalid, must be one of ['1d', '5d']\n",
      "COEPW: Period '1mo' is invalid, must be one of ['1d', '5d']\n",
      "COEPW: Period '1mo' is invalid, must be one of ['1d', '5d']\n",
      "/var/folders/77/05l3f4755g34m9yb1kt19stm0000gn/T/ipykernel_41131/295811338.py:16: FutureWarning: The behavior of DataFrame concatenation with empty or all-NA entries is deprecated. In a future version, this will no longer exclude empty or all-NA columns when determining the result dtypes. To retain the old behavior, exclude the relevant entries before the concat operation.\n",
      "  df_target.loc[len(df_target)] = [ticker, ratio_ticker]\n",
      "COOTW: Period '1mo' is invalid, must be one of ['1d', '5d']\n",
      "COOTW: Period '1mo' is invalid, must be one of ['1d', '5d']\n",
      "COOTW: Period '1mo' is invalid, must be one of ['1d', '5d']\n",
      "COOTW: Period '1mo' is invalid, must be one of ['1d', '5d']\n",
      "COOTW: Period '1mo' is invalid, must be one of ['1d', '5d']\n",
      "COOTW: Period '1mo' is invalid, must be one of ['1d', '5d']\n",
      "COOTW: Period '1mo' is invalid, must be one of ['1d', '5d']\n",
      "COOTW: Period '1mo' is invalid, must be one of ['1d', '5d']\n",
      "/var/folders/77/05l3f4755g34m9yb1kt19stm0000gn/T/ipykernel_41131/295811338.py:16: FutureWarning: The behavior of DataFrame concatenation with empty or all-NA entries is deprecated. In a future version, this will no longer exclude empty or all-NA columns when determining the result dtypes. To retain the old behavior, exclude the relevant entries before the concat operation.\n",
      "  df_target.loc[len(df_target)] = [ticker, ratio_ticker]\n",
      "CORZ: Data doesn't exist for startDate = 1684296000, endDate = 1684900800\n",
      "CORZ: Data doesn't exist for startDate = 1684296000, endDate = 1684382400\n",
      "CORZ: Data doesn't exist for startDate = 1684382400, endDate = 1684468800\n",
      "CORZ: Data doesn't exist for startDate = 1684468800, endDate = 1684555200\n",
      "CORZ: Data doesn't exist for startDate = 1684555200, endDate = 1684641600\n",
      "CORZ: Data doesn't exist for startDate = 1684641600, endDate = 1684728000\n",
      "CORZ: Data doesn't exist for startDate = 1684728000, endDate = 1684814400\n",
      "CORZ: Data doesn't exist for startDate = 1684814400, endDate = 1684900800\n",
      "/var/folders/77/05l3f4755g34m9yb1kt19stm0000gn/T/ipykernel_41131/295811338.py:16: FutureWarning: The behavior of DataFrame concatenation with empty or all-NA entries is deprecated. In a future version, this will no longer exclude empty or all-NA columns when determining the result dtypes. To retain the old behavior, exclude the relevant entries before the concat operation.\n",
      "  df_target.loc[len(df_target)] = [ticker, ratio_ticker]\n"
     ]
    },
    {
     "name": "stdout",
     "output_type": "stream",
     "text": [
      "get_stock_value_ratio : Error processing ticker CORZ: unsupported operand type(s) for /: 'float' and 'NoneType'\n"
     ]
    },
    {
     "name": "stderr",
     "output_type": "stream",
     "text": [
      "CORZW: Period '1mo' is invalid, must be one of ['1d', '5d']\n",
      "CORZW: Period '1mo' is invalid, must be one of ['1d', '5d']\n",
      "CORZW: Period '1mo' is invalid, must be one of ['1d', '5d']\n",
      "CORZW: Period '1mo' is invalid, must be one of ['1d', '5d']\n",
      "CORZW: Period '1mo' is invalid, must be one of ['1d', '5d']\n",
      "CORZW: Period '1mo' is invalid, must be one of ['1d', '5d']\n",
      "CORZW: Period '1mo' is invalid, must be one of ['1d', '5d']\n",
      "CORZW: Period '1mo' is invalid, must be one of ['1d', '5d']\n",
      "/var/folders/77/05l3f4755g34m9yb1kt19stm0000gn/T/ipykernel_41131/295811338.py:16: FutureWarning: The behavior of DataFrame concatenation with empty or all-NA entries is deprecated. In a future version, this will no longer exclude empty or all-NA columns when determining the result dtypes. To retain the old behavior, exclude the relevant entries before the concat operation.\n",
      "  df_target.loc[len(df_target)] = [ticker, ratio_ticker]\n",
      "CORZZ: Period '1mo' is invalid, must be one of ['1d', '5d']\n",
      "CORZZ: Period '1mo' is invalid, must be one of ['1d', '5d']\n",
      "CORZZ: Period '1mo' is invalid, must be one of ['1d', '5d']\n",
      "CORZZ: Period '1mo' is invalid, must be one of ['1d', '5d']\n",
      "CORZZ: Period '1mo' is invalid, must be one of ['1d', '5d']\n",
      "CORZZ: Period '1mo' is invalid, must be one of ['1d', '5d']\n",
      "CORZZ: Period '1mo' is invalid, must be one of ['1d', '5d']\n",
      "CORZZ: Period '1mo' is invalid, must be one of ['1d', '5d']\n",
      "/var/folders/77/05l3f4755g34m9yb1kt19stm0000gn/T/ipykernel_41131/295811338.py:16: FutureWarning: The behavior of DataFrame concatenation with empty or all-NA entries is deprecated. In a future version, this will no longer exclude empty or all-NA columns when determining the result dtypes. To retain the old behavior, exclude the relevant entries before the concat operation.\n",
      "  df_target.loc[len(df_target)] = [ticker, ratio_ticker]\n",
      "CPTNW: Period '1mo' is invalid, must be one of ['1d', '5d']\n",
      "CPTNW: Period '1mo' is invalid, must be one of ['1d', '5d']\n",
      "CPTNW: Period '1mo' is invalid, must be one of ['1d', '5d']\n",
      "CPTNW: Period '1mo' is invalid, must be one of ['1d', '5d']\n",
      "CPTNW: Period '1mo' is invalid, must be one of ['1d', '5d']\n",
      "CPTNW: Period '1mo' is invalid, must be one of ['1d', '5d']\n",
      "CPTNW: Period '1mo' is invalid, must be one of ['1d', '5d']\n",
      "CPTNW: Period '1mo' is invalid, must be one of ['1d', '5d']\n",
      "/var/folders/77/05l3f4755g34m9yb1kt19stm0000gn/T/ipykernel_41131/295811338.py:16: FutureWarning: The behavior of DataFrame concatenation with empty or all-NA entries is deprecated. In a future version, this will no longer exclude empty or all-NA columns when determining the result dtypes. To retain the old behavior, exclude the relevant entries before the concat operation.\n",
      "  df_target.loc[len(df_target)] = [ticker, ratio_ticker]\n",
      "CRESW: Period '1mo' is invalid, must be one of ['1d', '5d']\n",
      "CRESW: Period '1mo' is invalid, must be one of ['1d', '5d']\n",
      "CRESW: Period '1mo' is invalid, must be one of ['1d', '5d']\n",
      "CRESW: Period '1mo' is invalid, must be one of ['1d', '5d']\n",
      "CRESW: Period '1mo' is invalid, must be one of ['1d', '5d']\n",
      "CRESW: Period '1mo' is invalid, must be one of ['1d', '5d']\n",
      "CRESW: Period '1mo' is invalid, must be one of ['1d', '5d']\n",
      "CRESW: Period '1mo' is invalid, must be one of ['1d', '5d']\n",
      "/var/folders/77/05l3f4755g34m9yb1kt19stm0000gn/T/ipykernel_41131/295811338.py:16: FutureWarning: The behavior of DataFrame concatenation with empty or all-NA entries is deprecated. In a future version, this will no longer exclude empty or all-NA columns when determining the result dtypes. To retain the old behavior, exclude the relevant entries before the concat operation.\n",
      "  df_target.loc[len(df_target)] = [ticker, ratio_ticker]\n",
      "CREV: Data doesn't exist for startDate = 1684296000, endDate = 1684900800\n",
      "CREV: Data doesn't exist for startDate = 1684296000, endDate = 1684382400\n",
      "CREV: Data doesn't exist for startDate = 1684382400, endDate = 1684468800\n",
      "CREV: Data doesn't exist for startDate = 1684468800, endDate = 1684555200\n",
      "CREV: Data doesn't exist for startDate = 1684555200, endDate = 1684641600\n",
      "CREV: Data doesn't exist for startDate = 1684641600, endDate = 1684728000\n",
      "CREV: Data doesn't exist for startDate = 1684728000, endDate = 1684814400\n",
      "CREV: Data doesn't exist for startDate = 1684814400, endDate = 1684900800\n",
      "/var/folders/77/05l3f4755g34m9yb1kt19stm0000gn/T/ipykernel_41131/295811338.py:16: FutureWarning: The behavior of DataFrame concatenation with empty or all-NA entries is deprecated. In a future version, this will no longer exclude empty or all-NA columns when determining the result dtypes. To retain the old behavior, exclude the relevant entries before the concat operation.\n",
      "  df_target.loc[len(df_target)] = [ticker, ratio_ticker]\n",
      "CREVW: Period '1mo' is invalid, must be one of ['1d', '5d']\n",
      "CREVW: Period '1mo' is invalid, must be one of ['1d', '5d']\n",
      "CREVW: Period '1mo' is invalid, must be one of ['1d', '5d']\n"
     ]
    },
    {
     "name": "stdout",
     "output_type": "stream",
     "text": [
      "get_stock_value_ratio : Error processing ticker CREV: unsupported operand type(s) for /: 'float' and 'NoneType'\n"
     ]
    },
    {
     "name": "stderr",
     "output_type": "stream",
     "text": [
      "CREVW: Period '1mo' is invalid, must be one of ['1d', '5d']\n",
      "CREVW: Period '1mo' is invalid, must be one of ['1d', '5d']\n",
      "CREVW: Period '1mo' is invalid, must be one of ['1d', '5d']\n",
      "CREVW: Period '1mo' is invalid, must be one of ['1d', '5d']\n",
      "CREVW: Period '1mo' is invalid, must be one of ['1d', '5d']\n",
      "/var/folders/77/05l3f4755g34m9yb1kt19stm0000gn/T/ipykernel_41131/295811338.py:16: FutureWarning: The behavior of DataFrame concatenation with empty or all-NA entries is deprecated. In a future version, this will no longer exclude empty or all-NA columns when determining the result dtypes. To retain the old behavior, exclude the relevant entries before the concat operation.\n",
      "  df_target.loc[len(df_target)] = [ticker, ratio_ticker]\n",
      "CRGX: Data doesn't exist for startDate = 1684296000, endDate = 1684900800\n",
      "CRGX: Data doesn't exist for startDate = 1684296000, endDate = 1684382400\n",
      "CRGX: Data doesn't exist for startDate = 1684382400, endDate = 1684468800\n",
      "CRGX: Data doesn't exist for startDate = 1684468800, endDate = 1684555200\n",
      "CRGX: Data doesn't exist for startDate = 1684555200, endDate = 1684641600\n",
      "CRGX: Data doesn't exist for startDate = 1684641600, endDate = 1684728000\n",
      "CRGX: Data doesn't exist for startDate = 1684728000, endDate = 1684814400\n",
      "CRGX: Data doesn't exist for startDate = 1684814400, endDate = 1684900800\n",
      "/var/folders/77/05l3f4755g34m9yb1kt19stm0000gn/T/ipykernel_41131/295811338.py:16: FutureWarning: The behavior of DataFrame concatenation with empty or all-NA entries is deprecated. In a future version, this will no longer exclude empty or all-NA columns when determining the result dtypes. To retain the old behavior, exclude the relevant entries before the concat operation.\n",
      "  df_target.loc[len(df_target)] = [ticker, ratio_ticker]\n"
     ]
    },
    {
     "name": "stdout",
     "output_type": "stream",
     "text": [
      "get_stock_value_ratio : Error processing ticker CRGX: unsupported operand type(s) for /: 'float' and 'NoneType'\n"
     ]
    },
    {
     "name": "stderr",
     "output_type": "stream",
     "text": [
      "CSLR: Data doesn't exist for startDate = 1684296000, endDate = 1684900800\n",
      "CSLR: Data doesn't exist for startDate = 1684296000, endDate = 1684382400\n",
      "CSLR: Data doesn't exist for startDate = 1684382400, endDate = 1684468800\n",
      "CSLR: Data doesn't exist for startDate = 1684468800, endDate = 1684555200\n",
      "CSLR: Data doesn't exist for startDate = 1684555200, endDate = 1684641600\n",
      "CSLR: Data doesn't exist for startDate = 1684641600, endDate = 1684728000\n",
      "CSLR: Data doesn't exist for startDate = 1684728000, endDate = 1684814400\n",
      "CSLR: Data doesn't exist for startDate = 1684814400, endDate = 1684900800\n",
      "/var/folders/77/05l3f4755g34m9yb1kt19stm0000gn/T/ipykernel_41131/295811338.py:16: FutureWarning: The behavior of DataFrame concatenation with empty or all-NA entries is deprecated. In a future version, this will no longer exclude empty or all-NA columns when determining the result dtypes. To retain the old behavior, exclude the relevant entries before the concat operation.\n",
      "  df_target.loc[len(df_target)] = [ticker, ratio_ticker]\n",
      "CSLRW: Period '1mo' is invalid, must be one of ['1d', '5d']\n",
      "CSLRW: Period '1mo' is invalid, must be one of ['1d', '5d']\n"
     ]
    },
    {
     "name": "stdout",
     "output_type": "stream",
     "text": [
      "get_stock_value_ratio : Error processing ticker CSLR: unsupported operand type(s) for /: 'float' and 'NoneType'\n"
     ]
    },
    {
     "name": "stderr",
     "output_type": "stream",
     "text": [
      "CSLRW: Period '1mo' is invalid, must be one of ['1d', '5d']\n",
      "CSLRW: Period '1mo' is invalid, must be one of ['1d', '5d']\n",
      "CSLRW: Period '1mo' is invalid, must be one of ['1d', '5d']\n",
      "CSLRW: Period '1mo' is invalid, must be one of ['1d', '5d']\n",
      "CSLRW: Period '1mo' is invalid, must be one of ['1d', '5d']\n",
      "CSLRW: Period '1mo' is invalid, must be one of ['1d', '5d']\n",
      "/var/folders/77/05l3f4755g34m9yb1kt19stm0000gn/T/ipykernel_41131/295811338.py:16: FutureWarning: The behavior of DataFrame concatenation with empty or all-NA entries is deprecated. In a future version, this will no longer exclude empty or all-NA columns when determining the result dtypes. To retain the old behavior, exclude the relevant entries before the concat operation.\n",
      "  df_target.loc[len(df_target)] = [ticker, ratio_ticker]\n",
      "CSSEL: Period '1mo' is invalid, must be one of ['1d', '5d']\n",
      "CSSEL: Period '1mo' is invalid, must be one of ['1d', '5d']\n",
      "CSSEL: Period '1mo' is invalid, must be one of ['1d', '5d']\n",
      "CSSEL: Period '1mo' is invalid, must be one of ['1d', '5d']\n",
      "CSSEL: Period '1mo' is invalid, must be one of ['1d', '5d']\n",
      "CSSEL: Period '1mo' is invalid, must be one of ['1d', '5d']\n",
      "CSSEL: Period '1mo' is invalid, must be one of ['1d', '5d']\n",
      "CSSEL: Period '1mo' is invalid, must be one of ['1d', '5d']\n",
      "/var/folders/77/05l3f4755g34m9yb1kt19stm0000gn/T/ipykernel_41131/295811338.py:16: FutureWarning: The behavior of DataFrame concatenation with empty or all-NA entries is deprecated. In a future version, this will no longer exclude empty or all-NA columns when determining the result dtypes. To retain the old behavior, exclude the relevant entries before the concat operation.\n",
      "  df_target.loc[len(df_target)] = [ticker, ratio_ticker]\n",
      "CTCXW: Period '1mo' is invalid, must be one of ['1d', '5d']\n",
      "CTCXW: Period '1mo' is invalid, must be one of ['1d', '5d']\n",
      "CTCXW: Period '1mo' is invalid, must be one of ['1d', '5d']\n",
      "CTCXW: Period '1mo' is invalid, must be one of ['1d', '5d']\n",
      "CTCXW: Period '1mo' is invalid, must be one of ['1d', '5d']\n",
      "CTCXW: Period '1mo' is invalid, must be one of ['1d', '5d']\n",
      "CTCXW: Period '1mo' is invalid, must be one of ['1d', '5d']\n",
      "CTCXW: Period '1mo' is invalid, must be one of ['1d', '5d']\n",
      "/var/folders/77/05l3f4755g34m9yb1kt19stm0000gn/T/ipykernel_41131/295811338.py:16: FutureWarning: The behavior of DataFrame concatenation with empty or all-NA entries is deprecated. In a future version, this will no longer exclude empty or all-NA columns when determining the result dtypes. To retain the old behavior, exclude the relevant entries before the concat operation.\n",
      "  df_target.loc[len(df_target)] = [ticker, ratio_ticker]\n",
      "CTNM: Data doesn't exist for startDate = 1684296000, endDate = 1684900800\n",
      "CTNM: Data doesn't exist for startDate = 1684296000, endDate = 1684382400\n",
      "CTNM: Data doesn't exist for startDate = 1684382400, endDate = 1684468800\n",
      "CTNM: Data doesn't exist for startDate = 1684468800, endDate = 1684555200\n",
      "CTNM: Data doesn't exist for startDate = 1684555200, endDate = 1684641600\n",
      "CTNM: Data doesn't exist for startDate = 1684641600, endDate = 1684728000\n",
      "CTNM: Data doesn't exist for startDate = 1684728000, endDate = 1684814400\n",
      "CTNM: Data doesn't exist for startDate = 1684814400, endDate = 1684900800\n",
      "/var/folders/77/05l3f4755g34m9yb1kt19stm0000gn/T/ipykernel_41131/295811338.py:16: FutureWarning: The behavior of DataFrame concatenation with empty or all-NA entries is deprecated. In a future version, this will no longer exclude empty or all-NA columns when determining the result dtypes. To retain the old behavior, exclude the relevant entries before the concat operation.\n",
      "  df_target.loc[len(df_target)] = [ticker, ratio_ticker]\n"
     ]
    },
    {
     "name": "stdout",
     "output_type": "stream",
     "text": [
      "get_stock_value_ratio : Error processing ticker CTNM: unsupported operand type(s) for /: 'float' and 'NoneType'\n"
     ]
    },
    {
     "name": "stderr",
     "output_type": "stream",
     "text": [
      "CTNT: Data doesn't exist for startDate = 1684296000, endDate = 1684900800\n",
      "CTNT: Data doesn't exist for startDate = 1684296000, endDate = 1684382400\n",
      "CTNT: Data doesn't exist for startDate = 1684382400, endDate = 1684468800\n",
      "CTNT: Data doesn't exist for startDate = 1684468800, endDate = 1684555200\n",
      "CTNT: Data doesn't exist for startDate = 1684555200, endDate = 1684641600\n",
      "CTNT: Data doesn't exist for startDate = 1684641600, endDate = 1684728000\n",
      "CTNT: Data doesn't exist for startDate = 1684728000, endDate = 1684814400\n",
      "CTNT: Data doesn't exist for startDate = 1684814400, endDate = 1684900800\n",
      "/var/folders/77/05l3f4755g34m9yb1kt19stm0000gn/T/ipykernel_41131/295811338.py:16: FutureWarning: The behavior of DataFrame concatenation with empty or all-NA entries is deprecated. In a future version, this will no longer exclude empty or all-NA columns when determining the result dtypes. To retain the old behavior, exclude the relevant entries before the concat operation.\n",
      "  df_target.loc[len(df_target)] = [ticker, ratio_ticker]\n"
     ]
    },
    {
     "name": "stdout",
     "output_type": "stream",
     "text": [
      "get_stock_value_ratio : Error processing ticker CTNT: unsupported operand type(s) for /: 'float' and 'NoneType'\n"
     ]
    },
    {
     "name": "stderr",
     "output_type": "stream",
     "text": [
      "CTRI: Data doesn't exist for startDate = 1684296000, endDate = 1684900800\n",
      "CTRI: Data doesn't exist for startDate = 1684296000, endDate = 1684382400\n",
      "CTRI: Data doesn't exist for startDate = 1684382400, endDate = 1684468800\n",
      "CTRI: Data doesn't exist for startDate = 1684468800, endDate = 1684555200\n",
      "CTRI: Data doesn't exist for startDate = 1684555200, endDate = 1684641600\n",
      "CTRI: Data doesn't exist for startDate = 1684641600, endDate = 1684728000\n",
      "CTRI: Data doesn't exist for startDate = 1684728000, endDate = 1684814400\n",
      "CTRI: Data doesn't exist for startDate = 1684814400, endDate = 1684900800\n",
      "/var/folders/77/05l3f4755g34m9yb1kt19stm0000gn/T/ipykernel_41131/295811338.py:16: FutureWarning: The behavior of DataFrame concatenation with empty or all-NA entries is deprecated. In a future version, this will no longer exclude empty or all-NA columns when determining the result dtypes. To retain the old behavior, exclude the relevant entries before the concat operation.\n",
      "  df_target.loc[len(df_target)] = [ticker, ratio_ticker]\n"
     ]
    },
    {
     "name": "stdout",
     "output_type": "stream",
     "text": [
      "get_stock_value_ratio : Error processing ticker CTRI: unsupported operand type(s) for /: 'float' and 'NoneType'\n"
     ]
    },
    {
     "name": "stderr",
     "output_type": "stream",
     "text": [
      "CURIW: Period '1mo' is invalid, must be one of ['1d', '5d']\n",
      "CURIW: Period '1mo' is invalid, must be one of ['1d', '5d']\n",
      "CURIW: Period '1mo' is invalid, must be one of ['1d', '5d']\n",
      "CURIW: Period '1mo' is invalid, must be one of ['1d', '5d']\n",
      "CURIW: Period '1mo' is invalid, must be one of ['1d', '5d']\n",
      "CURIW: Period '1mo' is invalid, must be one of ['1d', '5d']\n",
      "CURIW: Period '1mo' is invalid, must be one of ['1d', '5d']\n",
      "CURIW: Period '1mo' is invalid, must be one of ['1d', '5d']\n",
      "/var/folders/77/05l3f4755g34m9yb1kt19stm0000gn/T/ipykernel_41131/295811338.py:16: FutureWarning: The behavior of DataFrame concatenation with empty or all-NA entries is deprecated. In a future version, this will no longer exclude empty or all-NA columns when determining the result dtypes. To retain the old behavior, exclude the relevant entries before the concat operation.\n",
      "  df_target.loc[len(df_target)] = [ticker, ratio_ticker]\n",
      "CVIIW: Period '1mo' is invalid, must be one of ['1d', '5d']\n",
      "CVIIW: Period '1mo' is invalid, must be one of ['1d', '5d']\n",
      "CVIIW: Period '1mo' is invalid, must be one of ['1d', '5d']\n",
      "CVIIW: Period '1mo' is invalid, must be one of ['1d', '5d']\n",
      "CVIIW: Period '1mo' is invalid, must be one of ['1d', '5d']\n",
      "CVIIW: Period '1mo' is invalid, must be one of ['1d', '5d']\n",
      "CVIIW: Period '1mo' is invalid, must be one of ['1d', '5d']\n",
      "CVIIW: Period '1mo' is invalid, must be one of ['1d', '5d']\n",
      "/var/folders/77/05l3f4755g34m9yb1kt19stm0000gn/T/ipykernel_41131/295811338.py:16: FutureWarning: The behavior of DataFrame concatenation with empty or all-NA entries is deprecated. In a future version, this will no longer exclude empty or all-NA columns when determining the result dtypes. To retain the old behavior, exclude the relevant entries before the concat operation.\n",
      "  df_target.loc[len(df_target)] = [ticker, ratio_ticker]\n",
      "CWD: Data doesn't exist for startDate = 1684296000, endDate = 1684382400\n",
      "CXAIW: Period '1mo' is invalid, must be one of ['1d', '5d']\n",
      "CXAIW: Period '1mo' is invalid, must be one of ['1d', '5d']\n",
      "CXAIW: Period '1mo' is invalid, must be one of ['1d', '5d']\n",
      "CXAIW: Period '1mo' is invalid, must be one of ['1d', '5d']\n",
      "CXAIW: Period '1mo' is invalid, must be one of ['1d', '5d']\n",
      "CXAIW: Period '1mo' is invalid, must be one of ['1d', '5d']\n",
      "CXAIW: Period '1mo' is invalid, must be one of ['1d', '5d']\n",
      "CXAIW: Period '1mo' is invalid, must be one of ['1d', '5d']\n",
      "/var/folders/77/05l3f4755g34m9yb1kt19stm0000gn/T/ipykernel_41131/295811338.py:16: FutureWarning: The behavior of DataFrame concatenation with empty or all-NA entries is deprecated. In a future version, this will no longer exclude empty or all-NA columns when determining the result dtypes. To retain the old behavior, exclude the relevant entries before the concat operation.\n",
      "  df_target.loc[len(df_target)] = [ticker, ratio_ticker]\n",
      "DAVEW: Period '1mo' is invalid, must be one of ['1d', '5d']\n",
      "DAVEW: Period '1mo' is invalid, must be one of ['1d', '5d']\n",
      "DAVEW: Period '1mo' is invalid, must be one of ['1d', '5d']\n",
      "DAVEW: Period '1mo' is invalid, must be one of ['1d', '5d']\n",
      "DAVEW: Period '1mo' is invalid, must be one of ['1d', '5d']\n",
      "DAVEW: Period '1mo' is invalid, must be one of ['1d', '5d']\n",
      "DAVEW: Period '1mo' is invalid, must be one of ['1d', '5d']\n",
      "DAVEW: Period '1mo' is invalid, must be one of ['1d', '5d']\n",
      "/var/folders/77/05l3f4755g34m9yb1kt19stm0000gn/T/ipykernel_41131/295811338.py:16: FutureWarning: The behavior of DataFrame concatenation with empty or all-NA entries is deprecated. In a future version, this will no longer exclude empty or all-NA columns when determining the result dtypes. To retain the old behavior, exclude the relevant entries before the concat operation.\n",
      "  df_target.loc[len(df_target)] = [ticker, ratio_ticker]\n",
      "DBD: Data doesn't exist for startDate = 1684296000, endDate = 1684900800\n",
      "DBD: Data doesn't exist for startDate = 1684296000, endDate = 1684382400\n",
      "DBD: Data doesn't exist for startDate = 1684382400, endDate = 1684468800\n",
      "DBD: Data doesn't exist for startDate = 1684468800, endDate = 1684555200\n",
      "DBD: Data doesn't exist for startDate = 1684555200, endDate = 1684641600\n",
      "DBD: Data doesn't exist for startDate = 1684641600, endDate = 1684728000\n",
      "DBD: Data doesn't exist for startDate = 1684728000, endDate = 1684814400\n",
      "DBD: Data doesn't exist for startDate = 1684814400, endDate = 1684900800\n",
      "/var/folders/77/05l3f4755g34m9yb1kt19stm0000gn/T/ipykernel_41131/295811338.py:16: FutureWarning: The behavior of DataFrame concatenation with empty or all-NA entries is deprecated. In a future version, this will no longer exclude empty or all-NA columns when determining the result dtypes. To retain the old behavior, exclude the relevant entries before the concat operation.\n",
      "  df_target.loc[len(df_target)] = [ticker, ratio_ticker]\n"
     ]
    },
    {
     "name": "stdout",
     "output_type": "stream",
     "text": [
      "get_stock_value_ratio : Error processing ticker DBD: unsupported operand type(s) for /: 'float' and 'NoneType'\n"
     ]
    },
    {
     "name": "stderr",
     "output_type": "stream",
     "text": [
      "DBGIW: Period '1mo' is invalid, must be one of ['1d', '5d']\n",
      "DBGIW: Period '1mo' is invalid, must be one of ['1d', '5d']\n",
      "DBGIW: Period '1mo' is invalid, must be one of ['1d', '5d']\n",
      "DBGIW: Period '1mo' is invalid, must be one of ['1d', '5d']\n",
      "DBGIW: Period '1mo' is invalid, must be one of ['1d', '5d']\n",
      "DBGIW: Period '1mo' is invalid, must be one of ['1d', '5d']\n",
      "DBGIW: Period '1mo' is invalid, must be one of ['1d', '5d']\n",
      "DBGIW: Period '1mo' is invalid, must be one of ['1d', '5d']\n",
      "/var/folders/77/05l3f4755g34m9yb1kt19stm0000gn/T/ipykernel_41131/295811338.py:16: FutureWarning: The behavior of DataFrame concatenation with empty or all-NA entries is deprecated. In a future version, this will no longer exclude empty or all-NA columns when determining the result dtypes. To retain the old behavior, exclude the relevant entries before the concat operation.\n",
      "  df_target.loc[len(df_target)] = [ticker, ratio_ticker]\n",
      "DDC: Data doesn't exist for startDate = 1684296000, endDate = 1684900800\n",
      "DDC: Data doesn't exist for startDate = 1684296000, endDate = 1684382400\n",
      "DDC: Data doesn't exist for startDate = 1684382400, endDate = 1684468800\n",
      "DDC: Data doesn't exist for startDate = 1684468800, endDate = 1684555200\n",
      "DDC: Data doesn't exist for startDate = 1684555200, endDate = 1684641600\n",
      "DDC: Data doesn't exist for startDate = 1684641600, endDate = 1684728000\n",
      "DDC: Data doesn't exist for startDate = 1684728000, endDate = 1684814400\n",
      "DDC: Data doesn't exist for startDate = 1684814400, endDate = 1684900800\n",
      "/var/folders/77/05l3f4755g34m9yb1kt19stm0000gn/T/ipykernel_41131/295811338.py:16: FutureWarning: The behavior of DataFrame concatenation with empty or all-NA entries is deprecated. In a future version, this will no longer exclude empty or all-NA columns when determining the result dtypes. To retain the old behavior, exclude the relevant entries before the concat operation.\n",
      "  df_target.loc[len(df_target)] = [ticker, ratio_ticker]\n"
     ]
    },
    {
     "name": "stdout",
     "output_type": "stream",
     "text": [
      "get_stock_value_ratio : Error processing ticker DDC: unsupported operand type(s) for /: 'float' and 'NoneType'\n"
     ]
    },
    {
     "name": "stderr",
     "output_type": "stream",
     "text": [
      "DEC: Data doesn't exist for startDate = 1684296000, endDate = 1684900800\n",
      "DEC: Data doesn't exist for startDate = 1684296000, endDate = 1684382400\n",
      "DEC: Data doesn't exist for startDate = 1684382400, endDate = 1684468800\n",
      "DEC: Data doesn't exist for startDate = 1684468800, endDate = 1684555200\n",
      "DEC: Data doesn't exist for startDate = 1684555200, endDate = 1684641600\n",
      "DEC: Data doesn't exist for startDate = 1684641600, endDate = 1684728000\n",
      "DEC: Data doesn't exist for startDate = 1684728000, endDate = 1684814400\n",
      "DEC: Data doesn't exist for startDate = 1684814400, endDate = 1684900800\n",
      "/var/folders/77/05l3f4755g34m9yb1kt19stm0000gn/T/ipykernel_41131/295811338.py:16: FutureWarning: The behavior of DataFrame concatenation with empty or all-NA entries is deprecated. In a future version, this will no longer exclude empty or all-NA columns when determining the result dtypes. To retain the old behavior, exclude the relevant entries before the concat operation.\n",
      "  df_target.loc[len(df_target)] = [ticker, ratio_ticker]\n"
     ]
    },
    {
     "name": "stdout",
     "output_type": "stream",
     "text": [
      "get_stock_value_ratio : Error processing ticker DEC: unsupported operand type(s) for /: 'float' and 'NoneType'\n"
     ]
    },
    {
     "name": "stderr",
     "output_type": "stream",
     "text": [
      "DECAW: Period '1mo' is invalid, must be one of ['1d', '5d']\n",
      "DECAW: Period '1mo' is invalid, must be one of ['1d', '5d']\n",
      "DECAW: Period '1mo' is invalid, must be one of ['1d', '5d']\n",
      "DECAW: Period '1mo' is invalid, must be one of ['1d', '5d']\n",
      "DECAW: Period '1mo' is invalid, must be one of ['1d', '5d']\n",
      "DECAW: Period '1mo' is invalid, must be one of ['1d', '5d']\n",
      "DECAW: Period '1mo' is invalid, must be one of ['1d', '5d']\n",
      "DECAW: Period '1mo' is invalid, must be one of ['1d', '5d']\n",
      "/var/folders/77/05l3f4755g34m9yb1kt19stm0000gn/T/ipykernel_41131/295811338.py:16: FutureWarning: The behavior of DataFrame concatenation with empty or all-NA entries is deprecated. In a future version, this will no longer exclude empty or all-NA columns when determining the result dtypes. To retain the old behavior, exclude the relevant entries before the concat operation.\n",
      "  df_target.loc[len(df_target)] = [ticker, ratio_ticker]\n",
      "DFLIW: Period '1mo' is invalid, must be one of ['1d', '5d']\n",
      "DFLIW: Period '1mo' is invalid, must be one of ['1d', '5d']\n",
      "DFLIW: Period '1mo' is invalid, must be one of ['1d', '5d']\n",
      "DFLIW: Period '1mo' is invalid, must be one of ['1d', '5d']\n",
      "DFLIW: Period '1mo' is invalid, must be one of ['1d', '5d']\n",
      "DFLIW: Period '1mo' is invalid, must be one of ['1d', '5d']\n",
      "DFLIW: Period '1mo' is invalid, must be one of ['1d', '5d']\n",
      "DFLIW: Period '1mo' is invalid, must be one of ['1d', '5d']\n",
      "/var/folders/77/05l3f4755g34m9yb1kt19stm0000gn/T/ipykernel_41131/295811338.py:16: FutureWarning: The behavior of DataFrame concatenation with empty or all-NA entries is deprecated. In a future version, this will no longer exclude empty or all-NA columns when determining the result dtypes. To retain the old behavior, exclude the relevant entries before the concat operation.\n",
      "  df_target.loc[len(df_target)] = [ticker, ratio_ticker]\n",
      "DHACW: Period '1mo' is invalid, must be one of ['1d', '5d']\n",
      "DHACW: Period '1mo' is invalid, must be one of ['1d', '5d']\n",
      "DHACW: Period '1mo' is invalid, must be one of ['1d', '5d']\n",
      "DHACW: Period '1mo' is invalid, must be one of ['1d', '5d']\n",
      "DHACW: Period '1mo' is invalid, must be one of ['1d', '5d']\n",
      "DHACW: Period '1mo' is invalid, must be one of ['1d', '5d']\n",
      "DHACW: Period '1mo' is invalid, must be one of ['1d', '5d']\n",
      "DHACW: Period '1mo' is invalid, must be one of ['1d', '5d']\n",
      "/var/folders/77/05l3f4755g34m9yb1kt19stm0000gn/T/ipykernel_41131/295811338.py:16: FutureWarning: The behavior of DataFrame concatenation with empty or all-NA entries is deprecated. In a future version, this will no longer exclude empty or all-NA columns when determining the result dtypes. To retain the old behavior, exclude the relevant entries before the concat operation.\n",
      "  df_target.loc[len(df_target)] = [ticker, ratio_ticker]\n",
      "DISTW: Period '1mo' is invalid, must be one of ['1d', '5d']\n",
      "DISTW: Period '1mo' is invalid, must be one of ['1d', '5d']\n",
      "DISTW: Period '1mo' is invalid, must be one of ['1d', '5d']\n",
      "DISTW: Period '1mo' is invalid, must be one of ['1d', '5d']\n",
      "DISTW: Period '1mo' is invalid, must be one of ['1d', '5d']\n",
      "DISTW: Period '1mo' is invalid, must be one of ['1d', '5d']\n",
      "DISTW: Period '1mo' is invalid, must be one of ['1d', '5d']\n",
      "DISTW: Period '1mo' is invalid, must be one of ['1d', '5d']\n",
      "/var/folders/77/05l3f4755g34m9yb1kt19stm0000gn/T/ipykernel_41131/295811338.py:16: FutureWarning: The behavior of DataFrame concatenation with empty or all-NA entries is deprecated. In a future version, this will no longer exclude empty or all-NA columns when determining the result dtypes. To retain the old behavior, exclude the relevant entries before the concat operation.\n",
      "  df_target.loc[len(df_target)] = [ticker, ratio_ticker]\n",
      "DJTWW: Data doesn't exist for startDate = 1684296000, endDate = 1684900800\n",
      "DJTWW: Data doesn't exist for startDate = 1684296000, endDate = 1684382400\n",
      "DJTWW: Data doesn't exist for startDate = 1684382400, endDate = 1684468800\n",
      "DJTWW: Data doesn't exist for startDate = 1684468800, endDate = 1684555200\n",
      "DJTWW: Data doesn't exist for startDate = 1684555200, endDate = 1684641600\n",
      "DJTWW: Data doesn't exist for startDate = 1684641600, endDate = 1684728000\n",
      "DJTWW: Data doesn't exist for startDate = 1684728000, endDate = 1684814400\n",
      "DJTWW: Data doesn't exist for startDate = 1684814400, endDate = 1684900800\n",
      "/var/folders/77/05l3f4755g34m9yb1kt19stm0000gn/T/ipykernel_41131/295811338.py:16: FutureWarning: The behavior of DataFrame concatenation with empty or all-NA entries is deprecated. In a future version, this will no longer exclude empty or all-NA columns when determining the result dtypes. To retain the old behavior, exclude the relevant entries before the concat operation.\n",
      "  df_target.loc[len(df_target)] = [ticker, ratio_ticker]\n"
     ]
    },
    {
     "name": "stdout",
     "output_type": "stream",
     "text": [
      "get_stock_value_ratio : Error processing ticker DJTWW: unsupported operand type(s) for /: 'float' and 'NoneType'\n"
     ]
    },
    {
     "name": "stderr",
     "output_type": "stream",
     "text": [
      "DRMAW: Period '1mo' is invalid, must be one of ['1d', '5d']\n",
      "DRMAW: Period '1mo' is invalid, must be one of ['1d', '5d']\n",
      "DRMAW: Period '1mo' is invalid, must be one of ['1d', '5d']\n",
      "DRMAW: Period '1mo' is invalid, must be one of ['1d', '5d']\n",
      "DRMAW: Period '1mo' is invalid, must be one of ['1d', '5d']\n",
      "DRMAW: Period '1mo' is invalid, must be one of ['1d', '5d']\n",
      "DRMAW: Period '1mo' is invalid, must be one of ['1d', '5d']\n",
      "DRMAW: Period '1mo' is invalid, must be one of ['1d', '5d']\n",
      "/var/folders/77/05l3f4755g34m9yb1kt19stm0000gn/T/ipykernel_41131/295811338.py:16: FutureWarning: The behavior of DataFrame concatenation with empty or all-NA entries is deprecated. In a future version, this will no longer exclude empty or all-NA columns when determining the result dtypes. To retain the old behavior, exclude the relevant entries before the concat operation.\n",
      "  df_target.loc[len(df_target)] = [ticker, ratio_ticker]\n",
      "DRTSW: Period '1mo' is invalid, must be one of ['1d', '5d']\n",
      "DRTSW: Period '1mo' is invalid, must be one of ['1d', '5d']\n",
      "DRTSW: Period '1mo' is invalid, must be one of ['1d', '5d']\n",
      "DRTSW: Period '1mo' is invalid, must be one of ['1d', '5d']\n",
      "DRTSW: Period '1mo' is invalid, must be one of ['1d', '5d']\n",
      "DRTSW: Period '1mo' is invalid, must be one of ['1d', '5d']\n",
      "DRTSW: Period '1mo' is invalid, must be one of ['1d', '5d']\n",
      "DRTSW: Period '1mo' is invalid, must be one of ['1d', '5d']\n",
      "/var/folders/77/05l3f4755g34m9yb1kt19stm0000gn/T/ipykernel_41131/295811338.py:16: FutureWarning: The behavior of DataFrame concatenation with empty or all-NA entries is deprecated. In a future version, this will no longer exclude empty or all-NA columns when determining the result dtypes. To retain the old behavior, exclude the relevant entries before the concat operation.\n",
      "  df_target.loc[len(df_target)] = [ticker, ratio_ticker]\n",
      "DTCK: Data doesn't exist for startDate = 1684296000, endDate = 1684900800\n",
      "DTCK: Data doesn't exist for startDate = 1684296000, endDate = 1684382400\n",
      "DTCK: Data doesn't exist for startDate = 1684382400, endDate = 1684468800\n",
      "DTCK: Data doesn't exist for startDate = 1684468800, endDate = 1684555200\n",
      "DTCK: Data doesn't exist for startDate = 1684555200, endDate = 1684641600\n",
      "DTCK: Data doesn't exist for startDate = 1684641600, endDate = 1684728000\n",
      "DTCK: Data doesn't exist for startDate = 1684728000, endDate = 1684814400\n",
      "DTCK: Data doesn't exist for startDate = 1684814400, endDate = 1684900800\n",
      "/var/folders/77/05l3f4755g34m9yb1kt19stm0000gn/T/ipykernel_41131/295811338.py:16: FutureWarning: The behavior of DataFrame concatenation with empty or all-NA entries is deprecated. In a future version, this will no longer exclude empty or all-NA columns when determining the result dtypes. To retain the old behavior, exclude the relevant entries before the concat operation.\n",
      "  df_target.loc[len(df_target)] = [ticker, ratio_ticker]\n"
     ]
    },
    {
     "name": "stdout",
     "output_type": "stream",
     "text": [
      "get_stock_value_ratio : Error processing ticker DTCK: unsupported operand type(s) for /: 'float' and 'NoneType'\n"
     ]
    },
    {
     "name": "stderr",
     "output_type": "stream",
     "text": [
      "DTSTW: Period '1mo' is invalid, must be one of ['1d', '5d']\n",
      "DTSTW: Period '1mo' is invalid, must be one of ['1d', '5d']\n",
      "DTSTW: Period '1mo' is invalid, must be one of ['1d', '5d']\n",
      "DTSTW: Period '1mo' is invalid, must be one of ['1d', '5d']\n",
      "DTSTW: Period '1mo' is invalid, must be one of ['1d', '5d']\n",
      "DTSTW: Period '1mo' is invalid, must be one of ['1d', '5d']\n",
      "DTSTW: Period '1mo' is invalid, must be one of ['1d', '5d']\n",
      "DTSTW: Period '1mo' is invalid, must be one of ['1d', '5d']\n",
      "/var/folders/77/05l3f4755g34m9yb1kt19stm0000gn/T/ipykernel_41131/295811338.py:16: FutureWarning: The behavior of DataFrame concatenation with empty or all-NA entries is deprecated. In a future version, this will no longer exclude empty or all-NA columns when determining the result dtypes. To retain the old behavior, exclude the relevant entries before the concat operation.\n",
      "  df_target.loc[len(df_target)] = [ticker, ratio_ticker]\n",
      "DXYZ: Data doesn't exist for startDate = 1684296000, endDate = 1684900800\n",
      "DXYZ: Data doesn't exist for startDate = 1684296000, endDate = 1684382400\n",
      "DXYZ: Data doesn't exist for startDate = 1684382400, endDate = 1684468800\n",
      "DXYZ: Data doesn't exist for startDate = 1684468800, endDate = 1684555200\n",
      "DXYZ: Data doesn't exist for startDate = 1684555200, endDate = 1684641600\n",
      "DXYZ: Data doesn't exist for startDate = 1684641600, endDate = 1684728000\n",
      "DXYZ: Data doesn't exist for startDate = 1684728000, endDate = 1684814400\n",
      "DXYZ: Data doesn't exist for startDate = 1684814400, endDate = 1684900800\n",
      "/var/folders/77/05l3f4755g34m9yb1kt19stm0000gn/T/ipykernel_41131/295811338.py:16: FutureWarning: The behavior of DataFrame concatenation with empty or all-NA entries is deprecated. In a future version, this will no longer exclude empty or all-NA columns when determining the result dtypes. To retain the old behavior, exclude the relevant entries before the concat operation.\n",
      "  df_target.loc[len(df_target)] = [ticker, ratio_ticker]\n"
     ]
    },
    {
     "name": "stdout",
     "output_type": "stream",
     "text": [
      "get_stock_value_ratio : Error processing ticker DXYZ: unsupported operand type(s) for /: 'float' and 'NoneType'\n"
     ]
    },
    {
     "name": "stderr",
     "output_type": "stream",
     "text": [
      "DYCQ: Data doesn't exist for startDate = 1684296000, endDate = 1684900800\n",
      "DYCQ: Data doesn't exist for startDate = 1684296000, endDate = 1684382400\n",
      "DYCQ: Data doesn't exist for startDate = 1684382400, endDate = 1684468800\n",
      "DYCQ: Data doesn't exist for startDate = 1684468800, endDate = 1684555200\n",
      "DYCQ: Data doesn't exist for startDate = 1684555200, endDate = 1684641600\n",
      "DYCQ: Data doesn't exist for startDate = 1684641600, endDate = 1684728000\n",
      "DYCQ: Data doesn't exist for startDate = 1684728000, endDate = 1684814400\n",
      "DYCQ: Data doesn't exist for startDate = 1684814400, endDate = 1684900800\n",
      "/var/folders/77/05l3f4755g34m9yb1kt19stm0000gn/T/ipykernel_41131/295811338.py:16: FutureWarning: The behavior of DataFrame concatenation with empty or all-NA entries is deprecated. In a future version, this will no longer exclude empty or all-NA columns when determining the result dtypes. To retain the old behavior, exclude the relevant entries before the concat operation.\n",
      "  df_target.loc[len(df_target)] = [ticker, ratio_ticker]\n"
     ]
    },
    {
     "name": "stdout",
     "output_type": "stream",
     "text": [
      "get_stock_value_ratio : Error processing ticker DYCQ: unsupported operand type(s) for /: 'float' and 'NoneType'\n"
     ]
    },
    {
     "name": "stderr",
     "output_type": "stream",
     "text": [
      "ECCF: Data doesn't exist for startDate = 1684296000, endDate = 1684900800\n",
      "ECCF: Data doesn't exist for startDate = 1684296000, endDate = 1684382400\n",
      "ECCF: Data doesn't exist for startDate = 1684382400, endDate = 1684468800\n",
      "ECCF: Data doesn't exist for startDate = 1684468800, endDate = 1684555200\n",
      "ECCF: Data doesn't exist for startDate = 1684555200, endDate = 1684641600\n",
      "ECCF: Data doesn't exist for startDate = 1684641600, endDate = 1684728000\n",
      "ECCF: Data doesn't exist for startDate = 1684728000, endDate = 1684814400\n",
      "ECCF: Data doesn't exist for startDate = 1684814400, endDate = 1684900800\n",
      "/var/folders/77/05l3f4755g34m9yb1kt19stm0000gn/T/ipykernel_41131/295811338.py:16: FutureWarning: The behavior of DataFrame concatenation with empty or all-NA entries is deprecated. In a future version, this will no longer exclude empty or all-NA columns when determining the result dtypes. To retain the old behavior, exclude the relevant entries before the concat operation.\n",
      "  df_target.loc[len(df_target)] = [ticker, ratio_ticker]\n"
     ]
    },
    {
     "name": "stdout",
     "output_type": "stream",
     "text": [
      "get_stock_value_ratio : Error processing ticker ECCF: unsupported operand type(s) for /: 'float' and 'NoneType'\n"
     ]
    },
    {
     "name": "stderr",
     "output_type": "stream",
     "text": [
      "ECDAW: Period '1mo' is invalid, must be one of ['1d', '5d']\n",
      "ECDAW: Period '1mo' is invalid, must be one of ['1d', '5d']\n",
      "ECDAW: Period '1mo' is invalid, must be one of ['1d', '5d']\n",
      "ECDAW: Period '1mo' is invalid, must be one of ['1d', '5d']\n",
      "ECDAW: Period '1mo' is invalid, must be one of ['1d', '5d']\n",
      "ECDAW: Period '1mo' is invalid, must be one of ['1d', '5d']\n",
      "ECDAW: Period '1mo' is invalid, must be one of ['1d', '5d']\n",
      "ECDAW: Period '1mo' is invalid, must be one of ['1d', '5d']\n",
      "/var/folders/77/05l3f4755g34m9yb1kt19stm0000gn/T/ipykernel_41131/295811338.py:16: FutureWarning: The behavior of DataFrame concatenation with empty or all-NA entries is deprecated. In a future version, this will no longer exclude empty or all-NA columns when determining the result dtypes. To retain the old behavior, exclude the relevant entries before the concat operation.\n",
      "  df_target.loc[len(df_target)] = [ticker, ratio_ticker]\n",
      "ECO: Data doesn't exist for startDate = 1684296000, endDate = 1684900800\n",
      "ECO: Data doesn't exist for startDate = 1684296000, endDate = 1684382400\n",
      "ECO: Data doesn't exist for startDate = 1684382400, endDate = 1684468800\n",
      "ECO: Data doesn't exist for startDate = 1684468800, endDate = 1684555200\n",
      "ECO: Data doesn't exist for startDate = 1684555200, endDate = 1684641600\n",
      "ECO: Data doesn't exist for startDate = 1684641600, endDate = 1684728000\n",
      "ECO: Data doesn't exist for startDate = 1684728000, endDate = 1684814400\n",
      "ECO: Data doesn't exist for startDate = 1684814400, endDate = 1684900800\n",
      "/var/folders/77/05l3f4755g34m9yb1kt19stm0000gn/T/ipykernel_41131/295811338.py:16: FutureWarning: The behavior of DataFrame concatenation with empty or all-NA entries is deprecated. In a future version, this will no longer exclude empty or all-NA columns when determining the result dtypes. To retain the old behavior, exclude the relevant entries before the concat operation.\n",
      "  df_target.loc[len(df_target)] = [ticker, ratio_ticker]\n"
     ]
    },
    {
     "name": "stdout",
     "output_type": "stream",
     "text": [
      "get_stock_value_ratio : Error processing ticker ECO: unsupported operand type(s) for /: 'float' and 'NoneType'\n"
     ]
    },
    {
     "name": "stderr",
     "output_type": "stream",
     "text": [
      "ECXWW: Period '1mo' is invalid, must be one of ['1d', '5d']\n",
      "ECXWW: Period '1mo' is invalid, must be one of ['1d', '5d']\n",
      "ECXWW: Period '1mo' is invalid, must be one of ['1d', '5d']\n",
      "ECXWW: Period '1mo' is invalid, must be one of ['1d', '5d']\n",
      "ECXWW: Period '1mo' is invalid, must be one of ['1d', '5d']\n",
      "ECXWW: Period '1mo' is invalid, must be one of ['1d', '5d']\n",
      "ECXWW: Period '1mo' is invalid, must be one of ['1d', '5d']\n",
      "ECXWW: Period '1mo' is invalid, must be one of ['1d', '5d']\n",
      "/var/folders/77/05l3f4755g34m9yb1kt19stm0000gn/T/ipykernel_41131/295811338.py:16: FutureWarning: The behavior of DataFrame concatenation with empty or all-NA entries is deprecated. In a future version, this will no longer exclude empty or all-NA columns when determining the result dtypes. To retain the old behavior, exclude the relevant entries before the concat operation.\n",
      "  df_target.loc[len(df_target)] = [ticker, ratio_ticker]\n",
      "EDBLW: Period '1mo' is invalid, must be one of ['1d', '5d']\n",
      "EDBLW: Period '1mo' is invalid, must be one of ['1d', '5d']\n",
      "EDBLW: Period '1mo' is invalid, must be one of ['1d', '5d']\n",
      "EDBLW: Period '1mo' is invalid, must be one of ['1d', '5d']\n",
      "EDBLW: Period '1mo' is invalid, must be one of ['1d', '5d']\n",
      "EDBLW: Period '1mo' is invalid, must be one of ['1d', '5d']\n",
      "EDBLW: Period '1mo' is invalid, must be one of ['1d', '5d']\n",
      "EDBLW: Period '1mo' is invalid, must be one of ['1d', '5d']\n",
      "/var/folders/77/05l3f4755g34m9yb1kt19stm0000gn/T/ipykernel_41131/295811338.py:16: FutureWarning: The behavior of DataFrame concatenation with empty or all-NA entries is deprecated. In a future version, this will no longer exclude empty or all-NA columns when determining the result dtypes. To retain the old behavior, exclude the relevant entries before the concat operation.\n",
      "  df_target.loc[len(df_target)] = [ticker, ratio_ticker]\n",
      "EFTRW: Period '1mo' is invalid, must be one of ['1d', '5d']\n",
      "EFTRW: Period '1mo' is invalid, must be one of ['1d', '5d']\n",
      "EFTRW: Period '1mo' is invalid, must be one of ['1d', '5d']\n",
      "EFTRW: Period '1mo' is invalid, must be one of ['1d', '5d']\n",
      "EFTRW: Period '1mo' is invalid, must be one of ['1d', '5d']\n",
      "EFTRW: Period '1mo' is invalid, must be one of ['1d', '5d']\n",
      "EFTRW: Period '1mo' is invalid, must be one of ['1d', '5d']\n",
      "EFTRW: Period '1mo' is invalid, must be one of ['1d', '5d']\n",
      "/var/folders/77/05l3f4755g34m9yb1kt19stm0000gn/T/ipykernel_41131/295811338.py:16: FutureWarning: The behavior of DataFrame concatenation with empty or all-NA entries is deprecated. In a future version, this will no longer exclude empty or all-NA columns when determining the result dtypes. To retain the old behavior, exclude the relevant entries before the concat operation.\n",
      "  df_target.loc[len(df_target)] = [ticker, ratio_ticker]\n",
      "EICB: Data doesn't exist for startDate = 1684296000, endDate = 1684900800\n",
      "EICB: Data doesn't exist for startDate = 1684296000, endDate = 1684382400\n",
      "EICB: Data doesn't exist for startDate = 1684382400, endDate = 1684468800\n",
      "EICB: Data doesn't exist for startDate = 1684468800, endDate = 1684555200\n",
      "EICB: Data doesn't exist for startDate = 1684555200, endDate = 1684641600\n",
      "EICB: Data doesn't exist for startDate = 1684641600, endDate = 1684728000\n",
      "EICB: Data doesn't exist for startDate = 1684728000, endDate = 1684814400\n",
      "EICB: Data doesn't exist for startDate = 1684814400, endDate = 1684900800\n",
      "/var/folders/77/05l3f4755g34m9yb1kt19stm0000gn/T/ipykernel_41131/295811338.py:16: FutureWarning: The behavior of DataFrame concatenation with empty or all-NA entries is deprecated. In a future version, this will no longer exclude empty or all-NA columns when determining the result dtypes. To retain the old behavior, exclude the relevant entries before the concat operation.\n",
      "  df_target.loc[len(df_target)] = [ticker, ratio_ticker]\n"
     ]
    },
    {
     "name": "stdout",
     "output_type": "stream",
     "text": [
      "get_stock_value_ratio : Error processing ticker EICB: unsupported operand type(s) for /: 'float' and 'NoneType'\n"
     ]
    },
    {
     "name": "stderr",
     "output_type": "stream",
     "text": [
      "EICC: Data doesn't exist for startDate = 1684296000, endDate = 1684900800\n",
      "EICC: Data doesn't exist for startDate = 1684296000, endDate = 1684382400\n",
      "EICC: Data doesn't exist for startDate = 1684382400, endDate = 1684468800\n",
      "EICC: Data doesn't exist for startDate = 1684468800, endDate = 1684555200\n",
      "EICC: Data doesn't exist for startDate = 1684555200, endDate = 1684641600\n",
      "EICC: Data doesn't exist for startDate = 1684641600, endDate = 1684728000\n",
      "EICC: Data doesn't exist for startDate = 1684728000, endDate = 1684814400\n",
      "EICC: Data doesn't exist for startDate = 1684814400, endDate = 1684900800\n",
      "/var/folders/77/05l3f4755g34m9yb1kt19stm0000gn/T/ipykernel_41131/295811338.py:16: FutureWarning: The behavior of DataFrame concatenation with empty or all-NA entries is deprecated. In a future version, this will no longer exclude empty or all-NA columns when determining the result dtypes. To retain the old behavior, exclude the relevant entries before the concat operation.\n",
      "  df_target.loc[len(df_target)] = [ticker, ratio_ticker]\n"
     ]
    },
    {
     "name": "stdout",
     "output_type": "stream",
     "text": [
      "get_stock_value_ratio : Error processing ticker EICC: unsupported operand type(s) for /: 'float' and 'NoneType'\n"
     ]
    },
    {
     "name": "stderr",
     "output_type": "stream",
     "text": [
      "ELAB: Data doesn't exist for startDate = 1684296000, endDate = 1684900800\n",
      "ELAB: Data doesn't exist for startDate = 1684296000, endDate = 1684382400\n",
      "ELAB: Data doesn't exist for startDate = 1684382400, endDate = 1684468800\n",
      "ELAB: Data doesn't exist for startDate = 1684468800, endDate = 1684555200\n",
      "ELAB: Data doesn't exist for startDate = 1684555200, endDate = 1684641600\n",
      "ELAB: Data doesn't exist for startDate = 1684641600, endDate = 1684728000\n",
      "ELAB: Data doesn't exist for startDate = 1684728000, endDate = 1684814400\n",
      "ELAB: Data doesn't exist for startDate = 1684814400, endDate = 1684900800\n",
      "/var/folders/77/05l3f4755g34m9yb1kt19stm0000gn/T/ipykernel_41131/295811338.py:16: FutureWarning: The behavior of DataFrame concatenation with empty or all-NA entries is deprecated. In a future version, this will no longer exclude empty or all-NA columns when determining the result dtypes. To retain the old behavior, exclude the relevant entries before the concat operation.\n",
      "  df_target.loc[len(df_target)] = [ticker, ratio_ticker]\n"
     ]
    },
    {
     "name": "stdout",
     "output_type": "stream",
     "text": [
      "get_stock_value_ratio : Error processing ticker ELAB: unsupported operand type(s) for /: 'float' and 'NoneType'\n"
     ]
    },
    {
     "name": "stderr",
     "output_type": "stream",
     "text": [
      "ELPC: Data doesn't exist for startDate = 1684296000, endDate = 1684900800\n",
      "ELPC: Data doesn't exist for startDate = 1684296000, endDate = 1684382400\n",
      "ELPC: Data doesn't exist for startDate = 1684382400, endDate = 1684468800\n",
      "ELPC: Data doesn't exist for startDate = 1684468800, endDate = 1684555200\n",
      "ELPC: Data doesn't exist for startDate = 1684555200, endDate = 1684641600\n",
      "ELPC: Data doesn't exist for startDate = 1684641600, endDate = 1684728000\n",
      "ELPC: Data doesn't exist for startDate = 1684728000, endDate = 1684814400\n",
      "ELPC: Data doesn't exist for startDate = 1684814400, endDate = 1684900800\n",
      "/var/folders/77/05l3f4755g34m9yb1kt19stm0000gn/T/ipykernel_41131/295811338.py:16: FutureWarning: The behavior of DataFrame concatenation with empty or all-NA entries is deprecated. In a future version, this will no longer exclude empty or all-NA columns when determining the result dtypes. To retain the old behavior, exclude the relevant entries before the concat operation.\n",
      "  df_target.loc[len(df_target)] = [ticker, ratio_ticker]\n"
     ]
    },
    {
     "name": "stdout",
     "output_type": "stream",
     "text": [
      "get_stock_value_ratio : Error processing ticker ELPC: unsupported operand type(s) for /: 'float' and 'NoneType'\n"
     ]
    },
    {
     "name": "stderr",
     "output_type": "stream",
     "text": [
      "ELWS: Data doesn't exist for startDate = 1684296000, endDate = 1684900800\n",
      "ELWS: Data doesn't exist for startDate = 1684296000, endDate = 1684382400\n",
      "ELWS: Data doesn't exist for startDate = 1684382400, endDate = 1684468800\n",
      "ELWS: Data doesn't exist for startDate = 1684468800, endDate = 1684555200\n",
      "ELWS: Data doesn't exist for startDate = 1684555200, endDate = 1684641600\n",
      "ELWS: Data doesn't exist for startDate = 1684641600, endDate = 1684728000\n",
      "ELWS: Data doesn't exist for startDate = 1684728000, endDate = 1684814400\n",
      "ELWS: Data doesn't exist for startDate = 1684814400, endDate = 1684900800\n",
      "/var/folders/77/05l3f4755g34m9yb1kt19stm0000gn/T/ipykernel_41131/295811338.py:16: FutureWarning: The behavior of DataFrame concatenation with empty or all-NA entries is deprecated. In a future version, this will no longer exclude empty or all-NA columns when determining the result dtypes. To retain the old behavior, exclude the relevant entries before the concat operation.\n",
      "  df_target.loc[len(df_target)] = [ticker, ratio_ticker]\n"
     ]
    },
    {
     "name": "stdout",
     "output_type": "stream",
     "text": [
      "get_stock_value_ratio : Error processing ticker ELWS: unsupported operand type(s) for /: 'float' and 'NoneType'\n"
     ]
    },
    {
     "name": "stderr",
     "output_type": "stream",
     "text": [
      "EMLDW: Period '1mo' is invalid, must be one of ['1d', '5d']\n",
      "EMLDW: Period '1mo' is invalid, must be one of ['1d', '5d']\n",
      "EMLDW: Period '1mo' is invalid, must be one of ['1d', '5d']\n",
      "EMLDW: Period '1mo' is invalid, must be one of ['1d', '5d']\n",
      "EMLDW: Period '1mo' is invalid, must be one of ['1d', '5d']\n",
      "EMLDW: Period '1mo' is invalid, must be one of ['1d', '5d']\n",
      "EMLDW: Period '1mo' is invalid, must be one of ['1d', '5d']\n",
      "EMLDW: Period '1mo' is invalid, must be one of ['1d', '5d']\n",
      "/var/folders/77/05l3f4755g34m9yb1kt19stm0000gn/T/ipykernel_41131/295811338.py:16: FutureWarning: The behavior of DataFrame concatenation with empty or all-NA entries is deprecated. In a future version, this will no longer exclude empty or all-NA columns when determining the result dtypes. To retain the old behavior, exclude the relevant entries before the concat operation.\n",
      "  df_target.loc[len(df_target)] = [ticker, ratio_ticker]\n",
      "ENGNW: Period '1mo' is invalid, must be one of ['1d', '5d']\n",
      "ENGNW: Period '1mo' is invalid, must be one of ['1d', '5d']\n",
      "ENGNW: Period '1mo' is invalid, must be one of ['1d', '5d']\n",
      "ENGNW: Period '1mo' is invalid, must be one of ['1d', '5d']\n",
      "ENGNW: Period '1mo' is invalid, must be one of ['1d', '5d']\n",
      "ENGNW: Period '1mo' is invalid, must be one of ['1d', '5d']\n",
      "ENGNW: Period '1mo' is invalid, must be one of ['1d', '5d']\n",
      "ENGNW: Period '1mo' is invalid, must be one of ['1d', '5d']\n",
      "/var/folders/77/05l3f4755g34m9yb1kt19stm0000gn/T/ipykernel_41131/295811338.py:16: FutureWarning: The behavior of DataFrame concatenation with empty or all-NA entries is deprecated. In a future version, this will no longer exclude empty or all-NA columns when determining the result dtypes. To retain the old behavior, exclude the relevant entries before the concat operation.\n",
      "  df_target.loc[len(df_target)] = [ticker, ratio_ticker]\n",
      "EPRX: Data doesn't exist for startDate = 1684296000, endDate = 1684900800\n",
      "EPRX: Data doesn't exist for startDate = 1684296000, endDate = 1684382400\n",
      "EPRX: Data doesn't exist for startDate = 1684382400, endDate = 1684468800\n",
      "EPRX: Data doesn't exist for startDate = 1684468800, endDate = 1684555200\n",
      "EPRX: Data doesn't exist for startDate = 1684555200, endDate = 1684641600\n",
      "EPRX: Data doesn't exist for startDate = 1684641600, endDate = 1684728000\n",
      "EPRX: Data doesn't exist for startDate = 1684728000, endDate = 1684814400\n",
      "EPRX: Data doesn't exist for startDate = 1684814400, endDate = 1684900800\n",
      "/var/folders/77/05l3f4755g34m9yb1kt19stm0000gn/T/ipykernel_41131/295811338.py:16: FutureWarning: The behavior of DataFrame concatenation with empty or all-NA entries is deprecated. In a future version, this will no longer exclude empty or all-NA columns when determining the result dtypes. To retain the old behavior, exclude the relevant entries before the concat operation.\n",
      "  df_target.loc[len(df_target)] = [ticker, ratio_ticker]\n"
     ]
    },
    {
     "name": "stdout",
     "output_type": "stream",
     "text": [
      "get_stock_value_ratio : Error processing ticker EPRX: unsupported operand type(s) for /: 'float' and 'NoneType'\n"
     ]
    },
    {
     "name": "stderr",
     "output_type": "stream",
     "text": [
      "ESGLW: Period '1mo' is invalid, must be one of ['1d', '5d']\n",
      "ESGLW: Period '1mo' is invalid, must be one of ['1d', '5d']\n",
      "ESGLW: Period '1mo' is invalid, must be one of ['1d', '5d']\n",
      "ESGLW: Period '1mo' is invalid, must be one of ['1d', '5d']\n",
      "ESGLW: Period '1mo' is invalid, must be one of ['1d', '5d']\n",
      "ESGLW: Period '1mo' is invalid, must be one of ['1d', '5d']\n",
      "ESGLW: Period '1mo' is invalid, must be one of ['1d', '5d']\n",
      "ESGLW: Period '1mo' is invalid, must be one of ['1d', '5d']\n",
      "/var/folders/77/05l3f4755g34m9yb1kt19stm0000gn/T/ipykernel_41131/295811338.py:16: FutureWarning: The behavior of DataFrame concatenation with empty or all-NA entries is deprecated. In a future version, this will no longer exclude empty or all-NA columns when determining the result dtypes. To retain the old behavior, exclude the relevant entries before the concat operation.\n",
      "  df_target.loc[len(df_target)] = [ticker, ratio_ticker]\n",
      "ESHA: Data doesn't exist for startDate = 1684296000, endDate = 1684900800\n",
      "ESHA: Data doesn't exist for startDate = 1684296000, endDate = 1684382400\n",
      "ESHA: Data doesn't exist for startDate = 1684382400, endDate = 1684468800\n",
      "ESHA: Data doesn't exist for startDate = 1684468800, endDate = 1684555200\n",
      "ESHA: Data doesn't exist for startDate = 1684555200, endDate = 1684641600\n",
      "ESHA: Data doesn't exist for startDate = 1684641600, endDate = 1684728000\n",
      "ESHA: Data doesn't exist for startDate = 1684728000, endDate = 1684814400\n",
      "ESHA: Data doesn't exist for startDate = 1684814400, endDate = 1684900800\n",
      "/var/folders/77/05l3f4755g34m9yb1kt19stm0000gn/T/ipykernel_41131/295811338.py:16: FutureWarning: The behavior of DataFrame concatenation with empty or all-NA entries is deprecated. In a future version, this will no longer exclude empty or all-NA columns when determining the result dtypes. To retain the old behavior, exclude the relevant entries before the concat operation.\n",
      "  df_target.loc[len(df_target)] = [ticker, ratio_ticker]\n"
     ]
    },
    {
     "name": "stdout",
     "output_type": "stream",
     "text": [
      "get_stock_value_ratio : Error processing ticker ESHA: unsupported operand type(s) for /: 'float' and 'NoneType'\n"
     ]
    },
    {
     "name": "stderr",
     "output_type": "stream",
     "text": [
      "ESLAW: Period '1mo' is invalid, must be one of ['1d', '5d']\n",
      "ESLAW: Period '1mo' is invalid, must be one of ['1d', '5d']\n",
      "ESLAW: Period '1mo' is invalid, must be one of ['1d', '5d']\n",
      "ESLAW: Period '1mo' is invalid, must be one of ['1d', '5d']\n",
      "ESLAW: Period '1mo' is invalid, must be one of ['1d', '5d']\n",
      "ESLAW: Period '1mo' is invalid, must be one of ['1d', '5d']\n",
      "ESLAW: Period '1mo' is invalid, must be one of ['1d', '5d']\n",
      "ESLAW: Period '1mo' is invalid, must be one of ['1d', '5d']\n",
      "/var/folders/77/05l3f4755g34m9yb1kt19stm0000gn/T/ipykernel_41131/295811338.py:16: FutureWarning: The behavior of DataFrame concatenation with empty or all-NA entries is deprecated. In a future version, this will no longer exclude empty or all-NA columns when determining the result dtypes. To retain the old behavior, exclude the relevant entries before the concat operation.\n",
      "  df_target.loc[len(df_target)] = [ticker, ratio_ticker]\n",
      "EUDAW: Period '1mo' is invalid, must be one of ['1d', '5d']\n",
      "EUDAW: Period '1mo' is invalid, must be one of ['1d', '5d']\n",
      "EUDAW: Period '1mo' is invalid, must be one of ['1d', '5d']\n",
      "EUDAW: Period '1mo' is invalid, must be one of ['1d', '5d']\n",
      "EUDAW: Period '1mo' is invalid, must be one of ['1d', '5d']\n",
      "EUDAW: Period '1mo' is invalid, must be one of ['1d', '5d']\n",
      "EUDAW: Period '1mo' is invalid, must be one of ['1d', '5d']\n",
      "EUDAW: Period '1mo' is invalid, must be one of ['1d', '5d']\n",
      "/var/folders/77/05l3f4755g34m9yb1kt19stm0000gn/T/ipykernel_41131/295811338.py:16: FutureWarning: The behavior of DataFrame concatenation with empty or all-NA entries is deprecated. In a future version, this will no longer exclude empty or all-NA columns when determining the result dtypes. To retain the old behavior, exclude the relevant entries before the concat operation.\n",
      "  df_target.loc[len(df_target)] = [ticker, ratio_ticker]\n",
      "EVGRW: Period '1mo' is invalid, must be one of ['1d', '5d']\n",
      "EVGRW: Period '1mo' is invalid, must be one of ['1d', '5d']\n",
      "EVGRW: Period '1mo' is invalid, must be one of ['1d', '5d']\n",
      "EVGRW: Period '1mo' is invalid, must be one of ['1d', '5d']\n",
      "EVGRW: Period '1mo' is invalid, must be one of ['1d', '5d']\n",
      "EVGRW: Period '1mo' is invalid, must be one of ['1d', '5d']\n",
      "EVGRW: Period '1mo' is invalid, must be one of ['1d', '5d']\n",
      "EVGRW: Period '1mo' is invalid, must be one of ['1d', '5d']\n",
      "/var/folders/77/05l3f4755g34m9yb1kt19stm0000gn/T/ipykernel_41131/295811338.py:16: FutureWarning: The behavior of DataFrame concatenation with empty or all-NA entries is deprecated. In a future version, this will no longer exclude empty or all-NA columns when determining the result dtypes. To retain the old behavior, exclude the relevant entries before the concat operation.\n",
      "  df_target.loc[len(df_target)] = [ticker, ratio_ticker]\n",
      "EVLVW: Period '1mo' is invalid, must be one of ['1d', '5d']\n",
      "EVLVW: Period '1mo' is invalid, must be one of ['1d', '5d']\n",
      "EVLVW: Period '1mo' is invalid, must be one of ['1d', '5d']\n",
      "EVLVW: Period '1mo' is invalid, must be one of ['1d', '5d']\n",
      "EVLVW: Period '1mo' is invalid, must be one of ['1d', '5d']\n",
      "EVLVW: Period '1mo' is invalid, must be one of ['1d', '5d']\n",
      "EVLVW: Period '1mo' is invalid, must be one of ['1d', '5d']\n",
      "EVLVW: Period '1mo' is invalid, must be one of ['1d', '5d']\n",
      "/var/folders/77/05l3f4755g34m9yb1kt19stm0000gn/T/ipykernel_41131/295811338.py:16: FutureWarning: The behavior of DataFrame concatenation with empty or all-NA entries is deprecated. In a future version, this will no longer exclude empty or all-NA columns when determining the result dtypes. To retain the old behavior, exclude the relevant entries before the concat operation.\n",
      "  df_target.loc[len(df_target)] = [ticker, ratio_ticker]\n",
      "EXTO: Data doesn't exist for startDate = 1684296000, endDate = 1684900800\n",
      "EXTO: Data doesn't exist for startDate = 1684296000, endDate = 1684382400\n",
      "EXTO: Data doesn't exist for startDate = 1684382400, endDate = 1684468800\n",
      "EXTO: Data doesn't exist for startDate = 1684468800, endDate = 1684555200\n",
      "EXTO: Data doesn't exist for startDate = 1684555200, endDate = 1684641600\n",
      "EXTO: Data doesn't exist for startDate = 1684641600, endDate = 1684728000\n",
      "EXTO: Data doesn't exist for startDate = 1684728000, endDate = 1684814400\n",
      "EXTO: Data doesn't exist for startDate = 1684814400, endDate = 1684900800\n",
      "/var/folders/77/05l3f4755g34m9yb1kt19stm0000gn/T/ipykernel_41131/295811338.py:16: FutureWarning: The behavior of DataFrame concatenation with empty or all-NA entries is deprecated. In a future version, this will no longer exclude empty or all-NA columns when determining the result dtypes. To retain the old behavior, exclude the relevant entries before the concat operation.\n",
      "  df_target.loc[len(df_target)] = [ticker, ratio_ticker]\n"
     ]
    },
    {
     "name": "stdout",
     "output_type": "stream",
     "text": [
      "get_stock_value_ratio : Error processing ticker EXTO: unsupported operand type(s) for /: 'float' and 'NoneType'\n"
     ]
    },
    {
     "name": "stderr",
     "output_type": "stream",
     "text": [
      "FAASW: Period '1mo' is invalid, must be one of ['1d', '5d']\n",
      "FAASW: Period '1mo' is invalid, must be one of ['1d', '5d']\n",
      "FAASW: Period '1mo' is invalid, must be one of ['1d', '5d']\n",
      "FAASW: Period '1mo' is invalid, must be one of ['1d', '5d']\n",
      "FAASW: Period '1mo' is invalid, must be one of ['1d', '5d']\n",
      "FAASW: Period '1mo' is invalid, must be one of ['1d', '5d']\n",
      "FAASW: Period '1mo' is invalid, must be one of ['1d', '5d']\n",
      "FAASW: Period '1mo' is invalid, must be one of ['1d', '5d']\n",
      "/var/folders/77/05l3f4755g34m9yb1kt19stm0000gn/T/ipykernel_41131/295811338.py:16: FutureWarning: The behavior of DataFrame concatenation with empty or all-NA entries is deprecated. In a future version, this will no longer exclude empty or all-NA columns when determining the result dtypes. To retain the old behavior, exclude the relevant entries before the concat operation.\n",
      "  df_target.loc[len(df_target)] = [ticker, ratio_ticker]\n",
      "FATBW: Period '1mo' is invalid, must be one of ['1d', '5d']\n",
      "FATBW: Period '1mo' is invalid, must be one of ['1d', '5d']\n",
      "FATBW: Period '1mo' is invalid, must be one of ['1d', '5d']\n",
      "FATBW: Period '1mo' is invalid, must be one of ['1d', '5d']\n",
      "FATBW: Period '1mo' is invalid, must be one of ['1d', '5d']\n",
      "FATBW: Period '1mo' is invalid, must be one of ['1d', '5d']\n",
      "FATBW: Period '1mo' is invalid, must be one of ['1d', '5d']\n",
      "FATBW: Period '1mo' is invalid, must be one of ['1d', '5d']\n",
      "/var/folders/77/05l3f4755g34m9yb1kt19stm0000gn/T/ipykernel_41131/295811338.py:16: FutureWarning: The behavior of DataFrame concatenation with empty or all-NA entries is deprecated. In a future version, this will no longer exclude empty or all-NA columns when determining the result dtypes. To retain the old behavior, exclude the relevant entries before the concat operation.\n",
      "  df_target.loc[len(df_target)] = [ticker, ratio_ticker]\n",
      "FBLG: Data doesn't exist for startDate = 1684296000, endDate = 1684900800\n",
      "FBLG: Data doesn't exist for startDate = 1684296000, endDate = 1684382400\n",
      "FBLG: Data doesn't exist for startDate = 1684382400, endDate = 1684468800\n",
      "FBLG: Data doesn't exist for startDate = 1684468800, endDate = 1684555200\n",
      "FBLG: Data doesn't exist for startDate = 1684555200, endDate = 1684641600\n",
      "FBLG: Data doesn't exist for startDate = 1684641600, endDate = 1684728000\n",
      "FBLG: Data doesn't exist for startDate = 1684728000, endDate = 1684814400\n",
      "FBLG: Data doesn't exist for startDate = 1684814400, endDate = 1684900800\n",
      "/var/folders/77/05l3f4755g34m9yb1kt19stm0000gn/T/ipykernel_41131/295811338.py:16: FutureWarning: The behavior of DataFrame concatenation with empty or all-NA entries is deprecated. In a future version, this will no longer exclude empty or all-NA columns when determining the result dtypes. To retain the old behavior, exclude the relevant entries before the concat operation.\n",
      "  df_target.loc[len(df_target)] = [ticker, ratio_ticker]\n"
     ]
    },
    {
     "name": "stdout",
     "output_type": "stream",
     "text": [
      "get_stock_value_ratio : Error processing ticker FBLG: unsupported operand type(s) for /: 'float' and 'NoneType'\n"
     ]
    },
    {
     "name": "stderr",
     "output_type": "stream",
     "text": [
      "FBYD: Data doesn't exist for startDate = 1684296000, endDate = 1684900800\n",
      "FBYD: Data doesn't exist for startDate = 1684296000, endDate = 1684382400\n",
      "FBYD: Data doesn't exist for startDate = 1684382400, endDate = 1684468800\n",
      "FBYD: Data doesn't exist for startDate = 1684468800, endDate = 1684555200\n",
      "FBYD: Data doesn't exist for startDate = 1684555200, endDate = 1684641600\n",
      "FBYD: Data doesn't exist for startDate = 1684641600, endDate = 1684728000\n",
      "FBYD: Data doesn't exist for startDate = 1684728000, endDate = 1684814400\n",
      "FBYD: Data doesn't exist for startDate = 1684814400, endDate = 1684900800\n",
      "/var/folders/77/05l3f4755g34m9yb1kt19stm0000gn/T/ipykernel_41131/295811338.py:16: FutureWarning: The behavior of DataFrame concatenation with empty or all-NA entries is deprecated. In a future version, this will no longer exclude empty or all-NA columns when determining the result dtypes. To retain the old behavior, exclude the relevant entries before the concat operation.\n",
      "  df_target.loc[len(df_target)] = [ticker, ratio_ticker]\n",
      "FBYDW: Period '1mo' is invalid, must be one of ['1d', '5d']\n",
      "FBYDW: Period '1mo' is invalid, must be one of ['1d', '5d']\n"
     ]
    },
    {
     "name": "stdout",
     "output_type": "stream",
     "text": [
      "get_stock_value_ratio : Error processing ticker FBYD: unsupported operand type(s) for /: 'float' and 'NoneType'\n"
     ]
    },
    {
     "name": "stderr",
     "output_type": "stream",
     "text": [
      "FBYDW: Period '1mo' is invalid, must be one of ['1d', '5d']\n",
      "FBYDW: Period '1mo' is invalid, must be one of ['1d', '5d']\n",
      "FBYDW: Period '1mo' is invalid, must be one of ['1d', '5d']\n",
      "FBYDW: Period '1mo' is invalid, must be one of ['1d', '5d']\n",
      "FBYDW: Period '1mo' is invalid, must be one of ['1d', '5d']\n",
      "FBYDW: Period '1mo' is invalid, must be one of ['1d', '5d']\n",
      "/var/folders/77/05l3f4755g34m9yb1kt19stm0000gn/T/ipykernel_41131/295811338.py:16: FutureWarning: The behavior of DataFrame concatenation with empty or all-NA entries is deprecated. In a future version, this will no longer exclude empty or all-NA columns when determining the result dtypes. To retain the old behavior, exclude the relevant entries before the concat operation.\n",
      "  df_target.loc[len(df_target)] = [ticker, ratio_ticker]\n",
      "FEBO: Data doesn't exist for startDate = 1684296000, endDate = 1684900800\n",
      "FEBO: Data doesn't exist for startDate = 1684296000, endDate = 1684382400\n",
      "FEBO: Data doesn't exist for startDate = 1684382400, endDate = 1684468800\n",
      "FEBO: Data doesn't exist for startDate = 1684468800, endDate = 1684555200\n",
      "FEBO: Data doesn't exist for startDate = 1684555200, endDate = 1684641600\n",
      "FEBO: Data doesn't exist for startDate = 1684641600, endDate = 1684728000\n",
      "FEBO: Data doesn't exist for startDate = 1684728000, endDate = 1684814400\n",
      "FEBO: Data doesn't exist for startDate = 1684814400, endDate = 1684900800\n",
      "/var/folders/77/05l3f4755g34m9yb1kt19stm0000gn/T/ipykernel_41131/295811338.py:16: FutureWarning: The behavior of DataFrame concatenation with empty or all-NA entries is deprecated. In a future version, this will no longer exclude empty or all-NA columns when determining the result dtypes. To retain the old behavior, exclude the relevant entries before the concat operation.\n",
      "  df_target.loc[len(df_target)] = [ticker, ratio_ticker]\n"
     ]
    },
    {
     "name": "stdout",
     "output_type": "stream",
     "text": [
      "get_stock_value_ratio : Error processing ticker FEBO: unsupported operand type(s) for /: 'float' and 'NoneType'\n"
     ]
    },
    {
     "name": "stderr",
     "output_type": "stream",
     "text": [
      "FEXDW: Period '1mo' is invalid, must be one of ['1d', '5d']\n",
      "FEXDW: Period '1mo' is invalid, must be one of ['1d', '5d']\n",
      "FEXDW: Period '1mo' is invalid, must be one of ['1d', '5d']\n",
      "FEXDW: Period '1mo' is invalid, must be one of ['1d', '5d']\n",
      "FEXDW: Period '1mo' is invalid, must be one of ['1d', '5d']\n",
      "FEXDW: Period '1mo' is invalid, must be one of ['1d', '5d']\n",
      "FEXDW: Period '1mo' is invalid, must be one of ['1d', '5d']\n",
      "FEXDW: Period '1mo' is invalid, must be one of ['1d', '5d']\n",
      "/var/folders/77/05l3f4755g34m9yb1kt19stm0000gn/T/ipykernel_41131/295811338.py:16: FutureWarning: The behavior of DataFrame concatenation with empty or all-NA entries is deprecated. In a future version, this will no longer exclude empty or all-NA columns when determining the result dtypes. To retain the old behavior, exclude the relevant entries before the concat operation.\n",
      "  df_target.loc[len(df_target)] = [ticker, ratio_ticker]\n",
      "FFIEW: Period '1mo' is invalid, must be one of ['1d', '5d']\n",
      "FFIEW: Period '1mo' is invalid, must be one of ['1d', '5d']\n",
      "FFIEW: Period '1mo' is invalid, must be one of ['1d', '5d']\n",
      "FFIEW: Period '1mo' is invalid, must be one of ['1d', '5d']\n",
      "FFIEW: Period '1mo' is invalid, must be one of ['1d', '5d']\n",
      "FFIEW: Period '1mo' is invalid, must be one of ['1d', '5d']\n",
      "FFIEW: Period '1mo' is invalid, must be one of ['1d', '5d']\n",
      "FFIEW: Period '1mo' is invalid, must be one of ['1d', '5d']\n",
      "/var/folders/77/05l3f4755g34m9yb1kt19stm0000gn/T/ipykernel_41131/295811338.py:16: FutureWarning: The behavior of DataFrame concatenation with empty or all-NA entries is deprecated. In a future version, this will no longer exclude empty or all-NA columns when determining the result dtypes. To retain the old behavior, exclude the relevant entries before the concat operation.\n",
      "  df_target.loc[len(df_target)] = [ticker, ratio_ticker]\n",
      "FGIWW: Period '1mo' is invalid, must be one of ['1d', '5d']\n",
      "FGIWW: Period '1mo' is invalid, must be one of ['1d', '5d']\n",
      "FGIWW: Period '1mo' is invalid, must be one of ['1d', '5d']\n",
      "FGIWW: Period '1mo' is invalid, must be one of ['1d', '5d']\n",
      "FGIWW: Period '1mo' is invalid, must be one of ['1d', '5d']\n",
      "FGIWW: Period '1mo' is invalid, must be one of ['1d', '5d']\n",
      "FGIWW: Period '1mo' is invalid, must be one of ['1d', '5d']\n",
      "FGIWW: Period '1mo' is invalid, must be one of ['1d', '5d']\n",
      "/var/folders/77/05l3f4755g34m9yb1kt19stm0000gn/T/ipykernel_41131/295811338.py:16: FutureWarning: The behavior of DataFrame concatenation with empty or all-NA entries is deprecated. In a future version, this will no longer exclude empty or all-NA columns when determining the result dtypes. To retain the old behavior, exclude the relevant entries before the concat operation.\n",
      "  df_target.loc[len(df_target)] = [ticker, ratio_ticker]\n",
      "FIACW: Period '1mo' is invalid, must be one of ['1d', '5d']\n",
      "FIACW: Period '1mo' is invalid, must be one of ['1d', '5d']\n",
      "FIACW: Period '1mo' is invalid, must be one of ['1d', '5d']\n",
      "FIACW: Period '1mo' is invalid, must be one of ['1d', '5d']\n",
      "FIACW: Period '1mo' is invalid, must be one of ['1d', '5d']\n",
      "FIACW: Period '1mo' is invalid, must be one of ['1d', '5d']\n",
      "FIACW: Period '1mo' is invalid, must be one of ['1d', '5d']\n",
      "FIACW: Period '1mo' is invalid, must be one of ['1d', '5d']\n",
      "/var/folders/77/05l3f4755g34m9yb1kt19stm0000gn/T/ipykernel_41131/295811338.py:16: FutureWarning: The behavior of DataFrame concatenation with empty or all-NA entries is deprecated. In a future version, this will no longer exclude empty or all-NA columns when determining the result dtypes. To retain the old behavior, exclude the relevant entries before the concat operation.\n",
      "  df_target.loc[len(df_target)] = [ticker, ratio_ticker]\n",
      "FIHL: Data doesn't exist for startDate = 1684296000, endDate = 1684900800\n",
      "FIHL: Data doesn't exist for startDate = 1684296000, endDate = 1684382400\n",
      "FIHL: Data doesn't exist for startDate = 1684382400, endDate = 1684468800\n",
      "FIHL: Data doesn't exist for startDate = 1684468800, endDate = 1684555200\n",
      "FIHL: Data doesn't exist for startDate = 1684555200, endDate = 1684641600\n",
      "FIHL: Data doesn't exist for startDate = 1684641600, endDate = 1684728000\n",
      "FIHL: Data doesn't exist for startDate = 1684728000, endDate = 1684814400\n",
      "FIHL: Data doesn't exist for startDate = 1684814400, endDate = 1684900800\n",
      "/var/folders/77/05l3f4755g34m9yb1kt19stm0000gn/T/ipykernel_41131/295811338.py:16: FutureWarning: The behavior of DataFrame concatenation with empty or all-NA entries is deprecated. In a future version, this will no longer exclude empty or all-NA columns when determining the result dtypes. To retain the old behavior, exclude the relevant entries before the concat operation.\n",
      "  df_target.loc[len(df_target)] = [ticker, ratio_ticker]\n"
     ]
    },
    {
     "name": "stdout",
     "output_type": "stream",
     "text": [
      "get_stock_value_ratio : Error processing ticker FIHL: unsupported operand type(s) for /: 'float' and 'NoneType'\n"
     ]
    },
    {
     "name": "stderr",
     "output_type": "stream",
     "text": [
      "FLFVW: Period '1mo' is invalid, must be one of ['1d', '5d']\n",
      "FLFVW: Period '1mo' is invalid, must be one of ['1d', '5d']\n",
      "FLFVW: Period '1mo' is invalid, must be one of ['1d', '5d']\n",
      "FLFVW: Period '1mo' is invalid, must be one of ['1d', '5d']\n",
      "FLFVW: Period '1mo' is invalid, must be one of ['1d', '5d']\n",
      "FLFVW: Period '1mo' is invalid, must be one of ['1d', '5d']\n",
      "FLFVW: Period '1mo' is invalid, must be one of ['1d', '5d']\n",
      "FLFVW: Period '1mo' is invalid, must be one of ['1d', '5d']\n",
      "/var/folders/77/05l3f4755g34m9yb1kt19stm0000gn/T/ipykernel_41131/295811338.py:16: FutureWarning: The behavior of DataFrame concatenation with empty or all-NA entries is deprecated. In a future version, this will no longer exclude empty or all-NA columns when determining the result dtypes. To retain the old behavior, exclude the relevant entries before the concat operation.\n",
      "  df_target.loc[len(df_target)] = [ticker, ratio_ticker]\n",
      "FLYX: Data doesn't exist for startDate = 1684296000, endDate = 1684900800\n",
      "FLYX: Data doesn't exist for startDate = 1684296000, endDate = 1684382400\n",
      "FLYX: Data doesn't exist for startDate = 1684382400, endDate = 1684468800\n",
      "FLYX: Data doesn't exist for startDate = 1684468800, endDate = 1684555200\n",
      "FLYX: Data doesn't exist for startDate = 1684555200, endDate = 1684641600\n",
      "FLYX: Data doesn't exist for startDate = 1684641600, endDate = 1684728000\n",
      "FLYX: Data doesn't exist for startDate = 1684728000, endDate = 1684814400\n",
      "FLYX: Data doesn't exist for startDate = 1684814400, endDate = 1684900800\n",
      "/var/folders/77/05l3f4755g34m9yb1kt19stm0000gn/T/ipykernel_41131/295811338.py:16: FutureWarning: The behavior of DataFrame concatenation with empty or all-NA entries is deprecated. In a future version, this will no longer exclude empty or all-NA columns when determining the result dtypes. To retain the old behavior, exclude the relevant entries before the concat operation.\n",
      "  df_target.loc[len(df_target)] = [ticker, ratio_ticker]\n"
     ]
    },
    {
     "name": "stdout",
     "output_type": "stream",
     "text": [
      "get_stock_value_ratio : Error processing ticker FLYX: unsupported operand type(s) for /: 'float' and 'NoneType'\n"
     ]
    },
    {
     "name": "stderr",
     "output_type": "stream",
     "text": [
      "FMST: Data doesn't exist for startDate = 1684296000, endDate = 1684900800\n",
      "FMST: Data doesn't exist for startDate = 1684296000, endDate = 1684382400\n",
      "FMST: Data doesn't exist for startDate = 1684382400, endDate = 1684468800\n",
      "FMST: Data doesn't exist for startDate = 1684468800, endDate = 1684555200\n",
      "FMST: Data doesn't exist for startDate = 1684555200, endDate = 1684641600\n",
      "FMST: Data doesn't exist for startDate = 1684641600, endDate = 1684728000\n",
      "FMST: Data doesn't exist for startDate = 1684728000, endDate = 1684814400\n",
      "FMST: Data doesn't exist for startDate = 1684814400, endDate = 1684900800\n",
      "/var/folders/77/05l3f4755g34m9yb1kt19stm0000gn/T/ipykernel_41131/295811338.py:16: FutureWarning: The behavior of DataFrame concatenation with empty or all-NA entries is deprecated. In a future version, this will no longer exclude empty or all-NA columns when determining the result dtypes. To retain the old behavior, exclude the relevant entries before the concat operation.\n",
      "  df_target.loc[len(df_target)] = [ticker, ratio_ticker]\n"
     ]
    },
    {
     "name": "stdout",
     "output_type": "stream",
     "text": [
      "get_stock_value_ratio : Error processing ticker FMST: unsupported operand type(s) for /: 'float' and 'NoneType'\n"
     ]
    },
    {
     "name": "stderr",
     "output_type": "stream",
     "text": [
      "FREEW: Period '1mo' is invalid, must be one of ['1d', '5d']\n",
      "FREEW: Period '1mo' is invalid, must be one of ['1d', '5d']\n",
      "FREEW: Period '1mo' is invalid, must be one of ['1d', '5d']\n",
      "FREEW: Period '1mo' is invalid, must be one of ['1d', '5d']\n",
      "FREEW: Period '1mo' is invalid, must be one of ['1d', '5d']\n",
      "FREEW: Period '1mo' is invalid, must be one of ['1d', '5d']\n",
      "FREEW: Period '1mo' is invalid, must be one of ['1d', '5d']\n",
      "FREEW: Period '1mo' is invalid, must be one of ['1d', '5d']\n",
      "/var/folders/77/05l3f4755g34m9yb1kt19stm0000gn/T/ipykernel_41131/295811338.py:16: FutureWarning: The behavior of DataFrame concatenation with empty or all-NA entries is deprecated. In a future version, this will no longer exclude empty or all-NA columns when determining the result dtypes. To retain the old behavior, exclude the relevant entries before the concat operation.\n",
      "  df_target.loc[len(df_target)] = [ticker, ratio_ticker]\n",
      "FTEL: Data doesn't exist for startDate = 1684296000, endDate = 1684900800\n",
      "FTEL: Data doesn't exist for startDate = 1684296000, endDate = 1684382400\n",
      "FTEL: Data doesn't exist for startDate = 1684382400, endDate = 1684468800\n",
      "FTEL: Data doesn't exist for startDate = 1684468800, endDate = 1684555200\n",
      "FTEL: Data doesn't exist for startDate = 1684555200, endDate = 1684641600\n",
      "FTEL: Data doesn't exist for startDate = 1684641600, endDate = 1684728000\n",
      "FTEL: Data doesn't exist for startDate = 1684728000, endDate = 1684814400\n",
      "FTEL: Data doesn't exist for startDate = 1684814400, endDate = 1684900800\n",
      "/var/folders/77/05l3f4755g34m9yb1kt19stm0000gn/T/ipykernel_41131/295811338.py:16: FutureWarning: The behavior of DataFrame concatenation with empty or all-NA entries is deprecated. In a future version, this will no longer exclude empty or all-NA columns when determining the result dtypes. To retain the old behavior, exclude the relevant entries before the concat operation.\n",
      "  df_target.loc[len(df_target)] = [ticker, ratio_ticker]\n"
     ]
    },
    {
     "name": "stdout",
     "output_type": "stream",
     "text": [
      "get_stock_value_ratio : Error processing ticker FTEL: unsupported operand type(s) for /: 'float' and 'NoneType'\n"
     ]
    },
    {
     "name": "stderr",
     "output_type": "stream",
     "text": [
      "FTRE: Data doesn't exist for startDate = 1684296000, endDate = 1684900800\n",
      "FTRE: Data doesn't exist for startDate = 1684296000, endDate = 1684382400\n",
      "FTRE: Data doesn't exist for startDate = 1684382400, endDate = 1684468800\n",
      "FTRE: Data doesn't exist for startDate = 1684468800, endDate = 1684555200\n",
      "FTRE: Data doesn't exist for startDate = 1684555200, endDate = 1684641600\n",
      "FTRE: Data doesn't exist for startDate = 1684641600, endDate = 1684728000\n",
      "FTRE: Data doesn't exist for startDate = 1684728000, endDate = 1684814400\n",
      "FTRE: Data doesn't exist for startDate = 1684814400, endDate = 1684900800\n",
      "/var/folders/77/05l3f4755g34m9yb1kt19stm0000gn/T/ipykernel_41131/295811338.py:16: FutureWarning: The behavior of DataFrame concatenation with empty or all-NA entries is deprecated. In a future version, this will no longer exclude empty or all-NA columns when determining the result dtypes. To retain the old behavior, exclude the relevant entries before the concat operation.\n",
      "  df_target.loc[len(df_target)] = [ticker, ratio_ticker]\n"
     ]
    },
    {
     "name": "stdout",
     "output_type": "stream",
     "text": [
      "get_stock_value_ratio : Error processing ticker FTRE: unsupported operand type(s) for /: 'float' and 'NoneType'\n"
     ]
    },
    {
     "name": "stderr",
     "output_type": "stream",
     "text": [
      "FUFUW: Period '1mo' is invalid, must be one of ['1d', '5d']\n",
      "FUFUW: Period '1mo' is invalid, must be one of ['1d', '5d']\n",
      "FUFUW: Period '1mo' is invalid, must be one of ['1d', '5d']\n",
      "FUFUW: Period '1mo' is invalid, must be one of ['1d', '5d']\n",
      "FUFUW: Period '1mo' is invalid, must be one of ['1d', '5d']\n",
      "FUFUW: Period '1mo' is invalid, must be one of ['1d', '5d']\n",
      "FUFUW: Period '1mo' is invalid, must be one of ['1d', '5d']\n",
      "FUFUW: Period '1mo' is invalid, must be one of ['1d', '5d']\n",
      "/var/folders/77/05l3f4755g34m9yb1kt19stm0000gn/T/ipykernel_41131/295811338.py:16: FutureWarning: The behavior of DataFrame concatenation with empty or all-NA entries is deprecated. In a future version, this will no longer exclude empty or all-NA columns when determining the result dtypes. To retain the old behavior, exclude the relevant entries before the concat operation.\n",
      "  df_target.loc[len(df_target)] = [ticker, ratio_ticker]\n",
      "GBBKW: Period '1mo' is invalid, must be one of ['1d', '5d']\n",
      "GBBKW: Period '1mo' is invalid, must be one of ['1d', '5d']\n",
      "GBBKW: Period '1mo' is invalid, must be one of ['1d', '5d']\n",
      "GBBKW: Period '1mo' is invalid, must be one of ['1d', '5d']\n",
      "GBBKW: Period '1mo' is invalid, must be one of ['1d', '5d']\n",
      "GBBKW: Period '1mo' is invalid, must be one of ['1d', '5d']\n",
      "GBBKW: Period '1mo' is invalid, must be one of ['1d', '5d']\n",
      "GBBKW: Period '1mo' is invalid, must be one of ['1d', '5d']\n",
      "/var/folders/77/05l3f4755g34m9yb1kt19stm0000gn/T/ipykernel_41131/295811338.py:16: FutureWarning: The behavior of DataFrame concatenation with empty or all-NA entries is deprecated. In a future version, this will no longer exclude empty or all-NA columns when determining the result dtypes. To retain the old behavior, exclude the relevant entries before the concat operation.\n",
      "  df_target.loc[len(df_target)] = [ticker, ratio_ticker]\n",
      "GCMGW: Period '1mo' is invalid, must be one of ['1d', '5d']\n",
      "GCMGW: Period '1mo' is invalid, must be one of ['1d', '5d']\n",
      "GCMGW: Period '1mo' is invalid, must be one of ['1d', '5d']\n",
      "GCMGW: Period '1mo' is invalid, must be one of ['1d', '5d']\n",
      "GCMGW: Period '1mo' is invalid, must be one of ['1d', '5d']\n",
      "GCMGW: Period '1mo' is invalid, must be one of ['1d', '5d']\n",
      "GCMGW: Period '1mo' is invalid, must be one of ['1d', '5d']\n",
      "GCMGW: Period '1mo' is invalid, must be one of ['1d', '5d']\n",
      "/var/folders/77/05l3f4755g34m9yb1kt19stm0000gn/T/ipykernel_41131/295811338.py:16: FutureWarning: The behavior of DataFrame concatenation with empty or all-NA entries is deprecated. In a future version, this will no longer exclude empty or all-NA columns when determining the result dtypes. To retain the old behavior, exclude the relevant entries before the concat operation.\n",
      "  df_target.loc[len(df_target)] = [ticker, ratio_ticker]\n",
      "GDEVW: Period '1mo' is invalid, must be one of ['1d', '5d']\n",
      "GDEVW: Period '1mo' is invalid, must be one of ['1d', '5d']\n",
      "GDEVW: Period '1mo' is invalid, must be one of ['1d', '5d']\n",
      "GDEVW: Period '1mo' is invalid, must be one of ['1d', '5d']\n",
      "GDEVW: Period '1mo' is invalid, must be one of ['1d', '5d']\n",
      "GDEVW: Period '1mo' is invalid, must be one of ['1d', '5d']\n",
      "GDEVW: Period '1mo' is invalid, must be one of ['1d', '5d']\n",
      "GDEVW: Period '1mo' is invalid, must be one of ['1d', '5d']\n",
      "/var/folders/77/05l3f4755g34m9yb1kt19stm0000gn/T/ipykernel_41131/295811338.py:16: FutureWarning: The behavior of DataFrame concatenation with empty or all-NA entries is deprecated. In a future version, this will no longer exclude empty or all-NA columns when determining the result dtypes. To retain the old behavior, exclude the relevant entries before the concat operation.\n",
      "  df_target.loc[len(df_target)] = [ticker, ratio_ticker]\n",
      "GDSTW: Period '1mo' is invalid, must be one of ['1d', '5d']\n",
      "GDSTW: Period '1mo' is invalid, must be one of ['1d', '5d']\n",
      "GDSTW: Period '1mo' is invalid, must be one of ['1d', '5d']\n",
      "GDSTW: Period '1mo' is invalid, must be one of ['1d', '5d']\n",
      "GDSTW: Period '1mo' is invalid, must be one of ['1d', '5d']\n",
      "GDSTW: Period '1mo' is invalid, must be one of ['1d', '5d']\n",
      "GDSTW: Period '1mo' is invalid, must be one of ['1d', '5d']\n",
      "GDSTW: Period '1mo' is invalid, must be one of ['1d', '5d']\n",
      "/var/folders/77/05l3f4755g34m9yb1kt19stm0000gn/T/ipykernel_41131/295811338.py:16: FutureWarning: The behavior of DataFrame concatenation with empty or all-NA entries is deprecated. In a future version, this will no longer exclude empty or all-NA columns when determining the result dtypes. To retain the old behavior, exclude the relevant entries before the concat operation.\n",
      "  df_target.loc[len(df_target)] = [ticker, ratio_ticker]\n",
      "GENK: Data doesn't exist for startDate = 1684296000, endDate = 1684900800\n",
      "GENK: Data doesn't exist for startDate = 1684296000, endDate = 1684382400\n",
      "GENK: Data doesn't exist for startDate = 1684382400, endDate = 1684468800\n",
      "GENK: Data doesn't exist for startDate = 1684468800, endDate = 1684555200\n",
      "GENK: Data doesn't exist for startDate = 1684555200, endDate = 1684641600\n",
      "GENK: Data doesn't exist for startDate = 1684641600, endDate = 1684728000\n",
      "GENK: Data doesn't exist for startDate = 1684728000, endDate = 1684814400\n",
      "GENK: Data doesn't exist for startDate = 1684814400, endDate = 1684900800\n",
      "/var/folders/77/05l3f4755g34m9yb1kt19stm0000gn/T/ipykernel_41131/295811338.py:16: FutureWarning: The behavior of DataFrame concatenation with empty or all-NA entries is deprecated. In a future version, this will no longer exclude empty or all-NA columns when determining the result dtypes. To retain the old behavior, exclude the relevant entries before the concat operation.\n",
      "  df_target.loc[len(df_target)] = [ticker, ratio_ticker]\n"
     ]
    },
    {
     "name": "stdout",
     "output_type": "stream",
     "text": [
      "get_stock_value_ratio : Error processing ticker GENK: unsupported operand type(s) for /: 'float' and 'NoneType'\n"
     ]
    },
    {
     "name": "stderr",
     "output_type": "stream",
     "text": [
      "GEV: Data doesn't exist for startDate = 1684296000, endDate = 1684900800\n",
      "GEV: Data doesn't exist for startDate = 1684296000, endDate = 1684382400\n",
      "GEV: Data doesn't exist for startDate = 1684382400, endDate = 1684468800\n",
      "GEV: Data doesn't exist for startDate = 1684468800, endDate = 1684555200\n",
      "GEV: Data doesn't exist for startDate = 1684555200, endDate = 1684641600\n",
      "GEV: Data doesn't exist for startDate = 1684641600, endDate = 1684728000\n",
      "GEV: Data doesn't exist for startDate = 1684728000, endDate = 1684814400\n",
      "GEV: Data doesn't exist for startDate = 1684814400, endDate = 1684900800\n",
      "/var/folders/77/05l3f4755g34m9yb1kt19stm0000gn/T/ipykernel_41131/295811338.py:16: FutureWarning: The behavior of DataFrame concatenation with empty or all-NA entries is deprecated. In a future version, this will no longer exclude empty or all-NA columns when determining the result dtypes. To retain the old behavior, exclude the relevant entries before the concat operation.\n",
      "  df_target.loc[len(df_target)] = [ticker, ratio_ticker]\n"
     ]
    },
    {
     "name": "stdout",
     "output_type": "stream",
     "text": [
      "get_stock_value_ratio : Error processing ticker GEV: unsupported operand type(s) for /: 'float' and 'NoneType'\n"
     ]
    },
    {
     "name": "stderr",
     "output_type": "stream",
     "text": [
      "GFAIW: Period '1mo' is invalid, must be one of ['1d', '5d']\n",
      "GFAIW: Period '1mo' is invalid, must be one of ['1d', '5d']\n",
      "GFAIW: Period '1mo' is invalid, must be one of ['1d', '5d']\n",
      "GFAIW: Period '1mo' is invalid, must be one of ['1d', '5d']\n",
      "GFAIW: Period '1mo' is invalid, must be one of ['1d', '5d']\n",
      "GFAIW: Period '1mo' is invalid, must be one of ['1d', '5d']\n",
      "GFAIW: Period '1mo' is invalid, must be one of ['1d', '5d']\n",
      "GFAIW: Period '1mo' is invalid, must be one of ['1d', '5d']\n",
      "/var/folders/77/05l3f4755g34m9yb1kt19stm0000gn/T/ipykernel_41131/295811338.py:16: FutureWarning: The behavior of DataFrame concatenation with empty or all-NA entries is deprecated. In a future version, this will no longer exclude empty or all-NA columns when determining the result dtypes. To retain the old behavior, exclude the relevant entries before the concat operation.\n",
      "  df_target.loc[len(df_target)] = [ticker, ratio_ticker]\n",
      "GGROW: Period '1mo' is invalid, must be one of ['1d', '5d']\n",
      "GGROW: Period '1mo' is invalid, must be one of ['1d', '5d']\n",
      "GGROW: Period '1mo' is invalid, must be one of ['1d', '5d']\n",
      "GGROW: Period '1mo' is invalid, must be one of ['1d', '5d']\n",
      "GGROW: Period '1mo' is invalid, must be one of ['1d', '5d']\n",
      "GGROW: Period '1mo' is invalid, must be one of ['1d', '5d']\n",
      "GGROW: Period '1mo' is invalid, must be one of ['1d', '5d']\n",
      "GGROW: Period '1mo' is invalid, must be one of ['1d', '5d']\n",
      "/var/folders/77/05l3f4755g34m9yb1kt19stm0000gn/T/ipykernel_41131/295811338.py:16: FutureWarning: The behavior of DataFrame concatenation with empty or all-NA entries is deprecated. In a future version, this will no longer exclude empty or all-NA columns when determining the result dtypes. To retain the old behavior, exclude the relevant entries before the concat operation.\n",
      "  df_target.loc[len(df_target)] = [ticker, ratio_ticker]\n",
      "GHIXW: Period '1mo' is invalid, must be one of ['1d', '5d']\n",
      "GHIXW: Period '1mo' is invalid, must be one of ['1d', '5d']\n",
      "GHIXW: Period '1mo' is invalid, must be one of ['1d', '5d']\n",
      "GHIXW: Period '1mo' is invalid, must be one of ['1d', '5d']\n",
      "GHIXW: Period '1mo' is invalid, must be one of ['1d', '5d']\n",
      "GHIXW: Period '1mo' is invalid, must be one of ['1d', '5d']\n",
      "GHIXW: Period '1mo' is invalid, must be one of ['1d', '5d']\n",
      "GHIXW: Period '1mo' is invalid, must be one of ['1d', '5d']\n",
      "/var/folders/77/05l3f4755g34m9yb1kt19stm0000gn/T/ipykernel_41131/295811338.py:16: FutureWarning: The behavior of DataFrame concatenation with empty or all-NA entries is deprecated. In a future version, this will no longer exclude empty or all-NA columns when determining the result dtypes. To retain the old behavior, exclude the relevant entries before the concat operation.\n",
      "  df_target.loc[len(df_target)] = [ticker, ratio_ticker]\n",
      "GLAC: Data doesn't exist for startDate = 1684296000, endDate = 1684900800\n",
      "GLAC: Data doesn't exist for startDate = 1684296000, endDate = 1684382400\n",
      "GLAC: Data doesn't exist for startDate = 1684382400, endDate = 1684468800\n",
      "GLAC: Data doesn't exist for startDate = 1684468800, endDate = 1684555200\n",
      "GLAC: Data doesn't exist for startDate = 1684555200, endDate = 1684641600\n",
      "GLAC: Data doesn't exist for startDate = 1684641600, endDate = 1684728000\n",
      "GLAC: Data doesn't exist for startDate = 1684728000, endDate = 1684814400\n",
      "GLAC: Data doesn't exist for startDate = 1684814400, endDate = 1684900800\n",
      "/var/folders/77/05l3f4755g34m9yb1kt19stm0000gn/T/ipykernel_41131/295811338.py:16: FutureWarning: The behavior of DataFrame concatenation with empty or all-NA entries is deprecated. In a future version, this will no longer exclude empty or all-NA columns when determining the result dtypes. To retain the old behavior, exclude the relevant entries before the concat operation.\n",
      "  df_target.loc[len(df_target)] = [ticker, ratio_ticker]\n"
     ]
    },
    {
     "name": "stdout",
     "output_type": "stream",
     "text": [
      "get_stock_value_ratio : Error processing ticker GLAC: unsupported operand type(s) for /: 'float' and 'NoneType'\n"
     ]
    },
    {
     "name": "stderr",
     "output_type": "stream",
     "text": [
      "GMFIW: Period '1mo' is invalid, must be one of ['1d', '5d']\n",
      "GMFIW: Period '1mo' is invalid, must be one of ['1d', '5d']\n",
      "GMFIW: Period '1mo' is invalid, must be one of ['1d', '5d']\n",
      "GMFIW: Period '1mo' is invalid, must be one of ['1d', '5d']\n",
      "GMFIW: Period '1mo' is invalid, must be one of ['1d', '5d']\n",
      "GMFIW: Period '1mo' is invalid, must be one of ['1d', '5d']\n",
      "GMFIW: Period '1mo' is invalid, must be one of ['1d', '5d']\n",
      "GMFIW: Period '1mo' is invalid, must be one of ['1d', '5d']\n",
      "/var/folders/77/05l3f4755g34m9yb1kt19stm0000gn/T/ipykernel_41131/295811338.py:16: FutureWarning: The behavior of DataFrame concatenation with empty or all-NA entries is deprecated. In a future version, this will no longer exclude empty or all-NA columns when determining the result dtypes. To retain the old behavior, exclude the relevant entries before the concat operation.\n",
      "  df_target.loc[len(df_target)] = [ticker, ratio_ticker]\n",
      "GMM: Data doesn't exist for startDate = 1684296000, endDate = 1684900800\n",
      "GMM: Data doesn't exist for startDate = 1684296000, endDate = 1684382400\n",
      "GMM: Data doesn't exist for startDate = 1684382400, endDate = 1684468800\n",
      "GMM: Data doesn't exist for startDate = 1684468800, endDate = 1684555200\n",
      "GMM: Data doesn't exist for startDate = 1684555200, endDate = 1684641600\n",
      "GMM: Data doesn't exist for startDate = 1684641600, endDate = 1684728000\n",
      "GMM: Data doesn't exist for startDate = 1684728000, endDate = 1684814400\n",
      "GMM: Data doesn't exist for startDate = 1684814400, endDate = 1684900800\n",
      "/var/folders/77/05l3f4755g34m9yb1kt19stm0000gn/T/ipykernel_41131/295811338.py:16: FutureWarning: The behavior of DataFrame concatenation with empty or all-NA entries is deprecated. In a future version, this will no longer exclude empty or all-NA columns when determining the result dtypes. To retain the old behavior, exclude the relevant entries before the concat operation.\n",
      "  df_target.loc[len(df_target)] = [ticker, ratio_ticker]\n"
     ]
    },
    {
     "name": "stdout",
     "output_type": "stream",
     "text": [
      "get_stock_value_ratio : Error processing ticker GMM: unsupported operand type(s) for /: 'float' and 'NoneType'\n"
     ]
    },
    {
     "name": "stderr",
     "output_type": "stream",
     "text": [
      "GODN: Data doesn't exist for startDate = 1684296000, endDate = 1684900800\n",
      "GODN: Data doesn't exist for startDate = 1684296000, endDate = 1684382400\n",
      "GODN: Data doesn't exist for startDate = 1684382400, endDate = 1684468800\n",
      "GODN: Data doesn't exist for startDate = 1684468800, endDate = 1684555200\n",
      "GODN: Data doesn't exist for startDate = 1684555200, endDate = 1684641600\n",
      "GODN: Data doesn't exist for startDate = 1684641600, endDate = 1684728000\n",
      "GODN: Data doesn't exist for startDate = 1684728000, endDate = 1684814400\n",
      "GODN: Data doesn't exist for startDate = 1684814400, endDate = 1684900800\n",
      "/var/folders/77/05l3f4755g34m9yb1kt19stm0000gn/T/ipykernel_41131/295811338.py:16: FutureWarning: The behavior of DataFrame concatenation with empty or all-NA entries is deprecated. In a future version, this will no longer exclude empty or all-NA columns when determining the result dtypes. To retain the old behavior, exclude the relevant entries before the concat operation.\n",
      "  df_target.loc[len(df_target)] = [ticker, ratio_ticker]\n"
     ]
    },
    {
     "name": "stdout",
     "output_type": "stream",
     "text": [
      "get_stock_value_ratio : Error processing ticker GODN: unsupported operand type(s) for /: 'float' and 'NoneType'\n"
     ]
    },
    {
     "name": "stderr",
     "output_type": "stream",
     "text": [
      "GOEVW: Period '1mo' is invalid, must be one of ['1d', '5d']\n",
      "GOEVW: Period '1mo' is invalid, must be one of ['1d', '5d']\n",
      "GOEVW: Period '1mo' is invalid, must be one of ['1d', '5d']\n",
      "GOEVW: Period '1mo' is invalid, must be one of ['1d', '5d']\n",
      "GOEVW: Period '1mo' is invalid, must be one of ['1d', '5d']\n",
      "GOEVW: Period '1mo' is invalid, must be one of ['1d', '5d']\n",
      "GOEVW: Period '1mo' is invalid, must be one of ['1d', '5d']\n",
      "GOEVW: Period '1mo' is invalid, must be one of ['1d', '5d']\n",
      "/var/folders/77/05l3f4755g34m9yb1kt19stm0000gn/T/ipykernel_41131/295811338.py:16: FutureWarning: The behavior of DataFrame concatenation with empty or all-NA entries is deprecated. In a future version, this will no longer exclude empty or all-NA columns when determining the result dtypes. To retain the old behavior, exclude the relevant entries before the concat operation.\n",
      "  df_target.loc[len(df_target)] = [ticker, ratio_ticker]\n",
      "GOVXW: Period '1mo' is invalid, must be one of ['1d', '5d']\n",
      "GOVXW: Period '1mo' is invalid, must be one of ['1d', '5d']\n",
      "GOVXW: Period '1mo' is invalid, must be one of ['1d', '5d']\n",
      "GOVXW: Period '1mo' is invalid, must be one of ['1d', '5d']\n",
      "GOVXW: Period '1mo' is invalid, must be one of ['1d', '5d']\n",
      "GOVXW: Period '1mo' is invalid, must be one of ['1d', '5d']\n",
      "GOVXW: Period '1mo' is invalid, must be one of ['1d', '5d']\n",
      "GOVXW: Period '1mo' is invalid, must be one of ['1d', '5d']\n",
      "/var/folders/77/05l3f4755g34m9yb1kt19stm0000gn/T/ipykernel_41131/295811338.py:16: FutureWarning: The behavior of DataFrame concatenation with empty or all-NA entries is deprecated. In a future version, this will no longer exclude empty or all-NA columns when determining the result dtypes. To retain the old behavior, exclude the relevant entries before the concat operation.\n",
      "  df_target.loc[len(df_target)] = [ticker, ratio_ticker]\n",
      "GPAK: Data doesn't exist for startDate = 1684296000, endDate = 1684900800\n",
      "GPAK: Data doesn't exist for startDate = 1684296000, endDate = 1684382400\n",
      "GPAK: Data doesn't exist for startDate = 1684382400, endDate = 1684468800\n",
      "GPAK: Data doesn't exist for startDate = 1684468800, endDate = 1684555200\n",
      "GPAK: Data doesn't exist for startDate = 1684555200, endDate = 1684641600\n",
      "GPAK: Data doesn't exist for startDate = 1684641600, endDate = 1684728000\n",
      "GPAK: Data doesn't exist for startDate = 1684728000, endDate = 1684814400\n",
      "GPAK: Data doesn't exist for startDate = 1684814400, endDate = 1684900800\n",
      "/var/folders/77/05l3f4755g34m9yb1kt19stm0000gn/T/ipykernel_41131/295811338.py:16: FutureWarning: The behavior of DataFrame concatenation with empty or all-NA entries is deprecated. In a future version, this will no longer exclude empty or all-NA columns when determining the result dtypes. To retain the old behavior, exclude the relevant entries before the concat operation.\n",
      "  df_target.loc[len(df_target)] = [ticker, ratio_ticker]\n"
     ]
    },
    {
     "name": "stdout",
     "output_type": "stream",
     "text": [
      "get_stock_value_ratio : Error processing ticker GPAK: unsupported operand type(s) for /: 'float' and 'NoneType'\n"
     ]
    },
    {
     "name": "stderr",
     "output_type": "stream",
     "text": [
      "GPATU: Data doesn't exist for startDate = 1684296000, endDate = 1684900800\n",
      "GPATU: Data doesn't exist for startDate = 1684296000, endDate = 1684382400\n",
      "GPATU: Data doesn't exist for startDate = 1684382400, endDate = 1684468800\n",
      "GPATU: Data doesn't exist for startDate = 1684468800, endDate = 1684555200\n",
      "GPATU: Data doesn't exist for startDate = 1684555200, endDate = 1684641600\n",
      "GPATU: Data doesn't exist for startDate = 1684641600, endDate = 1684728000\n",
      "GPATU: Data doesn't exist for startDate = 1684728000, endDate = 1684814400\n",
      "GPATU: Data doesn't exist for startDate = 1684814400, endDate = 1684900800\n",
      "/var/folders/77/05l3f4755g34m9yb1kt19stm0000gn/T/ipykernel_41131/295811338.py:16: FutureWarning: The behavior of DataFrame concatenation with empty or all-NA entries is deprecated. In a future version, this will no longer exclude empty or all-NA columns when determining the result dtypes. To retain the old behavior, exclude the relevant entries before the concat operation.\n",
      "  df_target.loc[len(df_target)] = [ticker, ratio_ticker]\n"
     ]
    },
    {
     "name": "stdout",
     "output_type": "stream",
     "text": [
      "get_stock_value_ratio : Error processing ticker GPATU: unsupported operand type(s) for /: 'float' and 'NoneType'\n"
     ]
    },
    {
     "name": "stderr",
     "output_type": "stream",
     "text": [
      "GRDI: Data doesn't exist for startDate = 1684296000, endDate = 1684900800\n",
      "GRDI: Data doesn't exist for startDate = 1684296000, endDate = 1684382400\n",
      "GRDI: Data doesn't exist for startDate = 1684382400, endDate = 1684468800\n",
      "GRDI: Data doesn't exist for startDate = 1684468800, endDate = 1684555200\n",
      "GRDI: Data doesn't exist for startDate = 1684555200, endDate = 1684641600\n",
      "GRDI: Data doesn't exist for startDate = 1684641600, endDate = 1684728000\n",
      "GRDI: Data doesn't exist for startDate = 1684728000, endDate = 1684814400\n",
      "GRDI: Data doesn't exist for startDate = 1684814400, endDate = 1684900800\n",
      "/var/folders/77/05l3f4755g34m9yb1kt19stm0000gn/T/ipykernel_41131/295811338.py:16: FutureWarning: The behavior of DataFrame concatenation with empty or all-NA entries is deprecated. In a future version, this will no longer exclude empty or all-NA columns when determining the result dtypes. To retain the old behavior, exclude the relevant entries before the concat operation.\n",
      "  df_target.loc[len(df_target)] = [ticker, ratio_ticker]\n",
      "GRDIW: Period '1mo' is invalid, must be one of ['1d', '5d']\n",
      "GRDIW: Period '1mo' is invalid, must be one of ['1d', '5d']\n"
     ]
    },
    {
     "name": "stdout",
     "output_type": "stream",
     "text": [
      "get_stock_value_ratio : Error processing ticker GRDI: unsupported operand type(s) for /: 'float' and 'NoneType'\n"
     ]
    },
    {
     "name": "stderr",
     "output_type": "stream",
     "text": [
      "GRDIW: Period '1mo' is invalid, must be one of ['1d', '5d']\n",
      "GRDIW: Period '1mo' is invalid, must be one of ['1d', '5d']\n",
      "GRDIW: Period '1mo' is invalid, must be one of ['1d', '5d']\n",
      "GRDIW: Period '1mo' is invalid, must be one of ['1d', '5d']\n",
      "GRDIW: Period '1mo' is invalid, must be one of ['1d', '5d']\n",
      "GRDIW: Period '1mo' is invalid, must be one of ['1d', '5d']\n",
      "/var/folders/77/05l3f4755g34m9yb1kt19stm0000gn/T/ipykernel_41131/295811338.py:16: FutureWarning: The behavior of DataFrame concatenation with empty or all-NA entries is deprecated. In a future version, this will no longer exclude empty or all-NA columns when determining the result dtypes. To retain the old behavior, exclude the relevant entries before the concat operation.\n",
      "  df_target.loc[len(df_target)] = [ticker, ratio_ticker]\n",
      "GROMW: Period '1mo' is invalid, must be one of ['1d', '5d']\n",
      "GROMW: Period '1mo' is invalid, must be one of ['1d', '5d']\n",
      "GROMW: Period '1mo' is invalid, must be one of ['1d', '5d']\n",
      "GROMW: Period '1mo' is invalid, must be one of ['1d', '5d']\n",
      "GROMW: Period '1mo' is invalid, must be one of ['1d', '5d']\n",
      "GROMW: Period '1mo' is invalid, must be one of ['1d', '5d']\n",
      "GROMW: Period '1mo' is invalid, must be one of ['1d', '5d']\n",
      "GROMW: Period '1mo' is invalid, must be one of ['1d', '5d']\n",
      "/var/folders/77/05l3f4755g34m9yb1kt19stm0000gn/T/ipykernel_41131/295811338.py:16: FutureWarning: The behavior of DataFrame concatenation with empty or all-NA entries is deprecated. In a future version, this will no longer exclude empty or all-NA columns when determining the result dtypes. To retain the old behavior, exclude the relevant entries before the concat operation.\n",
      "  df_target.loc[len(df_target)] = [ticker, ratio_ticker]\n",
      "GRRRW: Period '1mo' is invalid, must be one of ['1d', '5d']\n",
      "GRRRW: Period '1mo' is invalid, must be one of ['1d', '5d']\n",
      "GRRRW: Period '1mo' is invalid, must be one of ['1d', '5d']\n",
      "GRRRW: Period '1mo' is invalid, must be one of ['1d', '5d']\n",
      "GRRRW: Period '1mo' is invalid, must be one of ['1d', '5d']\n",
      "GRRRW: Period '1mo' is invalid, must be one of ['1d', '5d']\n",
      "GRRRW: Period '1mo' is invalid, must be one of ['1d', '5d']\n",
      "GRRRW: Period '1mo' is invalid, must be one of ['1d', '5d']\n",
      "/var/folders/77/05l3f4755g34m9yb1kt19stm0000gn/T/ipykernel_41131/295811338.py:16: FutureWarning: The behavior of DataFrame concatenation with empty or all-NA entries is deprecated. In a future version, this will no longer exclude empty or all-NA columns when determining the result dtypes. To retain the old behavior, exclude the relevant entries before the concat operation.\n",
      "  df_target.loc[len(df_target)] = [ticker, ratio_ticker]\n",
      "GSIW: Data doesn't exist for startDate = 1684296000, endDate = 1684900800\n",
      "GSIW: Data doesn't exist for startDate = 1684296000, endDate = 1684382400\n",
      "GSIW: Data doesn't exist for startDate = 1684382400, endDate = 1684468800\n",
      "GSIW: Data doesn't exist for startDate = 1684468800, endDate = 1684555200\n",
      "GSIW: Data doesn't exist for startDate = 1684555200, endDate = 1684641600\n",
      "GSIW: Data doesn't exist for startDate = 1684641600, endDate = 1684728000\n",
      "GSIW: Data doesn't exist for startDate = 1684728000, endDate = 1684814400\n",
      "GSIW: Data doesn't exist for startDate = 1684814400, endDate = 1684900800\n",
      "/var/folders/77/05l3f4755g34m9yb1kt19stm0000gn/T/ipykernel_41131/295811338.py:16: FutureWarning: The behavior of DataFrame concatenation with empty or all-NA entries is deprecated. In a future version, this will no longer exclude empty or all-NA columns when determining the result dtypes. To retain the old behavior, exclude the relevant entries before the concat operation.\n",
      "  df_target.loc[len(df_target)] = [ticker, ratio_ticker]\n"
     ]
    },
    {
     "name": "stdout",
     "output_type": "stream",
     "text": [
      "get_stock_value_ratio : Error processing ticker GSIW: unsupported operand type(s) for /: 'float' and 'NoneType'\n"
     ]
    },
    {
     "name": "stderr",
     "output_type": "stream",
     "text": [
      "GSMGW: Period '1mo' is invalid, must be one of ['1d', '5d']\n",
      "GSMGW: Period '1mo' is invalid, must be one of ['1d', '5d']\n",
      "GSMGW: Period '1mo' is invalid, must be one of ['1d', '5d']\n",
      "GSMGW: Period '1mo' is invalid, must be one of ['1d', '5d']\n",
      "GSMGW: Period '1mo' is invalid, must be one of ['1d', '5d']\n",
      "GSMGW: Period '1mo' is invalid, must be one of ['1d', '5d']\n",
      "GSMGW: Period '1mo' is invalid, must be one of ['1d', '5d']\n",
      "GSMGW: Period '1mo' is invalid, must be one of ['1d', '5d']\n",
      "/var/folders/77/05l3f4755g34m9yb1kt19stm0000gn/T/ipykernel_41131/295811338.py:16: FutureWarning: The behavior of DataFrame concatenation with empty or all-NA entries is deprecated. In a future version, this will no longer exclude empty or all-NA columns when determining the result dtypes. To retain the old behavior, exclude the relevant entries before the concat operation.\n",
      "  df_target.loc[len(df_target)] = [ticker, ratio_ticker]\n",
      "GTACW: Period '1mo' is invalid, must be one of ['1d', '5d']\n",
      "GTACW: Period '1mo' is invalid, must be one of ['1d', '5d']\n",
      "GTACW: Period '1mo' is invalid, must be one of ['1d', '5d']\n",
      "GTACW: Period '1mo' is invalid, must be one of ['1d', '5d']\n",
      "GTACW: Period '1mo' is invalid, must be one of ['1d', '5d']\n",
      "GTACW: Period '1mo' is invalid, must be one of ['1d', '5d']\n",
      "GTACW: Period '1mo' is invalid, must be one of ['1d', '5d']\n",
      "GTACW: Period '1mo' is invalid, must be one of ['1d', '5d']\n",
      "/var/folders/77/05l3f4755g34m9yb1kt19stm0000gn/T/ipykernel_41131/295811338.py:16: FutureWarning: The behavior of DataFrame concatenation with empty or all-NA entries is deprecated. In a future version, this will no longer exclude empty or all-NA columns when determining the result dtypes. To retain the old behavior, exclude the relevant entries before the concat operation.\n",
      "  df_target.loc[len(df_target)] = [ticker, ratio_ticker]\n",
      "GUTS: Data doesn't exist for startDate = 1684296000, endDate = 1684900800\n",
      "GUTS: Data doesn't exist for startDate = 1684296000, endDate = 1684382400\n",
      "GUTS: Data doesn't exist for startDate = 1684382400, endDate = 1684468800\n",
      "GUTS: Data doesn't exist for startDate = 1684468800, endDate = 1684555200\n",
      "GUTS: Data doesn't exist for startDate = 1684555200, endDate = 1684641600\n",
      "GUTS: Data doesn't exist for startDate = 1684641600, endDate = 1684728000\n",
      "GUTS: Data doesn't exist for startDate = 1684728000, endDate = 1684814400\n",
      "GUTS: Data doesn't exist for startDate = 1684814400, endDate = 1684900800\n",
      "/var/folders/77/05l3f4755g34m9yb1kt19stm0000gn/T/ipykernel_41131/295811338.py:16: FutureWarning: The behavior of DataFrame concatenation with empty or all-NA entries is deprecated. In a future version, this will no longer exclude empty or all-NA columns when determining the result dtypes. To retain the old behavior, exclude the relevant entries before the concat operation.\n",
      "  df_target.loc[len(df_target)] = [ticker, ratio_ticker]\n"
     ]
    },
    {
     "name": "stdout",
     "output_type": "stream",
     "text": [
      "get_stock_value_ratio : Error processing ticker GUTS: unsupported operand type(s) for /: 'float' and 'NoneType'\n"
     ]
    },
    {
     "name": "stderr",
     "output_type": "stream",
     "text": [
      "GVH: Data doesn't exist for startDate = 1684296000, endDate = 1684900800\n",
      "GVH: Data doesn't exist for startDate = 1684296000, endDate = 1684382400\n",
      "GVH: Data doesn't exist for startDate = 1684382400, endDate = 1684468800\n",
      "GVH: Data doesn't exist for startDate = 1684468800, endDate = 1684555200\n",
      "GVH: Data doesn't exist for startDate = 1684555200, endDate = 1684641600\n",
      "GVH: Data doesn't exist for startDate = 1684641600, endDate = 1684728000\n",
      "GVH: Data doesn't exist for startDate = 1684728000, endDate = 1684814400\n",
      "GVH: Data doesn't exist for startDate = 1684814400, endDate = 1684900800\n",
      "/var/folders/77/05l3f4755g34m9yb1kt19stm0000gn/T/ipykernel_41131/295811338.py:16: FutureWarning: The behavior of DataFrame concatenation with empty or all-NA entries is deprecated. In a future version, this will no longer exclude empty or all-NA columns when determining the result dtypes. To retain the old behavior, exclude the relevant entries before the concat operation.\n",
      "  df_target.loc[len(df_target)] = [ticker, ratio_ticker]\n"
     ]
    },
    {
     "name": "stdout",
     "output_type": "stream",
     "text": [
      "get_stock_value_ratio : Error processing ticker GVH: unsupported operand type(s) for /: 'float' and 'NoneType'\n"
     ]
    },
    {
     "name": "stderr",
     "output_type": "stream",
     "text": [
      "HAFN: Data doesn't exist for startDate = 1684296000, endDate = 1684900800\n",
      "HAFN: Data doesn't exist for startDate = 1684296000, endDate = 1684382400\n",
      "HAFN: Data doesn't exist for startDate = 1684382400, endDate = 1684468800\n",
      "HAFN: Data doesn't exist for startDate = 1684468800, endDate = 1684555200\n",
      "HAFN: Data doesn't exist for startDate = 1684555200, endDate = 1684641600\n",
      "HAFN: Data doesn't exist for startDate = 1684641600, endDate = 1684728000\n",
      "HAFN: Data doesn't exist for startDate = 1684728000, endDate = 1684814400\n",
      "HAFN: Data doesn't exist for startDate = 1684814400, endDate = 1684900800\n",
      "/var/folders/77/05l3f4755g34m9yb1kt19stm0000gn/T/ipykernel_41131/295811338.py:16: FutureWarning: The behavior of DataFrame concatenation with empty or all-NA entries is deprecated. In a future version, this will no longer exclude empty or all-NA columns when determining the result dtypes. To retain the old behavior, exclude the relevant entries before the concat operation.\n",
      "  df_target.loc[len(df_target)] = [ticker, ratio_ticker]\n"
     ]
    },
    {
     "name": "stdout",
     "output_type": "stream",
     "text": [
      "get_stock_value_ratio : Error processing ticker HAFN: unsupported operand type(s) for /: 'float' and 'NoneType'\n"
     ]
    },
    {
     "name": "stderr",
     "output_type": "stream",
     "text": [
      "HAO: Data doesn't exist for startDate = 1684296000, endDate = 1684900800\n",
      "HAO: Data doesn't exist for startDate = 1684296000, endDate = 1684382400\n",
      "HAO: Data doesn't exist for startDate = 1684382400, endDate = 1684468800\n",
      "HAO: Data doesn't exist for startDate = 1684468800, endDate = 1684555200\n",
      "HAO: Data doesn't exist for startDate = 1684555200, endDate = 1684641600\n",
      "HAO: Data doesn't exist for startDate = 1684641600, endDate = 1684728000\n",
      "HAO: Data doesn't exist for startDate = 1684728000, endDate = 1684814400\n",
      "HAO: Data doesn't exist for startDate = 1684814400, endDate = 1684900800\n",
      "/var/folders/77/05l3f4755g34m9yb1kt19stm0000gn/T/ipykernel_41131/295811338.py:16: FutureWarning: The behavior of DataFrame concatenation with empty or all-NA entries is deprecated. In a future version, this will no longer exclude empty or all-NA columns when determining the result dtypes. To retain the old behavior, exclude the relevant entries before the concat operation.\n",
      "  df_target.loc[len(df_target)] = [ticker, ratio_ticker]\n"
     ]
    },
    {
     "name": "stdout",
     "output_type": "stream",
     "text": [
      "get_stock_value_ratio : Error processing ticker HAO: unsupported operand type(s) for /: 'float' and 'NoneType'\n"
     ]
    },
    {
     "name": "stderr",
     "output_type": "stream",
     "text": [
      "HCVIW: Period '1mo' is invalid, must be one of ['1d', '5d']\n",
      "HCVIW: Period '1mo' is invalid, must be one of ['1d', '5d']\n",
      "HCVIW: Period '1mo' is invalid, must be one of ['1d', '5d']\n",
      "HCVIW: Period '1mo' is invalid, must be one of ['1d', '5d']\n",
      "HCVIW: Period '1mo' is invalid, must be one of ['1d', '5d']\n",
      "HCVIW: Period '1mo' is invalid, must be one of ['1d', '5d']\n",
      "HCVIW: Period '1mo' is invalid, must be one of ['1d', '5d']\n",
      "HCVIW: Period '1mo' is invalid, must be one of ['1d', '5d']\n",
      "/var/folders/77/05l3f4755g34m9yb1kt19stm0000gn/T/ipykernel_41131/295811338.py:16: FutureWarning: The behavior of DataFrame concatenation with empty or all-NA entries is deprecated. In a future version, this will no longer exclude empty or all-NA columns when determining the result dtypes. To retain the old behavior, exclude the relevant entries before the concat operation.\n",
      "  df_target.loc[len(df_target)] = [ticker, ratio_ticker]\n",
      "HDL: Data doesn't exist for startDate = 1715745600, endDate = 1715832000\n",
      "HDL: Data doesn't exist for startDate = 1715832000, endDate = 1715918400\n",
      "HDL: Data doesn't exist for startDate = 1715745600, endDate = 1715832000\n",
      "HDL: Data doesn't exist for startDate = 1715832000, endDate = 1715918400\n",
      "HDL: Data doesn't exist for startDate = 1684296000, endDate = 1684900800\n",
      "HDL: Data doesn't exist for startDate = 1684296000, endDate = 1684382400\n",
      "HDL: Data doesn't exist for startDate = 1684382400, endDate = 1684468800\n",
      "HDL: Data doesn't exist for startDate = 1684468800, endDate = 1684555200\n",
      "HDL: Data doesn't exist for startDate = 1684555200, endDate = 1684641600\n",
      "HDL: Data doesn't exist for startDate = 1684641600, endDate = 1684728000\n",
      "HDL: Data doesn't exist for startDate = 1684728000, endDate = 1684814400\n",
      "HDL: Data doesn't exist for startDate = 1684814400, endDate = 1684900800\n",
      "/var/folders/77/05l3f4755g34m9yb1kt19stm0000gn/T/ipykernel_41131/295811338.py:16: FutureWarning: The behavior of DataFrame concatenation with empty or all-NA entries is deprecated. In a future version, this will no longer exclude empty or all-NA columns when determining the result dtypes. To retain the old behavior, exclude the relevant entries before the concat operation.\n",
      "  df_target.loc[len(df_target)] = [ticker, ratio_ticker]\n"
     ]
    },
    {
     "name": "stdout",
     "output_type": "stream",
     "text": [
      "get_stock_value_ratio : Error processing ticker HDL: unsupported operand type(s) for /: 'float' and 'NoneType'\n"
     ]
    },
    {
     "name": "stderr",
     "output_type": "stream",
     "text": [
      "HG: Data doesn't exist for startDate = 1684296000, endDate = 1684900800\n",
      "HG: Data doesn't exist for startDate = 1684296000, endDate = 1684382400\n",
      "HG: Data doesn't exist for startDate = 1684382400, endDate = 1684468800\n",
      "HG: Data doesn't exist for startDate = 1684468800, endDate = 1684555200\n",
      "HG: Data doesn't exist for startDate = 1684555200, endDate = 1684641600\n",
      "HG: Data doesn't exist for startDate = 1684641600, endDate = 1684728000\n",
      "HG: Data doesn't exist for startDate = 1684728000, endDate = 1684814400\n",
      "HG: Data doesn't exist for startDate = 1684814400, endDate = 1684900800\n",
      "/var/folders/77/05l3f4755g34m9yb1kt19stm0000gn/T/ipykernel_41131/295811338.py:16: FutureWarning: The behavior of DataFrame concatenation with empty or all-NA entries is deprecated. In a future version, this will no longer exclude empty or all-NA columns when determining the result dtypes. To retain the old behavior, exclude the relevant entries before the concat operation.\n",
      "  df_target.loc[len(df_target)] = [ticker, ratio_ticker]\n"
     ]
    },
    {
     "name": "stdout",
     "output_type": "stream",
     "text": [
      "get_stock_value_ratio : Error processing ticker HG: unsupported operand type(s) for /: 'float' and 'NoneType'\n"
     ]
    },
    {
     "name": "stderr",
     "output_type": "stream",
     "text": [
      "HHGCW: Period '1mo' is invalid, must be one of ['1d', '5d']\n",
      "HHGCW: Period '1mo' is invalid, must be one of ['1d', '5d']\n",
      "HHGCW: Period '1mo' is invalid, must be one of ['1d', '5d']\n",
      "HHGCW: Period '1mo' is invalid, must be one of ['1d', '5d']\n",
      "HHGCW: Period '1mo' is invalid, must be one of ['1d', '5d']\n",
      "HHGCW: Period '1mo' is invalid, must be one of ['1d', '5d']\n",
      "HHGCW: Period '1mo' is invalid, must be one of ['1d', '5d']\n",
      "HHGCW: Period '1mo' is invalid, must be one of ['1d', '5d']\n",
      "/var/folders/77/05l3f4755g34m9yb1kt19stm0000gn/T/ipykernel_41131/295811338.py:16: FutureWarning: The behavior of DataFrame concatenation with empty or all-NA entries is deprecated. In a future version, this will no longer exclude empty or all-NA columns when determining the result dtypes. To retain the old behavior, exclude the relevant entries before the concat operation.\n",
      "  df_target.loc[len(df_target)] = [ticker, ratio_ticker]\n",
      "HLXB: Data doesn't exist for startDate = 1684296000, endDate = 1684900800\n",
      "HLXB: Data doesn't exist for startDate = 1684296000, endDate = 1684382400\n",
      "HLXB: Data doesn't exist for startDate = 1684382400, endDate = 1684468800\n",
      "HLXB: Data doesn't exist for startDate = 1684468800, endDate = 1684555200\n",
      "HLXB: Data doesn't exist for startDate = 1684555200, endDate = 1684641600\n",
      "HLXB: Data doesn't exist for startDate = 1684641600, endDate = 1684728000\n",
      "HLXB: Data doesn't exist for startDate = 1684728000, endDate = 1684814400\n",
      "HLXB: Data doesn't exist for startDate = 1684814400, endDate = 1684900800\n",
      "/var/folders/77/05l3f4755g34m9yb1kt19stm0000gn/T/ipykernel_41131/295811338.py:16: FutureWarning: The behavior of DataFrame concatenation with empty or all-NA entries is deprecated. In a future version, this will no longer exclude empty or all-NA columns when determining the result dtypes. To retain the old behavior, exclude the relevant entries before the concat operation.\n",
      "  df_target.loc[len(df_target)] = [ticker, ratio_ticker]\n"
     ]
    },
    {
     "name": "stdout",
     "output_type": "stream",
     "text": [
      "get_stock_value_ratio : Error processing ticker HLXB: unsupported operand type(s) for /: 'float' and 'NoneType'\n"
     ]
    },
    {
     "name": "stderr",
     "output_type": "stream",
     "text": [
      "HOFVW: Period '1mo' is invalid, must be one of ['1d', '5d']\n",
      "HOFVW: Period '1mo' is invalid, must be one of ['1d', '5d']\n",
      "HOFVW: Period '1mo' is invalid, must be one of ['1d', '5d']\n",
      "HOFVW: Period '1mo' is invalid, must be one of ['1d', '5d']\n",
      "HOFVW: Period '1mo' is invalid, must be one of ['1d', '5d']\n",
      "HOFVW: Period '1mo' is invalid, must be one of ['1d', '5d']\n",
      "HOFVW: Period '1mo' is invalid, must be one of ['1d', '5d']\n",
      "HOFVW: Period '1mo' is invalid, must be one of ['1d', '5d']\n",
      "/var/folders/77/05l3f4755g34m9yb1kt19stm0000gn/T/ipykernel_41131/295811338.py:16: FutureWarning: The behavior of DataFrame concatenation with empty or all-NA entries is deprecated. In a future version, this will no longer exclude empty or all-NA columns when determining the result dtypes. To retain the old behavior, exclude the relevant entries before the concat operation.\n",
      "  df_target.loc[len(df_target)] = [ticker, ratio_ticker]\n",
      "HOLOW: Period '1mo' is invalid, must be one of ['1d', '5d']\n",
      "HOLOW: Period '1mo' is invalid, must be one of ['1d', '5d']\n",
      "HOLOW: Period '1mo' is invalid, must be one of ['1d', '5d']\n",
      "HOLOW: Period '1mo' is invalid, must be one of ['1d', '5d']\n",
      "HOLOW: Period '1mo' is invalid, must be one of ['1d', '5d']\n",
      "HOLOW: Period '1mo' is invalid, must be one of ['1d', '5d']\n",
      "HOLOW: Period '1mo' is invalid, must be one of ['1d', '5d']\n",
      "HOLOW: Period '1mo' is invalid, must be one of ['1d', '5d']\n",
      "/var/folders/77/05l3f4755g34m9yb1kt19stm0000gn/T/ipykernel_41131/295811338.py:16: FutureWarning: The behavior of DataFrame concatenation with empty or all-NA entries is deprecated. In a future version, this will no longer exclude empty or all-NA columns when determining the result dtypes. To retain the old behavior, exclude the relevant entries before the concat operation.\n",
      "  df_target.loc[len(df_target)] = [ticker, ratio_ticker]\n",
      "HRYU: Data doesn't exist for startDate = 1684296000, endDate = 1684900800\n",
      "HRYU: Data doesn't exist for startDate = 1684296000, endDate = 1684382400\n",
      "HRYU: Data doesn't exist for startDate = 1684382400, endDate = 1684468800\n",
      "HRYU: Data doesn't exist for startDate = 1684468800, endDate = 1684555200\n",
      "HRYU: Data doesn't exist for startDate = 1684555200, endDate = 1684641600\n",
      "HRYU: Data doesn't exist for startDate = 1684641600, endDate = 1684728000\n",
      "HRYU: Data doesn't exist for startDate = 1684728000, endDate = 1684814400\n",
      "HRYU: Data doesn't exist for startDate = 1684814400, endDate = 1684900800\n",
      "/var/folders/77/05l3f4755g34m9yb1kt19stm0000gn/T/ipykernel_41131/295811338.py:16: FutureWarning: The behavior of DataFrame concatenation with empty or all-NA entries is deprecated. In a future version, this will no longer exclude empty or all-NA columns when determining the result dtypes. To retain the old behavior, exclude the relevant entries before the concat operation.\n",
      "  df_target.loc[len(df_target)] = [ticker, ratio_ticker]\n"
     ]
    },
    {
     "name": "stdout",
     "output_type": "stream",
     "text": [
      "get_stock_value_ratio : Error processing ticker HRYU: unsupported operand type(s) for /: 'float' and 'NoneType'\n"
     ]
    },
    {
     "name": "stderr",
     "output_type": "stream",
     "text": [
      "HTZWW: Period '1mo' is invalid, must be one of ['1d', '5d']\n",
      "HTZWW: Period '1mo' is invalid, must be one of ['1d', '5d']\n",
      "HTZWW: Period '1mo' is invalid, must be one of ['1d', '5d']\n",
      "HTZWW: Period '1mo' is invalid, must be one of ['1d', '5d']\n",
      "HTZWW: Period '1mo' is invalid, must be one of ['1d', '5d']\n",
      "HTZWW: Period '1mo' is invalid, must be one of ['1d', '5d']\n",
      "HTZWW: Period '1mo' is invalid, must be one of ['1d', '5d']\n",
      "HTZWW: Period '1mo' is invalid, must be one of ['1d', '5d']\n",
      "/var/folders/77/05l3f4755g34m9yb1kt19stm0000gn/T/ipykernel_41131/295811338.py:16: FutureWarning: The behavior of DataFrame concatenation with empty or all-NA entries is deprecated. In a future version, this will no longer exclude empty or all-NA columns when determining the result dtypes. To retain the old behavior, exclude the relevant entries before the concat operation.\n",
      "  df_target.loc[len(df_target)] = [ticker, ratio_ticker]\n",
      "HUBCW: Period '1mo' is invalid, must be one of ['1d', '5d']\n",
      "HUBCW: Period '1mo' is invalid, must be one of ['1d', '5d']\n",
      "HUBCW: Period '1mo' is invalid, must be one of ['1d', '5d']\n",
      "HUBCW: Period '1mo' is invalid, must be one of ['1d', '5d']\n",
      "HUBCW: Period '1mo' is invalid, must be one of ['1d', '5d']\n",
      "HUBCW: Period '1mo' is invalid, must be one of ['1d', '5d']\n",
      "HUBCW: Period '1mo' is invalid, must be one of ['1d', '5d']\n",
      "HUBCW: Period '1mo' is invalid, must be one of ['1d', '5d']\n",
      "/var/folders/77/05l3f4755g34m9yb1kt19stm0000gn/T/ipykernel_41131/295811338.py:16: FutureWarning: The behavior of DataFrame concatenation with empty or all-NA entries is deprecated. In a future version, this will no longer exclude empty or all-NA columns when determining the result dtypes. To retain the old behavior, exclude the relevant entries before the concat operation.\n",
      "  df_target.loc[len(df_target)] = [ticker, ratio_ticker]\n",
      "HUBCZ: Period '1mo' is invalid, must be one of ['1d', '5d']\n",
      "HUBCZ: Period '1mo' is invalid, must be one of ['1d', '5d']\n",
      "HUBCZ: Period '1mo' is invalid, must be one of ['1d', '5d']\n",
      "HUBCZ: Period '1mo' is invalid, must be one of ['1d', '5d']\n",
      "HUBCZ: Period '1mo' is invalid, must be one of ['1d', '5d']\n",
      "HUBCZ: Period '1mo' is invalid, must be one of ['1d', '5d']\n",
      "HUBCZ: Period '1mo' is invalid, must be one of ['1d', '5d']\n",
      "HUBCZ: Period '1mo' is invalid, must be one of ['1d', '5d']\n",
      "/var/folders/77/05l3f4755g34m9yb1kt19stm0000gn/T/ipykernel_41131/295811338.py:16: FutureWarning: The behavior of DataFrame concatenation with empty or all-NA entries is deprecated. In a future version, this will no longer exclude empty or all-NA columns when determining the result dtypes. To retain the old behavior, exclude the relevant entries before the concat operation.\n",
      "  df_target.loc[len(df_target)] = [ticker, ratio_ticker]\n",
      "HUMAW: Period '1mo' is invalid, must be one of ['1d', '5d']\n",
      "HUMAW: Period '1mo' is invalid, must be one of ['1d', '5d']\n",
      "HUMAW: Period '1mo' is invalid, must be one of ['1d', '5d']\n",
      "HUMAW: Period '1mo' is invalid, must be one of ['1d', '5d']\n",
      "HUMAW: Period '1mo' is invalid, must be one of ['1d', '5d']\n",
      "HUMAW: Period '1mo' is invalid, must be one of ['1d', '5d']\n",
      "HUMAW: Period '1mo' is invalid, must be one of ['1d', '5d']\n",
      "HUMAW: Period '1mo' is invalid, must be one of ['1d', '5d']\n",
      "/var/folders/77/05l3f4755g34m9yb1kt19stm0000gn/T/ipykernel_41131/295811338.py:16: FutureWarning: The behavior of DataFrame concatenation with empty or all-NA entries is deprecated. In a future version, this will no longer exclude empty or all-NA columns when determining the result dtypes. To retain the old behavior, exclude the relevant entries before the concat operation.\n",
      "  df_target.loc[len(df_target)] = [ticker, ratio_ticker]\n",
      "HYMCW: Period '1mo' is invalid, must be one of ['1d', '5d']\n",
      "HYMCW: Period '1mo' is invalid, must be one of ['1d', '5d']\n",
      "HYMCW: Period '1mo' is invalid, must be one of ['1d', '5d']\n",
      "HYMCW: Period '1mo' is invalid, must be one of ['1d', '5d']\n",
      "HYMCW: Period '1mo' is invalid, must be one of ['1d', '5d']\n",
      "HYMCW: Period '1mo' is invalid, must be one of ['1d', '5d']\n",
      "HYMCW: Period '1mo' is invalid, must be one of ['1d', '5d']\n",
      "HYMCW: Period '1mo' is invalid, must be one of ['1d', '5d']\n",
      "/var/folders/77/05l3f4755g34m9yb1kt19stm0000gn/T/ipykernel_41131/295811338.py:16: FutureWarning: The behavior of DataFrame concatenation with empty or all-NA entries is deprecated. In a future version, this will no longer exclude empty or all-NA columns when determining the result dtypes. To retain the old behavior, exclude the relevant entries before the concat operation.\n",
      "  df_target.loc[len(df_target)] = [ticker, ratio_ticker]\n",
      "HYZNW: Period '1mo' is invalid, must be one of ['1d', '5d']\n",
      "HYZNW: Period '1mo' is invalid, must be one of ['1d', '5d']\n",
      "HYZNW: Period '1mo' is invalid, must be one of ['1d', '5d']\n",
      "HYZNW: Period '1mo' is invalid, must be one of ['1d', '5d']\n",
      "HYZNW: Period '1mo' is invalid, must be one of ['1d', '5d']\n",
      "HYZNW: Period '1mo' is invalid, must be one of ['1d', '5d']\n",
      "HYZNW: Period '1mo' is invalid, must be one of ['1d', '5d']\n",
      "HYZNW: Period '1mo' is invalid, must be one of ['1d', '5d']\n",
      "/var/folders/77/05l3f4755g34m9yb1kt19stm0000gn/T/ipykernel_41131/295811338.py:16: FutureWarning: The behavior of DataFrame concatenation with empty or all-NA entries is deprecated. In a future version, this will no longer exclude empty or all-NA columns when determining the result dtypes. To retain the old behavior, exclude the relevant entries before the concat operation.\n",
      "  df_target.loc[len(df_target)] = [ticker, ratio_ticker]\n",
      "IBAC: Data doesn't exist for startDate = 1684296000, endDate = 1684900800\n",
      "IBAC: Data doesn't exist for startDate = 1684296000, endDate = 1684382400\n",
      "IBAC: Data doesn't exist for startDate = 1684382400, endDate = 1684468800\n",
      "IBAC: Data doesn't exist for startDate = 1684468800, endDate = 1684555200\n",
      "IBAC: Data doesn't exist for startDate = 1684555200, endDate = 1684641600\n",
      "IBAC: Data doesn't exist for startDate = 1684641600, endDate = 1684728000\n",
      "IBAC: Data doesn't exist for startDate = 1684728000, endDate = 1684814400\n",
      "IBAC: Data doesn't exist for startDate = 1684814400, endDate = 1684900800\n",
      "/var/folders/77/05l3f4755g34m9yb1kt19stm0000gn/T/ipykernel_41131/295811338.py:16: FutureWarning: The behavior of DataFrame concatenation with empty or all-NA entries is deprecated. In a future version, this will no longer exclude empty or all-NA columns when determining the result dtypes. To retain the old behavior, exclude the relevant entries before the concat operation.\n",
      "  df_target.loc[len(df_target)] = [ticker, ratio_ticker]\n"
     ]
    },
    {
     "name": "stdout",
     "output_type": "stream",
     "text": [
      "get_stock_value_ratio : Error processing ticker IBAC: unsupported operand type(s) for /: 'float' and 'NoneType'\n"
     ]
    },
    {
     "name": "stderr",
     "output_type": "stream",
     "text": [
      "IBTA: Data doesn't exist for startDate = 1684296000, endDate = 1684900800\n",
      "IBTA: Data doesn't exist for startDate = 1684296000, endDate = 1684382400\n",
      "IBTA: Data doesn't exist for startDate = 1684382400, endDate = 1684468800\n",
      "IBTA: Data doesn't exist for startDate = 1684468800, endDate = 1684555200\n",
      "IBTA: Data doesn't exist for startDate = 1684555200, endDate = 1684641600\n",
      "IBTA: Data doesn't exist for startDate = 1684641600, endDate = 1684728000\n",
      "IBTA: Data doesn't exist for startDate = 1684728000, endDate = 1684814400\n",
      "IBTA: Data doesn't exist for startDate = 1684814400, endDate = 1684900800\n",
      "/var/folders/77/05l3f4755g34m9yb1kt19stm0000gn/T/ipykernel_41131/295811338.py:16: FutureWarning: The behavior of DataFrame concatenation with empty or all-NA entries is deprecated. In a future version, this will no longer exclude empty or all-NA columns when determining the result dtypes. To retain the old behavior, exclude the relevant entries before the concat operation.\n",
      "  df_target.loc[len(df_target)] = [ticker, ratio_ticker]\n"
     ]
    },
    {
     "name": "stdout",
     "output_type": "stream",
     "text": [
      "get_stock_value_ratio : Error processing ticker IBTA: unsupported operand type(s) for /: 'float' and 'NoneType'\n"
     ]
    },
    {
     "name": "stderr",
     "output_type": "stream",
     "text": [
      "ICCT: Data doesn't exist for startDate = 1684296000, endDate = 1684900800\n",
      "ICCT: Data doesn't exist for startDate = 1684296000, endDate = 1684382400\n",
      "ICCT: Data doesn't exist for startDate = 1684382400, endDate = 1684468800\n",
      "ICCT: Data doesn't exist for startDate = 1684468800, endDate = 1684555200\n",
      "ICCT: Data doesn't exist for startDate = 1684555200, endDate = 1684641600\n",
      "ICCT: Data doesn't exist for startDate = 1684641600, endDate = 1684728000\n",
      "ICCT: Data doesn't exist for startDate = 1684728000, endDate = 1684814400\n",
      "ICCT: Data doesn't exist for startDate = 1684814400, endDate = 1684900800\n",
      "/var/folders/77/05l3f4755g34m9yb1kt19stm0000gn/T/ipykernel_41131/295811338.py:16: FutureWarning: The behavior of DataFrame concatenation with empty or all-NA entries is deprecated. In a future version, this will no longer exclude empty or all-NA columns when determining the result dtypes. To retain the old behavior, exclude the relevant entries before the concat operation.\n",
      "  df_target.loc[len(df_target)] = [ticker, ratio_ticker]\n"
     ]
    },
    {
     "name": "stdout",
     "output_type": "stream",
     "text": [
      "get_stock_value_ratio : Error processing ticker ICCT: unsupported operand type(s) for /: 'float' and 'NoneType'\n"
     ]
    },
    {
     "name": "stderr",
     "output_type": "stream",
     "text": [
      "ICUCW: Period '1mo' is invalid, must be one of ['1d', '5d']\n",
      "ICUCW: Period '1mo' is invalid, must be one of ['1d', '5d']\n",
      "ICUCW: Period '1mo' is invalid, must be one of ['1d', '5d']\n",
      "ICUCW: Period '1mo' is invalid, must be one of ['1d', '5d']\n",
      "ICUCW: Period '1mo' is invalid, must be one of ['1d', '5d']\n",
      "ICUCW: Period '1mo' is invalid, must be one of ['1d', '5d']\n",
      "ICUCW: Period '1mo' is invalid, must be one of ['1d', '5d']\n",
      "ICUCW: Period '1mo' is invalid, must be one of ['1d', '5d']\n",
      "/var/folders/77/05l3f4755g34m9yb1kt19stm0000gn/T/ipykernel_41131/295811338.py:16: FutureWarning: The behavior of DataFrame concatenation with empty or all-NA entries is deprecated. In a future version, this will no longer exclude empty or all-NA columns when determining the result dtypes. To retain the old behavior, exclude the relevant entries before the concat operation.\n",
      "  df_target.loc[len(df_target)] = [ticker, ratio_ticker]\n",
      "IGTAW: Period '1mo' is invalid, must be one of ['1d', '5d']\n",
      "IGTAW: Period '1mo' is invalid, must be one of ['1d', '5d']\n",
      "IGTAW: Period '1mo' is invalid, must be one of ['1d', '5d']\n",
      "IGTAW: Period '1mo' is invalid, must be one of ['1d', '5d']\n",
      "IGTAW: Period '1mo' is invalid, must be one of ['1d', '5d']\n",
      "IGTAW: Period '1mo' is invalid, must be one of ['1d', '5d']\n",
      "IGTAW: Period '1mo' is invalid, must be one of ['1d', '5d']\n",
      "IGTAW: Period '1mo' is invalid, must be one of ['1d', '5d']\n",
      "/var/folders/77/05l3f4755g34m9yb1kt19stm0000gn/T/ipykernel_41131/295811338.py:16: FutureWarning: The behavior of DataFrame concatenation with empty or all-NA entries is deprecated. In a future version, this will no longer exclude empty or all-NA columns when determining the result dtypes. To retain the old behavior, exclude the relevant entries before the concat operation.\n",
      "  df_target.loc[len(df_target)] = [ticker, ratio_ticker]\n",
      "IMAQW: Period '1mo' is invalid, must be one of ['1d', '5d']\n",
      "IMAQW: Period '1mo' is invalid, must be one of ['1d', '5d']\n",
      "IMAQW: Period '1mo' is invalid, must be one of ['1d', '5d']\n",
      "IMAQW: Period '1mo' is invalid, must be one of ['1d', '5d']\n",
      "IMAQW: Period '1mo' is invalid, must be one of ['1d', '5d']\n",
      "IMAQW: Period '1mo' is invalid, must be one of ['1d', '5d']\n",
      "IMAQW: Period '1mo' is invalid, must be one of ['1d', '5d']\n",
      "IMAQW: Period '1mo' is invalid, must be one of ['1d', '5d']\n",
      "/var/folders/77/05l3f4755g34m9yb1kt19stm0000gn/T/ipykernel_41131/295811338.py:16: FutureWarning: The behavior of DataFrame concatenation with empty or all-NA entries is deprecated. In a future version, this will no longer exclude empty or all-NA columns when determining the result dtypes. To retain the old behavior, exclude the relevant entries before the concat operation.\n",
      "  df_target.loc[len(df_target)] = [ticker, ratio_ticker]\n",
      "IMTXW: Period '1mo' is invalid, must be one of ['1d', '5d']\n",
      "IMTXW: Period '1mo' is invalid, must be one of ['1d', '5d']\n",
      "IMTXW: Period '1mo' is invalid, must be one of ['1d', '5d']\n",
      "IMTXW: Period '1mo' is invalid, must be one of ['1d', '5d']\n",
      "IMTXW: Period '1mo' is invalid, must be one of ['1d', '5d']\n",
      "IMTXW: Period '1mo' is invalid, must be one of ['1d', '5d']\n",
      "IMTXW: Period '1mo' is invalid, must be one of ['1d', '5d']\n",
      "IMTXW: Period '1mo' is invalid, must be one of ['1d', '5d']\n",
      "/var/folders/77/05l3f4755g34m9yb1kt19stm0000gn/T/ipykernel_41131/295811338.py:16: FutureWarning: The behavior of DataFrame concatenation with empty or all-NA entries is deprecated. In a future version, this will no longer exclude empty or all-NA columns when determining the result dtypes. To retain the old behavior, exclude the relevant entries before the concat operation.\n",
      "  df_target.loc[len(df_target)] = [ticker, ratio_ticker]\n",
      "INAQ: Data doesn't exist for startDate = 1684296000, endDate = 1684900800\n",
      "INAQ: Data doesn't exist for startDate = 1684296000, endDate = 1684382400\n",
      "INAQ: Data doesn't exist for startDate = 1684382400, endDate = 1684468800\n",
      "INAQ: Data doesn't exist for startDate = 1684468800, endDate = 1684555200\n",
      "INAQ: Data doesn't exist for startDate = 1684555200, endDate = 1684641600\n",
      "INAQ: Data doesn't exist for startDate = 1684641600, endDate = 1684728000\n",
      "INAQ: Data doesn't exist for startDate = 1684728000, endDate = 1684814400\n",
      "INAQ: Data doesn't exist for startDate = 1684814400, endDate = 1684900800\n",
      "/var/folders/77/05l3f4755g34m9yb1kt19stm0000gn/T/ipykernel_41131/295811338.py:16: FutureWarning: The behavior of DataFrame concatenation with empty or all-NA entries is deprecated. In a future version, this will no longer exclude empty or all-NA columns when determining the result dtypes. To retain the old behavior, exclude the relevant entries before the concat operation.\n",
      "  df_target.loc[len(df_target)] = [ticker, ratio_ticker]\n"
     ]
    },
    {
     "name": "stdout",
     "output_type": "stream",
     "text": [
      "get_stock_value_ratio : Error processing ticker INAQ: unsupported operand type(s) for /: 'float' and 'NoneType'\n"
     ]
    },
    {
     "name": "stderr",
     "output_type": "stream",
     "text": [
      "INHD: Data doesn't exist for startDate = 1684296000, endDate = 1684900800\n",
      "INHD: Data doesn't exist for startDate = 1684296000, endDate = 1684382400\n",
      "INHD: Data doesn't exist for startDate = 1684382400, endDate = 1684468800\n",
      "INHD: Data doesn't exist for startDate = 1684468800, endDate = 1684555200\n",
      "INHD: Data doesn't exist for startDate = 1684555200, endDate = 1684641600\n",
      "INHD: Data doesn't exist for startDate = 1684641600, endDate = 1684728000\n",
      "INHD: Data doesn't exist for startDate = 1684728000, endDate = 1684814400\n",
      "INHD: Data doesn't exist for startDate = 1684814400, endDate = 1684900800\n",
      "/var/folders/77/05l3f4755g34m9yb1kt19stm0000gn/T/ipykernel_41131/295811338.py:16: FutureWarning: The behavior of DataFrame concatenation with empty or all-NA entries is deprecated. In a future version, this will no longer exclude empty or all-NA columns when determining the result dtypes. To retain the old behavior, exclude the relevant entries before the concat operation.\n",
      "  df_target.loc[len(df_target)] = [ticker, ratio_ticker]\n"
     ]
    },
    {
     "name": "stdout",
     "output_type": "stream",
     "text": [
      "get_stock_value_ratio : Error processing ticker INHD: unsupported operand type(s) for /: 'float' and 'NoneType'\n"
     ]
    },
    {
     "name": "stderr",
     "output_type": "stream",
     "text": [
      "INTJ: Data doesn't exist for startDate = 1684296000, endDate = 1684900800\n",
      "INTJ: Data doesn't exist for startDate = 1684296000, endDate = 1684382400\n",
      "INTJ: Data doesn't exist for startDate = 1684382400, endDate = 1684468800\n",
      "INTJ: Data doesn't exist for startDate = 1684468800, endDate = 1684555200\n",
      "INTJ: Data doesn't exist for startDate = 1684555200, endDate = 1684641600\n",
      "INTJ: Data doesn't exist for startDate = 1684641600, endDate = 1684728000\n",
      "INTJ: Data doesn't exist for startDate = 1684728000, endDate = 1684814400\n",
      "INTJ: Data doesn't exist for startDate = 1684814400, endDate = 1684900800\n",
      "/var/folders/77/05l3f4755g34m9yb1kt19stm0000gn/T/ipykernel_41131/295811338.py:16: FutureWarning: The behavior of DataFrame concatenation with empty or all-NA entries is deprecated. In a future version, this will no longer exclude empty or all-NA columns when determining the result dtypes. To retain the old behavior, exclude the relevant entries before the concat operation.\n",
      "  df_target.loc[len(df_target)] = [ticker, ratio_ticker]\n"
     ]
    },
    {
     "name": "stdout",
     "output_type": "stream",
     "text": [
      "get_stock_value_ratio : Error processing ticker INTJ: unsupported operand type(s) for /: 'float' and 'NoneType'\n"
     ]
    },
    {
     "name": "stderr",
     "output_type": "stream",
     "text": [
      "INTS: Data doesn't exist for startDate = 1684296000, endDate = 1684900800\n",
      "INTS: Data doesn't exist for startDate = 1684296000, endDate = 1684382400\n",
      "INTS: Data doesn't exist for startDate = 1684382400, endDate = 1684468800\n",
      "INTS: Data doesn't exist for startDate = 1684468800, endDate = 1684555200\n",
      "INTS: Data doesn't exist for startDate = 1684555200, endDate = 1684641600\n",
      "INTS: Data doesn't exist for startDate = 1684641600, endDate = 1684728000\n",
      "INTS: Data doesn't exist for startDate = 1684728000, endDate = 1684814400\n",
      "INTS: Data doesn't exist for startDate = 1684814400, endDate = 1684900800\n",
      "/var/folders/77/05l3f4755g34m9yb1kt19stm0000gn/T/ipykernel_41131/295811338.py:16: FutureWarning: The behavior of DataFrame concatenation with empty or all-NA entries is deprecated. In a future version, this will no longer exclude empty or all-NA columns when determining the result dtypes. To retain the old behavior, exclude the relevant entries before the concat operation.\n",
      "  df_target.loc[len(df_target)] = [ticker, ratio_ticker]\n"
     ]
    },
    {
     "name": "stdout",
     "output_type": "stream",
     "text": [
      "get_stock_value_ratio : Error processing ticker INTS: unsupported operand type(s) for /: 'float' and 'NoneType'\n"
     ]
    },
    {
     "name": "stderr",
     "output_type": "stream",
     "text": [
      "INVZW: Period '1mo' is invalid, must be one of ['1d', '5d']\n",
      "INVZW: Period '1mo' is invalid, must be one of ['1d', '5d']\n",
      "INVZW: Period '1mo' is invalid, must be one of ['1d', '5d']\n",
      "INVZW: Period '1mo' is invalid, must be one of ['1d', '5d']\n",
      "INVZW: Period '1mo' is invalid, must be one of ['1d', '5d']\n",
      "INVZW: Period '1mo' is invalid, must be one of ['1d', '5d']\n",
      "INVZW: Period '1mo' is invalid, must be one of ['1d', '5d']\n",
      "INVZW: Period '1mo' is invalid, must be one of ['1d', '5d']\n",
      "/var/folders/77/05l3f4755g34m9yb1kt19stm0000gn/T/ipykernel_41131/295811338.py:16: FutureWarning: The behavior of DataFrame concatenation with empty or all-NA entries is deprecated. In a future version, this will no longer exclude empty or all-NA columns when determining the result dtypes. To retain the old behavior, exclude the relevant entries before the concat operation.\n",
      "  df_target.loc[len(df_target)] = [ticker, ratio_ticker]\n",
      "INXBV: Data doesn't exist for startDate = 1715745600, endDate = 1716350400\n",
      "INXBV: Data doesn't exist for startDate = 1715745600, endDate = 1715832000\n",
      "INXBV: Data doesn't exist for startDate = 1715832000, endDate = 1715918400\n",
      "INXBV: Data doesn't exist for startDate = 1715918400, endDate = 1716004800\n",
      "INXBV: Data doesn't exist for startDate = 1716004800, endDate = 1716091200\n",
      "INXBV: Data doesn't exist for startDate = 1716091200, endDate = 1716177600\n",
      "INXBV: Data doesn't exist for startDate = 1716177600, endDate = 1716264000\n",
      "INXBV: Data doesn't exist for startDate = 1716264000, endDate = 1716350400\n",
      "/var/folders/77/05l3f4755g34m9yb1kt19stm0000gn/T/ipykernel_41131/295811338.py:16: FutureWarning: The behavior of DataFrame concatenation with empty or all-NA entries is deprecated. In a future version, this will no longer exclude empty or all-NA columns when determining the result dtypes. To retain the old behavior, exclude the relevant entries before the concat operation.\n",
      "  df_target.loc[len(df_target)] = [ticker, ratio_ticker]\n",
      "IRAAW: Period '1mo' is invalid, must be one of ['1d', '5d']\n",
      "IRAAW: Period '1mo' is invalid, must be one of ['1d', '5d']\n",
      "IRAAW: Period '1mo' is invalid, must be one of ['1d', '5d']\n",
      "IRAAW: Period '1mo' is invalid, must be one of ['1d', '5d']\n",
      "IRAAW: Period '1mo' is invalid, must be one of ['1d', '5d']\n",
      "IRAAW: Period '1mo' is invalid, must be one of ['1d', '5d']\n",
      "IRAAW: Period '1mo' is invalid, must be one of ['1d', '5d']\n",
      "IRAAW: Period '1mo' is invalid, must be one of ['1d', '5d']\n",
      "/var/folders/77/05l3f4755g34m9yb1kt19stm0000gn/T/ipykernel_41131/295811338.py:16: FutureWarning: The behavior of DataFrame concatenation with empty or all-NA entries is deprecated. In a future version, this will no longer exclude empty or all-NA columns when determining the result dtypes. To retain the old behavior, exclude the relevant entries before the concat operation.\n",
      "  df_target.loc[len(df_target)] = [ticker, ratio_ticker]\n",
      "IROH: Data doesn't exist for startDate = 1684296000, endDate = 1684900800\n",
      "IROH: Data doesn't exist for startDate = 1684296000, endDate = 1684382400\n",
      "IROH: Data doesn't exist for startDate = 1684382400, endDate = 1684468800\n",
      "IROH: Data doesn't exist for startDate = 1684468800, endDate = 1684555200\n",
      "IROH: Data doesn't exist for startDate = 1684555200, endDate = 1684641600\n",
      "IROH: Data doesn't exist for startDate = 1684641600, endDate = 1684728000\n",
      "IROH: Data doesn't exist for startDate = 1684728000, endDate = 1684814400\n",
      "IROH: Data doesn't exist for startDate = 1684814400, endDate = 1684900800\n",
      "/var/folders/77/05l3f4755g34m9yb1kt19stm0000gn/T/ipykernel_41131/295811338.py:16: FutureWarning: The behavior of DataFrame concatenation with empty or all-NA entries is deprecated. In a future version, this will no longer exclude empty or all-NA columns when determining the result dtypes. To retain the old behavior, exclude the relevant entries before the concat operation.\n",
      "  df_target.loc[len(df_target)] = [ticker, ratio_ticker]\n"
     ]
    },
    {
     "name": "stdout",
     "output_type": "stream",
     "text": [
      "get_stock_value_ratio : Error processing ticker IROH: unsupported operand type(s) for /: 'float' and 'NoneType'\n"
     ]
    },
    {
     "name": "stderr",
     "output_type": "stream",
     "text": [
      "IROHU: Data doesn't exist for startDate = 1684296000, endDate = 1684900800\n",
      "IROHU: Data doesn't exist for startDate = 1684296000, endDate = 1684382400\n",
      "IROHU: Data doesn't exist for startDate = 1684382400, endDate = 1684468800\n",
      "IROHU: Data doesn't exist for startDate = 1684468800, endDate = 1684555200\n",
      "IROHU: Data doesn't exist for startDate = 1684555200, endDate = 1684641600\n",
      "IROHU: Data doesn't exist for startDate = 1684641600, endDate = 1684728000\n",
      "IROHU: Data doesn't exist for startDate = 1684728000, endDate = 1684814400\n",
      "IROHU: Data doesn't exist for startDate = 1684814400, endDate = 1684900800\n",
      "/var/folders/77/05l3f4755g34m9yb1kt19stm0000gn/T/ipykernel_41131/295811338.py:16: FutureWarning: The behavior of DataFrame concatenation with empty or all-NA entries is deprecated. In a future version, this will no longer exclude empty or all-NA columns when determining the result dtypes. To retain the old behavior, exclude the relevant entries before the concat operation.\n",
      "  df_target.loc[len(df_target)] = [ticker, ratio_ticker]\n"
     ]
    },
    {
     "name": "stdout",
     "output_type": "stream",
     "text": [
      "get_stock_value_ratio : Error processing ticker IROHU: unsupported operand type(s) for /: 'float' and 'NoneType'\n"
     ]
    },
    {
     "name": "stderr",
     "output_type": "stream",
     "text": [
      "ISRLW: Period '1mo' is invalid, must be one of ['1d', '5d']\n",
      "ISRLW: Period '1mo' is invalid, must be one of ['1d', '5d']\n",
      "ISRLW: Period '1mo' is invalid, must be one of ['1d', '5d']\n",
      "ISRLW: Period '1mo' is invalid, must be one of ['1d', '5d']\n",
      "ISRLW: Period '1mo' is invalid, must be one of ['1d', '5d']\n",
      "ISRLW: Period '1mo' is invalid, must be one of ['1d', '5d']\n",
      "ISRLW: Period '1mo' is invalid, must be one of ['1d', '5d']\n",
      "ISRLW: Period '1mo' is invalid, must be one of ['1d', '5d']\n",
      "/var/folders/77/05l3f4755g34m9yb1kt19stm0000gn/T/ipykernel_41131/295811338.py:16: FutureWarning: The behavior of DataFrame concatenation with empty or all-NA entries is deprecated. In a future version, this will no longer exclude empty or all-NA columns when determining the result dtypes. To retain the old behavior, exclude the relevant entries before the concat operation.\n",
      "  df_target.loc[len(df_target)] = [ticker, ratio_ticker]\n",
      "IVCAW: Period '1mo' is invalid, must be one of ['1d', '5d']\n",
      "IVCAW: Period '1mo' is invalid, must be one of ['1d', '5d']\n",
      "IVCAW: Period '1mo' is invalid, must be one of ['1d', '5d']\n",
      "IVCAW: Period '1mo' is invalid, must be one of ['1d', '5d']\n",
      "IVCAW: Period '1mo' is invalid, must be one of ['1d', '5d']\n",
      "IVCAW: Period '1mo' is invalid, must be one of ['1d', '5d']\n",
      "IVCAW: Period '1mo' is invalid, must be one of ['1d', '5d']\n",
      "IVCAW: Period '1mo' is invalid, must be one of ['1d', '5d']\n",
      "/var/folders/77/05l3f4755g34m9yb1kt19stm0000gn/T/ipykernel_41131/295811338.py:16: FutureWarning: The behavior of DataFrame concatenation with empty or all-NA entries is deprecated. In a future version, this will no longer exclude empty or all-NA columns when determining the result dtypes. To retain the old behavior, exclude the relevant entries before the concat operation.\n",
      "  df_target.loc[len(df_target)] = [ticker, ratio_ticker]\n",
      "IVCBW: Period '1mo' is invalid, must be one of ['1d', '5d']\n",
      "IVCBW: Period '1mo' is invalid, must be one of ['1d', '5d']\n",
      "IVCBW: Period '1mo' is invalid, must be one of ['1d', '5d']\n",
      "IVCBW: Period '1mo' is invalid, must be one of ['1d', '5d']\n",
      "IVCBW: Period '1mo' is invalid, must be one of ['1d', '5d']\n",
      "IVCBW: Period '1mo' is invalid, must be one of ['1d', '5d']\n",
      "IVCBW: Period '1mo' is invalid, must be one of ['1d', '5d']\n",
      "IVCBW: Period '1mo' is invalid, must be one of ['1d', '5d']\n",
      "/var/folders/77/05l3f4755g34m9yb1kt19stm0000gn/T/ipykernel_41131/295811338.py:16: FutureWarning: The behavior of DataFrame concatenation with empty or all-NA entries is deprecated. In a future version, this will no longer exclude empty or all-NA columns when determining the result dtypes. To retain the old behavior, exclude the relevant entries before the concat operation.\n",
      "  df_target.loc[len(df_target)] = [ticker, ratio_ticker]\n",
      "IVCPW: Period '1mo' is invalid, must be one of ['1d', '5d']\n",
      "IVCPW: Period '1mo' is invalid, must be one of ['1d', '5d']\n",
      "IVCPW: Period '1mo' is invalid, must be one of ['1d', '5d']\n",
      "IVCPW: Period '1mo' is invalid, must be one of ['1d', '5d']\n",
      "IVCPW: Period '1mo' is invalid, must be one of ['1d', '5d']\n",
      "IVCPW: Period '1mo' is invalid, must be one of ['1d', '5d']\n",
      "IVCPW: Period '1mo' is invalid, must be one of ['1d', '5d']\n",
      "IVCPW: Period '1mo' is invalid, must be one of ['1d', '5d']\n",
      "/var/folders/77/05l3f4755g34m9yb1kt19stm0000gn/T/ipykernel_41131/295811338.py:16: FutureWarning: The behavior of DataFrame concatenation with empty or all-NA entries is deprecated. In a future version, this will no longer exclude empty or all-NA columns when determining the result dtypes. To retain the old behavior, exclude the relevant entries before the concat operation.\n",
      "  df_target.loc[len(df_target)] = [ticker, ratio_ticker]\n",
      "IVDAW: Period '1mo' is invalid, must be one of ['1d', '5d']\n",
      "IVDAW: Period '1mo' is invalid, must be one of ['1d', '5d']\n",
      "IVDAW: Period '1mo' is invalid, must be one of ['1d', '5d']\n",
      "IVDAW: Period '1mo' is invalid, must be one of ['1d', '5d']\n",
      "IVDAW: Period '1mo' is invalid, must be one of ['1d', '5d']\n",
      "IVDAW: Period '1mo' is invalid, must be one of ['1d', '5d']\n",
      "IVDAW: Period '1mo' is invalid, must be one of ['1d', '5d']\n",
      "IVDAW: Period '1mo' is invalid, must be one of ['1d', '5d']\n",
      "/var/folders/77/05l3f4755g34m9yb1kt19stm0000gn/T/ipykernel_41131/295811338.py:16: FutureWarning: The behavior of DataFrame concatenation with empty or all-NA entries is deprecated. In a future version, this will no longer exclude empty or all-NA columns when determining the result dtypes. To retain the old behavior, exclude the relevant entries before the concat operation.\n",
      "  df_target.loc[len(df_target)] = [ticker, ratio_ticker]\n",
      "IVP: Data doesn't exist for startDate = 1684296000, endDate = 1684900800\n",
      "IVP: Data doesn't exist for startDate = 1684296000, endDate = 1684382400\n",
      "IVP: Data doesn't exist for startDate = 1684382400, endDate = 1684468800\n",
      "IVP: Data doesn't exist for startDate = 1684468800, endDate = 1684555200\n",
      "IVP: Data doesn't exist for startDate = 1684555200, endDate = 1684641600\n",
      "IVP: Data doesn't exist for startDate = 1684641600, endDate = 1684728000\n",
      "IVP: Data doesn't exist for startDate = 1684728000, endDate = 1684814400\n",
      "IVP: Data doesn't exist for startDate = 1684814400, endDate = 1684900800\n",
      "/var/folders/77/05l3f4755g34m9yb1kt19stm0000gn/T/ipykernel_41131/295811338.py:16: FutureWarning: The behavior of DataFrame concatenation with empty or all-NA entries is deprecated. In a future version, this will no longer exclude empty or all-NA columns when determining the result dtypes. To retain the old behavior, exclude the relevant entries before the concat operation.\n",
      "  df_target.loc[len(df_target)] = [ticker, ratio_ticker]\n"
     ]
    },
    {
     "name": "stdout",
     "output_type": "stream",
     "text": [
      "get_stock_value_ratio : Error processing ticker IVP: unsupported operand type(s) for /: 'float' and 'NoneType'\n"
     ]
    },
    {
     "name": "stderr",
     "output_type": "stream",
     "text": [
      "IXAQW: Period '1mo' is invalid, must be one of ['1d', '5d']\n",
      "IXAQW: Period '1mo' is invalid, must be one of ['1d', '5d']\n",
      "IXAQW: Period '1mo' is invalid, must be one of ['1d', '5d']\n",
      "IXAQW: Period '1mo' is invalid, must be one of ['1d', '5d']\n",
      "IXAQW: Period '1mo' is invalid, must be one of ['1d', '5d']\n",
      "IXAQW: Period '1mo' is invalid, must be one of ['1d', '5d']\n",
      "IXAQW: Period '1mo' is invalid, must be one of ['1d', '5d']\n",
      "IXAQW: Period '1mo' is invalid, must be one of ['1d', '5d']\n",
      "/var/folders/77/05l3f4755g34m9yb1kt19stm0000gn/T/ipykernel_41131/295811338.py:16: FutureWarning: The behavior of DataFrame concatenation with empty or all-NA entries is deprecated. In a future version, this will no longer exclude empty or all-NA columns when determining the result dtypes. To retain the old behavior, exclude the relevant entries before the concat operation.\n",
      "  df_target.loc[len(df_target)] = [ticker, ratio_ticker]\n",
      "JDZG: Data doesn't exist for startDate = 1684296000, endDate = 1684900800\n",
      "JDZG: Data doesn't exist for startDate = 1684296000, endDate = 1684382400\n",
      "JDZG: Data doesn't exist for startDate = 1684382400, endDate = 1684468800\n",
      "JDZG: Data doesn't exist for startDate = 1684468800, endDate = 1684555200\n",
      "JDZG: Data doesn't exist for startDate = 1684555200, endDate = 1684641600\n",
      "JDZG: Data doesn't exist for startDate = 1684641600, endDate = 1684728000\n",
      "JDZG: Data doesn't exist for startDate = 1684728000, endDate = 1684814400\n",
      "JDZG: Data doesn't exist for startDate = 1684814400, endDate = 1684900800\n",
      "/var/folders/77/05l3f4755g34m9yb1kt19stm0000gn/T/ipykernel_41131/295811338.py:16: FutureWarning: The behavior of DataFrame concatenation with empty or all-NA entries is deprecated. In a future version, this will no longer exclude empty or all-NA columns when determining the result dtypes. To retain the old behavior, exclude the relevant entries before the concat operation.\n",
      "  df_target.loc[len(df_target)] = [ticker, ratio_ticker]\n"
     ]
    },
    {
     "name": "stdout",
     "output_type": "stream",
     "text": [
      "get_stock_value_ratio : Error processing ticker JDZG: unsupported operand type(s) for /: 'float' and 'NoneType'\n"
     ]
    },
    {
     "name": "stderr",
     "output_type": "stream",
     "text": [
      "JFBRW: Period '1mo' is invalid, must be one of ['1d', '5d']\n",
      "JFBRW: Period '1mo' is invalid, must be one of ['1d', '5d']\n",
      "JFBRW: Period '1mo' is invalid, must be one of ['1d', '5d']\n",
      "JFBRW: Period '1mo' is invalid, must be one of ['1d', '5d']\n",
      "JFBRW: Period '1mo' is invalid, must be one of ['1d', '5d']\n",
      "JFBRW: Period '1mo' is invalid, must be one of ['1d', '5d']\n",
      "JFBRW: Period '1mo' is invalid, must be one of ['1d', '5d']\n",
      "JFBRW: Period '1mo' is invalid, must be one of ['1d', '5d']\n",
      "/var/folders/77/05l3f4755g34m9yb1kt19stm0000gn/T/ipykernel_41131/295811338.py:16: FutureWarning: The behavior of DataFrame concatenation with empty or all-NA entries is deprecated. In a future version, this will no longer exclude empty or all-NA columns when determining the result dtypes. To retain the old behavior, exclude the relevant entries before the concat operation.\n",
      "  df_target.loc[len(df_target)] = [ticker, ratio_ticker]\n",
      "JL: Data doesn't exist for startDate = 1684296000, endDate = 1684900800\n",
      "JL: Data doesn't exist for startDate = 1684296000, endDate = 1684382400\n",
      "JL: Data doesn't exist for startDate = 1684382400, endDate = 1684468800\n",
      "JL: Data doesn't exist for startDate = 1684468800, endDate = 1684555200\n",
      "JL: Data doesn't exist for startDate = 1684555200, endDate = 1684641600\n",
      "JL: Data doesn't exist for startDate = 1684641600, endDate = 1684728000\n",
      "JL: Data doesn't exist for startDate = 1684728000, endDate = 1684814400\n",
      "JL: Data doesn't exist for startDate = 1684814400, endDate = 1684900800\n",
      "/var/folders/77/05l3f4755g34m9yb1kt19stm0000gn/T/ipykernel_41131/295811338.py:16: FutureWarning: The behavior of DataFrame concatenation with empty or all-NA entries is deprecated. In a future version, this will no longer exclude empty or all-NA columns when determining the result dtypes. To retain the old behavior, exclude the relevant entries before the concat operation.\n",
      "  df_target.loc[len(df_target)] = [ticker, ratio_ticker]\n"
     ]
    },
    {
     "name": "stdout",
     "output_type": "stream",
     "text": [
      "get_stock_value_ratio : Error processing ticker JL: unsupported operand type(s) for /: 'float' and 'NoneType'\n"
     ]
    },
    {
     "name": "stderr",
     "output_type": "stream",
     "text": [
      "JNVR: Data doesn't exist for startDate = 1684296000, endDate = 1684900800\n",
      "JNVR: Data doesn't exist for startDate = 1684296000, endDate = 1684382400\n",
      "JNVR: Data doesn't exist for startDate = 1684382400, endDate = 1684468800\n",
      "JNVR: Data doesn't exist for startDate = 1684468800, endDate = 1684555200\n",
      "JNVR: Data doesn't exist for startDate = 1684555200, endDate = 1684641600\n",
      "JNVR: Data doesn't exist for startDate = 1684641600, endDate = 1684728000\n",
      "JNVR: Data doesn't exist for startDate = 1684728000, endDate = 1684814400\n",
      "JNVR: Data doesn't exist for startDate = 1684814400, endDate = 1684900800\n",
      "/var/folders/77/05l3f4755g34m9yb1kt19stm0000gn/T/ipykernel_41131/295811338.py:16: FutureWarning: The behavior of DataFrame concatenation with empty or all-NA entries is deprecated. In a future version, this will no longer exclude empty or all-NA columns when determining the result dtypes. To retain the old behavior, exclude the relevant entries before the concat operation.\n",
      "  df_target.loc[len(df_target)] = [ticker, ratio_ticker]\n"
     ]
    },
    {
     "name": "stdout",
     "output_type": "stream",
     "text": [
      "get_stock_value_ratio : Error processing ticker JNVR: unsupported operand type(s) for /: 'float' and 'NoneType'\n"
     ]
    },
    {
     "name": "stderr",
     "output_type": "stream",
     "text": [
      "JTAIW: Period '1mo' is invalid, must be one of ['1d', '5d']\n",
      "JTAIW: Period '1mo' is invalid, must be one of ['1d', '5d']\n",
      "JTAIW: Period '1mo' is invalid, must be one of ['1d', '5d']\n",
      "JTAIW: Period '1mo' is invalid, must be one of ['1d', '5d']\n",
      "JTAIW: Period '1mo' is invalid, must be one of ['1d', '5d']\n",
      "JTAIW: Period '1mo' is invalid, must be one of ['1d', '5d']\n",
      "JTAIW: Period '1mo' is invalid, must be one of ['1d', '5d']\n",
      "JTAIW: Period '1mo' is invalid, must be one of ['1d', '5d']\n",
      "/var/folders/77/05l3f4755g34m9yb1kt19stm0000gn/T/ipykernel_41131/295811338.py:16: FutureWarning: The behavior of DataFrame concatenation with empty or all-NA entries is deprecated. In a future version, this will no longer exclude empty or all-NA columns when determining the result dtypes. To retain the old behavior, exclude the relevant entries before the concat operation.\n",
      "  df_target.loc[len(df_target)] = [ticker, ratio_ticker]\n",
      "JTAIZ: Data doesn't exist for startDate = 1684296000, endDate = 1684900800\n",
      "JTAIZ: Data doesn't exist for startDate = 1684296000, endDate = 1684382400\n",
      "JTAIZ: Data doesn't exist for startDate = 1684382400, endDate = 1684468800\n",
      "JTAIZ: Data doesn't exist for startDate = 1684468800, endDate = 1684555200\n",
      "JTAIZ: Data doesn't exist for startDate = 1684555200, endDate = 1684641600\n",
      "JTAIZ: Data doesn't exist for startDate = 1684641600, endDate = 1684728000\n",
      "JTAIZ: Data doesn't exist for startDate = 1684728000, endDate = 1684814400\n",
      "JTAIZ: Data doesn't exist for startDate = 1684814400, endDate = 1684900800\n",
      "/var/folders/77/05l3f4755g34m9yb1kt19stm0000gn/T/ipykernel_41131/295811338.py:16: FutureWarning: The behavior of DataFrame concatenation with empty or all-NA entries is deprecated. In a future version, this will no longer exclude empty or all-NA columns when determining the result dtypes. To retain the old behavior, exclude the relevant entries before the concat operation.\n",
      "  df_target.loc[len(df_target)] = [ticker, ratio_ticker]\n"
     ]
    },
    {
     "name": "stdout",
     "output_type": "stream",
     "text": [
      "get_stock_value_ratio : Error processing ticker JTAIZ: unsupported operand type(s) for /: 'float' and 'NoneType'\n"
     ]
    },
    {
     "name": "stderr",
     "output_type": "stream",
     "text": [
      "JUNE: Data doesn't exist for startDate = 1684296000, endDate = 1684900800\n",
      "JUNE: Data doesn't exist for startDate = 1684296000, endDate = 1684382400\n",
      "JUNE: Data doesn't exist for startDate = 1684382400, endDate = 1684468800\n",
      "JUNE: Data doesn't exist for startDate = 1684468800, endDate = 1684555200\n",
      "JUNE: Data doesn't exist for startDate = 1684555200, endDate = 1684641600\n",
      "JUNE: Data doesn't exist for startDate = 1684641600, endDate = 1684728000\n",
      "JUNE: Data doesn't exist for startDate = 1684728000, endDate = 1684814400\n",
      "JUNE: Data doesn't exist for startDate = 1684814400, endDate = 1684900800\n",
      "/var/folders/77/05l3f4755g34m9yb1kt19stm0000gn/T/ipykernel_41131/295811338.py:16: FutureWarning: The behavior of DataFrame concatenation with empty or all-NA entries is deprecated. In a future version, this will no longer exclude empty or all-NA columns when determining the result dtypes. To retain the old behavior, exclude the relevant entries before the concat operation.\n",
      "  df_target.loc[len(df_target)] = [ticker, ratio_ticker]\n"
     ]
    },
    {
     "name": "stdout",
     "output_type": "stream",
     "text": [
      "get_stock_value_ratio : Error processing ticker JUNE: unsupported operand type(s) for /: 'float' and 'NoneType'\n"
     ]
    },
    {
     "name": "stderr",
     "output_type": "stream",
     "text": [
      "JVSA: Data doesn't exist for startDate = 1684296000, endDate = 1684900800\n",
      "JVSA: Data doesn't exist for startDate = 1684296000, endDate = 1684382400\n",
      "JVSA: Data doesn't exist for startDate = 1684382400, endDate = 1684468800\n",
      "JVSA: Data doesn't exist for startDate = 1684468800, endDate = 1684555200\n",
      "JVSA: Data doesn't exist for startDate = 1684555200, endDate = 1684641600\n",
      "JVSA: Data doesn't exist for startDate = 1684641600, endDate = 1684728000\n",
      "JVSA: Data doesn't exist for startDate = 1684728000, endDate = 1684814400\n",
      "JVSA: Data doesn't exist for startDate = 1684814400, endDate = 1684900800\n",
      "/var/folders/77/05l3f4755g34m9yb1kt19stm0000gn/T/ipykernel_41131/295811338.py:16: FutureWarning: The behavior of DataFrame concatenation with empty or all-NA entries is deprecated. In a future version, this will no longer exclude empty or all-NA columns when determining the result dtypes. To retain the old behavior, exclude the relevant entries before the concat operation.\n",
      "  df_target.loc[len(df_target)] = [ticker, ratio_ticker]\n"
     ]
    },
    {
     "name": "stdout",
     "output_type": "stream",
     "text": [
      "get_stock_value_ratio : Error processing ticker JVSA: unsupported operand type(s) for /: 'float' and 'NoneType'\n"
     ]
    },
    {
     "name": "stderr",
     "output_type": "stream",
     "text": [
      "JVSAU: Data doesn't exist for startDate = 1684296000, endDate = 1684900800\n",
      "JVSAU: Data doesn't exist for startDate = 1684296000, endDate = 1684382400\n",
      "JVSAU: Data doesn't exist for startDate = 1684382400, endDate = 1684468800\n",
      "JVSAU: Data doesn't exist for startDate = 1684468800, endDate = 1684555200\n",
      "JVSAU: Data doesn't exist for startDate = 1684555200, endDate = 1684641600\n",
      "JVSAU: Data doesn't exist for startDate = 1684641600, endDate = 1684728000\n",
      "JVSAU: Data doesn't exist for startDate = 1684728000, endDate = 1684814400\n",
      "JVSAU: Data doesn't exist for startDate = 1684814400, endDate = 1684900800\n",
      "/var/folders/77/05l3f4755g34m9yb1kt19stm0000gn/T/ipykernel_41131/295811338.py:16: FutureWarning: The behavior of DataFrame concatenation with empty or all-NA entries is deprecated. In a future version, this will no longer exclude empty or all-NA columns when determining the result dtypes. To retain the old behavior, exclude the relevant entries before the concat operation.\n",
      "  df_target.loc[len(df_target)] = [ticker, ratio_ticker]\n"
     ]
    },
    {
     "name": "stdout",
     "output_type": "stream",
     "text": [
      "get_stock_value_ratio : Error processing ticker JVSAU: unsupported operand type(s) for /: 'float' and 'NoneType'\n"
     ]
    },
    {
     "name": "stderr",
     "output_type": "stream",
     "text": [
      "KACLW: Period '1mo' is invalid, must be one of ['1d', '5d']\n",
      "KACLW: Period '1mo' is invalid, must be one of ['1d', '5d']\n",
      "KACLW: Period '1mo' is invalid, must be one of ['1d', '5d']\n",
      "KACLW: Period '1mo' is invalid, must be one of ['1d', '5d']\n",
      "KACLW: Period '1mo' is invalid, must be one of ['1d', '5d']\n",
      "KACLW: Period '1mo' is invalid, must be one of ['1d', '5d']\n",
      "KACLW: Period '1mo' is invalid, must be one of ['1d', '5d']\n",
      "KACLW: Period '1mo' is invalid, must be one of ['1d', '5d']\n",
      "/var/folders/77/05l3f4755g34m9yb1kt19stm0000gn/T/ipykernel_41131/295811338.py:16: FutureWarning: The behavior of DataFrame concatenation with empty or all-NA entries is deprecated. In a future version, this will no longer exclude empty or all-NA columns when determining the result dtypes. To retain the old behavior, exclude the relevant entries before the concat operation.\n",
      "  df_target.loc[len(df_target)] = [ticker, ratio_ticker]\n",
      "KBDC: Data doesn't exist for startDate = 1715745600, endDate = 1716350400\n",
      "KBDC: Data doesn't exist for startDate = 1715745600, endDate = 1715832000\n",
      "KBDC: Data doesn't exist for startDate = 1715832000, endDate = 1715918400\n",
      "KBDC: Data doesn't exist for startDate = 1715918400, endDate = 1716004800\n",
      "KBDC: Data doesn't exist for startDate = 1716004800, endDate = 1716091200\n",
      "KBDC: Data doesn't exist for startDate = 1716091200, endDate = 1716177600\n",
      "KBDC: Data doesn't exist for startDate = 1716177600, endDate = 1716264000\n",
      "KBDC: Data doesn't exist for startDate = 1716264000, endDate = 1716350400\n",
      "/var/folders/77/05l3f4755g34m9yb1kt19stm0000gn/T/ipykernel_41131/295811338.py:16: FutureWarning: The behavior of DataFrame concatenation with empty or all-NA entries is deprecated. In a future version, this will no longer exclude empty or all-NA columns when determining the result dtypes. To retain the old behavior, exclude the relevant entries before the concat operation.\n",
      "  df_target.loc[len(df_target)] = [ticker, ratio_ticker]\n",
      "KGS: Data doesn't exist for startDate = 1684296000, endDate = 1684900800\n",
      "KGS: Data doesn't exist for startDate = 1684296000, endDate = 1684382400\n",
      "KGS: Data doesn't exist for startDate = 1684382400, endDate = 1684468800\n",
      "KGS: Data doesn't exist for startDate = 1684468800, endDate = 1684555200\n",
      "KGS: Data doesn't exist for startDate = 1684555200, endDate = 1684641600\n",
      "KGS: Data doesn't exist for startDate = 1684641600, endDate = 1684728000\n",
      "KGS: Data doesn't exist for startDate = 1684728000, endDate = 1684814400\n",
      "KGS: Data doesn't exist for startDate = 1684814400, endDate = 1684900800\n",
      "/var/folders/77/05l3f4755g34m9yb1kt19stm0000gn/T/ipykernel_41131/295811338.py:16: FutureWarning: The behavior of DataFrame concatenation with empty or all-NA entries is deprecated. In a future version, this will no longer exclude empty or all-NA columns when determining the result dtypes. To retain the old behavior, exclude the relevant entries before the concat operation.\n",
      "  df_target.loc[len(df_target)] = [ticker, ratio_ticker]\n"
     ]
    },
    {
     "name": "stdout",
     "output_type": "stream",
     "text": [
      "get_stock_value_ratio : Error processing ticker KGS: unsupported operand type(s) for /: 'float' and 'NoneType'\n"
     ]
    },
    {
     "name": "stderr",
     "output_type": "stream",
     "text": [
      "KITTW: Period '1mo' is invalid, must be one of ['1d', '5d']\n",
      "KITTW: Period '1mo' is invalid, must be one of ['1d', '5d']\n",
      "KITTW: Period '1mo' is invalid, must be one of ['1d', '5d']\n",
      "KITTW: Period '1mo' is invalid, must be one of ['1d', '5d']\n",
      "KITTW: Period '1mo' is invalid, must be one of ['1d', '5d']\n",
      "KITTW: Period '1mo' is invalid, must be one of ['1d', '5d']\n",
      "KITTW: Period '1mo' is invalid, must be one of ['1d', '5d']\n",
      "KITTW: Period '1mo' is invalid, must be one of ['1d', '5d']\n",
      "/var/folders/77/05l3f4755g34m9yb1kt19stm0000gn/T/ipykernel_41131/295811338.py:16: FutureWarning: The behavior of DataFrame concatenation with empty or all-NA entries is deprecated. In a future version, this will no longer exclude empty or all-NA columns when determining the result dtypes. To retain the old behavior, exclude the relevant entries before the concat operation.\n",
      "  df_target.loc[len(df_target)] = [ticker, ratio_ticker]\n",
      "KLG: Data doesn't exist for startDate = 1684296000, endDate = 1684900800\n",
      "KLG: Data doesn't exist for startDate = 1684296000, endDate = 1684382400\n",
      "KLG: Data doesn't exist for startDate = 1684382400, endDate = 1684468800\n",
      "KLG: Data doesn't exist for startDate = 1684468800, endDate = 1684555200\n",
      "KLG: Data doesn't exist for startDate = 1684555200, endDate = 1684641600\n",
      "KLG: Data doesn't exist for startDate = 1684641600, endDate = 1684728000\n",
      "KLG: Data doesn't exist for startDate = 1684728000, endDate = 1684814400\n",
      "KLG: Data doesn't exist for startDate = 1684814400, endDate = 1684900800\n",
      "/var/folders/77/05l3f4755g34m9yb1kt19stm0000gn/T/ipykernel_41131/295811338.py:16: FutureWarning: The behavior of DataFrame concatenation with empty or all-NA entries is deprecated. In a future version, this will no longer exclude empty or all-NA columns when determining the result dtypes. To retain the old behavior, exclude the relevant entries before the concat operation.\n",
      "  df_target.loc[len(df_target)] = [ticker, ratio_ticker]\n"
     ]
    },
    {
     "name": "stdout",
     "output_type": "stream",
     "text": [
      "get_stock_value_ratio : Error processing ticker KLG: unsupported operand type(s) for /: 'float' and 'NoneType'\n"
     ]
    },
    {
     "name": "stderr",
     "output_type": "stream",
     "text": [
      "KNF: Data doesn't exist for startDate = 1684296000, endDate = 1684900800\n",
      "KNF: Data doesn't exist for startDate = 1684296000, endDate = 1684382400\n",
      "KNF: Data doesn't exist for startDate = 1684382400, endDate = 1684468800\n",
      "KNF: Data doesn't exist for startDate = 1684468800, endDate = 1684555200\n",
      "KNF: Data doesn't exist for startDate = 1684555200, endDate = 1684641600\n",
      "KNF: Data doesn't exist for startDate = 1684641600, endDate = 1684728000\n",
      "KNF: Data doesn't exist for startDate = 1684728000, endDate = 1684814400\n",
      "KNF: Data doesn't exist for startDate = 1684814400, endDate = 1684900800\n",
      "/var/folders/77/05l3f4755g34m9yb1kt19stm0000gn/T/ipykernel_41131/295811338.py:16: FutureWarning: The behavior of DataFrame concatenation with empty or all-NA entries is deprecated. In a future version, this will no longer exclude empty or all-NA columns when determining the result dtypes. To retain the old behavior, exclude the relevant entries before the concat operation.\n",
      "  df_target.loc[len(df_target)] = [ticker, ratio_ticker]\n"
     ]
    },
    {
     "name": "stdout",
     "output_type": "stream",
     "text": [
      "get_stock_value_ratio : Error processing ticker KNF: unsupported operand type(s) for /: 'float' and 'NoneType'\n"
     ]
    },
    {
     "name": "stderr",
     "output_type": "stream",
     "text": [
      "KPLTW: Period '1mo' is invalid, must be one of ['1d', '5d']\n",
      "KPLTW: Period '1mo' is invalid, must be one of ['1d', '5d']\n",
      "KPLTW: Period '1mo' is invalid, must be one of ['1d', '5d']\n",
      "KPLTW: Period '1mo' is invalid, must be one of ['1d', '5d']\n",
      "KPLTW: Period '1mo' is invalid, must be one of ['1d', '5d']\n",
      "KPLTW: Period '1mo' is invalid, must be one of ['1d', '5d']\n",
      "KPLTW: Period '1mo' is invalid, must be one of ['1d', '5d']\n",
      "KPLTW: Period '1mo' is invalid, must be one of ['1d', '5d']\n",
      "/var/folders/77/05l3f4755g34m9yb1kt19stm0000gn/T/ipykernel_41131/295811338.py:16: FutureWarning: The behavior of DataFrame concatenation with empty or all-NA entries is deprecated. In a future version, this will no longer exclude empty or all-NA columns when determining the result dtypes. To retain the old behavior, exclude the relevant entries before the concat operation.\n",
      "  df_target.loc[len(df_target)] = [ticker, ratio_ticker]\n",
      "KRNLW: Period '1mo' is invalid, must be one of ['1d', '5d']\n",
      "KRNLW: Period '1mo' is invalid, must be one of ['1d', '5d']\n",
      "KRNLW: Period '1mo' is invalid, must be one of ['1d', '5d']\n",
      "KRNLW: Period '1mo' is invalid, must be one of ['1d', '5d']\n",
      "KRNLW: Period '1mo' is invalid, must be one of ['1d', '5d']\n",
      "KRNLW: Period '1mo' is invalid, must be one of ['1d', '5d']\n",
      "KRNLW: Period '1mo' is invalid, must be one of ['1d', '5d']\n",
      "KRNLW: Period '1mo' is invalid, must be one of ['1d', '5d']\n",
      "/var/folders/77/05l3f4755g34m9yb1kt19stm0000gn/T/ipykernel_41131/295811338.py:16: FutureWarning: The behavior of DataFrame concatenation with empty or all-NA entries is deprecated. In a future version, this will no longer exclude empty or all-NA columns when determining the result dtypes. To retain the old behavior, exclude the relevant entries before the concat operation.\n",
      "  df_target.loc[len(df_target)] = [ticker, ratio_ticker]\n",
      "KSPI: Data doesn't exist for startDate = 1684296000, endDate = 1684900800\n",
      "KSPI: Data doesn't exist for startDate = 1684296000, endDate = 1684382400\n",
      "KSPI: Data doesn't exist for startDate = 1684382400, endDate = 1684468800\n",
      "KSPI: Data doesn't exist for startDate = 1684468800, endDate = 1684555200\n",
      "KSPI: Data doesn't exist for startDate = 1684555200, endDate = 1684641600\n",
      "KSPI: Data doesn't exist for startDate = 1684641600, endDate = 1684728000\n",
      "KSPI: Data doesn't exist for startDate = 1684728000, endDate = 1684814400\n",
      "KSPI: Data doesn't exist for startDate = 1684814400, endDate = 1684900800\n",
      "/var/folders/77/05l3f4755g34m9yb1kt19stm0000gn/T/ipykernel_41131/295811338.py:16: FutureWarning: The behavior of DataFrame concatenation with empty or all-NA entries is deprecated. In a future version, this will no longer exclude empty or all-NA columns when determining the result dtypes. To retain the old behavior, exclude the relevant entries before the concat operation.\n",
      "  df_target.loc[len(df_target)] = [ticker, ratio_ticker]\n"
     ]
    },
    {
     "name": "stdout",
     "output_type": "stream",
     "text": [
      "get_stock_value_ratio : Error processing ticker KSPI: unsupported operand type(s) for /: 'float' and 'NoneType'\n"
     ]
    },
    {
     "name": "stderr",
     "output_type": "stream",
     "text": [
      "KTTAW: Period '1mo' is invalid, must be one of ['1d', '5d']\n",
      "KTTAW: Period '1mo' is invalid, must be one of ['1d', '5d']\n",
      "KTTAW: Period '1mo' is invalid, must be one of ['1d', '5d']\n",
      "KTTAW: Period '1mo' is invalid, must be one of ['1d', '5d']\n",
      "KTTAW: Period '1mo' is invalid, must be one of ['1d', '5d']\n",
      "KTTAW: Period '1mo' is invalid, must be one of ['1d', '5d']\n",
      "KTTAW: Period '1mo' is invalid, must be one of ['1d', '5d']\n",
      "KTTAW: Period '1mo' is invalid, must be one of ['1d', '5d']\n",
      "/var/folders/77/05l3f4755g34m9yb1kt19stm0000gn/T/ipykernel_41131/295811338.py:16: FutureWarning: The behavior of DataFrame concatenation with empty or all-NA entries is deprecated. In a future version, this will no longer exclude empty or all-NA columns when determining the result dtypes. To retain the old behavior, exclude the relevant entries before the concat operation.\n",
      "  df_target.loc[len(df_target)] = [ticker, ratio_ticker]\n",
      "KVAC: Data doesn't exist for startDate = 1684296000, endDate = 1684900800\n",
      "KVAC: Data doesn't exist for startDate = 1684296000, endDate = 1684382400\n",
      "KVAC: Data doesn't exist for startDate = 1684382400, endDate = 1684468800\n",
      "KVAC: Data doesn't exist for startDate = 1684468800, endDate = 1684555200\n",
      "KVAC: Data doesn't exist for startDate = 1684555200, endDate = 1684641600\n",
      "KVAC: Data doesn't exist for startDate = 1684641600, endDate = 1684728000\n",
      "KVAC: Data doesn't exist for startDate = 1684728000, endDate = 1684814400\n",
      "KVAC: Data doesn't exist for startDate = 1684814400, endDate = 1684900800\n",
      "/var/folders/77/05l3f4755g34m9yb1kt19stm0000gn/T/ipykernel_41131/295811338.py:16: FutureWarning: The behavior of DataFrame concatenation with empty or all-NA entries is deprecated. In a future version, this will no longer exclude empty or all-NA columns when determining the result dtypes. To retain the old behavior, exclude the relevant entries before the concat operation.\n",
      "  df_target.loc[len(df_target)] = [ticker, ratio_ticker]\n"
     ]
    },
    {
     "name": "stdout",
     "output_type": "stream",
     "text": [
      "get_stock_value_ratio : Error processing ticker KVAC: unsupported operand type(s) for /: 'float' and 'NoneType'\n"
     ]
    },
    {
     "name": "stderr",
     "output_type": "stream",
     "text": [
      "KVACU: Data doesn't exist for startDate = 1684296000, endDate = 1684900800\n",
      "KVACU: Data doesn't exist for startDate = 1684296000, endDate = 1684382400\n",
      "KVACU: Data doesn't exist for startDate = 1684382400, endDate = 1684468800\n",
      "KVACU: Data doesn't exist for startDate = 1684468800, endDate = 1684555200\n",
      "KVACU: Data doesn't exist for startDate = 1684555200, endDate = 1684641600\n",
      "KVACU: Data doesn't exist for startDate = 1684641600, endDate = 1684728000\n",
      "KVACU: Data doesn't exist for startDate = 1684728000, endDate = 1684814400\n",
      "KVACU: Data doesn't exist for startDate = 1684814400, endDate = 1684900800\n",
      "/var/folders/77/05l3f4755g34m9yb1kt19stm0000gn/T/ipykernel_41131/295811338.py:16: FutureWarning: The behavior of DataFrame concatenation with empty or all-NA entries is deprecated. In a future version, this will no longer exclude empty or all-NA columns when determining the result dtypes. To retain the old behavior, exclude the relevant entries before the concat operation.\n",
      "  df_target.loc[len(df_target)] = [ticker, ratio_ticker]\n",
      "KVACW: Period '1mo' is invalid, must be one of ['1d', '5d']\n",
      "KVACW: Period '1mo' is invalid, must be one of ['1d', '5d']\n"
     ]
    },
    {
     "name": "stdout",
     "output_type": "stream",
     "text": [
      "get_stock_value_ratio : Error processing ticker KVACU: unsupported operand type(s) for /: 'float' and 'NoneType'\n"
     ]
    },
    {
     "name": "stderr",
     "output_type": "stream",
     "text": [
      "KVACW: Period '1mo' is invalid, must be one of ['1d', '5d']\n",
      "KVACW: Period '1mo' is invalid, must be one of ['1d', '5d']\n",
      "KVACW: Period '1mo' is invalid, must be one of ['1d', '5d']\n",
      "KVACW: Period '1mo' is invalid, must be one of ['1d', '5d']\n",
      "KVACW: Period '1mo' is invalid, must be one of ['1d', '5d']\n",
      "KVACW: Period '1mo' is invalid, must be one of ['1d', '5d']\n",
      "/var/folders/77/05l3f4755g34m9yb1kt19stm0000gn/T/ipykernel_41131/295811338.py:16: FutureWarning: The behavior of DataFrame concatenation with empty or all-NA entries is deprecated. In a future version, this will no longer exclude empty or all-NA columns when determining the result dtypes. To retain the old behavior, exclude the relevant entries before the concat operation.\n",
      "  df_target.loc[len(df_target)] = [ticker, ratio_ticker]\n",
      "KVYO: Data doesn't exist for startDate = 1684296000, endDate = 1684900800\n",
      "KVYO: Data doesn't exist for startDate = 1684296000, endDate = 1684382400\n",
      "KVYO: Data doesn't exist for startDate = 1684382400, endDate = 1684468800\n",
      "KVYO: Data doesn't exist for startDate = 1684468800, endDate = 1684555200\n",
      "KVYO: Data doesn't exist for startDate = 1684555200, endDate = 1684641600\n",
      "KVYO: Data doesn't exist for startDate = 1684641600, endDate = 1684728000\n",
      "KVYO: Data doesn't exist for startDate = 1684728000, endDate = 1684814400\n",
      "KVYO: Data doesn't exist for startDate = 1684814400, endDate = 1684900800\n",
      "/var/folders/77/05l3f4755g34m9yb1kt19stm0000gn/T/ipykernel_41131/295811338.py:16: FutureWarning: The behavior of DataFrame concatenation with empty or all-NA entries is deprecated. In a future version, this will no longer exclude empty or all-NA columns when determining the result dtypes. To retain the old behavior, exclude the relevant entries before the concat operation.\n",
      "  df_target.loc[len(df_target)] = [ticker, ratio_ticker]\n"
     ]
    },
    {
     "name": "stdout",
     "output_type": "stream",
     "text": [
      "get_stock_value_ratio : Error processing ticker KVYO: unsupported operand type(s) for /: 'float' and 'NoneType'\n"
     ]
    },
    {
     "name": "stderr",
     "output_type": "stream",
     "text": [
      "KWESW: Period '1mo' is invalid, must be one of ['1d', '5d']\n",
      "KWESW: Period '1mo' is invalid, must be one of ['1d', '5d']\n",
      "KWESW: Period '1mo' is invalid, must be one of ['1d', '5d']\n",
      "KWESW: Period '1mo' is invalid, must be one of ['1d', '5d']\n",
      "KWESW: Period '1mo' is invalid, must be one of ['1d', '5d']\n",
      "KWESW: Period '1mo' is invalid, must be one of ['1d', '5d']\n",
      "KWESW: Period '1mo' is invalid, must be one of ['1d', '5d']\n",
      "KWESW: Period '1mo' is invalid, must be one of ['1d', '5d']\n",
      "/var/folders/77/05l3f4755g34m9yb1kt19stm0000gn/T/ipykernel_41131/295811338.py:16: FutureWarning: The behavior of DataFrame concatenation with empty or all-NA entries is deprecated. In a future version, this will no longer exclude empty or all-NA columns when determining the result dtypes. To retain the old behavior, exclude the relevant entries before the concat operation.\n",
      "  df_target.loc[len(df_target)] = [ticker, ratio_ticker]\n",
      "KYTX: Data doesn't exist for startDate = 1684296000, endDate = 1684900800\n",
      "KYTX: Data doesn't exist for startDate = 1684296000, endDate = 1684382400\n",
      "KYTX: Data doesn't exist for startDate = 1684382400, endDate = 1684468800\n",
      "KYTX: Data doesn't exist for startDate = 1684468800, endDate = 1684555200\n",
      "KYTX: Data doesn't exist for startDate = 1684555200, endDate = 1684641600\n",
      "KYTX: Data doesn't exist for startDate = 1684641600, endDate = 1684728000\n",
      "KYTX: Data doesn't exist for startDate = 1684728000, endDate = 1684814400\n",
      "KYTX: Data doesn't exist for startDate = 1684814400, endDate = 1684900800\n",
      "/var/folders/77/05l3f4755g34m9yb1kt19stm0000gn/T/ipykernel_41131/295811338.py:16: FutureWarning: The behavior of DataFrame concatenation with empty or all-NA entries is deprecated. In a future version, this will no longer exclude empty or all-NA columns when determining the result dtypes. To retain the old behavior, exclude the relevant entries before the concat operation.\n",
      "  df_target.loc[len(df_target)] = [ticker, ratio_ticker]\n"
     ]
    },
    {
     "name": "stdout",
     "output_type": "stream",
     "text": [
      "get_stock_value_ratio : Error processing ticker KYTX: unsupported operand type(s) for /: 'float' and 'NoneType'\n"
     ]
    },
    {
     "name": "stderr",
     "output_type": "stream",
     "text": [
      "LAC: Data doesn't exist for startDate = 1684296000, endDate = 1684900800\n",
      "LAC: Data doesn't exist for startDate = 1684296000, endDate = 1684382400\n",
      "LAC: Data doesn't exist for startDate = 1684382400, endDate = 1684468800\n",
      "LAC: Data doesn't exist for startDate = 1684468800, endDate = 1684555200\n",
      "LAC: Data doesn't exist for startDate = 1684555200, endDate = 1684641600\n",
      "LAC: Data doesn't exist for startDate = 1684641600, endDate = 1684728000\n",
      "LAC: Data doesn't exist for startDate = 1684728000, endDate = 1684814400\n",
      "LAC: Data doesn't exist for startDate = 1684814400, endDate = 1684900800\n",
      "/var/folders/77/05l3f4755g34m9yb1kt19stm0000gn/T/ipykernel_41131/295811338.py:16: FutureWarning: The behavior of DataFrame concatenation with empty or all-NA entries is deprecated. In a future version, this will no longer exclude empty or all-NA columns when determining the result dtypes. To retain the old behavior, exclude the relevant entries before the concat operation.\n",
      "  df_target.loc[len(df_target)] = [ticker, ratio_ticker]\n"
     ]
    },
    {
     "name": "stdout",
     "output_type": "stream",
     "text": [
      "get_stock_value_ratio : Error processing ticker LAC: unsupported operand type(s) for /: 'float' and 'NoneType'\n"
     ]
    },
    {
     "name": "stderr",
     "output_type": "stream",
     "text": [
      "LAES: Data doesn't exist for startDate = 1684296000, endDate = 1684382400\n",
      "LAES: Data doesn't exist for startDate = 1684382400, endDate = 1684468800\n",
      "LAES: Data doesn't exist for startDate = 1684468800, endDate = 1684555200\n",
      "LAES: Data doesn't exist for startDate = 1684555200, endDate = 1684641600\n",
      "LAES: Data doesn't exist for startDate = 1684641600, endDate = 1684728000\n",
      "LAES: Data doesn't exist for startDate = 1684728000, endDate = 1684814400\n",
      "LANDP: Data doesn't exist for startDate = 1684296000, endDate = 1684900800\n",
      "LANDP: Data doesn't exist for startDate = 1684296000, endDate = 1684382400\n",
      "LANDP: Data doesn't exist for startDate = 1684382400, endDate = 1684468800\n",
      "LANDP: Data doesn't exist for startDate = 1684468800, endDate = 1684555200\n",
      "LANDP: Data doesn't exist for startDate = 1684555200, endDate = 1684641600\n",
      "LANDP: Data doesn't exist for startDate = 1684641600, endDate = 1684728000\n",
      "LANDP: Data doesn't exist for startDate = 1684728000, endDate = 1684814400\n",
      "LANDP: Data doesn't exist for startDate = 1684814400, endDate = 1684900800\n",
      "/var/folders/77/05l3f4755g34m9yb1kt19stm0000gn/T/ipykernel_41131/295811338.py:16: FutureWarning: The behavior of DataFrame concatenation with empty or all-NA entries is deprecated. In a future version, this will no longer exclude empty or all-NA columns when determining the result dtypes. To retain the old behavior, exclude the relevant entries before the concat operation.\n",
      "  df_target.loc[len(df_target)] = [ticker, ratio_ticker]\n"
     ]
    },
    {
     "name": "stdout",
     "output_type": "stream",
     "text": [
      "get_stock_value_ratio : Error processing ticker LANDP: unsupported operand type(s) for /: 'float' and 'NoneType'\n"
     ]
    },
    {
     "name": "stderr",
     "output_type": "stream",
     "text": [
      "LDTCW: Period '1mo' is invalid, must be one of ['1d', '5d']\n",
      "LDTCW: Period '1mo' is invalid, must be one of ['1d', '5d']\n",
      "LDTCW: Period '1mo' is invalid, must be one of ['1d', '5d']\n",
      "LDTCW: Period '1mo' is invalid, must be one of ['1d', '5d']\n",
      "LDTCW: Period '1mo' is invalid, must be one of ['1d', '5d']\n",
      "LDTCW: Period '1mo' is invalid, must be one of ['1d', '5d']\n",
      "LDTCW: Period '1mo' is invalid, must be one of ['1d', '5d']\n",
      "LDTCW: Period '1mo' is invalid, must be one of ['1d', '5d']\n",
      "/var/folders/77/05l3f4755g34m9yb1kt19stm0000gn/T/ipykernel_41131/295811338.py:16: FutureWarning: The behavior of DataFrame concatenation with empty or all-NA entries is deprecated. In a future version, this will no longer exclude empty or all-NA columns when determining the result dtypes. To retain the old behavior, exclude the relevant entries before the concat operation.\n",
      "  df_target.loc[len(df_target)] = [ticker, ratio_ticker]\n",
      "LEXXW: Period '1mo' is invalid, must be one of ['1d', '5d']\n",
      "LEXXW: Period '1mo' is invalid, must be one of ['1d', '5d']\n",
      "LEXXW: Period '1mo' is invalid, must be one of ['1d', '5d']\n",
      "LEXXW: Period '1mo' is invalid, must be one of ['1d', '5d']\n",
      "LEXXW: Period '1mo' is invalid, must be one of ['1d', '5d']\n",
      "LEXXW: Period '1mo' is invalid, must be one of ['1d', '5d']\n",
      "LEXXW: Period '1mo' is invalid, must be one of ['1d', '5d']\n",
      "LEXXW: Period '1mo' is invalid, must be one of ['1d', '5d']\n",
      "/var/folders/77/05l3f4755g34m9yb1kt19stm0000gn/T/ipykernel_41131/295811338.py:16: FutureWarning: The behavior of DataFrame concatenation with empty or all-NA entries is deprecated. In a future version, this will no longer exclude empty or all-NA columns when determining the result dtypes. To retain the old behavior, exclude the relevant entries before the concat operation.\n",
      "  df_target.loc[len(df_target)] = [ticker, ratio_ticker]\n",
      "LFLYW: Period '1mo' is invalid, must be one of ['1d', '5d']\n",
      "LFLYW: Period '1mo' is invalid, must be one of ['1d', '5d']\n",
      "LFLYW: Period '1mo' is invalid, must be one of ['1d', '5d']\n",
      "LFLYW: Period '1mo' is invalid, must be one of ['1d', '5d']\n",
      "LFLYW: Period '1mo' is invalid, must be one of ['1d', '5d']\n",
      "LFLYW: Period '1mo' is invalid, must be one of ['1d', '5d']\n",
      "LFLYW: Period '1mo' is invalid, must be one of ['1d', '5d']\n",
      "LFLYW: Period '1mo' is invalid, must be one of ['1d', '5d']\n",
      "/var/folders/77/05l3f4755g34m9yb1kt19stm0000gn/T/ipykernel_41131/295811338.py:16: FutureWarning: The behavior of DataFrame concatenation with empty or all-NA entries is deprecated. In a future version, this will no longer exclude empty or all-NA columns when determining the result dtypes. To retain the old behavior, exclude the relevant entries before the concat operation.\n",
      "  df_target.loc[len(df_target)] = [ticker, ratio_ticker]\n",
      "LGCB: Data doesn't exist for startDate = 1684296000, endDate = 1684900800\n",
      "LGCB: Data doesn't exist for startDate = 1684296000, endDate = 1684382400\n",
      "LGCB: Data doesn't exist for startDate = 1684382400, endDate = 1684468800\n",
      "LGCB: Data doesn't exist for startDate = 1684468800, endDate = 1684555200\n",
      "LGCB: Data doesn't exist for startDate = 1684555200, endDate = 1684641600\n",
      "LGCB: Data doesn't exist for startDate = 1684641600, endDate = 1684728000\n",
      "LGCB: Data doesn't exist for startDate = 1684728000, endDate = 1684814400\n",
      "LGCB: Data doesn't exist for startDate = 1684814400, endDate = 1684900800\n",
      "/var/folders/77/05l3f4755g34m9yb1kt19stm0000gn/T/ipykernel_41131/295811338.py:16: FutureWarning: The behavior of DataFrame concatenation with empty or all-NA entries is deprecated. In a future version, this will no longer exclude empty or all-NA columns when determining the result dtypes. To retain the old behavior, exclude the relevant entries before the concat operation.\n",
      "  df_target.loc[len(df_target)] = [ticker, ratio_ticker]\n"
     ]
    },
    {
     "name": "stdout",
     "output_type": "stream",
     "text": [
      "get_stock_value_ratio : Error processing ticker LGCB: unsupported operand type(s) for /: 'float' and 'NoneType'\n"
     ]
    },
    {
     "name": "stderr",
     "output_type": "stream",
     "text": [
      "LGCL: Data doesn't exist for startDate = 1684296000, endDate = 1684900800\n",
      "LGCL: Data doesn't exist for startDate = 1684296000, endDate = 1684382400\n",
      "LGCL: Data doesn't exist for startDate = 1684382400, endDate = 1684468800\n",
      "LGCL: Data doesn't exist for startDate = 1684468800, endDate = 1684555200\n",
      "LGCL: Data doesn't exist for startDate = 1684555200, endDate = 1684641600\n",
      "LGCL: Data doesn't exist for startDate = 1684641600, endDate = 1684728000\n",
      "LGCL: Data doesn't exist for startDate = 1684728000, endDate = 1684814400\n",
      "LGCL: Data doesn't exist for startDate = 1684814400, endDate = 1684900800\n",
      "/var/folders/77/05l3f4755g34m9yb1kt19stm0000gn/T/ipykernel_41131/295811338.py:16: FutureWarning: The behavior of DataFrame concatenation with empty or all-NA entries is deprecated. In a future version, this will no longer exclude empty or all-NA columns when determining the result dtypes. To retain the old behavior, exclude the relevant entries before the concat operation.\n",
      "  df_target.loc[len(df_target)] = [ticker, ratio_ticker]\n"
     ]
    },
    {
     "name": "stdout",
     "output_type": "stream",
     "text": [
      "get_stock_value_ratio : Error processing ticker LGCL: unsupported operand type(s) for /: 'float' and 'NoneType'\n"
     ]
    },
    {
     "name": "stderr",
     "output_type": "stream",
     "text": [
      "LGHLW: Period '1mo' is invalid, must be one of ['1d', '5d']\n",
      "LGHLW: Period '1mo' is invalid, must be one of ['1d', '5d']\n",
      "LGHLW: Period '1mo' is invalid, must be one of ['1d', '5d']\n",
      "LGHLW: Period '1mo' is invalid, must be one of ['1d', '5d']\n",
      "LGHLW: Period '1mo' is invalid, must be one of ['1d', '5d']\n",
      "LGHLW: Period '1mo' is invalid, must be one of ['1d', '5d']\n",
      "LGHLW: Period '1mo' is invalid, must be one of ['1d', '5d']\n",
      "LGHLW: Period '1mo' is invalid, must be one of ['1d', '5d']\n",
      "/var/folders/77/05l3f4755g34m9yb1kt19stm0000gn/T/ipykernel_41131/295811338.py:16: FutureWarning: The behavior of DataFrame concatenation with empty or all-NA entries is deprecated. In a future version, this will no longer exclude empty or all-NA columns when determining the result dtypes. To retain the old behavior, exclude the relevant entries before the concat operation.\n",
      "  df_target.loc[len(df_target)] = [ticker, ratio_ticker]\n",
      "LIFWZ: Period '1mo' is invalid, must be one of ['1d', '5d']\n",
      "LIFWZ: Period '1mo' is invalid, must be one of ['1d', '5d']\n",
      "LIFWZ: Period '1mo' is invalid, must be one of ['1d', '5d']\n",
      "LIFWZ: Period '1mo' is invalid, must be one of ['1d', '5d']\n",
      "LIFWZ: Period '1mo' is invalid, must be one of ['1d', '5d']\n",
      "LIFWZ: Period '1mo' is invalid, must be one of ['1d', '5d']\n",
      "LIFWZ: Period '1mo' is invalid, must be one of ['1d', '5d']\n",
      "LIFWZ: Period '1mo' is invalid, must be one of ['1d', '5d']\n",
      "/var/folders/77/05l3f4755g34m9yb1kt19stm0000gn/T/ipykernel_41131/295811338.py:16: FutureWarning: The behavior of DataFrame concatenation with empty or all-NA entries is deprecated. In a future version, this will no longer exclude empty or all-NA columns when determining the result dtypes. To retain the old behavior, exclude the relevant entries before the concat operation.\n",
      "  df_target.loc[len(df_target)] = [ticker, ratio_ticker]\n",
      "LLYVA: Data doesn't exist for startDate = 1684296000, endDate = 1684900800\n",
      "LLYVA: Data doesn't exist for startDate = 1684296000, endDate = 1684382400\n",
      "LLYVA: Data doesn't exist for startDate = 1684382400, endDate = 1684468800\n",
      "LLYVA: Data doesn't exist for startDate = 1684468800, endDate = 1684555200\n",
      "LLYVA: Data doesn't exist for startDate = 1684555200, endDate = 1684641600\n",
      "LLYVA: Data doesn't exist for startDate = 1684641600, endDate = 1684728000\n",
      "LLYVA: Data doesn't exist for startDate = 1684728000, endDate = 1684814400\n",
      "LLYVA: Data doesn't exist for startDate = 1684814400, endDate = 1684900800\n",
      "/var/folders/77/05l3f4755g34m9yb1kt19stm0000gn/T/ipykernel_41131/295811338.py:16: FutureWarning: The behavior of DataFrame concatenation with empty or all-NA entries is deprecated. In a future version, this will no longer exclude empty or all-NA columns when determining the result dtypes. To retain the old behavior, exclude the relevant entries before the concat operation.\n",
      "  df_target.loc[len(df_target)] = [ticker, ratio_ticker]\n"
     ]
    },
    {
     "name": "stdout",
     "output_type": "stream",
     "text": [
      "get_stock_value_ratio : Error processing ticker LLYVA: unsupported operand type(s) for /: 'float' and 'NoneType'\n"
     ]
    },
    {
     "name": "stderr",
     "output_type": "stream",
     "text": [
      "LLYVK: Data doesn't exist for startDate = 1684296000, endDate = 1684900800\n",
      "LLYVK: Data doesn't exist for startDate = 1684296000, endDate = 1684382400\n",
      "LLYVK: Data doesn't exist for startDate = 1684382400, endDate = 1684468800\n",
      "LLYVK: Data doesn't exist for startDate = 1684468800, endDate = 1684555200\n",
      "LLYVK: Data doesn't exist for startDate = 1684555200, endDate = 1684641600\n",
      "LLYVK: Data doesn't exist for startDate = 1684641600, endDate = 1684728000\n",
      "LLYVK: Data doesn't exist for startDate = 1684728000, endDate = 1684814400\n",
      "LLYVK: Data doesn't exist for startDate = 1684814400, endDate = 1684900800\n",
      "/var/folders/77/05l3f4755g34m9yb1kt19stm0000gn/T/ipykernel_41131/295811338.py:16: FutureWarning: The behavior of DataFrame concatenation with empty or all-NA entries is deprecated. In a future version, this will no longer exclude empty or all-NA columns when determining the result dtypes. To retain the old behavior, exclude the relevant entries before the concat operation.\n",
      "  df_target.loc[len(df_target)] = [ticker, ratio_ticker]\n"
     ]
    },
    {
     "name": "stdout",
     "output_type": "stream",
     "text": [
      "get_stock_value_ratio : Error processing ticker LLYVK: unsupported operand type(s) for /: 'float' and 'NoneType'\n"
     ]
    },
    {
     "name": "stderr",
     "output_type": "stream",
     "text": [
      "LNZAW: Period '1mo' is invalid, must be one of ['1d', '5d']\n",
      "LNZAW: Period '1mo' is invalid, must be one of ['1d', '5d']\n",
      "LNZAW: Period '1mo' is invalid, must be one of ['1d', '5d']\n",
      "LNZAW: Period '1mo' is invalid, must be one of ['1d', '5d']\n",
      "LNZAW: Period '1mo' is invalid, must be one of ['1d', '5d']\n",
      "LNZAW: Period '1mo' is invalid, must be one of ['1d', '5d']\n",
      "LNZAW: Period '1mo' is invalid, must be one of ['1d', '5d']\n",
      "LNZAW: Period '1mo' is invalid, must be one of ['1d', '5d']\n",
      "/var/folders/77/05l3f4755g34m9yb1kt19stm0000gn/T/ipykernel_41131/295811338.py:16: FutureWarning: The behavior of DataFrame concatenation with empty or all-NA entries is deprecated. In a future version, this will no longer exclude empty or all-NA columns when determining the result dtypes. To retain the old behavior, exclude the relevant entries before the concat operation.\n",
      "  df_target.loc[len(df_target)] = [ticker, ratio_ticker]\n",
      "LOAR: Data doesn't exist for startDate = 1684296000, endDate = 1684900800\n",
      "LOAR: Data doesn't exist for startDate = 1684296000, endDate = 1684382400\n",
      "LOAR: Data doesn't exist for startDate = 1684382400, endDate = 1684468800\n",
      "LOAR: Data doesn't exist for startDate = 1684468800, endDate = 1684555200\n",
      "LOAR: Data doesn't exist for startDate = 1684555200, endDate = 1684641600\n",
      "LOAR: Data doesn't exist for startDate = 1684641600, endDate = 1684728000\n",
      "LOAR: Data doesn't exist for startDate = 1684728000, endDate = 1684814400\n",
      "LOAR: Data doesn't exist for startDate = 1684814400, endDate = 1684900800\n",
      "/var/folders/77/05l3f4755g34m9yb1kt19stm0000gn/T/ipykernel_41131/295811338.py:16: FutureWarning: The behavior of DataFrame concatenation with empty or all-NA entries is deprecated. In a future version, this will no longer exclude empty or all-NA columns when determining the result dtypes. To retain the old behavior, exclude the relevant entries before the concat operation.\n",
      "  df_target.loc[len(df_target)] = [ticker, ratio_ticker]\n"
     ]
    },
    {
     "name": "stdout",
     "output_type": "stream",
     "text": [
      "get_stock_value_ratio : Error processing ticker LOAR: unsupported operand type(s) for /: 'float' and 'NoneType'\n"
     ]
    },
    {
     "name": "stderr",
     "output_type": "stream",
     "text": [
      "LOBO: Data doesn't exist for startDate = 1684296000, endDate = 1684900800\n",
      "LOBO: Data doesn't exist for startDate = 1684296000, endDate = 1684382400\n",
      "LOBO: Data doesn't exist for startDate = 1684382400, endDate = 1684468800\n",
      "LOBO: Data doesn't exist for startDate = 1684468800, endDate = 1684555200\n",
      "LOBO: Data doesn't exist for startDate = 1684555200, endDate = 1684641600\n",
      "LOBO: Data doesn't exist for startDate = 1684641600, endDate = 1684728000\n",
      "LOBO: Data doesn't exist for startDate = 1684728000, endDate = 1684814400\n",
      "LOBO: Data doesn't exist for startDate = 1684814400, endDate = 1684900800\n",
      "/var/folders/77/05l3f4755g34m9yb1kt19stm0000gn/T/ipykernel_41131/295811338.py:16: FutureWarning: The behavior of DataFrame concatenation with empty or all-NA entries is deprecated. In a future version, this will no longer exclude empty or all-NA columns when determining the result dtypes. To retain the old behavior, exclude the relevant entries before the concat operation.\n",
      "  df_target.loc[len(df_target)] = [ticker, ratio_ticker]\n"
     ]
    },
    {
     "name": "stdout",
     "output_type": "stream",
     "text": [
      "get_stock_value_ratio : Error processing ticker LOBO: unsupported operand type(s) for /: 'float' and 'NoneType'\n"
     ]
    },
    {
     "name": "stderr",
     "output_type": "stream",
     "text": [
      "LOTWW: Period '1mo' is invalid, must be one of ['1d', '5d']\n",
      "LOTWW: Period '1mo' is invalid, must be one of ['1d', '5d']\n",
      "LOTWW: Period '1mo' is invalid, must be one of ['1d', '5d']\n",
      "LOTWW: Period '1mo' is invalid, must be one of ['1d', '5d']\n",
      "LOTWW: Period '1mo' is invalid, must be one of ['1d', '5d']\n",
      "LOTWW: Period '1mo' is invalid, must be one of ['1d', '5d']\n",
      "LOTWW: Period '1mo' is invalid, must be one of ['1d', '5d']\n",
      "LOTWW: Period '1mo' is invalid, must be one of ['1d', '5d']\n",
      "/var/folders/77/05l3f4755g34m9yb1kt19stm0000gn/T/ipykernel_41131/295811338.py:16: FutureWarning: The behavior of DataFrame concatenation with empty or all-NA entries is deprecated. In a future version, this will no longer exclude empty or all-NA columns when determining the result dtypes. To retain the old behavior, exclude the relevant entries before the concat operation.\n",
      "  df_target.loc[len(df_target)] = [ticker, ratio_ticker]\n",
      "LPA: Data doesn't exist for startDate = 1684296000, endDate = 1684900800\n",
      "LPA: Data doesn't exist for startDate = 1684296000, endDate = 1684382400\n",
      "LPA: Data doesn't exist for startDate = 1684382400, endDate = 1684468800\n",
      "LPA: Data doesn't exist for startDate = 1684468800, endDate = 1684555200\n",
      "LPA: Data doesn't exist for startDate = 1684555200, endDate = 1684641600\n",
      "LPA: Data doesn't exist for startDate = 1684641600, endDate = 1684728000\n",
      "LPA: Data doesn't exist for startDate = 1684728000, endDate = 1684814400\n",
      "LPA: Data doesn't exist for startDate = 1684814400, endDate = 1684900800\n",
      "/var/folders/77/05l3f4755g34m9yb1kt19stm0000gn/T/ipykernel_41131/295811338.py:16: FutureWarning: The behavior of DataFrame concatenation with empty or all-NA entries is deprecated. In a future version, this will no longer exclude empty or all-NA columns when determining the result dtypes. To retain the old behavior, exclude the relevant entries before the concat operation.\n",
      "  df_target.loc[len(df_target)] = [ticker, ratio_ticker]\n"
     ]
    },
    {
     "name": "stdout",
     "output_type": "stream",
     "text": [
      "get_stock_value_ratio : Error processing ticker LPA: unsupported operand type(s) for /: 'float' and 'NoneType'\n"
     ]
    },
    {
     "name": "stderr",
     "output_type": "stream",
     "text": [
      "LQR: Data doesn't exist for startDate = 1684296000, endDate = 1684900800\n",
      "LQR: Data doesn't exist for startDate = 1684296000, endDate = 1684382400\n",
      "LQR: Data doesn't exist for startDate = 1684382400, endDate = 1684468800\n",
      "LQR: Data doesn't exist for startDate = 1684468800, endDate = 1684555200\n",
      "LQR: Data doesn't exist for startDate = 1684555200, endDate = 1684641600\n",
      "LQR: Data doesn't exist for startDate = 1684641600, endDate = 1684728000\n",
      "LQR: Data doesn't exist for startDate = 1684728000, endDate = 1684814400\n",
      "LQR: Data doesn't exist for startDate = 1684814400, endDate = 1684900800\n",
      "/var/folders/77/05l3f4755g34m9yb1kt19stm0000gn/T/ipykernel_41131/295811338.py:16: FutureWarning: The behavior of DataFrame concatenation with empty or all-NA entries is deprecated. In a future version, this will no longer exclude empty or all-NA columns when determining the result dtypes. To retain the old behavior, exclude the relevant entries before the concat operation.\n",
      "  df_target.loc[len(df_target)] = [ticker, ratio_ticker]\n"
     ]
    },
    {
     "name": "stdout",
     "output_type": "stream",
     "text": [
      "get_stock_value_ratio : Error processing ticker LQR: unsupported operand type(s) for /: 'float' and 'NoneType'\n"
     ]
    },
    {
     "name": "stderr",
     "output_type": "stream",
     "text": [
      "LRE: Data doesn't exist for startDate = 1684296000, endDate = 1684900800\n",
      "LRE: Data doesn't exist for startDate = 1684296000, endDate = 1684382400\n",
      "LRE: Data doesn't exist for startDate = 1684382400, endDate = 1684468800\n",
      "LRE: Data doesn't exist for startDate = 1684468800, endDate = 1684555200\n",
      "LRE: Data doesn't exist for startDate = 1684555200, endDate = 1684641600\n",
      "LRE: Data doesn't exist for startDate = 1684641600, endDate = 1684728000\n",
      "LRE: Data doesn't exist for startDate = 1684728000, endDate = 1684814400\n",
      "LRE: Data doesn't exist for startDate = 1684814400, endDate = 1684900800\n",
      "/var/folders/77/05l3f4755g34m9yb1kt19stm0000gn/T/ipykernel_41131/295811338.py:16: FutureWarning: The behavior of DataFrame concatenation with empty or all-NA entries is deprecated. In a future version, this will no longer exclude empty or all-NA columns when determining the result dtypes. To retain the old behavior, exclude the relevant entries before the concat operation.\n",
      "  df_target.loc[len(df_target)] = [ticker, ratio_ticker]\n"
     ]
    },
    {
     "name": "stdout",
     "output_type": "stream",
     "text": [
      "get_stock_value_ratio : Error processing ticker LRE: unsupported operand type(s) for /: 'float' and 'NoneType'\n"
     ]
    },
    {
     "name": "stderr",
     "output_type": "stream",
     "text": [
      "LRHC: Data doesn't exist for startDate = 1684296000, endDate = 1684900800\n",
      "LRHC: Data doesn't exist for startDate = 1684296000, endDate = 1684382400\n",
      "LRHC: Data doesn't exist for startDate = 1684382400, endDate = 1684468800\n",
      "LRHC: Data doesn't exist for startDate = 1684468800, endDate = 1684555200\n",
      "LRHC: Data doesn't exist for startDate = 1684555200, endDate = 1684641600\n",
      "LRHC: Data doesn't exist for startDate = 1684641600, endDate = 1684728000\n",
      "LRHC: Data doesn't exist for startDate = 1684728000, endDate = 1684814400\n",
      "LRHC: Data doesn't exist for startDate = 1684814400, endDate = 1684900800\n",
      "/var/folders/77/05l3f4755g34m9yb1kt19stm0000gn/T/ipykernel_41131/295811338.py:16: FutureWarning: The behavior of DataFrame concatenation with empty or all-NA entries is deprecated. In a future version, this will no longer exclude empty or all-NA columns when determining the result dtypes. To retain the old behavior, exclude the relevant entries before the concat operation.\n",
      "  df_target.loc[len(df_target)] = [ticker, ratio_ticker]\n"
     ]
    },
    {
     "name": "stdout",
     "output_type": "stream",
     "text": [
      "get_stock_value_ratio : Error processing ticker LRHC: unsupported operand type(s) for /: 'float' and 'NoneType'\n"
     ]
    },
    {
     "name": "stderr",
     "output_type": "stream",
     "text": [
      "LSBPW: Period '1mo' is invalid, must be one of ['1d', '5d']\n",
      "LSBPW: Period '1mo' is invalid, must be one of ['1d', '5d']\n",
      "LSBPW: Period '1mo' is invalid, must be one of ['1d', '5d']\n",
      "LSBPW: Period '1mo' is invalid, must be one of ['1d', '5d']\n",
      "LSBPW: Period '1mo' is invalid, must be one of ['1d', '5d']\n",
      "LSBPW: Period '1mo' is invalid, must be one of ['1d', '5d']\n",
      "LSBPW: Period '1mo' is invalid, must be one of ['1d', '5d']\n",
      "LSBPW: Period '1mo' is invalid, must be one of ['1d', '5d']\n",
      "/var/folders/77/05l3f4755g34m9yb1kt19stm0000gn/T/ipykernel_41131/295811338.py:16: FutureWarning: The behavior of DataFrame concatenation with empty or all-NA entries is deprecated. In a future version, this will no longer exclude empty or all-NA columns when determining the result dtypes. To retain the old behavior, exclude the relevant entries before the concat operation.\n",
      "  df_target.loc[len(df_target)] = [ticker, ratio_ticker]\n",
      "LSEAW: Period '1mo' is invalid, must be one of ['1d', '5d']\n",
      "LSEAW: Period '1mo' is invalid, must be one of ['1d', '5d']\n",
      "LSEAW: Period '1mo' is invalid, must be one of ['1d', '5d']\n",
      "LSEAW: Period '1mo' is invalid, must be one of ['1d', '5d']\n",
      "LSEAW: Period '1mo' is invalid, must be one of ['1d', '5d']\n",
      "LSEAW: Period '1mo' is invalid, must be one of ['1d', '5d']\n",
      "LSEAW: Period '1mo' is invalid, must be one of ['1d', '5d']\n",
      "LSEAW: Period '1mo' is invalid, must be one of ['1d', '5d']\n",
      "/var/folders/77/05l3f4755g34m9yb1kt19stm0000gn/T/ipykernel_41131/295811338.py:16: FutureWarning: The behavior of DataFrame concatenation with empty or all-NA entries is deprecated. In a future version, this will no longer exclude empty or all-NA columns when determining the result dtypes. To retain the old behavior, exclude the relevant entries before the concat operation.\n",
      "  df_target.loc[len(df_target)] = [ticker, ratio_ticker]\n",
      "LTRY: Data doesn't exist for startDate = 1684296000, endDate = 1684900800\n",
      "LTRY: Data doesn't exist for startDate = 1684296000, endDate = 1684382400\n",
      "LTRY: Data doesn't exist for startDate = 1684382400, endDate = 1684468800\n",
      "LTRY: Data doesn't exist for startDate = 1684468800, endDate = 1684555200\n",
      "LTRY: Data doesn't exist for startDate = 1684555200, endDate = 1684641600\n",
      "LTRY: Data doesn't exist for startDate = 1684641600, endDate = 1684728000\n",
      "LTRY: Data doesn't exist for startDate = 1684728000, endDate = 1684814400\n",
      "LTRY: Data doesn't exist for startDate = 1684814400, endDate = 1684900800\n",
      "/var/folders/77/05l3f4755g34m9yb1kt19stm0000gn/T/ipykernel_41131/295811338.py:16: FutureWarning: The behavior of DataFrame concatenation with empty or all-NA entries is deprecated. In a future version, this will no longer exclude empty or all-NA columns when determining the result dtypes. To retain the old behavior, exclude the relevant entries before the concat operation.\n",
      "  df_target.loc[len(df_target)] = [ticker, ratio_ticker]\n",
      "LTRYW: Period '1mo' is invalid, must be one of ['1d', '5d']\n",
      "LTRYW: Period '1mo' is invalid, must be one of ['1d', '5d']\n"
     ]
    },
    {
     "name": "stdout",
     "output_type": "stream",
     "text": [
      "get_stock_value_ratio : Error processing ticker LTRY: unsupported operand type(s) for /: 'float' and 'NoneType'\n"
     ]
    },
    {
     "name": "stderr",
     "output_type": "stream",
     "text": [
      "LTRYW: Period '1mo' is invalid, must be one of ['1d', '5d']\n",
      "LTRYW: Period '1mo' is invalid, must be one of ['1d', '5d']\n",
      "LTRYW: Period '1mo' is invalid, must be one of ['1d', '5d']\n",
      "LTRYW: Period '1mo' is invalid, must be one of ['1d', '5d']\n",
      "LTRYW: Period '1mo' is invalid, must be one of ['1d', '5d']\n",
      "LTRYW: Period '1mo' is invalid, must be one of ['1d', '5d']\n",
      "/var/folders/77/05l3f4755g34m9yb1kt19stm0000gn/T/ipykernel_41131/295811338.py:16: FutureWarning: The behavior of DataFrame concatenation with empty or all-NA entries is deprecated. In a future version, this will no longer exclude empty or all-NA columns when determining the result dtypes. To retain the old behavior, exclude the relevant entries before the concat operation.\n",
      "  df_target.loc[len(df_target)] = [ticker, ratio_ticker]\n",
      "LUNRW: Period '1mo' is invalid, must be one of ['1d', '5d']\n",
      "LUNRW: Period '1mo' is invalid, must be one of ['1d', '5d']\n",
      "LUNRW: Period '1mo' is invalid, must be one of ['1d', '5d']\n",
      "LUNRW: Period '1mo' is invalid, must be one of ['1d', '5d']\n",
      "LUNRW: Period '1mo' is invalid, must be one of ['1d', '5d']\n",
      "LUNRW: Period '1mo' is invalid, must be one of ['1d', '5d']\n",
      "LUNRW: Period '1mo' is invalid, must be one of ['1d', '5d']\n",
      "LUNRW: Period '1mo' is invalid, must be one of ['1d', '5d']\n",
      "/var/folders/77/05l3f4755g34m9yb1kt19stm0000gn/T/ipykernel_41131/295811338.py:16: FutureWarning: The behavior of DataFrame concatenation with empty or all-NA entries is deprecated. In a future version, this will no longer exclude empty or all-NA columns when determining the result dtypes. To retain the old behavior, exclude the relevant entries before the concat operation.\n",
      "  df_target.loc[len(df_target)] = [ticker, ratio_ticker]\n",
      "LUXHP: Data doesn't exist for startDate = 1684296000, endDate = 1684900800\n",
      "LUXHP: Data doesn't exist for startDate = 1684296000, endDate = 1684382400\n",
      "LUXHP: Data doesn't exist for startDate = 1684382400, endDate = 1684468800\n",
      "LUXHP: Data doesn't exist for startDate = 1684468800, endDate = 1684555200\n",
      "LUXHP: Data doesn't exist for startDate = 1684555200, endDate = 1684641600\n",
      "LUXHP: Data doesn't exist for startDate = 1684641600, endDate = 1684728000\n",
      "LUXHP: Data doesn't exist for startDate = 1684728000, endDate = 1684814400\n",
      "LUXHP: Data doesn't exist for startDate = 1684814400, endDate = 1684900800\n",
      "/var/folders/77/05l3f4755g34m9yb1kt19stm0000gn/T/ipykernel_41131/295811338.py:16: FutureWarning: The behavior of DataFrame concatenation with empty or all-NA entries is deprecated. In a future version, this will no longer exclude empty or all-NA columns when determining the result dtypes. To retain the old behavior, exclude the relevant entries before the concat operation.\n",
      "  df_target.loc[len(df_target)] = [ticker, ratio_ticker]\n"
     ]
    },
    {
     "name": "stdout",
     "output_type": "stream",
     "text": [
      "get_stock_value_ratio : Error processing ticker LUXHP: unsupported operand type(s) for /: 'float' and 'NoneType'\n"
     ]
    },
    {
     "name": "stderr",
     "output_type": "stream",
     "text": [
      "LVROW: Period '1mo' is invalid, must be one of ['1d', '5d']\n",
      "LVROW: Period '1mo' is invalid, must be one of ['1d', '5d']\n",
      "LVROW: Period '1mo' is invalid, must be one of ['1d', '5d']\n",
      "LVROW: Period '1mo' is invalid, must be one of ['1d', '5d']\n",
      "LVROW: Period '1mo' is invalid, must be one of ['1d', '5d']\n",
      "LVROW: Period '1mo' is invalid, must be one of ['1d', '5d']\n",
      "LVROW: Period '1mo' is invalid, must be one of ['1d', '5d']\n",
      "LVROW: Period '1mo' is invalid, must be one of ['1d', '5d']\n",
      "/var/folders/77/05l3f4755g34m9yb1kt19stm0000gn/T/ipykernel_41131/295811338.py:16: FutureWarning: The behavior of DataFrame concatenation with empty or all-NA entries is deprecated. In a future version, this will no longer exclude empty or all-NA columns when determining the result dtypes. To retain the old behavior, exclude the relevant entries before the concat operation.\n",
      "  df_target.loc[len(df_target)] = [ticker, ratio_ticker]\n",
      "LXEO: Data doesn't exist for startDate = 1684296000, endDate = 1684900800\n",
      "LXEO: Data doesn't exist for startDate = 1684296000, endDate = 1684382400\n",
      "LXEO: Data doesn't exist for startDate = 1684382400, endDate = 1684468800\n",
      "LXEO: Data doesn't exist for startDate = 1684468800, endDate = 1684555200\n",
      "LXEO: Data doesn't exist for startDate = 1684555200, endDate = 1684641600\n",
      "LXEO: Data doesn't exist for startDate = 1684641600, endDate = 1684728000\n",
      "LXEO: Data doesn't exist for startDate = 1684728000, endDate = 1684814400\n",
      "LXEO: Data doesn't exist for startDate = 1684814400, endDate = 1684900800\n",
      "/var/folders/77/05l3f4755g34m9yb1kt19stm0000gn/T/ipykernel_41131/295811338.py:16: FutureWarning: The behavior of DataFrame concatenation with empty or all-NA entries is deprecated. In a future version, this will no longer exclude empty or all-NA columns when determining the result dtypes. To retain the old behavior, exclude the relevant entries before the concat operation.\n",
      "  df_target.loc[len(df_target)] = [ticker, ratio_ticker]\n"
     ]
    },
    {
     "name": "stdout",
     "output_type": "stream",
     "text": [
      "get_stock_value_ratio : Error processing ticker LXEO: unsupported operand type(s) for /: 'float' and 'NoneType'\n"
     ]
    },
    {
     "name": "stderr",
     "output_type": "stream",
     "text": [
      "MACAW: Period '1mo' is invalid, must be one of ['1d', '5d']\n",
      "MACAW: Period '1mo' is invalid, must be one of ['1d', '5d']\n",
      "MACAW: Period '1mo' is invalid, must be one of ['1d', '5d']\n",
      "MACAW: Period '1mo' is invalid, must be one of ['1d', '5d']\n",
      "MACAW: Period '1mo' is invalid, must be one of ['1d', '5d']\n",
      "MACAW: Period '1mo' is invalid, must be one of ['1d', '5d']\n",
      "MACAW: Period '1mo' is invalid, must be one of ['1d', '5d']\n",
      "MACAW: Period '1mo' is invalid, must be one of ['1d', '5d']\n",
      "/var/folders/77/05l3f4755g34m9yb1kt19stm0000gn/T/ipykernel_41131/295811338.py:16: FutureWarning: The behavior of DataFrame concatenation with empty or all-NA entries is deprecated. In a future version, this will no longer exclude empty or all-NA columns when determining the result dtypes. To retain the old behavior, exclude the relevant entries before the concat operation.\n",
      "  df_target.loc[len(df_target)] = [ticker, ratio_ticker]\n",
      "MAMO: Data doesn't exist for startDate = 1684296000, endDate = 1684900800\n",
      "MAMO: Data doesn't exist for startDate = 1684296000, endDate = 1684382400\n",
      "MAMO: Data doesn't exist for startDate = 1684382400, endDate = 1684468800\n",
      "MAMO: Data doesn't exist for startDate = 1684468800, endDate = 1684555200\n",
      "MAMO: Data doesn't exist for startDate = 1684555200, endDate = 1684641600\n",
      "MAMO: Data doesn't exist for startDate = 1684641600, endDate = 1684728000\n",
      "MAMO: Data doesn't exist for startDate = 1684728000, endDate = 1684814400\n",
      "MAMO: Data doesn't exist for startDate = 1684814400, endDate = 1684900800\n",
      "/var/folders/77/05l3f4755g34m9yb1kt19stm0000gn/T/ipykernel_41131/295811338.py:16: FutureWarning: The behavior of DataFrame concatenation with empty or all-NA entries is deprecated. In a future version, this will no longer exclude empty or all-NA columns when determining the result dtypes. To retain the old behavior, exclude the relevant entries before the concat operation.\n",
      "  df_target.loc[len(df_target)] = [ticker, ratio_ticker]\n"
     ]
    },
    {
     "name": "stdout",
     "output_type": "stream",
     "text": [
      "get_stock_value_ratio : Error processing ticker MAMO: unsupported operand type(s) for /: 'float' and 'NoneType'\n"
     ]
    },
    {
     "name": "stderr",
     "output_type": "stream",
     "text": [
      "MAPSW: Period '1mo' is invalid, must be one of ['1d', '5d']\n",
      "MAPSW: Period '1mo' is invalid, must be one of ['1d', '5d']\n",
      "MAPSW: Period '1mo' is invalid, must be one of ['1d', '5d']\n",
      "MAPSW: Period '1mo' is invalid, must be one of ['1d', '5d']\n",
      "MAPSW: Period '1mo' is invalid, must be one of ['1d', '5d']\n",
      "MAPSW: Period '1mo' is invalid, must be one of ['1d', '5d']\n",
      "MAPSW: Period '1mo' is invalid, must be one of ['1d', '5d']\n",
      "MAPSW: Period '1mo' is invalid, must be one of ['1d', '5d']\n",
      "/var/folders/77/05l3f4755g34m9yb1kt19stm0000gn/T/ipykernel_41131/295811338.py:16: FutureWarning: The behavior of DataFrame concatenation with empty or all-NA entries is deprecated. In a future version, this will no longer exclude empty or all-NA columns when determining the result dtypes. To retain the old behavior, exclude the relevant entries before the concat operation.\n",
      "  df_target.loc[len(df_target)] = [ticker, ratio_ticker]\n",
      "MAQCW: Period '1mo' is invalid, must be one of ['1d', '5d']\n",
      "MAQCW: Period '1mo' is invalid, must be one of ['1d', '5d']\n",
      "MAQCW: Period '1mo' is invalid, must be one of ['1d', '5d']\n",
      "MAQCW: Period '1mo' is invalid, must be one of ['1d', '5d']\n",
      "MAQCW: Period '1mo' is invalid, must be one of ['1d', '5d']\n",
      "MAQCW: Period '1mo' is invalid, must be one of ['1d', '5d']\n",
      "MAQCW: Period '1mo' is invalid, must be one of ['1d', '5d']\n",
      "MAQCW: Period '1mo' is invalid, must be one of ['1d', '5d']\n",
      "/var/folders/77/05l3f4755g34m9yb1kt19stm0000gn/T/ipykernel_41131/295811338.py:16: FutureWarning: The behavior of DataFrame concatenation with empty or all-NA entries is deprecated. In a future version, this will no longer exclude empty or all-NA columns when determining the result dtypes. To retain the old behavior, exclude the relevant entries before the concat operation.\n",
      "  df_target.loc[len(df_target)] = [ticker, ratio_ticker]\n",
      "MCACW: Period '1mo' is invalid, must be one of ['1d', '5d']\n",
      "MCACW: Period '1mo' is invalid, must be one of ['1d', '5d']\n",
      "MCACW: Period '1mo' is invalid, must be one of ['1d', '5d']\n",
      "MCACW: Period '1mo' is invalid, must be one of ['1d', '5d']\n",
      "MCACW: Period '1mo' is invalid, must be one of ['1d', '5d']\n",
      "MCACW: Period '1mo' is invalid, must be one of ['1d', '5d']\n",
      "MCACW: Period '1mo' is invalid, must be one of ['1d', '5d']\n",
      "MCACW: Period '1mo' is invalid, must be one of ['1d', '5d']\n",
      "/var/folders/77/05l3f4755g34m9yb1kt19stm0000gn/T/ipykernel_41131/295811338.py:16: FutureWarning: The behavior of DataFrame concatenation with empty or all-NA entries is deprecated. In a future version, this will no longer exclude empty or all-NA columns when determining the result dtypes. To retain the old behavior, exclude the relevant entries before the concat operation.\n",
      "  df_target.loc[len(df_target)] = [ticker, ratio_ticker]\n",
      "MDAIW: Period '1mo' is invalid, must be one of ['1d', '5d']\n",
      "MDAIW: Period '1mo' is invalid, must be one of ['1d', '5d']\n",
      "MDAIW: Period '1mo' is invalid, must be one of ['1d', '5d']\n",
      "MDAIW: Period '1mo' is invalid, must be one of ['1d', '5d']\n",
      "MDAIW: Period '1mo' is invalid, must be one of ['1d', '5d']\n",
      "MDAIW: Period '1mo' is invalid, must be one of ['1d', '5d']\n",
      "MDAIW: Period '1mo' is invalid, must be one of ['1d', '5d']\n",
      "MDAIW: Period '1mo' is invalid, must be one of ['1d', '5d']\n",
      "/var/folders/77/05l3f4755g34m9yb1kt19stm0000gn/T/ipykernel_41131/295811338.py:16: FutureWarning: The behavior of DataFrame concatenation with empty or all-NA entries is deprecated. In a future version, this will no longer exclude empty or all-NA columns when determining the result dtypes. To retain the old behavior, exclude the relevant entries before the concat operation.\n",
      "  df_target.loc[len(df_target)] = [ticker, ratio_ticker]\n",
      "MDBH: Data doesn't exist for startDate = 1684296000, endDate = 1684900800\n",
      "MDBH: Data doesn't exist for startDate = 1684296000, endDate = 1684382400\n",
      "MDBH: Data doesn't exist for startDate = 1684382400, endDate = 1684468800\n",
      "MDBH: Data doesn't exist for startDate = 1684468800, endDate = 1684555200\n",
      "MDBH: Data doesn't exist for startDate = 1684555200, endDate = 1684641600\n",
      "MDBH: Data doesn't exist for startDate = 1684641600, endDate = 1684728000\n",
      "MDBH: Data doesn't exist for startDate = 1684728000, endDate = 1684814400\n",
      "MDBH: Data doesn't exist for startDate = 1684814400, endDate = 1684900800\n",
      "/var/folders/77/05l3f4755g34m9yb1kt19stm0000gn/T/ipykernel_41131/295811338.py:16: FutureWarning: The behavior of DataFrame concatenation with empty or all-NA entries is deprecated. In a future version, this will no longer exclude empty or all-NA columns when determining the result dtypes. To retain the old behavior, exclude the relevant entries before the concat operation.\n",
      "  df_target.loc[len(df_target)] = [ticker, ratio_ticker]\n"
     ]
    },
    {
     "name": "stdout",
     "output_type": "stream",
     "text": [
      "get_stock_value_ratio : Error processing ticker MDBH: unsupported operand type(s) for /: 'float' and 'NoneType'\n"
     ]
    },
    {
     "name": "stderr",
     "output_type": "stream",
     "text": [
      "METCB: Data doesn't exist for startDate = 1684296000, endDate = 1684900800\n",
      "METCB: Data doesn't exist for startDate = 1684296000, endDate = 1684382400\n",
      "METCB: Data doesn't exist for startDate = 1684382400, endDate = 1684468800\n",
      "METCB: Data doesn't exist for startDate = 1684468800, endDate = 1684555200\n",
      "METCB: Data doesn't exist for startDate = 1684555200, endDate = 1684641600\n",
      "METCB: Data doesn't exist for startDate = 1684641600, endDate = 1684728000\n",
      "METCB: Data doesn't exist for startDate = 1684728000, endDate = 1684814400\n",
      "METCB: Data doesn't exist for startDate = 1684814400, endDate = 1684900800\n",
      "/var/folders/77/05l3f4755g34m9yb1kt19stm0000gn/T/ipykernel_41131/295811338.py:16: FutureWarning: The behavior of DataFrame concatenation with empty or all-NA entries is deprecated. In a future version, this will no longer exclude empty or all-NA columns when determining the result dtypes. To retain the old behavior, exclude the relevant entries before the concat operation.\n",
      "  df_target.loc[len(df_target)] = [ticker, ratio_ticker]\n"
     ]
    },
    {
     "name": "stdout",
     "output_type": "stream",
     "text": [
      "get_stock_value_ratio : Error processing ticker METCB: unsupported operand type(s) for /: 'float' and 'NoneType'\n"
     ]
    },
    {
     "name": "stderr",
     "output_type": "stream",
     "text": [
      "MFI: Data doesn't exist for startDate = 1684296000, endDate = 1684900800\n",
      "MFI: Data doesn't exist for startDate = 1684296000, endDate = 1684382400\n",
      "MFI: Data doesn't exist for startDate = 1684382400, endDate = 1684468800\n",
      "MFI: Data doesn't exist for startDate = 1684468800, endDate = 1684555200\n",
      "MFI: Data doesn't exist for startDate = 1684555200, endDate = 1684641600\n",
      "MFI: Data doesn't exist for startDate = 1684641600, endDate = 1684728000\n",
      "MFI: Data doesn't exist for startDate = 1684728000, endDate = 1684814400\n",
      "MFI: Data doesn't exist for startDate = 1684814400, endDate = 1684900800\n",
      "/var/folders/77/05l3f4755g34m9yb1kt19stm0000gn/T/ipykernel_41131/295811338.py:16: FutureWarning: The behavior of DataFrame concatenation with empty or all-NA entries is deprecated. In a future version, this will no longer exclude empty or all-NA columns when determining the result dtypes. To retain the old behavior, exclude the relevant entries before the concat operation.\n",
      "  df_target.loc[len(df_target)] = [ticker, ratio_ticker]\n"
     ]
    },
    {
     "name": "stdout",
     "output_type": "stream",
     "text": [
      "get_stock_value_ratio : Error processing ticker MFI: unsupported operand type(s) for /: 'float' and 'NoneType'\n"
     ]
    },
    {
     "name": "stderr",
     "output_type": "stream",
     "text": [
      "MGRM: Data doesn't exist for startDate = 1684296000, endDate = 1684382400\n",
      "MGX: Data doesn't exist for startDate = 1684296000, endDate = 1684900800\n",
      "MGX: Data doesn't exist for startDate = 1684296000, endDate = 1684382400\n",
      "MGX: Data doesn't exist for startDate = 1684382400, endDate = 1684468800\n",
      "MGX: Data doesn't exist for startDate = 1684468800, endDate = 1684555200\n",
      "MGX: Data doesn't exist for startDate = 1684555200, endDate = 1684641600\n",
      "MGX: Data doesn't exist for startDate = 1684641600, endDate = 1684728000\n",
      "MGX: Data doesn't exist for startDate = 1684728000, endDate = 1684814400\n",
      "MGX: Data doesn't exist for startDate = 1684814400, endDate = 1684900800\n",
      "/var/folders/77/05l3f4755g34m9yb1kt19stm0000gn/T/ipykernel_41131/295811338.py:16: FutureWarning: The behavior of DataFrame concatenation with empty or all-NA entries is deprecated. In a future version, this will no longer exclude empty or all-NA columns when determining the result dtypes. To retain the old behavior, exclude the relevant entries before the concat operation.\n",
      "  df_target.loc[len(df_target)] = [ticker, ratio_ticker]\n"
     ]
    },
    {
     "name": "stdout",
     "output_type": "stream",
     "text": [
      "get_stock_value_ratio : Error processing ticker MGX: unsupported operand type(s) for /: 'float' and 'NoneType'\n"
     ]
    },
    {
     "name": "stderr",
     "output_type": "stream",
     "text": [
      "MIRA: Data doesn't exist for startDate = 1684296000, endDate = 1684900800\n",
      "MIRA: Data doesn't exist for startDate = 1684296000, endDate = 1684382400\n",
      "MIRA: Data doesn't exist for startDate = 1684382400, endDate = 1684468800\n",
      "MIRA: Data doesn't exist for startDate = 1684468800, endDate = 1684555200\n",
      "MIRA: Data doesn't exist for startDate = 1684555200, endDate = 1684641600\n",
      "MIRA: Data doesn't exist for startDate = 1684641600, endDate = 1684728000\n",
      "MIRA: Data doesn't exist for startDate = 1684728000, endDate = 1684814400\n",
      "MIRA: Data doesn't exist for startDate = 1684814400, endDate = 1684900800\n",
      "/var/folders/77/05l3f4755g34m9yb1kt19stm0000gn/T/ipykernel_41131/295811338.py:16: FutureWarning: The behavior of DataFrame concatenation with empty or all-NA entries is deprecated. In a future version, this will no longer exclude empty or all-NA columns when determining the result dtypes. To retain the old behavior, exclude the relevant entries before the concat operation.\n",
      "  df_target.loc[len(df_target)] = [ticker, ratio_ticker]\n"
     ]
    },
    {
     "name": "stdout",
     "output_type": "stream",
     "text": [
      "get_stock_value_ratio : Error processing ticker MIRA: unsupported operand type(s) for /: 'float' and 'NoneType'\n"
     ]
    },
    {
     "name": "stderr",
     "output_type": "stream",
     "text": [
      "MITAW: Period '1mo' is invalid, must be one of ['1d', '5d']\n",
      "MITAW: Period '1mo' is invalid, must be one of ['1d', '5d']\n",
      "MITAW: Period '1mo' is invalid, must be one of ['1d', '5d']\n",
      "MITAW: Period '1mo' is invalid, must be one of ['1d', '5d']\n",
      "MITAW: Period '1mo' is invalid, must be one of ['1d', '5d']\n",
      "MITAW: Period '1mo' is invalid, must be one of ['1d', '5d']\n",
      "MITAW: Period '1mo' is invalid, must be one of ['1d', '5d']\n",
      "MITAW: Period '1mo' is invalid, must be one of ['1d', '5d']\n",
      "/var/folders/77/05l3f4755g34m9yb1kt19stm0000gn/T/ipykernel_41131/295811338.py:16: FutureWarning: The behavior of DataFrame concatenation with empty or all-NA entries is deprecated. In a future version, this will no longer exclude empty or all-NA columns when determining the result dtypes. To retain the old behavior, exclude the relevant entries before the concat operation.\n",
      "  df_target.loc[len(df_target)] = [ticker, ratio_ticker]\n",
      "MLECW: Period '1mo' is invalid, must be one of ['1d', '5d']\n",
      "MLECW: Period '1mo' is invalid, must be one of ['1d', '5d']\n",
      "MLECW: Period '1mo' is invalid, must be one of ['1d', '5d']\n",
      "MLECW: Period '1mo' is invalid, must be one of ['1d', '5d']\n",
      "MLECW: Period '1mo' is invalid, must be one of ['1d', '5d']\n",
      "MLECW: Period '1mo' is invalid, must be one of ['1d', '5d']\n",
      "MLECW: Period '1mo' is invalid, must be one of ['1d', '5d']\n",
      "MLECW: Period '1mo' is invalid, must be one of ['1d', '5d']\n",
      "/var/folders/77/05l3f4755g34m9yb1kt19stm0000gn/T/ipykernel_41131/295811338.py:16: FutureWarning: The behavior of DataFrame concatenation with empty or all-NA entries is deprecated. In a future version, this will no longer exclude empty or all-NA columns when determining the result dtypes. To retain the old behavior, exclude the relevant entries before the concat operation.\n",
      "  df_target.loc[len(df_target)] = [ticker, ratio_ticker]\n",
      "MMA: Data doesn't exist for startDate = 1684296000, endDate = 1684900800\n",
      "MMA: Data doesn't exist for startDate = 1684296000, endDate = 1684382400\n",
      "MMA: Data doesn't exist for startDate = 1684382400, endDate = 1684468800\n",
      "MMA: Data doesn't exist for startDate = 1684468800, endDate = 1684555200\n",
      "MMA: Data doesn't exist for startDate = 1684555200, endDate = 1684641600\n",
      "MMA: Data doesn't exist for startDate = 1684641600, endDate = 1684728000\n",
      "MMA: Data doesn't exist for startDate = 1684728000, endDate = 1684814400\n",
      "MMA: Data doesn't exist for startDate = 1684814400, endDate = 1684900800\n",
      "/var/folders/77/05l3f4755g34m9yb1kt19stm0000gn/T/ipykernel_41131/295811338.py:16: FutureWarning: The behavior of DataFrame concatenation with empty or all-NA entries is deprecated. In a future version, this will no longer exclude empty or all-NA columns when determining the result dtypes. To retain the old behavior, exclude the relevant entries before the concat operation.\n",
      "  df_target.loc[len(df_target)] = [ticker, ratio_ticker]\n"
     ]
    },
    {
     "name": "stdout",
     "output_type": "stream",
     "text": [
      "get_stock_value_ratio : Error processing ticker MMA: unsupported operand type(s) for /: 'float' and 'NoneType'\n"
     ]
    },
    {
     "name": "stderr",
     "output_type": "stream",
     "text": [
      "MMVWW: Period '1mo' is invalid, must be one of ['1d', '5d']\n",
      "MMVWW: Period '1mo' is invalid, must be one of ['1d', '5d']\n",
      "MMVWW: Period '1mo' is invalid, must be one of ['1d', '5d']\n",
      "MMVWW: Period '1mo' is invalid, must be one of ['1d', '5d']\n",
      "MMVWW: Period '1mo' is invalid, must be one of ['1d', '5d']\n",
      "MMVWW: Period '1mo' is invalid, must be one of ['1d', '5d']\n",
      "MMVWW: Period '1mo' is invalid, must be one of ['1d', '5d']\n",
      "MMVWW: Period '1mo' is invalid, must be one of ['1d', '5d']\n",
      "/var/folders/77/05l3f4755g34m9yb1kt19stm0000gn/T/ipykernel_41131/295811338.py:16: FutureWarning: The behavior of DataFrame concatenation with empty or all-NA entries is deprecated. In a future version, this will no longer exclude empty or all-NA columns when determining the result dtypes. To retain the old behavior, exclude the relevant entries before the concat operation.\n",
      "  df_target.loc[len(df_target)] = [ticker, ratio_ticker]\n",
      "MNDR: Data doesn't exist for startDate = 1684296000, endDate = 1684900800\n",
      "MNDR: Data doesn't exist for startDate = 1684296000, endDate = 1684382400\n",
      "MNDR: Data doesn't exist for startDate = 1684382400, endDate = 1684468800\n",
      "MNDR: Data doesn't exist for startDate = 1684468800, endDate = 1684555200\n",
      "MNDR: Data doesn't exist for startDate = 1684555200, endDate = 1684641600\n",
      "MNDR: Data doesn't exist for startDate = 1684641600, endDate = 1684728000\n",
      "MNDR: Data doesn't exist for startDate = 1684728000, endDate = 1684814400\n",
      "MNDR: Data doesn't exist for startDate = 1684814400, endDate = 1684900800\n",
      "/var/folders/77/05l3f4755g34m9yb1kt19stm0000gn/T/ipykernel_41131/295811338.py:16: FutureWarning: The behavior of DataFrame concatenation with empty or all-NA entries is deprecated. In a future version, this will no longer exclude empty or all-NA columns when determining the result dtypes. To retain the old behavior, exclude the relevant entries before the concat operation.\n",
      "  df_target.loc[len(df_target)] = [ticker, ratio_ticker]\n"
     ]
    },
    {
     "name": "stdout",
     "output_type": "stream",
     "text": [
      "get_stock_value_ratio : Error processing ticker MNDR: unsupported operand type(s) for /: 'float' and 'NoneType'\n"
     ]
    },
    {
     "name": "stderr",
     "output_type": "stream",
     "text": [
      "MNR: Data doesn't exist for startDate = 1684296000, endDate = 1684900800\n",
      "MNR: Data doesn't exist for startDate = 1684296000, endDate = 1684382400\n",
      "MNR: Data doesn't exist for startDate = 1684382400, endDate = 1684468800\n",
      "MNR: Data doesn't exist for startDate = 1684468800, endDate = 1684555200\n",
      "MNR: Data doesn't exist for startDate = 1684555200, endDate = 1684641600\n",
      "MNR: Data doesn't exist for startDate = 1684641600, endDate = 1684728000\n",
      "MNR: Data doesn't exist for startDate = 1684728000, endDate = 1684814400\n",
      "MNR: Data doesn't exist for startDate = 1684814400, endDate = 1684900800\n",
      "/var/folders/77/05l3f4755g34m9yb1kt19stm0000gn/T/ipykernel_41131/295811338.py:16: FutureWarning: The behavior of DataFrame concatenation with empty or all-NA entries is deprecated. In a future version, this will no longer exclude empty or all-NA columns when determining the result dtypes. To retain the old behavior, exclude the relevant entries before the concat operation.\n",
      "  df_target.loc[len(df_target)] = [ticker, ratio_ticker]\n"
     ]
    },
    {
     "name": "stdout",
     "output_type": "stream",
     "text": [
      "get_stock_value_ratio : Error processing ticker MNR: unsupported operand type(s) for /: 'float' and 'NoneType'\n"
     ]
    },
    {
     "name": "stderr",
     "output_type": "stream",
     "text": [
      "MNTSW: Period '1mo' is invalid, must be one of ['1d', '5d']\n",
      "MNTSW: Period '1mo' is invalid, must be one of ['1d', '5d']\n",
      "MNTSW: Period '1mo' is invalid, must be one of ['1d', '5d']\n",
      "MNTSW: Period '1mo' is invalid, must be one of ['1d', '5d']\n",
      "MNTSW: Period '1mo' is invalid, must be one of ['1d', '5d']\n",
      "MNTSW: Period '1mo' is invalid, must be one of ['1d', '5d']\n",
      "MNTSW: Period '1mo' is invalid, must be one of ['1d', '5d']\n",
      "MNTSW: Period '1mo' is invalid, must be one of ['1d', '5d']\n",
      "/var/folders/77/05l3f4755g34m9yb1kt19stm0000gn/T/ipykernel_41131/295811338.py:16: FutureWarning: The behavior of DataFrame concatenation with empty or all-NA entries is deprecated. In a future version, this will no longer exclude empty or all-NA columns when determining the result dtypes. To retain the old behavior, exclude the relevant entries before the concat operation.\n",
      "  df_target.loc[len(df_target)] = [ticker, ratio_ticker]\n",
      "MOBXW: Period '1mo' is invalid, must be one of ['1d', '5d']\n",
      "MOBXW: Period '1mo' is invalid, must be one of ['1d', '5d']\n",
      "MOBXW: Period '1mo' is invalid, must be one of ['1d', '5d']\n",
      "MOBXW: Period '1mo' is invalid, must be one of ['1d', '5d']\n",
      "MOBXW: Period '1mo' is invalid, must be one of ['1d', '5d']\n",
      "MOBXW: Period '1mo' is invalid, must be one of ['1d', '5d']\n",
      "MOBXW: Period '1mo' is invalid, must be one of ['1d', '5d']\n",
      "MOBXW: Period '1mo' is invalid, must be one of ['1d', '5d']\n",
      "/var/folders/77/05l3f4755g34m9yb1kt19stm0000gn/T/ipykernel_41131/295811338.py:16: FutureWarning: The behavior of DataFrame concatenation with empty or all-NA entries is deprecated. In a future version, this will no longer exclude empty or all-NA columns when determining the result dtypes. To retain the old behavior, exclude the relevant entries before the concat operation.\n",
      "  df_target.loc[len(df_target)] = [ticker, ratio_ticker]\n",
      "MRNOW: Period '1mo' is invalid, must be one of ['1d', '5d']\n",
      "MRNOW: Period '1mo' is invalid, must be one of ['1d', '5d']\n",
      "MRNOW: Period '1mo' is invalid, must be one of ['1d', '5d']\n",
      "MRNOW: Period '1mo' is invalid, must be one of ['1d', '5d']\n",
      "MRNOW: Period '1mo' is invalid, must be one of ['1d', '5d']\n",
      "MRNOW: Period '1mo' is invalid, must be one of ['1d', '5d']\n",
      "MRNOW: Period '1mo' is invalid, must be one of ['1d', '5d']\n",
      "MRNOW: Period '1mo' is invalid, must be one of ['1d', '5d']\n",
      "/var/folders/77/05l3f4755g34m9yb1kt19stm0000gn/T/ipykernel_41131/295811338.py:16: FutureWarning: The behavior of DataFrame concatenation with empty or all-NA entries is deprecated. In a future version, this will no longer exclude empty or all-NA columns when determining the result dtypes. To retain the old behavior, exclude the relevant entries before the concat operation.\n",
      "  df_target.loc[len(df_target)] = [ticker, ratio_ticker]\n",
      "MRX: Data doesn't exist for startDate = 1684296000, endDate = 1684900800\n",
      "MRX: Data doesn't exist for startDate = 1684296000, endDate = 1684382400\n",
      "MRX: Data doesn't exist for startDate = 1684382400, endDate = 1684468800\n",
      "MRX: Data doesn't exist for startDate = 1684468800, endDate = 1684555200\n",
      "MRX: Data doesn't exist for startDate = 1684555200, endDate = 1684641600\n",
      "MRX: Data doesn't exist for startDate = 1684641600, endDate = 1684728000\n",
      "MRX: Data doesn't exist for startDate = 1684728000, endDate = 1684814400\n",
      "MRX: Data doesn't exist for startDate = 1684814400, endDate = 1684900800\n",
      "/var/folders/77/05l3f4755g34m9yb1kt19stm0000gn/T/ipykernel_41131/295811338.py:16: FutureWarning: The behavior of DataFrame concatenation with empty or all-NA entries is deprecated. In a future version, this will no longer exclude empty or all-NA columns when determining the result dtypes. To retain the old behavior, exclude the relevant entries before the concat operation.\n",
      "  df_target.loc[len(df_target)] = [ticker, ratio_ticker]\n"
     ]
    },
    {
     "name": "stdout",
     "output_type": "stream",
     "text": [
      "get_stock_value_ratio : Error processing ticker MRX: unsupported operand type(s) for /: 'float' and 'NoneType'\n"
     ]
    },
    {
     "name": "stderr",
     "output_type": "stream",
     "text": [
      "MSAIW: Period '1mo' is invalid, must be one of ['1d', '5d']\n",
      "MSAIW: Period '1mo' is invalid, must be one of ['1d', '5d']\n",
      "MSAIW: Period '1mo' is invalid, must be one of ['1d', '5d']\n",
      "MSAIW: Period '1mo' is invalid, must be one of ['1d', '5d']\n",
      "MSAIW: Period '1mo' is invalid, must be one of ['1d', '5d']\n",
      "MSAIW: Period '1mo' is invalid, must be one of ['1d', '5d']\n",
      "MSAIW: Period '1mo' is invalid, must be one of ['1d', '5d']\n",
      "MSAIW: Period '1mo' is invalid, must be one of ['1d', '5d']\n",
      "/var/folders/77/05l3f4755g34m9yb1kt19stm0000gn/T/ipykernel_41131/295811338.py:16: FutureWarning: The behavior of DataFrame concatenation with empty or all-NA entries is deprecated. In a future version, this will no longer exclude empty or all-NA columns when determining the result dtypes. To retain the old behavior, exclude the relevant entries before the concat operation.\n",
      "  df_target.loc[len(df_target)] = [ticker, ratio_ticker]\n",
      "MSDL: Data doesn't exist for startDate = 1684296000, endDate = 1684900800\n",
      "MSDL: Data doesn't exist for startDate = 1684296000, endDate = 1684382400\n",
      "MSDL: Data doesn't exist for startDate = 1684382400, endDate = 1684468800\n",
      "MSDL: Data doesn't exist for startDate = 1684468800, endDate = 1684555200\n",
      "MSDL: Data doesn't exist for startDate = 1684555200, endDate = 1684641600\n",
      "MSDL: Data doesn't exist for startDate = 1684641600, endDate = 1684728000\n",
      "MSDL: Data doesn't exist for startDate = 1684728000, endDate = 1684814400\n",
      "MSDL: Data doesn't exist for startDate = 1684814400, endDate = 1684900800\n",
      "/var/folders/77/05l3f4755g34m9yb1kt19stm0000gn/T/ipykernel_41131/295811338.py:16: FutureWarning: The behavior of DataFrame concatenation with empty or all-NA entries is deprecated. In a future version, this will no longer exclude empty or all-NA columns when determining the result dtypes. To retain the old behavior, exclude the relevant entries before the concat operation.\n",
      "  df_target.loc[len(df_target)] = [ticker, ratio_ticker]\n"
     ]
    },
    {
     "name": "stdout",
     "output_type": "stream",
     "text": [
      "get_stock_value_ratio : Error processing ticker MSDL: unsupported operand type(s) for /: 'float' and 'NoneType'\n"
     ]
    },
    {
     "name": "stderr",
     "output_type": "stream",
     "text": [
      "MSS: Data doesn't exist for startDate = 1684296000, endDate = 1684900800\n",
      "MSS: Data doesn't exist for startDate = 1684296000, endDate = 1684382400\n",
      "MSS: Data doesn't exist for startDate = 1684382400, endDate = 1684468800\n",
      "MSS: Data doesn't exist for startDate = 1684468800, endDate = 1684555200\n",
      "MSS: Data doesn't exist for startDate = 1684555200, endDate = 1684641600\n",
      "MSS: Data doesn't exist for startDate = 1684641600, endDate = 1684728000\n",
      "MSS: Data doesn't exist for startDate = 1684728000, endDate = 1684814400\n",
      "MSS: Data doesn't exist for startDate = 1684814400, endDate = 1684900800\n",
      "/var/folders/77/05l3f4755g34m9yb1kt19stm0000gn/T/ipykernel_41131/295811338.py:16: FutureWarning: The behavior of DataFrame concatenation with empty or all-NA entries is deprecated. In a future version, this will no longer exclude empty or all-NA columns when determining the result dtypes. To retain the old behavior, exclude the relevant entries before the concat operation.\n",
      "  df_target.loc[len(df_target)] = [ticker, ratio_ticker]\n"
     ]
    },
    {
     "name": "stdout",
     "output_type": "stream",
     "text": [
      "get_stock_value_ratio : Error processing ticker MSS: unsupported operand type(s) for /: 'float' and 'NoneType'\n"
     ]
    },
    {
     "name": "stderr",
     "output_type": "stream",
     "text": [
      "MSSAW: Period '1mo' is invalid, must be one of ['1d', '5d']\n",
      "MSSAW: Period '1mo' is invalid, must be one of ['1d', '5d']\n",
      "MSSAW: Period '1mo' is invalid, must be one of ['1d', '5d']\n",
      "MSSAW: Period '1mo' is invalid, must be one of ['1d', '5d']\n",
      "MSSAW: Period '1mo' is invalid, must be one of ['1d', '5d']\n",
      "MSSAW: Period '1mo' is invalid, must be one of ['1d', '5d']\n",
      "MSSAW: Period '1mo' is invalid, must be one of ['1d', '5d']\n",
      "MSSAW: Period '1mo' is invalid, must be one of ['1d', '5d']\n",
      "/var/folders/77/05l3f4755g34m9yb1kt19stm0000gn/T/ipykernel_41131/295811338.py:16: FutureWarning: The behavior of DataFrame concatenation with empty or all-NA entries is deprecated. In a future version, this will no longer exclude empty or all-NA columns when determining the result dtypes. To retain the old behavior, exclude the relevant entries before the concat operation.\n",
      "  df_target.loc[len(df_target)] = [ticker, ratio_ticker]\n",
      "MTEKW: Period '1mo' is invalid, must be one of ['1d', '5d']\n",
      "MTEKW: Period '1mo' is invalid, must be one of ['1d', '5d']\n",
      "MTEKW: Period '1mo' is invalid, must be one of ['1d', '5d']\n",
      "MTEKW: Period '1mo' is invalid, must be one of ['1d', '5d']\n",
      "MTEKW: Period '1mo' is invalid, must be one of ['1d', '5d']\n",
      "MTEKW: Period '1mo' is invalid, must be one of ['1d', '5d']\n",
      "MTEKW: Period '1mo' is invalid, must be one of ['1d', '5d']\n",
      "MTEKW: Period '1mo' is invalid, must be one of ['1d', '5d']\n",
      "/var/folders/77/05l3f4755g34m9yb1kt19stm0000gn/T/ipykernel_41131/295811338.py:16: FutureWarning: The behavior of DataFrame concatenation with empty or all-NA entries is deprecated. In a future version, this will no longer exclude empty or all-NA columns when determining the result dtypes. To retain the old behavior, exclude the relevant entries before the concat operation.\n",
      "  df_target.loc[len(df_target)] = [ticker, ratio_ticker]\n",
      "MTEN: Data doesn't exist for startDate = 1684296000, endDate = 1684900800\n",
      "MTEN: Data doesn't exist for startDate = 1684296000, endDate = 1684382400\n",
      "MTEN: Data doesn't exist for startDate = 1684382400, endDate = 1684468800\n",
      "MTEN: Data doesn't exist for startDate = 1684468800, endDate = 1684555200\n",
      "MTEN: Data doesn't exist for startDate = 1684555200, endDate = 1684641600\n",
      "MTEN: Data doesn't exist for startDate = 1684641600, endDate = 1684728000\n",
      "MTEN: Data doesn't exist for startDate = 1684728000, endDate = 1684814400\n",
      "MTEN: Data doesn't exist for startDate = 1684814400, endDate = 1684900800\n",
      "/var/folders/77/05l3f4755g34m9yb1kt19stm0000gn/T/ipykernel_41131/295811338.py:16: FutureWarning: The behavior of DataFrame concatenation with empty or all-NA entries is deprecated. In a future version, this will no longer exclude empty or all-NA columns when determining the result dtypes. To retain the old behavior, exclude the relevant entries before the concat operation.\n",
      "  df_target.loc[len(df_target)] = [ticker, ratio_ticker]\n"
     ]
    },
    {
     "name": "stdout",
     "output_type": "stream",
     "text": [
      "get_stock_value_ratio : Error processing ticker MTEN: unsupported operand type(s) for /: 'float' and 'NoneType'\n"
     ]
    },
    {
     "name": "stderr",
     "output_type": "stream",
     "text": [
      "MURA: Data doesn't exist for startDate = 1684296000, endDate = 1684900800\n",
      "MURA: Data doesn't exist for startDate = 1684296000, endDate = 1684382400\n",
      "MURA: Data doesn't exist for startDate = 1684382400, endDate = 1684468800\n",
      "MURA: Data doesn't exist for startDate = 1684468800, endDate = 1684555200\n",
      "MURA: Data doesn't exist for startDate = 1684555200, endDate = 1684641600\n",
      "MURA: Data doesn't exist for startDate = 1684641600, endDate = 1684728000\n",
      "MURA: Data doesn't exist for startDate = 1684728000, endDate = 1684814400\n",
      "MURA: Data doesn't exist for startDate = 1684814400, endDate = 1684900800\n",
      "/var/folders/77/05l3f4755g34m9yb1kt19stm0000gn/T/ipykernel_41131/295811338.py:16: FutureWarning: The behavior of DataFrame concatenation with empty or all-NA entries is deprecated. In a future version, this will no longer exclude empty or all-NA columns when determining the result dtypes. To retain the old behavior, exclude the relevant entries before the concat operation.\n",
      "  df_target.loc[len(df_target)] = [ticker, ratio_ticker]\n"
     ]
    },
    {
     "name": "stdout",
     "output_type": "stream",
     "text": [
      "get_stock_value_ratio : Error processing ticker MURA: unsupported operand type(s) for /: 'float' and 'NoneType'\n"
     ]
    },
    {
     "name": "stderr",
     "output_type": "stream",
     "text": [
      "MVSTW: Period '1mo' is invalid, must be one of ['1d', '5d']\n",
      "MVSTW: Period '1mo' is invalid, must be one of ['1d', '5d']\n",
      "MVSTW: Period '1mo' is invalid, must be one of ['1d', '5d']\n",
      "MVSTW: Period '1mo' is invalid, must be one of ['1d', '5d']\n",
      "MVSTW: Period '1mo' is invalid, must be one of ['1d', '5d']\n",
      "MVSTW: Period '1mo' is invalid, must be one of ['1d', '5d']\n",
      "MVSTW: Period '1mo' is invalid, must be one of ['1d', '5d']\n",
      "MVSTW: Period '1mo' is invalid, must be one of ['1d', '5d']\n",
      "/var/folders/77/05l3f4755g34m9yb1kt19stm0000gn/T/ipykernel_41131/295811338.py:16: FutureWarning: The behavior of DataFrame concatenation with empty or all-NA entries is deprecated. In a future version, this will no longer exclude empty or all-NA columns when determining the result dtypes. To retain the old behavior, exclude the relevant entries before the concat operation.\n",
      "  df_target.loc[len(df_target)] = [ticker, ratio_ticker]\n",
      "NATL: Data doesn't exist for startDate = 1684296000, endDate = 1684900800\n",
      "NATL: Data doesn't exist for startDate = 1684296000, endDate = 1684382400\n",
      "NATL: Data doesn't exist for startDate = 1684382400, endDate = 1684468800\n",
      "NATL: Data doesn't exist for startDate = 1684468800, endDate = 1684555200\n",
      "NATL: Data doesn't exist for startDate = 1684555200, endDate = 1684641600\n",
      "NATL: Data doesn't exist for startDate = 1684641600, endDate = 1684728000\n",
      "NATL: Data doesn't exist for startDate = 1684728000, endDate = 1684814400\n",
      "NATL: Data doesn't exist for startDate = 1684814400, endDate = 1684900800\n",
      "/var/folders/77/05l3f4755g34m9yb1kt19stm0000gn/T/ipykernel_41131/295811338.py:16: FutureWarning: The behavior of DataFrame concatenation with empty or all-NA entries is deprecated. In a future version, this will no longer exclude empty or all-NA columns when determining the result dtypes. To retain the old behavior, exclude the relevant entries before the concat operation.\n",
      "  df_target.loc[len(df_target)] = [ticker, ratio_ticker]\n"
     ]
    },
    {
     "name": "stdout",
     "output_type": "stream",
     "text": [
      "get_stock_value_ratio : Error processing ticker NATL: unsupported operand type(s) for /: 'float' and 'NoneType'\n"
     ]
    },
    {
     "name": "stderr",
     "output_type": "stream",
     "text": [
      "NBBK: Data doesn't exist for startDate = 1684296000, endDate = 1684900800\n",
      "NBBK: Data doesn't exist for startDate = 1684296000, endDate = 1684382400\n",
      "NBBK: Data doesn't exist for startDate = 1684382400, endDate = 1684468800\n",
      "NBBK: Data doesn't exist for startDate = 1684468800, endDate = 1684555200\n",
      "NBBK: Data doesn't exist for startDate = 1684555200, endDate = 1684641600\n",
      "NBBK: Data doesn't exist for startDate = 1684641600, endDate = 1684728000\n",
      "NBBK: Data doesn't exist for startDate = 1684728000, endDate = 1684814400\n",
      "NBBK: Data doesn't exist for startDate = 1684814400, endDate = 1684900800\n",
      "/var/folders/77/05l3f4755g34m9yb1kt19stm0000gn/T/ipykernel_41131/295811338.py:16: FutureWarning: The behavior of DataFrame concatenation with empty or all-NA entries is deprecated. In a future version, this will no longer exclude empty or all-NA columns when determining the result dtypes. To retain the old behavior, exclude the relevant entries before the concat operation.\n",
      "  df_target.loc[len(df_target)] = [ticker, ratio_ticker]\n"
     ]
    },
    {
     "name": "stdout",
     "output_type": "stream",
     "text": [
      "get_stock_value_ratio : Error processing ticker NBBK: unsupported operand type(s) for /: 'float' and 'NoneType'\n"
     ]
    },
    {
     "name": "stderr",
     "output_type": "stream",
     "text": [
      "NBSTW: Period '1mo' is invalid, must be one of ['1d', '5d']\n",
      "NBSTW: Period '1mo' is invalid, must be one of ['1d', '5d']\n",
      "NBSTW: Period '1mo' is invalid, must be one of ['1d', '5d']\n",
      "NBSTW: Period '1mo' is invalid, must be one of ['1d', '5d']\n",
      "NBSTW: Period '1mo' is invalid, must be one of ['1d', '5d']\n",
      "NBSTW: Period '1mo' is invalid, must be one of ['1d', '5d']\n",
      "NBSTW: Period '1mo' is invalid, must be one of ['1d', '5d']\n",
      "NBSTW: Period '1mo' is invalid, must be one of ['1d', '5d']\n",
      "/var/folders/77/05l3f4755g34m9yb1kt19stm0000gn/T/ipykernel_41131/295811338.py:16: FutureWarning: The behavior of DataFrame concatenation with empty or all-NA entries is deprecated. In a future version, this will no longer exclude empty or all-NA columns when determining the result dtypes. To retain the old behavior, exclude the relevant entries before the concat operation.\n",
      "  df_target.loc[len(df_target)] = [ticker, ratio_ticker]\n",
      "NCDL: Data doesn't exist for startDate = 1684296000, endDate = 1684900800\n",
      "NCDL: Data doesn't exist for startDate = 1684296000, endDate = 1684382400\n",
      "NCDL: Data doesn't exist for startDate = 1684382400, endDate = 1684468800\n",
      "NCDL: Data doesn't exist for startDate = 1684468800, endDate = 1684555200\n",
      "NCDL: Data doesn't exist for startDate = 1684555200, endDate = 1684641600\n",
      "NCDL: Data doesn't exist for startDate = 1684641600, endDate = 1684728000\n",
      "NCDL: Data doesn't exist for startDate = 1684728000, endDate = 1684814400\n",
      "NCDL: Data doesn't exist for startDate = 1684814400, endDate = 1684900800\n",
      "/var/folders/77/05l3f4755g34m9yb1kt19stm0000gn/T/ipykernel_41131/295811338.py:16: FutureWarning: The behavior of DataFrame concatenation with empty or all-NA entries is deprecated. In a future version, this will no longer exclude empty or all-NA columns when determining the result dtypes. To retain the old behavior, exclude the relevant entries before the concat operation.\n",
      "  df_target.loc[len(df_target)] = [ticker, ratio_ticker]\n"
     ]
    },
    {
     "name": "stdout",
     "output_type": "stream",
     "text": [
      "get_stock_value_ratio : Error processing ticker NCDL: unsupported operand type(s) for /: 'float' and 'NoneType'\n"
     ]
    },
    {
     "name": "stderr",
     "output_type": "stream",
     "text": [
      "NCI: Data doesn't exist for startDate = 1684296000, endDate = 1684900800\n",
      "NCI: Data doesn't exist for startDate = 1684296000, endDate = 1684382400\n",
      "NCI: Data doesn't exist for startDate = 1684382400, endDate = 1684468800\n",
      "NCI: Data doesn't exist for startDate = 1684468800, endDate = 1684555200\n",
      "NCI: Data doesn't exist for startDate = 1684555200, endDate = 1684641600\n",
      "NCI: Data doesn't exist for startDate = 1684641600, endDate = 1684728000\n",
      "NCI: Data doesn't exist for startDate = 1684728000, endDate = 1684814400\n",
      "NCI: Data doesn't exist for startDate = 1684814400, endDate = 1684900800\n",
      "/var/folders/77/05l3f4755g34m9yb1kt19stm0000gn/T/ipykernel_41131/295811338.py:16: FutureWarning: The behavior of DataFrame concatenation with empty or all-NA entries is deprecated. In a future version, this will no longer exclude empty or all-NA columns when determining the result dtypes. To retain the old behavior, exclude the relevant entries before the concat operation.\n",
      "  df_target.loc[len(df_target)] = [ticker, ratio_ticker]\n"
     ]
    },
    {
     "name": "stdout",
     "output_type": "stream",
     "text": [
      "get_stock_value_ratio : Error processing ticker NCI: unsupported operand type(s) for /: 'float' and 'NoneType'\n"
     ]
    },
    {
     "name": "stderr",
     "output_type": "stream",
     "text": [
      "NCL: Data doesn't exist for startDate = 1684296000, endDate = 1684900800\n",
      "NCL: Data doesn't exist for startDate = 1684296000, endDate = 1684382400\n",
      "NCL: Data doesn't exist for startDate = 1684382400, endDate = 1684468800\n",
      "NCL: Data doesn't exist for startDate = 1684468800, endDate = 1684555200\n",
      "NCL: Data doesn't exist for startDate = 1684555200, endDate = 1684641600\n",
      "NCL: Data doesn't exist for startDate = 1684641600, endDate = 1684728000\n",
      "NCL: Data doesn't exist for startDate = 1684728000, endDate = 1684814400\n",
      "NCL: Data doesn't exist for startDate = 1684814400, endDate = 1684900800\n",
      "/var/folders/77/05l3f4755g34m9yb1kt19stm0000gn/T/ipykernel_41131/295811338.py:16: FutureWarning: The behavior of DataFrame concatenation with empty or all-NA entries is deprecated. In a future version, this will no longer exclude empty or all-NA columns when determining the result dtypes. To retain the old behavior, exclude the relevant entries before the concat operation.\n",
      "  df_target.loc[len(df_target)] = [ticker, ratio_ticker]\n"
     ]
    },
    {
     "name": "stdout",
     "output_type": "stream",
     "text": [
      "get_stock_value_ratio : Error processing ticker NCL: unsupported operand type(s) for /: 'float' and 'NoneType'\n"
     ]
    },
    {
     "name": "stderr",
     "output_type": "stream",
     "text": [
      "NCNCW: Period '1mo' is invalid, must be one of ['1d', '5d']\n",
      "NCNCW: Period '1mo' is invalid, must be one of ['1d', '5d']\n",
      "NCNCW: Period '1mo' is invalid, must be one of ['1d', '5d']\n",
      "NCNCW: Period '1mo' is invalid, must be one of ['1d', '5d']\n",
      "NCNCW: Period '1mo' is invalid, must be one of ['1d', '5d']\n",
      "NCNCW: Period '1mo' is invalid, must be one of ['1d', '5d']\n",
      "NCNCW: Period '1mo' is invalid, must be one of ['1d', '5d']\n",
      "NCNCW: Period '1mo' is invalid, must be one of ['1d', '5d']\n",
      "/var/folders/77/05l3f4755g34m9yb1kt19stm0000gn/T/ipykernel_41131/295811338.py:16: FutureWarning: The behavior of DataFrame concatenation with empty or all-NA entries is deprecated. In a future version, this will no longer exclude empty or all-NA columns when determining the result dtypes. To retain the old behavior, exclude the relevant entries before the concat operation.\n",
      "  df_target.loc[len(df_target)] = [ticker, ratio_ticker]\n",
      "NCPLW: Period '1mo' is invalid, must be one of ['1d', '5d']\n",
      "NCPLW: Period '1mo' is invalid, must be one of ['1d', '5d']\n",
      "NCPLW: Period '1mo' is invalid, must be one of ['1d', '5d']\n",
      "NCPLW: Period '1mo' is invalid, must be one of ['1d', '5d']\n",
      "NCPLW: Period '1mo' is invalid, must be one of ['1d', '5d']\n",
      "NCPLW: Period '1mo' is invalid, must be one of ['1d', '5d']\n",
      "NCPLW: Period '1mo' is invalid, must be one of ['1d', '5d']\n",
      "NCPLW: Period '1mo' is invalid, must be one of ['1d', '5d']\n",
      "/var/folders/77/05l3f4755g34m9yb1kt19stm0000gn/T/ipykernel_41131/295811338.py:16: FutureWarning: The behavior of DataFrame concatenation with empty or all-NA entries is deprecated. In a future version, this will no longer exclude empty or all-NA columns when determining the result dtypes. To retain the old behavior, exclude the relevant entries before the concat operation.\n",
      "  df_target.loc[len(df_target)] = [ticker, ratio_ticker]\n",
      "NIOBW: Period '1mo' is invalid, must be one of ['1d', '5d']\n",
      "NIOBW: Period '1mo' is invalid, must be one of ['1d', '5d']\n",
      "NIOBW: Period '1mo' is invalid, must be one of ['1d', '5d']\n",
      "NIOBW: Period '1mo' is invalid, must be one of ['1d', '5d']\n",
      "NIOBW: Period '1mo' is invalid, must be one of ['1d', '5d']\n",
      "NIOBW: Period '1mo' is invalid, must be one of ['1d', '5d']\n",
      "NIOBW: Period '1mo' is invalid, must be one of ['1d', '5d']\n",
      "NIOBW: Period '1mo' is invalid, must be one of ['1d', '5d']\n",
      "/var/folders/77/05l3f4755g34m9yb1kt19stm0000gn/T/ipykernel_41131/295811338.py:16: FutureWarning: The behavior of DataFrame concatenation with empty or all-NA entries is deprecated. In a future version, this will no longer exclude empty or all-NA columns when determining the result dtypes. To retain the old behavior, exclude the relevant entries before the concat operation.\n",
      "  df_target.loc[len(df_target)] = [ticker, ratio_ticker]\n",
      "NIVFW: Period '1mo' is invalid, must be one of ['1d', '5d']\n",
      "NIVFW: Period '1mo' is invalid, must be one of ['1d', '5d']\n",
      "NIVFW: Period '1mo' is invalid, must be one of ['1d', '5d']\n",
      "NIVFW: Period '1mo' is invalid, must be one of ['1d', '5d']\n",
      "NIVFW: Period '1mo' is invalid, must be one of ['1d', '5d']\n",
      "NIVFW: Period '1mo' is invalid, must be one of ['1d', '5d']\n",
      "NIVFW: Period '1mo' is invalid, must be one of ['1d', '5d']\n",
      "NIVFW: Period '1mo' is invalid, must be one of ['1d', '5d']\n",
      "/var/folders/77/05l3f4755g34m9yb1kt19stm0000gn/T/ipykernel_41131/295811338.py:16: FutureWarning: The behavior of DataFrame concatenation with empty or all-NA entries is deprecated. In a future version, this will no longer exclude empty or all-NA columns when determining the result dtypes. To retain the old behavior, exclude the relevant entries before the concat operation.\n",
      "  df_target.loc[len(df_target)] = [ticker, ratio_ticker]\n",
      "NKGN: Data doesn't exist for startDate = 1684296000, endDate = 1684900800\n",
      "NKGN: Data doesn't exist for startDate = 1684296000, endDate = 1684382400\n",
      "NKGN: Data doesn't exist for startDate = 1684382400, endDate = 1684468800\n",
      "NKGN: Data doesn't exist for startDate = 1684468800, endDate = 1684555200\n",
      "NKGN: Data doesn't exist for startDate = 1684555200, endDate = 1684641600\n",
      "NKGN: Data doesn't exist for startDate = 1684641600, endDate = 1684728000\n",
      "NKGN: Data doesn't exist for startDate = 1684728000, endDate = 1684814400\n",
      "NKGN: Data doesn't exist for startDate = 1684814400, endDate = 1684900800\n",
      "/var/folders/77/05l3f4755g34m9yb1kt19stm0000gn/T/ipykernel_41131/295811338.py:16: FutureWarning: The behavior of DataFrame concatenation with empty or all-NA entries is deprecated. In a future version, this will no longer exclude empty or all-NA columns when determining the result dtypes. To retain the old behavior, exclude the relevant entries before the concat operation.\n",
      "  df_target.loc[len(df_target)] = [ticker, ratio_ticker]\n",
      "NKGNW: Period '1mo' is invalid, must be one of ['1d', '5d']\n"
     ]
    },
    {
     "name": "stdout",
     "output_type": "stream",
     "text": [
      "get_stock_value_ratio : Error processing ticker NKGN: unsupported operand type(s) for /: 'float' and 'NoneType'\n"
     ]
    },
    {
     "name": "stderr",
     "output_type": "stream",
     "text": [
      "NKGNW: Period '1mo' is invalid, must be one of ['1d', '5d']\n",
      "NKGNW: Period '1mo' is invalid, must be one of ['1d', '5d']\n",
      "NKGNW: Period '1mo' is invalid, must be one of ['1d', '5d']\n",
      "NKGNW: Period '1mo' is invalid, must be one of ['1d', '5d']\n",
      "NKGNW: Period '1mo' is invalid, must be one of ['1d', '5d']\n",
      "NKGNW: Period '1mo' is invalid, must be one of ['1d', '5d']\n",
      "NKGNW: Period '1mo' is invalid, must be one of ['1d', '5d']\n",
      "/var/folders/77/05l3f4755g34m9yb1kt19stm0000gn/T/ipykernel_41131/295811338.py:16: FutureWarning: The behavior of DataFrame concatenation with empty or all-NA entries is deprecated. In a future version, this will no longer exclude empty or all-NA columns when determining the result dtypes. To retain the old behavior, exclude the relevant entries before the concat operation.\n",
      "  df_target.loc[len(df_target)] = [ticker, ratio_ticker]\n",
      "NLOP: Data doesn't exist for startDate = 1684296000, endDate = 1684900800\n",
      "NLOP: Data doesn't exist for startDate = 1684296000, endDate = 1684382400\n",
      "NLOP: Data doesn't exist for startDate = 1684382400, endDate = 1684468800\n",
      "NLOP: Data doesn't exist for startDate = 1684468800, endDate = 1684555200\n",
      "NLOP: Data doesn't exist for startDate = 1684555200, endDate = 1684641600\n",
      "NLOP: Data doesn't exist for startDate = 1684641600, endDate = 1684728000\n",
      "NLOP: Data doesn't exist for startDate = 1684728000, endDate = 1684814400\n",
      "NLOP: Data doesn't exist for startDate = 1684814400, endDate = 1684900800\n",
      "/var/folders/77/05l3f4755g34m9yb1kt19stm0000gn/T/ipykernel_41131/295811338.py:16: FutureWarning: The behavior of DataFrame concatenation with empty or all-NA entries is deprecated. In a future version, this will no longer exclude empty or all-NA columns when determining the result dtypes. To retain the old behavior, exclude the relevant entries before the concat operation.\n",
      "  df_target.loc[len(df_target)] = [ticker, ratio_ticker]\n"
     ]
    },
    {
     "name": "stdout",
     "output_type": "stream",
     "text": [
      "get_stock_value_ratio : Error processing ticker NLOP: unsupported operand type(s) for /: 'float' and 'NoneType'\n"
     ]
    },
    {
     "name": "stderr",
     "output_type": "stream",
     "text": [
      "NMHIW: Period '1mo' is invalid, must be one of ['1d', '5d']\n",
      "NMHIW: Period '1mo' is invalid, must be one of ['1d', '5d']\n",
      "NMHIW: Period '1mo' is invalid, must be one of ['1d', '5d']\n",
      "NMHIW: Period '1mo' is invalid, must be one of ['1d', '5d']\n",
      "NMHIW: Period '1mo' is invalid, must be one of ['1d', '5d']\n",
      "NMHIW: Period '1mo' is invalid, must be one of ['1d', '5d']\n",
      "NMHIW: Period '1mo' is invalid, must be one of ['1d', '5d']\n",
      "NMHIW: Period '1mo' is invalid, must be one of ['1d', '5d']\n",
      "/var/folders/77/05l3f4755g34m9yb1kt19stm0000gn/T/ipykernel_41131/295811338.py:16: FutureWarning: The behavior of DataFrame concatenation with empty or all-NA entries is deprecated. In a future version, this will no longer exclude empty or all-NA columns when determining the result dtypes. To retain the old behavior, exclude the relevant entries before the concat operation.\n",
      "  df_target.loc[len(df_target)] = [ticker, ratio_ticker]\n",
      "NMRA: Data doesn't exist for startDate = 1684296000, endDate = 1684900800\n",
      "NMRA: Data doesn't exist for startDate = 1684296000, endDate = 1684382400\n",
      "NMRA: Data doesn't exist for startDate = 1684382400, endDate = 1684468800\n",
      "NMRA: Data doesn't exist for startDate = 1684468800, endDate = 1684555200\n",
      "NMRA: Data doesn't exist for startDate = 1684555200, endDate = 1684641600\n",
      "NMRA: Data doesn't exist for startDate = 1684641600, endDate = 1684728000\n",
      "NMRA: Data doesn't exist for startDate = 1684728000, endDate = 1684814400\n",
      "NMRA: Data doesn't exist for startDate = 1684814400, endDate = 1684900800\n",
      "/var/folders/77/05l3f4755g34m9yb1kt19stm0000gn/T/ipykernel_41131/295811338.py:16: FutureWarning: The behavior of DataFrame concatenation with empty or all-NA entries is deprecated. In a future version, this will no longer exclude empty or all-NA columns when determining the result dtypes. To retain the old behavior, exclude the relevant entries before the concat operation.\n",
      "  df_target.loc[len(df_target)] = [ticker, ratio_ticker]\n"
     ]
    },
    {
     "name": "stdout",
     "output_type": "stream",
     "text": [
      "get_stock_value_ratio : Error processing ticker NMRA: unsupported operand type(s) for /: 'float' and 'NoneType'\n"
     ]
    },
    {
     "name": "stderr",
     "output_type": "stream",
     "text": [
      "NNAG: Data doesn't exist for startDate = 1684296000, endDate = 1684900800\n",
      "NNAG: Data doesn't exist for startDate = 1684296000, endDate = 1684382400\n",
      "NNAG: Data doesn't exist for startDate = 1684382400, endDate = 1684468800\n",
      "NNAG: Data doesn't exist for startDate = 1684468800, endDate = 1684555200\n",
      "NNAG: Data doesn't exist for startDate = 1684555200, endDate = 1684641600\n",
      "NNAG: Data doesn't exist for startDate = 1684641600, endDate = 1684728000\n",
      "NNAG: Data doesn't exist for startDate = 1684728000, endDate = 1684814400\n",
      "NNAG: Data doesn't exist for startDate = 1684814400, endDate = 1684900800\n",
      "/var/folders/77/05l3f4755g34m9yb1kt19stm0000gn/T/ipykernel_41131/295811338.py:16: FutureWarning: The behavior of DataFrame concatenation with empty or all-NA entries is deprecated. In a future version, this will no longer exclude empty or all-NA columns when determining the result dtypes. To retain the old behavior, exclude the relevant entries before the concat operation.\n",
      "  df_target.loc[len(df_target)] = [ticker, ratio_ticker]\n"
     ]
    },
    {
     "name": "stdout",
     "output_type": "stream",
     "text": [
      "get_stock_value_ratio : Error processing ticker NNAG: unsupported operand type(s) for /: 'float' and 'NoneType'\n"
     ]
    },
    {
     "name": "stderr",
     "output_type": "stream",
     "text": [
      "NNAGU: Data doesn't exist for startDate = 1684296000, endDate = 1684900800\n",
      "NNAGU: Data doesn't exist for startDate = 1684296000, endDate = 1684382400\n",
      "NNAGU: Data doesn't exist for startDate = 1684382400, endDate = 1684468800\n",
      "NNAGU: Data doesn't exist for startDate = 1684468800, endDate = 1684555200\n",
      "NNAGU: Data doesn't exist for startDate = 1684555200, endDate = 1684641600\n",
      "NNAGU: Data doesn't exist for startDate = 1684641600, endDate = 1684728000\n",
      "NNAGU: Data doesn't exist for startDate = 1684728000, endDate = 1684814400\n",
      "NNAGU: Data doesn't exist for startDate = 1684814400, endDate = 1684900800\n",
      "/var/folders/77/05l3f4755g34m9yb1kt19stm0000gn/T/ipykernel_41131/295811338.py:16: FutureWarning: The behavior of DataFrame concatenation with empty or all-NA entries is deprecated. In a future version, this will no longer exclude empty or all-NA columns when determining the result dtypes. To retain the old behavior, exclude the relevant entries before the concat operation.\n",
      "  df_target.loc[len(df_target)] = [ticker, ratio_ticker]\n",
      "NNAGW: Period '1mo' is invalid, must be one of ['1d', '5d']\n"
     ]
    },
    {
     "name": "stdout",
     "output_type": "stream",
     "text": [
      "get_stock_value_ratio : Error processing ticker NNAGU: unsupported operand type(s) for /: 'float' and 'NoneType'\n"
     ]
    },
    {
     "name": "stderr",
     "output_type": "stream",
     "text": [
      "NNAGW: Period '1mo' is invalid, must be one of ['1d', '5d']\n",
      "NNAGW: Period '1mo' is invalid, must be one of ['1d', '5d']\n",
      "NNAGW: Period '1mo' is invalid, must be one of ['1d', '5d']\n",
      "NNAGW: Period '1mo' is invalid, must be one of ['1d', '5d']\n",
      "NNAGW: Period '1mo' is invalid, must be one of ['1d', '5d']\n",
      "NNAGW: Period '1mo' is invalid, must be one of ['1d', '5d']\n",
      "NNAGW: Period '1mo' is invalid, must be one of ['1d', '5d']\n",
      "/var/folders/77/05l3f4755g34m9yb1kt19stm0000gn/T/ipykernel_41131/295811338.py:16: FutureWarning: The behavior of DataFrame concatenation with empty or all-NA entries is deprecated. In a future version, this will no longer exclude empty or all-NA columns when determining the result dtypes. To retain the old behavior, exclude the relevant entries before the concat operation.\n",
      "  df_target.loc[len(df_target)] = [ticker, ratio_ticker]\n",
      "NNAVW: Period '1mo' is invalid, must be one of ['1d', '5d']\n",
      "NNAVW: Period '1mo' is invalid, must be one of ['1d', '5d']\n",
      "NNAVW: Period '1mo' is invalid, must be one of ['1d', '5d']\n",
      "NNAVW: Period '1mo' is invalid, must be one of ['1d', '5d']\n",
      "NNAVW: Period '1mo' is invalid, must be one of ['1d', '5d']\n",
      "NNAVW: Period '1mo' is invalid, must be one of ['1d', '5d']\n",
      "NNAVW: Period '1mo' is invalid, must be one of ['1d', '5d']\n",
      "NNAVW: Period '1mo' is invalid, must be one of ['1d', '5d']\n",
      "/var/folders/77/05l3f4755g34m9yb1kt19stm0000gn/T/ipykernel_41131/295811338.py:16: FutureWarning: The behavior of DataFrame concatenation with empty or all-NA entries is deprecated. In a future version, this will no longer exclude empty or all-NA columns when determining the result dtypes. To retain the old behavior, exclude the relevant entries before the concat operation.\n",
      "  df_target.loc[len(df_target)] = [ticker, ratio_ticker]\n",
      "NNE: Data doesn't exist for startDate = 1684296000, endDate = 1684900800\n",
      "NNE: Data doesn't exist for startDate = 1684296000, endDate = 1684382400\n",
      "NNE: Data doesn't exist for startDate = 1684382400, endDate = 1684468800\n",
      "NNE: Data doesn't exist for startDate = 1684468800, endDate = 1684555200\n",
      "NNE: Data doesn't exist for startDate = 1684555200, endDate = 1684641600\n",
      "NNE: Data doesn't exist for startDate = 1684641600, endDate = 1684728000\n",
      "NNE: Data doesn't exist for startDate = 1684728000, endDate = 1684814400\n",
      "NNE: Data doesn't exist for startDate = 1684814400, endDate = 1684900800\n",
      "/var/folders/77/05l3f4755g34m9yb1kt19stm0000gn/T/ipykernel_41131/295811338.py:16: FutureWarning: The behavior of DataFrame concatenation with empty or all-NA entries is deprecated. In a future version, this will no longer exclude empty or all-NA columns when determining the result dtypes. To retain the old behavior, exclude the relevant entries before the concat operation.\n",
      "  df_target.loc[len(df_target)] = [ticker, ratio_ticker]\n"
     ]
    },
    {
     "name": "stdout",
     "output_type": "stream",
     "text": [
      "get_stock_value_ratio : Error processing ticker NNE: unsupported operand type(s) for /: 'float' and 'NoneType'\n"
     ]
    },
    {
     "name": "stderr",
     "output_type": "stream",
     "text": [
      "NOVVW: Period '1mo' is invalid, must be one of ['1d', '5d']\n",
      "NOVVW: Period '1mo' is invalid, must be one of ['1d', '5d']\n",
      "NOVVW: Period '1mo' is invalid, must be one of ['1d', '5d']\n",
      "NOVVW: Period '1mo' is invalid, must be one of ['1d', '5d']\n",
      "NOVVW: Period '1mo' is invalid, must be one of ['1d', '5d']\n",
      "NOVVW: Period '1mo' is invalid, must be one of ['1d', '5d']\n",
      "NOVVW: Period '1mo' is invalid, must be one of ['1d', '5d']\n",
      "NOVVW: Period '1mo' is invalid, must be one of ['1d', '5d']\n",
      "/var/folders/77/05l3f4755g34m9yb1kt19stm0000gn/T/ipykernel_41131/295811338.py:16: FutureWarning: The behavior of DataFrame concatenation with empty or all-NA entries is deprecated. In a future version, this will no longer exclude empty or all-NA columns when determining the result dtypes. To retain the old behavior, exclude the relevant entries before the concat operation.\n",
      "  df_target.loc[len(df_target)] = [ticker, ratio_ticker]\n",
      "NPABW: Period '1mo' is invalid, must be one of ['1d', '5d']\n",
      "NPABW: Period '1mo' is invalid, must be one of ['1d', '5d']\n",
      "NPABW: Period '1mo' is invalid, must be one of ['1d', '5d']\n",
      "NPABW: Period '1mo' is invalid, must be one of ['1d', '5d']\n",
      "NPABW: Period '1mo' is invalid, must be one of ['1d', '5d']\n",
      "NPABW: Period '1mo' is invalid, must be one of ['1d', '5d']\n",
      "NPABW: Period '1mo' is invalid, must be one of ['1d', '5d']\n",
      "NPABW: Period '1mo' is invalid, must be one of ['1d', '5d']\n",
      "/var/folders/77/05l3f4755g34m9yb1kt19stm0000gn/T/ipykernel_41131/295811338.py:16: FutureWarning: The behavior of DataFrame concatenation with empty or all-NA entries is deprecated. In a future version, this will no longer exclude empty or all-NA columns when determining the result dtypes. To retain the old behavior, exclude the relevant entries before the concat operation.\n",
      "  df_target.loc[len(df_target)] = [ticker, ratio_ticker]\n",
      "NRSNW: Period '1mo' is invalid, must be one of ['1d', '5d']\n",
      "NRSNW: Period '1mo' is invalid, must be one of ['1d', '5d']\n",
      "NRSNW: Period '1mo' is invalid, must be one of ['1d', '5d']\n",
      "NRSNW: Period '1mo' is invalid, must be one of ['1d', '5d']\n",
      "NRSNW: Period '1mo' is invalid, must be one of ['1d', '5d']\n",
      "NRSNW: Period '1mo' is invalid, must be one of ['1d', '5d']\n",
      "NRSNW: Period '1mo' is invalid, must be one of ['1d', '5d']\n",
      "NRSNW: Period '1mo' is invalid, must be one of ['1d', '5d']\n",
      "/var/folders/77/05l3f4755g34m9yb1kt19stm0000gn/T/ipykernel_41131/295811338.py:16: FutureWarning: The behavior of DataFrame concatenation with empty or all-NA entries is deprecated. In a future version, this will no longer exclude empty or all-NA columns when determining the result dtypes. To retain the old behavior, exclude the relevant entries before the concat operation.\n",
      "  df_target.loc[len(df_target)] = [ticker, ratio_ticker]\n",
      "NRXPW: Period '1mo' is invalid, must be one of ['1d', '5d']\n",
      "NRXPW: Period '1mo' is invalid, must be one of ['1d', '5d']\n",
      "NRXPW: Period '1mo' is invalid, must be one of ['1d', '5d']\n",
      "NRXPW: Period '1mo' is invalid, must be one of ['1d', '5d']\n",
      "NRXPW: Period '1mo' is invalid, must be one of ['1d', '5d']\n",
      "NRXPW: Period '1mo' is invalid, must be one of ['1d', '5d']\n",
      "NRXPW: Period '1mo' is invalid, must be one of ['1d', '5d']\n",
      "NRXPW: Period '1mo' is invalid, must be one of ['1d', '5d']\n",
      "/var/folders/77/05l3f4755g34m9yb1kt19stm0000gn/T/ipykernel_41131/295811338.py:16: FutureWarning: The behavior of DataFrame concatenation with empty or all-NA entries is deprecated. In a future version, this will no longer exclude empty or all-NA columns when determining the result dtypes. To retain the old behavior, exclude the relevant entries before the concat operation.\n",
      "  df_target.loc[len(df_target)] = [ticker, ratio_ticker]\n",
      "NRXS: Data doesn't exist for startDate = 1684296000, endDate = 1684900800\n",
      "NRXS: Data doesn't exist for startDate = 1684296000, endDate = 1684382400\n",
      "NRXS: Data doesn't exist for startDate = 1684382400, endDate = 1684468800\n",
      "NRXS: Data doesn't exist for startDate = 1684468800, endDate = 1684555200\n",
      "NRXS: Data doesn't exist for startDate = 1684555200, endDate = 1684641600\n",
      "NRXS: Data doesn't exist for startDate = 1684641600, endDate = 1684728000\n",
      "NRXS: Data doesn't exist for startDate = 1684728000, endDate = 1684814400\n",
      "NRXS: Data doesn't exist for startDate = 1684814400, endDate = 1684900800\n",
      "/var/folders/77/05l3f4755g34m9yb1kt19stm0000gn/T/ipykernel_41131/295811338.py:16: FutureWarning: The behavior of DataFrame concatenation with empty or all-NA entries is deprecated. In a future version, this will no longer exclude empty or all-NA columns when determining the result dtypes. To retain the old behavior, exclude the relevant entries before the concat operation.\n",
      "  df_target.loc[len(df_target)] = [ticker, ratio_ticker]\n"
     ]
    },
    {
     "name": "stdout",
     "output_type": "stream",
     "text": [
      "get_stock_value_ratio : Error processing ticker NRXS: unsupported operand type(s) for /: 'float' and 'NoneType'\n"
     ]
    },
    {
     "name": "stderr",
     "output_type": "stream",
     "text": [
      "NUVOW: Period '1mo' is invalid, must be one of ['1d', '5d']\n",
      "NUVOW: Period '1mo' is invalid, must be one of ['1d', '5d']\n",
      "NUVOW: Period '1mo' is invalid, must be one of ['1d', '5d']\n",
      "NUVOW: Period '1mo' is invalid, must be one of ['1d', '5d']\n",
      "NUVOW: Period '1mo' is invalid, must be one of ['1d', '5d']\n",
      "NUVOW: Period '1mo' is invalid, must be one of ['1d', '5d']\n",
      "NUVOW: Period '1mo' is invalid, must be one of ['1d', '5d']\n",
      "NUVOW: Period '1mo' is invalid, must be one of ['1d', '5d']\n",
      "/var/folders/77/05l3f4755g34m9yb1kt19stm0000gn/T/ipykernel_41131/295811338.py:16: FutureWarning: The behavior of DataFrame concatenation with empty or all-NA entries is deprecated. In a future version, this will no longer exclude empty or all-NA columns when determining the result dtypes. To retain the old behavior, exclude the relevant entries before the concat operation.\n",
      "  df_target.loc[len(df_target)] = [ticker, ratio_ticker]\n",
      "NVVEW: Period '1mo' is invalid, must be one of ['1d', '5d']\n",
      "NVVEW: Period '1mo' is invalid, must be one of ['1d', '5d']\n",
      "NVVEW: Period '1mo' is invalid, must be one of ['1d', '5d']\n",
      "NVVEW: Period '1mo' is invalid, must be one of ['1d', '5d']\n",
      "NVVEW: Period '1mo' is invalid, must be one of ['1d', '5d']\n",
      "NVVEW: Period '1mo' is invalid, must be one of ['1d', '5d']\n",
      "NVVEW: Period '1mo' is invalid, must be one of ['1d', '5d']\n",
      "NVVEW: Period '1mo' is invalid, must be one of ['1d', '5d']\n",
      "/var/folders/77/05l3f4755g34m9yb1kt19stm0000gn/T/ipykernel_41131/295811338.py:16: FutureWarning: The behavior of DataFrame concatenation with empty or all-NA entries is deprecated. In a future version, this will no longer exclude empty or all-NA columns when determining the result dtypes. To retain the old behavior, exclude the relevant entries before the concat operation.\n",
      "  df_target.loc[len(df_target)] = [ticker, ratio_ticker]\n",
      "NWGL: Data doesn't exist for startDate = 1684296000, endDate = 1684900800\n",
      "NWGL: Data doesn't exist for startDate = 1684296000, endDate = 1684382400\n",
      "NWGL: Data doesn't exist for startDate = 1684382400, endDate = 1684468800\n",
      "NWGL: Data doesn't exist for startDate = 1684468800, endDate = 1684555200\n",
      "NWGL: Data doesn't exist for startDate = 1684555200, endDate = 1684641600\n",
      "NWGL: Data doesn't exist for startDate = 1684641600, endDate = 1684728000\n",
      "NWGL: Data doesn't exist for startDate = 1684728000, endDate = 1684814400\n",
      "NWGL: Data doesn't exist for startDate = 1684814400, endDate = 1684900800\n",
      "/var/folders/77/05l3f4755g34m9yb1kt19stm0000gn/T/ipykernel_41131/295811338.py:16: FutureWarning: The behavior of DataFrame concatenation with empty or all-NA entries is deprecated. In a future version, this will no longer exclude empty or all-NA columns when determining the result dtypes. To retain the old behavior, exclude the relevant entries before the concat operation.\n",
      "  df_target.loc[len(df_target)] = [ticker, ratio_ticker]\n"
     ]
    },
    {
     "name": "stdout",
     "output_type": "stream",
     "text": [
      "get_stock_value_ratio : Error processing ticker NWGL: unsupported operand type(s) for /: 'float' and 'NoneType'\n"
     ]
    },
    {
     "name": "stderr",
     "output_type": "stream",
     "text": [
      "NWTNW: Period '1mo' is invalid, must be one of ['1d', '5d']\n",
      "NWTNW: Period '1mo' is invalid, must be one of ['1d', '5d']\n",
      "NWTNW: Period '1mo' is invalid, must be one of ['1d', '5d']\n",
      "NWTNW: Period '1mo' is invalid, must be one of ['1d', '5d']\n",
      "NWTNW: Period '1mo' is invalid, must be one of ['1d', '5d']\n",
      "NWTNW: Period '1mo' is invalid, must be one of ['1d', '5d']\n",
      "NWTNW: Period '1mo' is invalid, must be one of ['1d', '5d']\n",
      "NWTNW: Period '1mo' is invalid, must be one of ['1d', '5d']\n",
      "/var/folders/77/05l3f4755g34m9yb1kt19stm0000gn/T/ipykernel_41131/295811338.py:16: FutureWarning: The behavior of DataFrame concatenation with empty or all-NA entries is deprecated. In a future version, this will no longer exclude empty or all-NA columns when determining the result dtypes. To retain the old behavior, exclude the relevant entries before the concat operation.\n",
      "  df_target.loc[len(df_target)] = [ticker, ratio_ticker]\n",
      "NXGLW: Period '1mo' is invalid, must be one of ['1d', '5d']\n",
      "NXGLW: Period '1mo' is invalid, must be one of ['1d', '5d']\n",
      "NXGLW: Period '1mo' is invalid, must be one of ['1d', '5d']\n",
      "NXGLW: Period '1mo' is invalid, must be one of ['1d', '5d']\n",
      "NXGLW: Period '1mo' is invalid, must be one of ['1d', '5d']\n",
      "NXGLW: Period '1mo' is invalid, must be one of ['1d', '5d']\n",
      "NXGLW: Period '1mo' is invalid, must be one of ['1d', '5d']\n",
      "NXGLW: Period '1mo' is invalid, must be one of ['1d', '5d']\n",
      "/var/folders/77/05l3f4755g34m9yb1kt19stm0000gn/T/ipykernel_41131/295811338.py:16: FutureWarning: The behavior of DataFrame concatenation with empty or all-NA entries is deprecated. In a future version, this will no longer exclude empty or all-NA columns when determining the result dtypes. To retain the old behavior, exclude the relevant entries before the concat operation.\n",
      "  df_target.loc[len(df_target)] = [ticker, ratio_ticker]\n",
      "NXLIW: Period '1mo' is invalid, must be one of ['1d', '5d']\n",
      "NXLIW: Period '1mo' is invalid, must be one of ['1d', '5d']\n",
      "NXLIW: Period '1mo' is invalid, must be one of ['1d', '5d']\n",
      "NXLIW: Period '1mo' is invalid, must be one of ['1d', '5d']\n",
      "NXLIW: Period '1mo' is invalid, must be one of ['1d', '5d']\n",
      "NXLIW: Period '1mo' is invalid, must be one of ['1d', '5d']\n",
      "NXLIW: Period '1mo' is invalid, must be one of ['1d', '5d']\n",
      "NXLIW: Period '1mo' is invalid, must be one of ['1d', '5d']\n",
      "/var/folders/77/05l3f4755g34m9yb1kt19stm0000gn/T/ipykernel_41131/295811338.py:16: FutureWarning: The behavior of DataFrame concatenation with empty or all-NA entries is deprecated. In a future version, this will no longer exclude empty or all-NA columns when determining the result dtypes. To retain the old behavior, exclude the relevant entries before the concat operation.\n",
      "  df_target.loc[len(df_target)] = [ticker, ratio_ticker]\n",
      "NXPLW: Period '1mo' is invalid, must be one of ['1d', '5d']\n",
      "NXPLW: Period '1mo' is invalid, must be one of ['1d', '5d']\n",
      "NXPLW: Period '1mo' is invalid, must be one of ['1d', '5d']\n",
      "NXPLW: Period '1mo' is invalid, must be one of ['1d', '5d']\n",
      "NXPLW: Period '1mo' is invalid, must be one of ['1d', '5d']\n",
      "NXPLW: Period '1mo' is invalid, must be one of ['1d', '5d']\n",
      "NXPLW: Period '1mo' is invalid, must be one of ['1d', '5d']\n",
      "NXPLW: Period '1mo' is invalid, must be one of ['1d', '5d']\n",
      "/var/folders/77/05l3f4755g34m9yb1kt19stm0000gn/T/ipykernel_41131/295811338.py:16: FutureWarning: The behavior of DataFrame concatenation with empty or all-NA entries is deprecated. In a future version, this will no longer exclude empty or all-NA columns when determining the result dtypes. To retain the old behavior, exclude the relevant entries before the concat operation.\n",
      "  df_target.loc[len(df_target)] = [ticker, ratio_ticker]\n",
      "OABIW: Period '1mo' is invalid, must be one of ['1d', '5d']\n",
      "OABIW: Period '1mo' is invalid, must be one of ['1d', '5d']\n",
      "OABIW: Period '1mo' is invalid, must be one of ['1d', '5d']\n",
      "OABIW: Period '1mo' is invalid, must be one of ['1d', '5d']\n",
      "OABIW: Period '1mo' is invalid, must be one of ['1d', '5d']\n",
      "OABIW: Period '1mo' is invalid, must be one of ['1d', '5d']\n",
      "OABIW: Period '1mo' is invalid, must be one of ['1d', '5d']\n",
      "OABIW: Period '1mo' is invalid, must be one of ['1d', '5d']\n",
      "/var/folders/77/05l3f4755g34m9yb1kt19stm0000gn/T/ipykernel_41131/295811338.py:16: FutureWarning: The behavior of DataFrame concatenation with empty or all-NA entries is deprecated. In a future version, this will no longer exclude empty or all-NA columns when determining the result dtypes. To retain the old behavior, exclude the relevant entries before the concat operation.\n",
      "  df_target.loc[len(df_target)] = [ticker, ratio_ticker]\n",
      "OAKU: Data doesn't exist for startDate = 1684296000, endDate = 1684382400\n",
      "OAKU: Data doesn't exist for startDate = 1684382400, endDate = 1684468800\n",
      "OAKUW: Period '1mo' is invalid, must be one of ['1d', '5d']\n",
      "OAKUW: Period '1mo' is invalid, must be one of ['1d', '5d']\n",
      "OAKUW: Period '1mo' is invalid, must be one of ['1d', '5d']\n",
      "OAKUW: Period '1mo' is invalid, must be one of ['1d', '5d']\n",
      "OAKUW: Period '1mo' is invalid, must be one of ['1d', '5d']\n",
      "OAKUW: Period '1mo' is invalid, must be one of ['1d', '5d']\n",
      "OAKUW: Period '1mo' is invalid, must be one of ['1d', '5d']\n",
      "OAKUW: Period '1mo' is invalid, must be one of ['1d', '5d']\n",
      "/var/folders/77/05l3f4755g34m9yb1kt19stm0000gn/T/ipykernel_41131/295811338.py:16: FutureWarning: The behavior of DataFrame concatenation with empty or all-NA entries is deprecated. In a future version, this will no longer exclude empty or all-NA columns when determining the result dtypes. To retain the old behavior, exclude the relevant entries before the concat operation.\n",
      "  df_target.loc[len(df_target)] = [ticker, ratio_ticker]\n",
      "OBDE: Data doesn't exist for startDate = 1684296000, endDate = 1684900800\n",
      "OBDE: Data doesn't exist for startDate = 1684296000, endDate = 1684382400\n",
      "OBDE: Data doesn't exist for startDate = 1684382400, endDate = 1684468800\n",
      "OBDE: Data doesn't exist for startDate = 1684468800, endDate = 1684555200\n",
      "OBDE: Data doesn't exist for startDate = 1684555200, endDate = 1684641600\n",
      "OBDE: Data doesn't exist for startDate = 1684641600, endDate = 1684728000\n",
      "OBDE: Data doesn't exist for startDate = 1684728000, endDate = 1684814400\n",
      "OBDE: Data doesn't exist for startDate = 1684814400, endDate = 1684900800\n",
      "/var/folders/77/05l3f4755g34m9yb1kt19stm0000gn/T/ipykernel_41131/295811338.py:16: FutureWarning: The behavior of DataFrame concatenation with empty or all-NA entries is deprecated. In a future version, this will no longer exclude empty or all-NA columns when determining the result dtypes. To retain the old behavior, exclude the relevant entries before the concat operation.\n",
      "  df_target.loc[len(df_target)] = [ticker, ratio_ticker]\n"
     ]
    },
    {
     "name": "stdout",
     "output_type": "stream",
     "text": [
      "get_stock_value_ratio : Error processing ticker OBDE: unsupported operand type(s) for /: 'float' and 'NoneType'\n"
     ]
    },
    {
     "name": "stderr",
     "output_type": "stream",
     "text": [
      "$OCC: possibly delisted; No price data found  (1d 2024-05-15 00:00:00 -> 2024-05-22 00:00:00)\n",
      "$OCC: possibly delisted; No price data found  (1d 2024-05-15 00:00:00 -> 2024-05-22 00:00:00)\n"
     ]
    },
    {
     "name": "stdout",
     "output_type": "stream",
     "text": [
      "$OCC: possibly delisted; No price data found  (1d 2024-05-15 00:00:00 -> 2024-05-22 00:00:00)\n",
      "$OCC: possibly delisted; No price data found  (1d 2024-05-15 00:00:00 -> 2024-05-22 00:00:00)\n"
     ]
    },
    {
     "name": "stderr",
     "output_type": "stream",
     "text": [
      "OCEAW: Period '1mo' is invalid, must be one of ['1d', '5d']\n",
      "OCEAW: Period '1mo' is invalid, must be one of ['1d', '5d']\n",
      "OCEAW: Period '1mo' is invalid, must be one of ['1d', '5d']\n",
      "OCEAW: Period '1mo' is invalid, must be one of ['1d', '5d']\n",
      "OCEAW: Period '1mo' is invalid, must be one of ['1d', '5d']\n",
      "OCEAW: Period '1mo' is invalid, must be one of ['1d', '5d']\n",
      "OCEAW: Period '1mo' is invalid, must be one of ['1d', '5d']\n",
      "OCEAW: Period '1mo' is invalid, must be one of ['1d', '5d']\n",
      "/var/folders/77/05l3f4755g34m9yb1kt19stm0000gn/T/ipykernel_41131/295811338.py:16: FutureWarning: The behavior of DataFrame concatenation with empty or all-NA entries is deprecated. In a future version, this will no longer exclude empty or all-NA columns when determining the result dtypes. To retain the old behavior, exclude the relevant entries before the concat operation.\n",
      "  df_target.loc[len(df_target)] = [ticker, ratio_ticker]\n",
      "ODD: Data doesn't exist for startDate = 1684296000, endDate = 1684900800\n",
      "ODD: Data doesn't exist for startDate = 1684296000, endDate = 1684382400\n",
      "ODD: Data doesn't exist for startDate = 1684382400, endDate = 1684468800\n",
      "ODD: Data doesn't exist for startDate = 1684468800, endDate = 1684555200\n",
      "ODD: Data doesn't exist for startDate = 1684555200, endDate = 1684641600\n",
      "ODD: Data doesn't exist for startDate = 1684641600, endDate = 1684728000\n",
      "ODD: Data doesn't exist for startDate = 1684728000, endDate = 1684814400\n",
      "ODD: Data doesn't exist for startDate = 1684814400, endDate = 1684900800\n",
      "/var/folders/77/05l3f4755g34m9yb1kt19stm0000gn/T/ipykernel_41131/295811338.py:16: FutureWarning: The behavior of DataFrame concatenation with empty or all-NA entries is deprecated. In a future version, this will no longer exclude empty or all-NA columns when determining the result dtypes. To retain the old behavior, exclude the relevant entries before the concat operation.\n",
      "  df_target.loc[len(df_target)] = [ticker, ratio_ticker]\n"
     ]
    },
    {
     "name": "stdout",
     "output_type": "stream",
     "text": [
      "get_stock_value_ratio : Error processing ticker ODD: unsupported operand type(s) for /: 'float' and 'NoneType'\n"
     ]
    },
    {
     "name": "stderr",
     "output_type": "stream",
     "text": [
      "ODVWZ: Period '1mo' is invalid, must be one of ['1d', '5d']\n",
      "ODVWZ: Period '1mo' is invalid, must be one of ['1d', '5d']\n",
      "ODVWZ: Period '1mo' is invalid, must be one of ['1d', '5d']\n",
      "ODVWZ: Period '1mo' is invalid, must be one of ['1d', '5d']\n",
      "ODVWZ: Period '1mo' is invalid, must be one of ['1d', '5d']\n",
      "ODVWZ: Period '1mo' is invalid, must be one of ['1d', '5d']\n",
      "ODVWZ: Period '1mo' is invalid, must be one of ['1d', '5d']\n",
      "ODVWZ: Period '1mo' is invalid, must be one of ['1d', '5d']\n",
      "/var/folders/77/05l3f4755g34m9yb1kt19stm0000gn/T/ipykernel_41131/295811338.py:16: FutureWarning: The behavior of DataFrame concatenation with empty or all-NA entries is deprecated. In a future version, this will no longer exclude empty or all-NA columns when determining the result dtypes. To retain the old behavior, exclude the relevant entries before the concat operation.\n",
      "  df_target.loc[len(df_target)] = [ticker, ratio_ticker]\n",
      "ONFOW: Period '1mo' is invalid, must be one of ['1d', '5d']\n",
      "ONFOW: Period '1mo' is invalid, must be one of ['1d', '5d']\n",
      "ONFOW: Period '1mo' is invalid, must be one of ['1d', '5d']\n",
      "ONFOW: Period '1mo' is invalid, must be one of ['1d', '5d']\n",
      "ONFOW: Period '1mo' is invalid, must be one of ['1d', '5d']\n",
      "ONFOW: Period '1mo' is invalid, must be one of ['1d', '5d']\n",
      "ONFOW: Period '1mo' is invalid, must be one of ['1d', '5d']\n",
      "ONFOW: Period '1mo' is invalid, must be one of ['1d', '5d']\n",
      "/var/folders/77/05l3f4755g34m9yb1kt19stm0000gn/T/ipykernel_41131/295811338.py:16: FutureWarning: The behavior of DataFrame concatenation with empty or all-NA entries is deprecated. In a future version, this will no longer exclude empty or all-NA columns when determining the result dtypes. To retain the old behavior, exclude the relevant entries before the concat operation.\n",
      "  df_target.loc[len(df_target)] = [ticker, ratio_ticker]\n",
      "ONMDW: Period '1mo' is invalid, must be one of ['1d', '5d']\n",
      "ONMDW: Period '1mo' is invalid, must be one of ['1d', '5d']\n",
      "ONMDW: Period '1mo' is invalid, must be one of ['1d', '5d']\n",
      "ONMDW: Period '1mo' is invalid, must be one of ['1d', '5d']\n",
      "ONMDW: Period '1mo' is invalid, must be one of ['1d', '5d']\n",
      "ONMDW: Period '1mo' is invalid, must be one of ['1d', '5d']\n",
      "ONMDW: Period '1mo' is invalid, must be one of ['1d', '5d']\n",
      "ONMDW: Period '1mo' is invalid, must be one of ['1d', '5d']\n",
      "/var/folders/77/05l3f4755g34m9yb1kt19stm0000gn/T/ipykernel_41131/295811338.py:16: FutureWarning: The behavior of DataFrame concatenation with empty or all-NA entries is deprecated. In a future version, this will no longer exclude empty or all-NA columns when determining the result dtypes. To retain the old behavior, exclude the relevant entries before the concat operation.\n",
      "  df_target.loc[len(df_target)] = [ticker, ratio_ticker]\n",
      "ONYXW: Period '1mo' is invalid, must be one of ['1d', '5d']\n",
      "ONYXW: Period '1mo' is invalid, must be one of ['1d', '5d']\n",
      "ONYXW: Period '1mo' is invalid, must be one of ['1d', '5d']\n",
      "ONYXW: Period '1mo' is invalid, must be one of ['1d', '5d']\n",
      "ONYXW: Period '1mo' is invalid, must be one of ['1d', '5d']\n",
      "ONYXW: Period '1mo' is invalid, must be one of ['1d', '5d']\n",
      "ONYXW: Period '1mo' is invalid, must be one of ['1d', '5d']\n",
      "ONYXW: Period '1mo' is invalid, must be one of ['1d', '5d']\n",
      "/var/folders/77/05l3f4755g34m9yb1kt19stm0000gn/T/ipykernel_41131/295811338.py:16: FutureWarning: The behavior of DataFrame concatenation with empty or all-NA entries is deprecated. In a future version, this will no longer exclude empty or all-NA columns when determining the result dtypes. To retain the old behavior, exclude the relevant entries before the concat operation.\n",
      "  df_target.loc[len(df_target)] = [ticker, ratio_ticker]\n",
      "OPTXW: Period '1mo' is invalid, must be one of ['1d', '5d']\n",
      "OPTXW: Period '1mo' is invalid, must be one of ['1d', '5d']\n",
      "OPTXW: Period '1mo' is invalid, must be one of ['1d', '5d']\n",
      "OPTXW: Period '1mo' is invalid, must be one of ['1d', '5d']\n",
      "OPTXW: Period '1mo' is invalid, must be one of ['1d', '5d']\n",
      "OPTXW: Period '1mo' is invalid, must be one of ['1d', '5d']\n",
      "OPTXW: Period '1mo' is invalid, must be one of ['1d', '5d']\n",
      "OPTXW: Period '1mo' is invalid, must be one of ['1d', '5d']\n",
      "/var/folders/77/05l3f4755g34m9yb1kt19stm0000gn/T/ipykernel_41131/295811338.py:16: FutureWarning: The behavior of DataFrame concatenation with empty or all-NA entries is deprecated. In a future version, this will no longer exclude empty or all-NA columns when determining the result dtypes. To retain the old behavior, exclude the relevant entries before the concat operation.\n",
      "  df_target.loc[len(df_target)] = [ticker, ratio_ticker]\n",
      "ORGNW: Period '1mo' is invalid, must be one of ['1d', '5d']\n",
      "ORGNW: Period '1mo' is invalid, must be one of ['1d', '5d']\n",
      "ORGNW: Period '1mo' is invalid, must be one of ['1d', '5d']\n",
      "ORGNW: Period '1mo' is invalid, must be one of ['1d', '5d']\n",
      "ORGNW: Period '1mo' is invalid, must be one of ['1d', '5d']\n",
      "ORGNW: Period '1mo' is invalid, must be one of ['1d', '5d']\n",
      "ORGNW: Period '1mo' is invalid, must be one of ['1d', '5d']\n",
      "ORGNW: Period '1mo' is invalid, must be one of ['1d', '5d']\n",
      "/var/folders/77/05l3f4755g34m9yb1kt19stm0000gn/T/ipykernel_41131/295811338.py:16: FutureWarning: The behavior of DataFrame concatenation with empty or all-NA entries is deprecated. In a future version, this will no longer exclude empty or all-NA columns when determining the result dtypes. To retain the old behavior, exclude the relevant entries before the concat operation.\n",
      "  df_target.loc[len(df_target)] = [ticker, ratio_ticker]\n",
      "OXBRW: Period '1mo' is invalid, must be one of ['1d', '5d']\n",
      "OXBRW: Period '1mo' is invalid, must be one of ['1d', '5d']\n",
      "OXBRW: Period '1mo' is invalid, must be one of ['1d', '5d']\n",
      "OXBRW: Period '1mo' is invalid, must be one of ['1d', '5d']\n",
      "OXBRW: Period '1mo' is invalid, must be one of ['1d', '5d']\n",
      "OXBRW: Period '1mo' is invalid, must be one of ['1d', '5d']\n",
      "OXBRW: Period '1mo' is invalid, must be one of ['1d', '5d']\n",
      "OXBRW: Period '1mo' is invalid, must be one of ['1d', '5d']\n",
      "/var/folders/77/05l3f4755g34m9yb1kt19stm0000gn/T/ipykernel_41131/295811338.py:16: FutureWarning: The behavior of DataFrame concatenation with empty or all-NA entries is deprecated. In a future version, this will no longer exclude empty or all-NA columns when determining the result dtypes. To retain the old behavior, exclude the relevant entries before the concat operation.\n",
      "  df_target.loc[len(df_target)] = [ticker, ratio_ticker]\n",
      "PACS: Data doesn't exist for startDate = 1684296000, endDate = 1684900800\n",
      "PACS: Data doesn't exist for startDate = 1684296000, endDate = 1684382400\n",
      "PACS: Data doesn't exist for startDate = 1684382400, endDate = 1684468800\n",
      "PACS: Data doesn't exist for startDate = 1684468800, endDate = 1684555200\n",
      "PACS: Data doesn't exist for startDate = 1684555200, endDate = 1684641600\n",
      "PACS: Data doesn't exist for startDate = 1684641600, endDate = 1684728000\n",
      "PACS: Data doesn't exist for startDate = 1684728000, endDate = 1684814400\n",
      "PACS: Data doesn't exist for startDate = 1684814400, endDate = 1684900800\n",
      "/var/folders/77/05l3f4755g34m9yb1kt19stm0000gn/T/ipykernel_41131/295811338.py:16: FutureWarning: The behavior of DataFrame concatenation with empty or all-NA entries is deprecated. In a future version, this will no longer exclude empty or all-NA columns when determining the result dtypes. To retain the old behavior, exclude the relevant entries before the concat operation.\n",
      "  df_target.loc[len(df_target)] = [ticker, ratio_ticker]\n"
     ]
    },
    {
     "name": "stdout",
     "output_type": "stream",
     "text": [
      "get_stock_value_ratio : Error processing ticker PACS: unsupported operand type(s) for /: 'float' and 'NoneType'\n"
     ]
    },
    {
     "name": "stderr",
     "output_type": "stream",
     "text": [
      "PAPL: Data doesn't exist for startDate = 1684296000, endDate = 1684900800\n",
      "PAPL: Data doesn't exist for startDate = 1684296000, endDate = 1684382400\n",
      "PAPL: Data doesn't exist for startDate = 1684382400, endDate = 1684468800\n",
      "PAPL: Data doesn't exist for startDate = 1684468800, endDate = 1684555200\n",
      "PAPL: Data doesn't exist for startDate = 1684555200, endDate = 1684641600\n",
      "PAPL: Data doesn't exist for startDate = 1684641600, endDate = 1684728000\n",
      "PAPL: Data doesn't exist for startDate = 1684728000, endDate = 1684814400\n",
      "PAPL: Data doesn't exist for startDate = 1684814400, endDate = 1684900800\n",
      "/var/folders/77/05l3f4755g34m9yb1kt19stm0000gn/T/ipykernel_41131/295811338.py:16: FutureWarning: The behavior of DataFrame concatenation with empty or all-NA entries is deprecated. In a future version, this will no longer exclude empty or all-NA columns when determining the result dtypes. To retain the old behavior, exclude the relevant entries before the concat operation.\n",
      "  df_target.loc[len(df_target)] = [ticker, ratio_ticker]\n"
     ]
    },
    {
     "name": "stdout",
     "output_type": "stream",
     "text": [
      "get_stock_value_ratio : Error processing ticker PAPL: unsupported operand type(s) for /: 'float' and 'NoneType'\n"
     ]
    },
    {
     "name": "stderr",
     "output_type": "stream",
     "text": [
      "PAVMZ: Period '1mo' is invalid, must be one of ['1d', '5d']\n",
      "PAVMZ: Period '1mo' is invalid, must be one of ['1d', '5d']\n",
      "PAVMZ: Period '1mo' is invalid, must be one of ['1d', '5d']\n",
      "PAVMZ: Period '1mo' is invalid, must be one of ['1d', '5d']\n",
      "PAVMZ: Period '1mo' is invalid, must be one of ['1d', '5d']\n",
      "PAVMZ: Period '1mo' is invalid, must be one of ['1d', '5d']\n",
      "PAVMZ: Period '1mo' is invalid, must be one of ['1d', '5d']\n",
      "PAVMZ: Period '1mo' is invalid, must be one of ['1d', '5d']\n",
      "/var/folders/77/05l3f4755g34m9yb1kt19stm0000gn/T/ipykernel_41131/295811338.py:16: FutureWarning: The behavior of DataFrame concatenation with empty or all-NA entries is deprecated. In a future version, this will no longer exclude empty or all-NA columns when determining the result dtypes. To retain the old behavior, exclude the relevant entries before the concat operation.\n",
      "  df_target.loc[len(df_target)] = [ticker, ratio_ticker]\n",
      "PAYOW: Period '1mo' is invalid, must be one of ['1d', '5d']\n",
      "PAYOW: Period '1mo' is invalid, must be one of ['1d', '5d']\n",
      "PAYOW: Period '1mo' is invalid, must be one of ['1d', '5d']\n",
      "PAYOW: Period '1mo' is invalid, must be one of ['1d', '5d']\n",
      "PAYOW: Period '1mo' is invalid, must be one of ['1d', '5d']\n",
      "PAYOW: Period '1mo' is invalid, must be one of ['1d', '5d']\n",
      "PAYOW: Period '1mo' is invalid, must be one of ['1d', '5d']\n",
      "PAYOW: Period '1mo' is invalid, must be one of ['1d', '5d']\n",
      "/var/folders/77/05l3f4755g34m9yb1kt19stm0000gn/T/ipykernel_41131/295811338.py:16: FutureWarning: The behavior of DataFrame concatenation with empty or all-NA entries is deprecated. In a future version, this will no longer exclude empty or all-NA columns when determining the result dtypes. To retain the old behavior, exclude the relevant entries before the concat operation.\n",
      "  df_target.loc[len(df_target)] = [ticker, ratio_ticker]\n",
      "PBMWW: Period '1mo' is invalid, must be one of ['1d', '5d']\n",
      "PBMWW: Period '1mo' is invalid, must be one of ['1d', '5d']\n",
      "PBMWW: Period '1mo' is invalid, must be one of ['1d', '5d']\n",
      "PBMWW: Period '1mo' is invalid, must be one of ['1d', '5d']\n",
      "PBMWW: Period '1mo' is invalid, must be one of ['1d', '5d']\n",
      "PBMWW: Period '1mo' is invalid, must be one of ['1d', '5d']\n",
      "PBMWW: Period '1mo' is invalid, must be one of ['1d', '5d']\n",
      "PBMWW: Period '1mo' is invalid, must be one of ['1d', '5d']\n",
      "/var/folders/77/05l3f4755g34m9yb1kt19stm0000gn/T/ipykernel_41131/295811338.py:16: FutureWarning: The behavior of DataFrame concatenation with empty or all-NA entries is deprecated. In a future version, this will no longer exclude empty or all-NA columns when determining the result dtypes. To retain the old behavior, exclude the relevant entries before the concat operation.\n",
      "  df_target.loc[len(df_target)] = [ticker, ratio_ticker]\n",
      "PCTTW: Period '1mo' is invalid, must be one of ['1d', '5d']\n",
      "PCTTW: Period '1mo' is invalid, must be one of ['1d', '5d']\n",
      "PCTTW: Period '1mo' is invalid, must be one of ['1d', '5d']\n",
      "PCTTW: Period '1mo' is invalid, must be one of ['1d', '5d']\n",
      "PCTTW: Period '1mo' is invalid, must be one of ['1d', '5d']\n",
      "PCTTW: Period '1mo' is invalid, must be one of ['1d', '5d']\n",
      "PCTTW: Period '1mo' is invalid, must be one of ['1d', '5d']\n",
      "PCTTW: Period '1mo' is invalid, must be one of ['1d', '5d']\n",
      "/var/folders/77/05l3f4755g34m9yb1kt19stm0000gn/T/ipykernel_41131/295811338.py:16: FutureWarning: The behavior of DataFrame concatenation with empty or all-NA entries is deprecated. In a future version, this will no longer exclude empty or all-NA columns when determining the result dtypes. To retain the old behavior, exclude the relevant entries before the concat operation.\n",
      "  df_target.loc[len(df_target)] = [ticker, ratio_ticker]\n",
      "PEGRW: Period '1mo' is invalid, must be one of ['1d', '5d']\n",
      "PEGRW: Period '1mo' is invalid, must be one of ['1d', '5d']\n",
      "PEGRW: Period '1mo' is invalid, must be one of ['1d', '5d']\n",
      "PEGRW: Period '1mo' is invalid, must be one of ['1d', '5d']\n",
      "PEGRW: Period '1mo' is invalid, must be one of ['1d', '5d']\n",
      "PEGRW: Period '1mo' is invalid, must be one of ['1d', '5d']\n",
      "PEGRW: Period '1mo' is invalid, must be one of ['1d', '5d']\n",
      "PEGRW: Period '1mo' is invalid, must be one of ['1d', '5d']\n",
      "/var/folders/77/05l3f4755g34m9yb1kt19stm0000gn/T/ipykernel_41131/295811338.py:16: FutureWarning: The behavior of DataFrame concatenation with empty or all-NA entries is deprecated. In a future version, this will no longer exclude empty or all-NA columns when determining the result dtypes. To retain the old behavior, exclude the relevant entries before the concat operation.\n",
      "  df_target.loc[len(df_target)] = [ticker, ratio_ticker]\n",
      "PETWW: Period '1mo' is invalid, must be one of ['1d', '5d']\n",
      "PETWW: Period '1mo' is invalid, must be one of ['1d', '5d']\n",
      "PETWW: Period '1mo' is invalid, must be one of ['1d', '5d']\n",
      "PETWW: Period '1mo' is invalid, must be one of ['1d', '5d']\n",
      "PETWW: Period '1mo' is invalid, must be one of ['1d', '5d']\n",
      "PETWW: Period '1mo' is invalid, must be one of ['1d', '5d']\n",
      "PETWW: Period '1mo' is invalid, must be one of ['1d', '5d']\n",
      "PETWW: Period '1mo' is invalid, must be one of ['1d', '5d']\n",
      "/var/folders/77/05l3f4755g34m9yb1kt19stm0000gn/T/ipykernel_41131/295811338.py:16: FutureWarning: The behavior of DataFrame concatenation with empty or all-NA entries is deprecated. In a future version, this will no longer exclude empty or all-NA columns when determining the result dtypes. To retain the old behavior, exclude the relevant entries before the concat operation.\n",
      "  df_target.loc[len(df_target)] = [ticker, ratio_ticker]\n",
      "PHIN: Data doesn't exist for startDate = 1684296000, endDate = 1684900800\n",
      "PHIN: Data doesn't exist for startDate = 1684296000, endDate = 1684382400\n",
      "PHIN: Data doesn't exist for startDate = 1684382400, endDate = 1684468800\n",
      "PHIN: Data doesn't exist for startDate = 1684468800, endDate = 1684555200\n",
      "PHIN: Data doesn't exist for startDate = 1684555200, endDate = 1684641600\n",
      "PHIN: Data doesn't exist for startDate = 1684641600, endDate = 1684728000\n",
      "PHIN: Data doesn't exist for startDate = 1684728000, endDate = 1684814400\n",
      "PHIN: Data doesn't exist for startDate = 1684814400, endDate = 1684900800\n",
      "/var/folders/77/05l3f4755g34m9yb1kt19stm0000gn/T/ipykernel_41131/295811338.py:16: FutureWarning: The behavior of DataFrame concatenation with empty or all-NA entries is deprecated. In a future version, this will no longer exclude empty or all-NA columns when determining the result dtypes. To retain the old behavior, exclude the relevant entries before the concat operation.\n",
      "  df_target.loc[len(df_target)] = [ticker, ratio_ticker]\n"
     ]
    },
    {
     "name": "stdout",
     "output_type": "stream",
     "text": [
      "get_stock_value_ratio : Error processing ticker PHIN: unsupported operand type(s) for /: 'float' and 'NoneType'\n"
     ]
    },
    {
     "name": "stderr",
     "output_type": "stream",
     "text": [
      "PIIIW: Period '1mo' is invalid, must be one of ['1d', '5d']\n",
      "PIIIW: Period '1mo' is invalid, must be one of ['1d', '5d']\n",
      "PIIIW: Period '1mo' is invalid, must be one of ['1d', '5d']\n",
      "PIIIW: Period '1mo' is invalid, must be one of ['1d', '5d']\n",
      "PIIIW: Period '1mo' is invalid, must be one of ['1d', '5d']\n",
      "PIIIW: Period '1mo' is invalid, must be one of ['1d', '5d']\n",
      "PIIIW: Period '1mo' is invalid, must be one of ['1d', '5d']\n",
      "PIIIW: Period '1mo' is invalid, must be one of ['1d', '5d']\n",
      "/var/folders/77/05l3f4755g34m9yb1kt19stm0000gn/T/ipykernel_41131/295811338.py:16: FutureWarning: The behavior of DataFrame concatenation with empty or all-NA entries is deprecated. In a future version, this will no longer exclude empty or all-NA columns when determining the result dtypes. To retain the old behavior, exclude the relevant entries before the concat operation.\n",
      "  df_target.loc[len(df_target)] = [ticker, ratio_ticker]\n",
      "PLAOW: Period '1mo' is invalid, must be one of ['1d', '5d']\n",
      "PLAOW: Period '1mo' is invalid, must be one of ['1d', '5d']\n",
      "PLAOW: Period '1mo' is invalid, must be one of ['1d', '5d']\n",
      "PLAOW: Period '1mo' is invalid, must be one of ['1d', '5d']\n",
      "PLAOW: Period '1mo' is invalid, must be one of ['1d', '5d']\n",
      "PLAOW: Period '1mo' is invalid, must be one of ['1d', '5d']\n",
      "PLAOW: Period '1mo' is invalid, must be one of ['1d', '5d']\n",
      "PLAOW: Period '1mo' is invalid, must be one of ['1d', '5d']\n",
      "/var/folders/77/05l3f4755g34m9yb1kt19stm0000gn/T/ipykernel_41131/295811338.py:16: FutureWarning: The behavior of DataFrame concatenation with empty or all-NA entries is deprecated. In a future version, this will no longer exclude empty or all-NA columns when determining the result dtypes. To retain the old behavior, exclude the relevant entries before the concat operation.\n",
      "  df_target.loc[len(df_target)] = [ticker, ratio_ticker]\n",
      "PLMIW: Period '1mo' is invalid, must be one of ['1d', '5d']\n",
      "PLMIW: Period '1mo' is invalid, must be one of ['1d', '5d']\n",
      "PLMIW: Period '1mo' is invalid, must be one of ['1d', '5d']\n",
      "PLMIW: Period '1mo' is invalid, must be one of ['1d', '5d']\n",
      "PLMIW: Period '1mo' is invalid, must be one of ['1d', '5d']\n",
      "PLMIW: Period '1mo' is invalid, must be one of ['1d', '5d']\n",
      "PLMIW: Period '1mo' is invalid, must be one of ['1d', '5d']\n",
      "PLMIW: Period '1mo' is invalid, must be one of ['1d', '5d']\n",
      "/var/folders/77/05l3f4755g34m9yb1kt19stm0000gn/T/ipykernel_41131/295811338.py:16: FutureWarning: The behavior of DataFrame concatenation with empty or all-NA entries is deprecated. In a future version, this will no longer exclude empty or all-NA columns when determining the result dtypes. To retain the old behavior, exclude the relevant entries before the concat operation.\n",
      "  df_target.loc[len(df_target)] = [ticker, ratio_ticker]\n",
      "PLMJW: Period '1mo' is invalid, must be one of ['1d', '5d']\n",
      "PLMJW: Period '1mo' is invalid, must be one of ['1d', '5d']\n",
      "PLMJW: Period '1mo' is invalid, must be one of ['1d', '5d']\n",
      "PLMJW: Period '1mo' is invalid, must be one of ['1d', '5d']\n",
      "PLMJW: Period '1mo' is invalid, must be one of ['1d', '5d']\n",
      "PLMJW: Period '1mo' is invalid, must be one of ['1d', '5d']\n",
      "PLMJW: Period '1mo' is invalid, must be one of ['1d', '5d']\n",
      "PLMJW: Period '1mo' is invalid, must be one of ['1d', '5d']\n",
      "/var/folders/77/05l3f4755g34m9yb1kt19stm0000gn/T/ipykernel_41131/295811338.py:16: FutureWarning: The behavior of DataFrame concatenation with empty or all-NA entries is deprecated. In a future version, this will no longer exclude empty or all-NA columns when determining the result dtypes. To retain the old behavior, exclude the relevant entries before the concat operation.\n",
      "  df_target.loc[len(df_target)] = [ticker, ratio_ticker]\n",
      "PLTNW: Period '1mo' is invalid, must be one of ['1d', '5d']\n",
      "PLTNW: Period '1mo' is invalid, must be one of ['1d', '5d']\n",
      "PLTNW: Period '1mo' is invalid, must be one of ['1d', '5d']\n",
      "PLTNW: Period '1mo' is invalid, must be one of ['1d', '5d']\n",
      "PLTNW: Period '1mo' is invalid, must be one of ['1d', '5d']\n",
      "PLTNW: Period '1mo' is invalid, must be one of ['1d', '5d']\n",
      "PLTNW: Period '1mo' is invalid, must be one of ['1d', '5d']\n",
      "PLTNW: Period '1mo' is invalid, must be one of ['1d', '5d']\n",
      "/var/folders/77/05l3f4755g34m9yb1kt19stm0000gn/T/ipykernel_41131/295811338.py:16: FutureWarning: The behavior of DataFrame concatenation with empty or all-NA entries is deprecated. In a future version, this will no longer exclude empty or all-NA columns when determining the result dtypes. To retain the old behavior, exclude the relevant entries before the concat operation.\n",
      "  df_target.loc[len(df_target)] = [ticker, ratio_ticker]\n",
      "PMEC: Data doesn't exist for startDate = 1684296000, endDate = 1684900800\n",
      "PMEC: Data doesn't exist for startDate = 1684296000, endDate = 1684382400\n",
      "PMEC: Data doesn't exist for startDate = 1684382400, endDate = 1684468800\n",
      "PMEC: Data doesn't exist for startDate = 1684468800, endDate = 1684555200\n",
      "PMEC: Data doesn't exist for startDate = 1684555200, endDate = 1684641600\n",
      "PMEC: Data doesn't exist for startDate = 1684641600, endDate = 1684728000\n",
      "PMEC: Data doesn't exist for startDate = 1684728000, endDate = 1684814400\n",
      "PMEC: Data doesn't exist for startDate = 1684814400, endDate = 1684900800\n",
      "/var/folders/77/05l3f4755g34m9yb1kt19stm0000gn/T/ipykernel_41131/295811338.py:16: FutureWarning: The behavior of DataFrame concatenation with empty or all-NA entries is deprecated. In a future version, this will no longer exclude empty or all-NA columns when determining the result dtypes. To retain the old behavior, exclude the relevant entries before the concat operation.\n",
      "  df_target.loc[len(df_target)] = [ticker, ratio_ticker]\n"
     ]
    },
    {
     "name": "stdout",
     "output_type": "stream",
     "text": [
      "get_stock_value_ratio : Error processing ticker PMEC: unsupported operand type(s) for /: 'float' and 'NoneType'\n"
     ]
    },
    {
     "name": "stderr",
     "output_type": "stream",
     "text": [
      "PMNT: Data doesn't exist for startDate = 1684296000, endDate = 1684900800\n",
      "PMNT: Data doesn't exist for startDate = 1684296000, endDate = 1684382400\n",
      "PMNT: Data doesn't exist for startDate = 1684382400, endDate = 1684468800\n",
      "PMNT: Data doesn't exist for startDate = 1684468800, endDate = 1684555200\n",
      "PMNT: Data doesn't exist for startDate = 1684555200, endDate = 1684641600\n",
      "PMNT: Data doesn't exist for startDate = 1684641600, endDate = 1684728000\n",
      "PMNT: Data doesn't exist for startDate = 1684728000, endDate = 1684814400\n",
      "PMNT: Data doesn't exist for startDate = 1684814400, endDate = 1684900800\n",
      "/var/folders/77/05l3f4755g34m9yb1kt19stm0000gn/T/ipykernel_41131/295811338.py:16: FutureWarning: The behavior of DataFrame concatenation with empty or all-NA entries is deprecated. In a future version, this will no longer exclude empty or all-NA columns when determining the result dtypes. To retain the old behavior, exclude the relevant entries before the concat operation.\n",
      "  df_target.loc[len(df_target)] = [ticker, ratio_ticker]\n"
     ]
    },
    {
     "name": "stdout",
     "output_type": "stream",
     "text": [
      "get_stock_value_ratio : Error processing ticker PMNT: unsupported operand type(s) for /: 'float' and 'NoneType'\n"
     ]
    },
    {
     "name": "stderr",
     "output_type": "stream",
     "text": [
      "PODC: Data doesn't exist for startDate = 1684296000, endDate = 1684900800\n",
      "PODC: Data doesn't exist for startDate = 1684296000, endDate = 1684382400\n",
      "PODC: Data doesn't exist for startDate = 1684382400, endDate = 1684468800\n",
      "PODC: Data doesn't exist for startDate = 1684468800, endDate = 1684555200\n",
      "PODC: Data doesn't exist for startDate = 1684555200, endDate = 1684641600\n",
      "PODC: Data doesn't exist for startDate = 1684641600, endDate = 1684728000\n",
      "PODC: Data doesn't exist for startDate = 1684728000, endDate = 1684814400\n",
      "PODC: Data doesn't exist for startDate = 1684814400, endDate = 1684900800\n",
      "/var/folders/77/05l3f4755g34m9yb1kt19stm0000gn/T/ipykernel_41131/295811338.py:16: FutureWarning: The behavior of DataFrame concatenation with empty or all-NA entries is deprecated. In a future version, this will no longer exclude empty or all-NA columns when determining the result dtypes. To retain the old behavior, exclude the relevant entries before the concat operation.\n",
      "  df_target.loc[len(df_target)] = [ticker, ratio_ticker]\n"
     ]
    },
    {
     "name": "stdout",
     "output_type": "stream",
     "text": [
      "get_stock_value_ratio : Error processing ticker PODC: unsupported operand type(s) for /: 'float' and 'NoneType'\n"
     ]
    },
    {
     "name": "stderr",
     "output_type": "stream",
     "text": [
      "PRENW: Period '1mo' is invalid, must be one of ['1d', '5d']\n",
      "PRENW: Period '1mo' is invalid, must be one of ['1d', '5d']\n",
      "PRENW: Period '1mo' is invalid, must be one of ['1d', '5d']\n",
      "PRENW: Period '1mo' is invalid, must be one of ['1d', '5d']\n",
      "PRENW: Period '1mo' is invalid, must be one of ['1d', '5d']\n",
      "PRENW: Period '1mo' is invalid, must be one of ['1d', '5d']\n",
      "PRENW: Period '1mo' is invalid, must be one of ['1d', '5d']\n",
      "PRENW: Period '1mo' is invalid, must be one of ['1d', '5d']\n",
      "/var/folders/77/05l3f4755g34m9yb1kt19stm0000gn/T/ipykernel_41131/295811338.py:16: FutureWarning: The behavior of DataFrame concatenation with empty or all-NA entries is deprecated. In a future version, this will no longer exclude empty or all-NA columns when determining the result dtypes. To retain the old behavior, exclude the relevant entries before the concat operation.\n",
      "  df_target.loc[len(df_target)] = [ticker, ratio_ticker]\n",
      "PROCW: Period '1mo' is invalid, must be one of ['1d', '5d']\n",
      "PROCW: Period '1mo' is invalid, must be one of ['1d', '5d']\n",
      "PROCW: Period '1mo' is invalid, must be one of ['1d', '5d']\n",
      "PROCW: Period '1mo' is invalid, must be one of ['1d', '5d']\n",
      "PROCW: Period '1mo' is invalid, must be one of ['1d', '5d']\n",
      "PROCW: Period '1mo' is invalid, must be one of ['1d', '5d']\n",
      "PROCW: Period '1mo' is invalid, must be one of ['1d', '5d']\n",
      "PROCW: Period '1mo' is invalid, must be one of ['1d', '5d']\n",
      "/var/folders/77/05l3f4755g34m9yb1kt19stm0000gn/T/ipykernel_41131/295811338.py:16: FutureWarning: The behavior of DataFrame concatenation with empty or all-NA entries is deprecated. In a future version, this will no longer exclude empty or all-NA columns when determining the result dtypes. To retain the old behavior, exclude the relevant entries before the concat operation.\n",
      "  df_target.loc[len(df_target)] = [ticker, ratio_ticker]\n",
      "PRSTW: Period '1mo' is invalid, must be one of ['1d', '5d']\n",
      "PRSTW: Period '1mo' is invalid, must be one of ['1d', '5d']\n",
      "PRSTW: Period '1mo' is invalid, must be one of ['1d', '5d']\n",
      "PRSTW: Period '1mo' is invalid, must be one of ['1d', '5d']\n",
      "PRSTW: Period '1mo' is invalid, must be one of ['1d', '5d']\n",
      "PRSTW: Period '1mo' is invalid, must be one of ['1d', '5d']\n",
      "PRSTW: Period '1mo' is invalid, must be one of ['1d', '5d']\n",
      "PRSTW: Period '1mo' is invalid, must be one of ['1d', '5d']\n",
      "/var/folders/77/05l3f4755g34m9yb1kt19stm0000gn/T/ipykernel_41131/295811338.py:16: FutureWarning: The behavior of DataFrame concatenation with empty or all-NA entries is deprecated. In a future version, this will no longer exclude empty or all-NA columns when determining the result dtypes. To retain the old behavior, exclude the relevant entries before the concat operation.\n",
      "  df_target.loc[len(df_target)] = [ticker, ratio_ticker]\n",
      "PRZO: Data doesn't exist for startDate = 1684296000, endDate = 1684900800\n",
      "PRZO: Data doesn't exist for startDate = 1684296000, endDate = 1684382400\n",
      "PRZO: Data doesn't exist for startDate = 1684382400, endDate = 1684468800\n",
      "PRZO: Data doesn't exist for startDate = 1684468800, endDate = 1684555200\n",
      "PRZO: Data doesn't exist for startDate = 1684555200, endDate = 1684641600\n",
      "PRZO: Data doesn't exist for startDate = 1684641600, endDate = 1684728000\n",
      "PRZO: Data doesn't exist for startDate = 1684728000, endDate = 1684814400\n",
      "PRZO: Data doesn't exist for startDate = 1684814400, endDate = 1684900800\n",
      "/var/folders/77/05l3f4755g34m9yb1kt19stm0000gn/T/ipykernel_41131/295811338.py:16: FutureWarning: The behavior of DataFrame concatenation with empty or all-NA entries is deprecated. In a future version, this will no longer exclude empty or all-NA columns when determining the result dtypes. To retain the old behavior, exclude the relevant entries before the concat operation.\n",
      "  df_target.loc[len(df_target)] = [ticker, ratio_ticker]\n"
     ]
    },
    {
     "name": "stdout",
     "output_type": "stream",
     "text": [
      "get_stock_value_ratio : Error processing ticker PRZO: unsupported operand type(s) for /: 'float' and 'NoneType'\n"
     ]
    },
    {
     "name": "stderr",
     "output_type": "stream",
     "text": [
      "PSBD: Data doesn't exist for startDate = 1684296000, endDate = 1684900800\n",
      "PSBD: Data doesn't exist for startDate = 1684296000, endDate = 1684382400\n",
      "PSBD: Data doesn't exist for startDate = 1684382400, endDate = 1684468800\n",
      "PSBD: Data doesn't exist for startDate = 1684468800, endDate = 1684555200\n",
      "PSBD: Data doesn't exist for startDate = 1684555200, endDate = 1684641600\n",
      "PSBD: Data doesn't exist for startDate = 1684641600, endDate = 1684728000\n",
      "PSBD: Data doesn't exist for startDate = 1684728000, endDate = 1684814400\n",
      "PSBD: Data doesn't exist for startDate = 1684814400, endDate = 1684900800\n",
      "/var/folders/77/05l3f4755g34m9yb1kt19stm0000gn/T/ipykernel_41131/295811338.py:16: FutureWarning: The behavior of DataFrame concatenation with empty or all-NA entries is deprecated. In a future version, this will no longer exclude empty or all-NA columns when determining the result dtypes. To retain the old behavior, exclude the relevant entries before the concat operation.\n",
      "  df_target.loc[len(df_target)] = [ticker, ratio_ticker]\n"
     ]
    },
    {
     "name": "stdout",
     "output_type": "stream",
     "text": [
      "get_stock_value_ratio : Error processing ticker PSBD: unsupported operand type(s) for /: 'float' and 'NoneType'\n"
     ]
    },
    {
     "name": "stderr",
     "output_type": "stream",
     "text": [
      "PTIXW: Period '1mo' is invalid, must be one of ['1d', '5d']\n",
      "PTIXW: Period '1mo' is invalid, must be one of ['1d', '5d']\n",
      "PTIXW: Period '1mo' is invalid, must be one of ['1d', '5d']\n",
      "PTIXW: Period '1mo' is invalid, must be one of ['1d', '5d']\n",
      "PTIXW: Period '1mo' is invalid, must be one of ['1d', '5d']\n",
      "PTIXW: Period '1mo' is invalid, must be one of ['1d', '5d']\n",
      "PTIXW: Period '1mo' is invalid, must be one of ['1d', '5d']\n",
      "PTIXW: Period '1mo' is invalid, must be one of ['1d', '5d']\n",
      "/var/folders/77/05l3f4755g34m9yb1kt19stm0000gn/T/ipykernel_41131/295811338.py:16: FutureWarning: The behavior of DataFrame concatenation with empty or all-NA entries is deprecated. In a future version, this will no longer exclude empty or all-NA columns when determining the result dtypes. To retain the old behavior, exclude the relevant entries before the concat operation.\n",
      "  df_target.loc[len(df_target)] = [ticker, ratio_ticker]\n",
      "PTWOW: Period '1mo' is invalid, must be one of ['1d', '5d']\n",
      "PTWOW: Period '1mo' is invalid, must be one of ['1d', '5d']\n",
      "PTWOW: Period '1mo' is invalid, must be one of ['1d', '5d']\n",
      "PTWOW: Period '1mo' is invalid, must be one of ['1d', '5d']\n",
      "PTWOW: Period '1mo' is invalid, must be one of ['1d', '5d']\n",
      "PTWOW: Period '1mo' is invalid, must be one of ['1d', '5d']\n",
      "PTWOW: Period '1mo' is invalid, must be one of ['1d', '5d']\n",
      "PTWOW: Period '1mo' is invalid, must be one of ['1d', '5d']\n",
      "/var/folders/77/05l3f4755g34m9yb1kt19stm0000gn/T/ipykernel_41131/295811338.py:16: FutureWarning: The behavior of DataFrame concatenation with empty or all-NA entries is deprecated. In a future version, this will no longer exclude empty or all-NA columns when determining the result dtypes. To retain the old behavior, exclude the relevant entries before the concat operation.\n",
      "  df_target.loc[len(df_target)] = [ticker, ratio_ticker]\n",
      "PWM: Data doesn't exist for startDate = 1684296000, endDate = 1684900800\n",
      "PWM: Data doesn't exist for startDate = 1684296000, endDate = 1684382400\n",
      "PWM: Data doesn't exist for startDate = 1684382400, endDate = 1684468800\n",
      "PWM: Data doesn't exist for startDate = 1684468800, endDate = 1684555200\n",
      "PWM: Data doesn't exist for startDate = 1684555200, endDate = 1684641600\n",
      "PWM: Data doesn't exist for startDate = 1684641600, endDate = 1684728000\n",
      "PWM: Data doesn't exist for startDate = 1684728000, endDate = 1684814400\n",
      "PWM: Data doesn't exist for startDate = 1684814400, endDate = 1684900800\n",
      "/var/folders/77/05l3f4755g34m9yb1kt19stm0000gn/T/ipykernel_41131/295811338.py:16: FutureWarning: The behavior of DataFrame concatenation with empty or all-NA entries is deprecated. In a future version, this will no longer exclude empty or all-NA columns when determining the result dtypes. To retain the old behavior, exclude the relevant entries before the concat operation.\n",
      "  df_target.loc[len(df_target)] = [ticker, ratio_ticker]\n"
     ]
    },
    {
     "name": "stdout",
     "output_type": "stream",
     "text": [
      "get_stock_value_ratio : Error processing ticker PWM: unsupported operand type(s) for /: 'float' and 'NoneType'\n"
     ]
    },
    {
     "name": "stderr",
     "output_type": "stream",
     "text": [
      "PXDT: Data doesn't exist for startDate = 1684296000, endDate = 1684900800\n",
      "PXDT: Data doesn't exist for startDate = 1684296000, endDate = 1684382400\n",
      "PXDT: Data doesn't exist for startDate = 1684382400, endDate = 1684468800\n",
      "PXDT: Data doesn't exist for startDate = 1684468800, endDate = 1684555200\n",
      "PXDT: Data doesn't exist for startDate = 1684555200, endDate = 1684641600\n",
      "PXDT: Data doesn't exist for startDate = 1684641600, endDate = 1684728000\n",
      "PXDT: Data doesn't exist for startDate = 1684728000, endDate = 1684814400\n",
      "PXDT: Data doesn't exist for startDate = 1684814400, endDate = 1684900800\n",
      "/var/folders/77/05l3f4755g34m9yb1kt19stm0000gn/T/ipykernel_41131/295811338.py:16: FutureWarning: The behavior of DataFrame concatenation with empty or all-NA entries is deprecated. In a future version, this will no longer exclude empty or all-NA columns when determining the result dtypes. To retain the old behavior, exclude the relevant entries before the concat operation.\n",
      "  df_target.loc[len(df_target)] = [ticker, ratio_ticker]\n"
     ]
    },
    {
     "name": "stdout",
     "output_type": "stream",
     "text": [
      "get_stock_value_ratio : Error processing ticker PXDT: unsupported operand type(s) for /: 'float' and 'NoneType'\n"
     ]
    },
    {
     "name": "stderr",
     "output_type": "stream",
     "text": [
      "PXSAW: Period '1mo' is invalid, must be one of ['1d', '5d']\n",
      "PXSAW: Period '1mo' is invalid, must be one of ['1d', '5d']\n",
      "PXSAW: Period '1mo' is invalid, must be one of ['1d', '5d']\n",
      "PXSAW: Period '1mo' is invalid, must be one of ['1d', '5d']\n",
      "PXSAW: Period '1mo' is invalid, must be one of ['1d', '5d']\n",
      "PXSAW: Period '1mo' is invalid, must be one of ['1d', '5d']\n",
      "PXSAW: Period '1mo' is invalid, must be one of ['1d', '5d']\n",
      "PXSAW: Period '1mo' is invalid, must be one of ['1d', '5d']\n",
      "/var/folders/77/05l3f4755g34m9yb1kt19stm0000gn/T/ipykernel_41131/295811338.py:16: FutureWarning: The behavior of DataFrame concatenation with empty or all-NA entries is deprecated. In a future version, this will no longer exclude empty or all-NA columns when determining the result dtypes. To retain the old behavior, exclude the relevant entries before the concat operation.\n",
      "  df_target.loc[len(df_target)] = [ticker, ratio_ticker]\n",
      "QSIAW: Period '1mo' is invalid, must be one of ['1d', '5d']\n",
      "QSIAW: Period '1mo' is invalid, must be one of ['1d', '5d']\n",
      "QSIAW: Period '1mo' is invalid, must be one of ['1d', '5d']\n",
      "QSIAW: Period '1mo' is invalid, must be one of ['1d', '5d']\n",
      "QSIAW: Period '1mo' is invalid, must be one of ['1d', '5d']\n",
      "QSIAW: Period '1mo' is invalid, must be one of ['1d', '5d']\n",
      "QSIAW: Period '1mo' is invalid, must be one of ['1d', '5d']\n",
      "QSIAW: Period '1mo' is invalid, must be one of ['1d', '5d']\n",
      "/var/folders/77/05l3f4755g34m9yb1kt19stm0000gn/T/ipykernel_41131/295811338.py:16: FutureWarning: The behavior of DataFrame concatenation with empty or all-NA entries is deprecated. In a future version, this will no longer exclude empty or all-NA columns when determining the result dtypes. To retain the old behavior, exclude the relevant entries before the concat operation.\n",
      "  df_target.loc[len(df_target)] = [ticker, ratio_ticker]\n",
      "RAY: Data doesn't exist for startDate = 1684296000, endDate = 1684900800\n",
      "RAY: Data doesn't exist for startDate = 1684296000, endDate = 1684382400\n",
      "RAY: Data doesn't exist for startDate = 1684382400, endDate = 1684468800\n",
      "RAY: Data doesn't exist for startDate = 1684468800, endDate = 1684555200\n",
      "RAY: Data doesn't exist for startDate = 1684555200, endDate = 1684641600\n",
      "RAY: Data doesn't exist for startDate = 1684641600, endDate = 1684728000\n",
      "RAY: Data doesn't exist for startDate = 1684728000, endDate = 1684814400\n",
      "RAY: Data doesn't exist for startDate = 1684814400, endDate = 1684900800\n",
      "/var/folders/77/05l3f4755g34m9yb1kt19stm0000gn/T/ipykernel_41131/295811338.py:16: FutureWarning: The behavior of DataFrame concatenation with empty or all-NA entries is deprecated. In a future version, this will no longer exclude empty or all-NA columns when determining the result dtypes. To retain the old behavior, exclude the relevant entries before the concat operation.\n",
      "  df_target.loc[len(df_target)] = [ticker, ratio_ticker]\n"
     ]
    },
    {
     "name": "stdout",
     "output_type": "stream",
     "text": [
      "get_stock_value_ratio : Error processing ticker RAY: unsupported operand type(s) for /: 'float' and 'NoneType'\n"
     ]
    },
    {
     "name": "stderr",
     "output_type": "stream",
     "text": [
      "RCKTW: Period '1mo' is invalid, must be one of ['1d', '5d']\n",
      "RCKTW: Period '1mo' is invalid, must be one of ['1d', '5d']\n",
      "RCKTW: Period '1mo' is invalid, must be one of ['1d', '5d']\n",
      "RCKTW: Period '1mo' is invalid, must be one of ['1d', '5d']\n",
      "RCKTW: Period '1mo' is invalid, must be one of ['1d', '5d']\n",
      "RCKTW: Period '1mo' is invalid, must be one of ['1d', '5d']\n",
      "RCKTW: Period '1mo' is invalid, must be one of ['1d', '5d']\n",
      "RCKTW: Period '1mo' is invalid, must be one of ['1d', '5d']\n",
      "/var/folders/77/05l3f4755g34m9yb1kt19stm0000gn/T/ipykernel_41131/295811338.py:16: FutureWarning: The behavior of DataFrame concatenation with empty or all-NA entries is deprecated. In a future version, this will no longer exclude empty or all-NA columns when determining the result dtypes. To retain the old behavior, exclude the relevant entries before the concat operation.\n",
      "  df_target.loc[len(df_target)] = [ticker, ratio_ticker]\n",
      "RCRTW: Period '1mo' is invalid, must be one of ['1d', '5d']\n",
      "RCRTW: Period '1mo' is invalid, must be one of ['1d', '5d']\n",
      "RCRTW: Period '1mo' is invalid, must be one of ['1d', '5d']\n",
      "RCRTW: Period '1mo' is invalid, must be one of ['1d', '5d']\n",
      "RCRTW: Period '1mo' is invalid, must be one of ['1d', '5d']\n",
      "RCRTW: Period '1mo' is invalid, must be one of ['1d', '5d']\n",
      "RCRTW: Period '1mo' is invalid, must be one of ['1d', '5d']\n",
      "RCRTW: Period '1mo' is invalid, must be one of ['1d', '5d']\n",
      "/var/folders/77/05l3f4755g34m9yb1kt19stm0000gn/T/ipykernel_41131/295811338.py:16: FutureWarning: The behavior of DataFrame concatenation with empty or all-NA entries is deprecated. In a future version, this will no longer exclude empty or all-NA columns when determining the result dtypes. To retain the old behavior, exclude the relevant entries before the concat operation.\n",
      "  df_target.loc[len(df_target)] = [ticker, ratio_ticker]\n",
      "RDDT: Data doesn't exist for startDate = 1684296000, endDate = 1684900800\n",
      "RDDT: Data doesn't exist for startDate = 1684296000, endDate = 1684382400\n",
      "RDDT: Data doesn't exist for startDate = 1684382400, endDate = 1684468800\n",
      "RDDT: Data doesn't exist for startDate = 1684468800, endDate = 1684555200\n",
      "RDDT: Data doesn't exist for startDate = 1684555200, endDate = 1684641600\n",
      "RDDT: Data doesn't exist for startDate = 1684641600, endDate = 1684728000\n",
      "RDDT: Data doesn't exist for startDate = 1684728000, endDate = 1684814400\n",
      "RDDT: Data doesn't exist for startDate = 1684814400, endDate = 1684900800\n",
      "/var/folders/77/05l3f4755g34m9yb1kt19stm0000gn/T/ipykernel_41131/295811338.py:16: FutureWarning: The behavior of DataFrame concatenation with empty or all-NA entries is deprecated. In a future version, this will no longer exclude empty or all-NA columns when determining the result dtypes. To retain the old behavior, exclude the relevant entries before the concat operation.\n",
      "  df_target.loc[len(df_target)] = [ticker, ratio_ticker]\n"
     ]
    },
    {
     "name": "stdout",
     "output_type": "stream",
     "text": [
      "get_stock_value_ratio : Error processing ticker RDDT: unsupported operand type(s) for /: 'float' and 'NoneType'\n"
     ]
    },
    {
     "name": "stderr",
     "output_type": "stream",
     "text": [
      "RDZNW: Period '1mo' is invalid, must be one of ['1d', '5d']\n",
      "RDZNW: Period '1mo' is invalid, must be one of ['1d', '5d']\n",
      "RDZNW: Period '1mo' is invalid, must be one of ['1d', '5d']\n",
      "RDZNW: Period '1mo' is invalid, must be one of ['1d', '5d']\n",
      "RDZNW: Period '1mo' is invalid, must be one of ['1d', '5d']\n",
      "RDZNW: Period '1mo' is invalid, must be one of ['1d', '5d']\n",
      "RDZNW: Period '1mo' is invalid, must be one of ['1d', '5d']\n",
      "RDZNW: Period '1mo' is invalid, must be one of ['1d', '5d']\n",
      "/var/folders/77/05l3f4755g34m9yb1kt19stm0000gn/T/ipykernel_41131/295811338.py:16: FutureWarning: The behavior of DataFrame concatenation with empty or all-NA entries is deprecated. In a future version, this will no longer exclude empty or all-NA columns when determining the result dtypes. To retain the old behavior, exclude the relevant entries before the concat operation.\n",
      "  df_target.loc[len(df_target)] = [ticker, ratio_ticker]\n",
      "REGCO: Data doesn't exist for startDate = 1684296000, endDate = 1684900800\n",
      "REGCO: Data doesn't exist for startDate = 1684296000, endDate = 1684382400\n",
      "REGCO: Data doesn't exist for startDate = 1684382400, endDate = 1684468800\n",
      "REGCO: Data doesn't exist for startDate = 1684468800, endDate = 1684555200\n",
      "REGCO: Data doesn't exist for startDate = 1684555200, endDate = 1684641600\n",
      "REGCO: Data doesn't exist for startDate = 1684641600, endDate = 1684728000\n",
      "REGCO: Data doesn't exist for startDate = 1684728000, endDate = 1684814400\n",
      "REGCO: Data doesn't exist for startDate = 1684814400, endDate = 1684900800\n",
      "/var/folders/77/05l3f4755g34m9yb1kt19stm0000gn/T/ipykernel_41131/295811338.py:16: FutureWarning: The behavior of DataFrame concatenation with empty or all-NA entries is deprecated. In a future version, this will no longer exclude empty or all-NA columns when determining the result dtypes. To retain the old behavior, exclude the relevant entries before the concat operation.\n",
      "  df_target.loc[len(df_target)] = [ticker, ratio_ticker]\n"
     ]
    },
    {
     "name": "stdout",
     "output_type": "stream",
     "text": [
      "get_stock_value_ratio : Error processing ticker REGCO: unsupported operand type(s) for /: 'float' and 'NoneType'\n"
     ]
    },
    {
     "name": "stderr",
     "output_type": "stream",
     "text": [
      "REGCP: Data doesn't exist for startDate = 1684296000, endDate = 1684900800\n",
      "REGCP: Data doesn't exist for startDate = 1684296000, endDate = 1684382400\n",
      "REGCP: Data doesn't exist for startDate = 1684382400, endDate = 1684468800\n",
      "REGCP: Data doesn't exist for startDate = 1684468800, endDate = 1684555200\n",
      "REGCP: Data doesn't exist for startDate = 1684555200, endDate = 1684641600\n",
      "REGCP: Data doesn't exist for startDate = 1684641600, endDate = 1684728000\n",
      "REGCP: Data doesn't exist for startDate = 1684728000, endDate = 1684814400\n",
      "REGCP: Data doesn't exist for startDate = 1684814400, endDate = 1684900800\n",
      "/var/folders/77/05l3f4755g34m9yb1kt19stm0000gn/T/ipykernel_41131/295811338.py:16: FutureWarning: The behavior of DataFrame concatenation with empty or all-NA entries is deprecated. In a future version, this will no longer exclude empty or all-NA columns when determining the result dtypes. To retain the old behavior, exclude the relevant entries before the concat operation.\n",
      "  df_target.loc[len(df_target)] = [ticker, ratio_ticker]\n"
     ]
    },
    {
     "name": "stdout",
     "output_type": "stream",
     "text": [
      "get_stock_value_ratio : Error processing ticker REGCP: unsupported operand type(s) for /: 'float' and 'NoneType'\n"
     ]
    },
    {
     "name": "stderr",
     "output_type": "stream",
     "text": [
      "RELIW: Period '1mo' is invalid, must be one of ['1d', '5d']\n",
      "RELIW: Period '1mo' is invalid, must be one of ['1d', '5d']\n",
      "RELIW: Period '1mo' is invalid, must be one of ['1d', '5d']\n",
      "RELIW: Period '1mo' is invalid, must be one of ['1d', '5d']\n",
      "RELIW: Period '1mo' is invalid, must be one of ['1d', '5d']\n",
      "RELIW: Period '1mo' is invalid, must be one of ['1d', '5d']\n",
      "RELIW: Period '1mo' is invalid, must be one of ['1d', '5d']\n",
      "RELIW: Period '1mo' is invalid, must be one of ['1d', '5d']\n",
      "/var/folders/77/05l3f4755g34m9yb1kt19stm0000gn/T/ipykernel_41131/295811338.py:16: FutureWarning: The behavior of DataFrame concatenation with empty or all-NA entries is deprecated. In a future version, this will no longer exclude empty or all-NA columns when determining the result dtypes. To retain the old behavior, exclude the relevant entries before the concat operation.\n",
      "  df_target.loc[len(df_target)] = [ticker, ratio_ticker]\n",
      "RGTIW: Period '1mo' is invalid, must be one of ['1d', '5d']\n",
      "RGTIW: Period '1mo' is invalid, must be one of ['1d', '5d']\n",
      "RGTIW: Period '1mo' is invalid, must be one of ['1d', '5d']\n",
      "RGTIW: Period '1mo' is invalid, must be one of ['1d', '5d']\n",
      "RGTIW: Period '1mo' is invalid, must be one of ['1d', '5d']\n",
      "RGTIW: Period '1mo' is invalid, must be one of ['1d', '5d']\n",
      "RGTIW: Period '1mo' is invalid, must be one of ['1d', '5d']\n",
      "RGTIW: Period '1mo' is invalid, must be one of ['1d', '5d']\n",
      "/var/folders/77/05l3f4755g34m9yb1kt19stm0000gn/T/ipykernel_41131/295811338.py:16: FutureWarning: The behavior of DataFrame concatenation with empty or all-NA entries is deprecated. In a future version, this will no longer exclude empty or all-NA columns when determining the result dtypes. To retain the old behavior, exclude the relevant entries before the concat operation.\n",
      "  df_target.loc[len(df_target)] = [ticker, ratio_ticker]\n",
      "RMCOW: Period '1mo' is invalid, must be one of ['1d', '5d']\n",
      "RMCOW: Period '1mo' is invalid, must be one of ['1d', '5d']\n",
      "RMCOW: Period '1mo' is invalid, must be one of ['1d', '5d']\n",
      "RMCOW: Period '1mo' is invalid, must be one of ['1d', '5d']\n",
      "RMCOW: Period '1mo' is invalid, must be one of ['1d', '5d']\n",
      "RMCOW: Period '1mo' is invalid, must be one of ['1d', '5d']\n",
      "RMCOW: Period '1mo' is invalid, must be one of ['1d', '5d']\n",
      "RMCOW: Period '1mo' is invalid, must be one of ['1d', '5d']\n",
      "/var/folders/77/05l3f4755g34m9yb1kt19stm0000gn/T/ipykernel_41131/295811338.py:16: FutureWarning: The behavior of DataFrame concatenation with empty or all-NA entries is deprecated. In a future version, this will no longer exclude empty or all-NA columns when determining the result dtypes. To retain the old behavior, exclude the relevant entries before the concat operation.\n",
      "  df_target.loc[len(df_target)] = [ticker, ratio_ticker]\n",
      "ROCLW: Period '1mo' is invalid, must be one of ['1d', '5d']\n",
      "ROCLW: Period '1mo' is invalid, must be one of ['1d', '5d']\n",
      "ROCLW: Period '1mo' is invalid, must be one of ['1d', '5d']\n",
      "ROCLW: Period '1mo' is invalid, must be one of ['1d', '5d']\n",
      "ROCLW: Period '1mo' is invalid, must be one of ['1d', '5d']\n",
      "ROCLW: Period '1mo' is invalid, must be one of ['1d', '5d']\n",
      "ROCLW: Period '1mo' is invalid, must be one of ['1d', '5d']\n",
      "ROCLW: Period '1mo' is invalid, must be one of ['1d', '5d']\n",
      "/var/folders/77/05l3f4755g34m9yb1kt19stm0000gn/T/ipykernel_41131/295811338.py:16: FutureWarning: The behavior of DataFrame concatenation with empty or all-NA entries is deprecated. In a future version, this will no longer exclude empty or all-NA columns when determining the result dtypes. To retain the old behavior, exclude the relevant entries before the concat operation.\n",
      "  df_target.loc[len(df_target)] = [ticker, ratio_ticker]\n",
      "ROMA: Data doesn't exist for startDate = 1684296000, endDate = 1684900800\n",
      "ROMA: Data doesn't exist for startDate = 1684296000, endDate = 1684382400\n",
      "ROMA: Data doesn't exist for startDate = 1684382400, endDate = 1684468800\n",
      "ROMA: Data doesn't exist for startDate = 1684468800, endDate = 1684555200\n",
      "ROMA: Data doesn't exist for startDate = 1684555200, endDate = 1684641600\n",
      "ROMA: Data doesn't exist for startDate = 1684641600, endDate = 1684728000\n",
      "ROMA: Data doesn't exist for startDate = 1684728000, endDate = 1684814400\n",
      "ROMA: Data doesn't exist for startDate = 1684814400, endDate = 1684900800\n",
      "/var/folders/77/05l3f4755g34m9yb1kt19stm0000gn/T/ipykernel_41131/295811338.py:16: FutureWarning: The behavior of DataFrame concatenation with empty or all-NA entries is deprecated. In a future version, this will no longer exclude empty or all-NA columns when determining the result dtypes. To retain the old behavior, exclude the relevant entries before the concat operation.\n",
      "  df_target.loc[len(df_target)] = [ticker, ratio_ticker]\n"
     ]
    },
    {
     "name": "stdout",
     "output_type": "stream",
     "text": [
      "get_stock_value_ratio : Error processing ticker ROMA: unsupported operand type(s) for /: 'float' and 'NoneType'\n"
     ]
    },
    {
     "name": "stderr",
     "output_type": "stream",
     "text": [
      "RR: Data doesn't exist for startDate = 1684296000, endDate = 1684900800\n",
      "RR: Data doesn't exist for startDate = 1684296000, endDate = 1684382400\n",
      "RR: Data doesn't exist for startDate = 1684382400, endDate = 1684468800\n",
      "RR: Data doesn't exist for startDate = 1684468800, endDate = 1684555200\n",
      "RR: Data doesn't exist for startDate = 1684555200, endDate = 1684641600\n",
      "RR: Data doesn't exist for startDate = 1684641600, endDate = 1684728000\n",
      "RR: Data doesn't exist for startDate = 1684728000, endDate = 1684814400\n",
      "RR: Data doesn't exist for startDate = 1684814400, endDate = 1684900800\n",
      "/var/folders/77/05l3f4755g34m9yb1kt19stm0000gn/T/ipykernel_41131/295811338.py:16: FutureWarning: The behavior of DataFrame concatenation with empty or all-NA entries is deprecated. In a future version, this will no longer exclude empty or all-NA columns when determining the result dtypes. To retain the old behavior, exclude the relevant entries before the concat operation.\n",
      "  df_target.loc[len(df_target)] = [ticker, ratio_ticker]\n"
     ]
    },
    {
     "name": "stdout",
     "output_type": "stream",
     "text": [
      "get_stock_value_ratio : Error processing ticker RR: unsupported operand type(s) for /: 'float' and 'NoneType'\n"
     ]
    },
    {
     "name": "stderr",
     "output_type": "stream",
     "text": [
      "RUMBW: Period '1mo' is invalid, must be one of ['1d', '5d']\n",
      "RUMBW: Period '1mo' is invalid, must be one of ['1d', '5d']\n",
      "RUMBW: Period '1mo' is invalid, must be one of ['1d', '5d']\n",
      "RUMBW: Period '1mo' is invalid, must be one of ['1d', '5d']\n",
      "RUMBW: Period '1mo' is invalid, must be one of ['1d', '5d']\n",
      "RUMBW: Period '1mo' is invalid, must be one of ['1d', '5d']\n",
      "RUMBW: Period '1mo' is invalid, must be one of ['1d', '5d']\n",
      "RUMBW: Period '1mo' is invalid, must be one of ['1d', '5d']\n",
      "/var/folders/77/05l3f4755g34m9yb1kt19stm0000gn/T/ipykernel_41131/295811338.py:16: FutureWarning: The behavior of DataFrame concatenation with empty or all-NA entries is deprecated. In a future version, this will no longer exclude empty or all-NA columns when determining the result dtypes. To retain the old behavior, exclude the relevant entries before the concat operation.\n",
      "  df_target.loc[len(df_target)] = [ticker, ratio_ticker]\n",
      "RVMDW: Period '1mo' is invalid, must be one of ['1d', '5d']\n",
      "RVMDW: Period '1mo' is invalid, must be one of ['1d', '5d']\n",
      "RVMDW: Period '1mo' is invalid, must be one of ['1d', '5d']\n",
      "RVMDW: Period '1mo' is invalid, must be one of ['1d', '5d']\n",
      "RVMDW: Period '1mo' is invalid, must be one of ['1d', '5d']\n",
      "RVMDW: Period '1mo' is invalid, must be one of ['1d', '5d']\n",
      "RVMDW: Period '1mo' is invalid, must be one of ['1d', '5d']\n",
      "RVMDW: Period '1mo' is invalid, must be one of ['1d', '5d']\n",
      "/var/folders/77/05l3f4755g34m9yb1kt19stm0000gn/T/ipykernel_41131/295811338.py:16: FutureWarning: The behavior of DataFrame concatenation with empty or all-NA entries is deprecated. In a future version, this will no longer exclude empty or all-NA columns when determining the result dtypes. To retain the old behavior, exclude the relevant entries before the concat operation.\n",
      "  df_target.loc[len(df_target)] = [ticker, ratio_ticker]\n",
      "RVPHW: Period '1mo' is invalid, must be one of ['1d', '5d']\n",
      "RVPHW: Period '1mo' is invalid, must be one of ['1d', '5d']\n",
      "RVPHW: Period '1mo' is invalid, must be one of ['1d', '5d']\n",
      "RVPHW: Period '1mo' is invalid, must be one of ['1d', '5d']\n",
      "RVPHW: Period '1mo' is invalid, must be one of ['1d', '5d']\n",
      "RVPHW: Period '1mo' is invalid, must be one of ['1d', '5d']\n",
      "RVPHW: Period '1mo' is invalid, must be one of ['1d', '5d']\n",
      "RVPHW: Period '1mo' is invalid, must be one of ['1d', '5d']\n",
      "/var/folders/77/05l3f4755g34m9yb1kt19stm0000gn/T/ipykernel_41131/295811338.py:16: FutureWarning: The behavior of DataFrame concatenation with empty or all-NA entries is deprecated. In a future version, this will no longer exclude empty or all-NA columns when determining the result dtypes. To retain the old behavior, exclude the relevant entries before the concat operation.\n",
      "  df_target.loc[len(df_target)] = [ticker, ratio_ticker]\n",
      "RVSNW: Period '1mo' is invalid, must be one of ['1d', '5d']\n",
      "RVSNW: Period '1mo' is invalid, must be one of ['1d', '5d']\n",
      "RVSNW: Period '1mo' is invalid, must be one of ['1d', '5d']\n",
      "RVSNW: Period '1mo' is invalid, must be one of ['1d', '5d']\n",
      "RVSNW: Period '1mo' is invalid, must be one of ['1d', '5d']\n",
      "RVSNW: Period '1mo' is invalid, must be one of ['1d', '5d']\n",
      "RVSNW: Period '1mo' is invalid, must be one of ['1d', '5d']\n",
      "RVSNW: Period '1mo' is invalid, must be one of ['1d', '5d']\n",
      "/var/folders/77/05l3f4755g34m9yb1kt19stm0000gn/T/ipykernel_41131/295811338.py:16: FutureWarning: The behavior of DataFrame concatenation with empty or all-NA entries is deprecated. In a future version, this will no longer exclude empty or all-NA columns when determining the result dtypes. To retain the old behavior, exclude the relevant entries before the concat operation.\n",
      "  df_target.loc[len(df_target)] = [ticker, ratio_ticker]\n",
      "RWODW: Period '1mo' is invalid, must be one of ['1d', '5d']\n",
      "RWODW: Period '1mo' is invalid, must be one of ['1d', '5d']\n",
      "RWODW: Period '1mo' is invalid, must be one of ['1d', '5d']\n",
      "RWODW: Period '1mo' is invalid, must be one of ['1d', '5d']\n",
      "RWODW: Period '1mo' is invalid, must be one of ['1d', '5d']\n",
      "RWODW: Period '1mo' is invalid, must be one of ['1d', '5d']\n",
      "RWODW: Period '1mo' is invalid, must be one of ['1d', '5d']\n",
      "RWODW: Period '1mo' is invalid, must be one of ['1d', '5d']\n",
      "/var/folders/77/05l3f4755g34m9yb1kt19stm0000gn/T/ipykernel_41131/295811338.py:16: FutureWarning: The behavior of DataFrame concatenation with empty or all-NA entries is deprecated. In a future version, this will no longer exclude empty or all-NA columns when determining the result dtypes. To retain the old behavior, exclude the relevant entries before the concat operation.\n",
      "  df_target.loc[len(df_target)] = [ticker, ratio_ticker]\n",
      "RYDE: Data doesn't exist for startDate = 1684296000, endDate = 1684900800\n",
      "RYDE: Data doesn't exist for startDate = 1684296000, endDate = 1684382400\n",
      "RYDE: Data doesn't exist for startDate = 1684382400, endDate = 1684468800\n",
      "RYDE: Data doesn't exist for startDate = 1684468800, endDate = 1684555200\n",
      "RYDE: Data doesn't exist for startDate = 1684555200, endDate = 1684641600\n",
      "RYDE: Data doesn't exist for startDate = 1684641600, endDate = 1684728000\n",
      "RYDE: Data doesn't exist for startDate = 1684728000, endDate = 1684814400\n",
      "RYDE: Data doesn't exist for startDate = 1684814400, endDate = 1684900800\n",
      "/var/folders/77/05l3f4755g34m9yb1kt19stm0000gn/T/ipykernel_41131/295811338.py:16: FutureWarning: The behavior of DataFrame concatenation with empty or all-NA entries is deprecated. In a future version, this will no longer exclude empty or all-NA columns when determining the result dtypes. To retain the old behavior, exclude the relevant entries before the concat operation.\n",
      "  df_target.loc[len(df_target)] = [ticker, ratio_ticker]\n"
     ]
    },
    {
     "name": "stdout",
     "output_type": "stream",
     "text": [
      "get_stock_value_ratio : Error processing ticker RYDE: unsupported operand type(s) for /: 'float' and 'NoneType'\n"
     ]
    },
    {
     "name": "stderr",
     "output_type": "stream",
     "text": [
      "SABSW: Period '1mo' is invalid, must be one of ['1d', '5d']\n",
      "SABSW: Period '1mo' is invalid, must be one of ['1d', '5d']\n",
      "SABSW: Period '1mo' is invalid, must be one of ['1d', '5d']\n",
      "SABSW: Period '1mo' is invalid, must be one of ['1d', '5d']\n",
      "SABSW: Period '1mo' is invalid, must be one of ['1d', '5d']\n",
      "SABSW: Period '1mo' is invalid, must be one of ['1d', '5d']\n",
      "SABSW: Period '1mo' is invalid, must be one of ['1d', '5d']\n",
      "SABSW: Period '1mo' is invalid, must be one of ['1d', '5d']\n",
      "/var/folders/77/05l3f4755g34m9yb1kt19stm0000gn/T/ipykernel_41131/295811338.py:16: FutureWarning: The behavior of DataFrame concatenation with empty or all-NA entries is deprecated. In a future version, this will no longer exclude empty or all-NA columns when determining the result dtypes. To retain the old behavior, exclude the relevant entries before the concat operation.\n",
      "  df_target.loc[len(df_target)] = [ticker, ratio_ticker]\n",
      "SAITW: Period '1mo' is invalid, must be one of ['1d', '5d']\n",
      "SAITW: Period '1mo' is invalid, must be one of ['1d', '5d']\n",
      "SAITW: Period '1mo' is invalid, must be one of ['1d', '5d']\n",
      "SAITW: Period '1mo' is invalid, must be one of ['1d', '5d']\n",
      "SAITW: Period '1mo' is invalid, must be one of ['1d', '5d']\n",
      "SAITW: Period '1mo' is invalid, must be one of ['1d', '5d']\n",
      "SAITW: Period '1mo' is invalid, must be one of ['1d', '5d']\n",
      "SAITW: Period '1mo' is invalid, must be one of ['1d', '5d']\n",
      "/var/folders/77/05l3f4755g34m9yb1kt19stm0000gn/T/ipykernel_41131/295811338.py:16: FutureWarning: The behavior of DataFrame concatenation with empty or all-NA entries is deprecated. In a future version, this will no longer exclude empty or all-NA columns when determining the result dtypes. To retain the old behavior, exclude the relevant entries before the concat operation.\n",
      "  df_target.loc[len(df_target)] = [ticker, ratio_ticker]\n",
      "SATLW: Period '1mo' is invalid, must be one of ['1d', '5d']\n",
      "SATLW: Period '1mo' is invalid, must be one of ['1d', '5d']\n",
      "SATLW: Period '1mo' is invalid, must be one of ['1d', '5d']\n",
      "SATLW: Period '1mo' is invalid, must be one of ['1d', '5d']\n",
      "SATLW: Period '1mo' is invalid, must be one of ['1d', '5d']\n",
      "SATLW: Period '1mo' is invalid, must be one of ['1d', '5d']\n",
      "SATLW: Period '1mo' is invalid, must be one of ['1d', '5d']\n",
      "SATLW: Period '1mo' is invalid, must be one of ['1d', '5d']\n",
      "/var/folders/77/05l3f4755g34m9yb1kt19stm0000gn/T/ipykernel_41131/295811338.py:16: FutureWarning: The behavior of DataFrame concatenation with empty or all-NA entries is deprecated. In a future version, this will no longer exclude empty or all-NA columns when determining the result dtypes. To retain the old behavior, exclude the relevant entries before the concat operation.\n",
      "  df_target.loc[len(df_target)] = [ticker, ratio_ticker]\n",
      "SBFMW: Period '1mo' is invalid, must be one of ['1d', '5d']\n",
      "SBFMW: Period '1mo' is invalid, must be one of ['1d', '5d']\n",
      "SBFMW: Period '1mo' is invalid, must be one of ['1d', '5d']\n",
      "SBFMW: Period '1mo' is invalid, must be one of ['1d', '5d']\n",
      "SBFMW: Period '1mo' is invalid, must be one of ['1d', '5d']\n",
      "SBFMW: Period '1mo' is invalid, must be one of ['1d', '5d']\n",
      "SBFMW: Period '1mo' is invalid, must be one of ['1d', '5d']\n",
      "SBFMW: Period '1mo' is invalid, must be one of ['1d', '5d']\n",
      "/var/folders/77/05l3f4755g34m9yb1kt19stm0000gn/T/ipykernel_41131/295811338.py:16: FutureWarning: The behavior of DataFrame concatenation with empty or all-NA entries is deprecated. In a future version, this will no longer exclude empty or all-NA columns when determining the result dtypes. To retain the old behavior, exclude the relevant entries before the concat operation.\n",
      "  df_target.loc[len(df_target)] = [ticker, ratio_ticker]\n",
      "SCLXW: Period '1mo' is invalid, must be one of ['1d', '5d']\n",
      "SCLXW: Period '1mo' is invalid, must be one of ['1d', '5d']\n",
      "SCLXW: Period '1mo' is invalid, must be one of ['1d', '5d']\n",
      "SCLXW: Period '1mo' is invalid, must be one of ['1d', '5d']\n",
      "SCLXW: Period '1mo' is invalid, must be one of ['1d', '5d']\n",
      "SCLXW: Period '1mo' is invalid, must be one of ['1d', '5d']\n",
      "SCLXW: Period '1mo' is invalid, must be one of ['1d', '5d']\n",
      "SCLXW: Period '1mo' is invalid, must be one of ['1d', '5d']\n",
      "/var/folders/77/05l3f4755g34m9yb1kt19stm0000gn/T/ipykernel_41131/295811338.py:16: FutureWarning: The behavior of DataFrame concatenation with empty or all-NA entries is deprecated. In a future version, this will no longer exclude empty or all-NA columns when determining the result dtypes. To retain the old behavior, exclude the relevant entries before the concat operation.\n",
      "  df_target.loc[len(df_target)] = [ticker, ratio_ticker]\n",
      "SDHC: Data doesn't exist for startDate = 1684296000, endDate = 1684900800\n",
      "SDHC: Data doesn't exist for startDate = 1684296000, endDate = 1684382400\n",
      "SDHC: Data doesn't exist for startDate = 1684382400, endDate = 1684468800\n",
      "SDHC: Data doesn't exist for startDate = 1684468800, endDate = 1684555200\n",
      "SDHC: Data doesn't exist for startDate = 1684555200, endDate = 1684641600\n",
      "SDHC: Data doesn't exist for startDate = 1684641600, endDate = 1684728000\n",
      "SDHC: Data doesn't exist for startDate = 1684728000, endDate = 1684814400\n",
      "SDHC: Data doesn't exist for startDate = 1684814400, endDate = 1684900800\n",
      "/var/folders/77/05l3f4755g34m9yb1kt19stm0000gn/T/ipykernel_41131/295811338.py:16: FutureWarning: The behavior of DataFrame concatenation with empty or all-NA entries is deprecated. In a future version, this will no longer exclude empty or all-NA columns when determining the result dtypes. To retain the old behavior, exclude the relevant entries before the concat operation.\n",
      "  df_target.loc[len(df_target)] = [ticker, ratio_ticker]\n"
     ]
    },
    {
     "name": "stdout",
     "output_type": "stream",
     "text": [
      "get_stock_value_ratio : Error processing ticker SDHC: unsupported operand type(s) for /: 'float' and 'NoneType'\n"
     ]
    },
    {
     "name": "stderr",
     "output_type": "stream",
     "text": [
      "SEPAW: Period '1mo' is invalid, must be one of ['1d', '5d']\n",
      "SEPAW: Period '1mo' is invalid, must be one of ['1d', '5d']\n",
      "SEPAW: Period '1mo' is invalid, must be one of ['1d', '5d']\n",
      "SEPAW: Period '1mo' is invalid, must be one of ['1d', '5d']\n",
      "SEPAW: Period '1mo' is invalid, must be one of ['1d', '5d']\n",
      "SEPAW: Period '1mo' is invalid, must be one of ['1d', '5d']\n",
      "SEPAW: Period '1mo' is invalid, must be one of ['1d', '5d']\n",
      "SEPAW: Period '1mo' is invalid, must be one of ['1d', '5d']\n",
      "/var/folders/77/05l3f4755g34m9yb1kt19stm0000gn/T/ipykernel_41131/295811338.py:16: FutureWarning: The behavior of DataFrame concatenation with empty or all-NA entries is deprecated. In a future version, this will no longer exclude empty or all-NA columns when determining the result dtypes. To retain the old behavior, exclude the relevant entries before the concat operation.\n",
      "  df_target.loc[len(df_target)] = [ticker, ratio_ticker]\n",
      "SERV: Data doesn't exist for startDate = 1684296000, endDate = 1684900800\n",
      "SERV: Data doesn't exist for startDate = 1684296000, endDate = 1684382400\n",
      "SERV: Data doesn't exist for startDate = 1684382400, endDate = 1684468800\n",
      "SERV: Data doesn't exist for startDate = 1684468800, endDate = 1684555200\n",
      "SERV: Data doesn't exist for startDate = 1684555200, endDate = 1684641600\n",
      "SERV: Data doesn't exist for startDate = 1684641600, endDate = 1684728000\n",
      "SERV: Data doesn't exist for startDate = 1684728000, endDate = 1684814400\n",
      "SERV: Data doesn't exist for startDate = 1684814400, endDate = 1684900800\n",
      "/var/folders/77/05l3f4755g34m9yb1kt19stm0000gn/T/ipykernel_41131/295811338.py:16: FutureWarning: The behavior of DataFrame concatenation with empty or all-NA entries is deprecated. In a future version, this will no longer exclude empty or all-NA columns when determining the result dtypes. To retain the old behavior, exclude the relevant entries before the concat operation.\n",
      "  df_target.loc[len(df_target)] = [ticker, ratio_ticker]\n"
     ]
    },
    {
     "name": "stdout",
     "output_type": "stream",
     "text": [
      "get_stock_value_ratio : Error processing ticker SERV: unsupported operand type(s) for /: 'float' and 'NoneType'\n"
     ]
    },
    {
     "name": "stderr",
     "output_type": "stream",
     "text": [
      "SEZL: Data doesn't exist for startDate = 1684296000, endDate = 1684900800\n",
      "SEZL: Data doesn't exist for startDate = 1684296000, endDate = 1684382400\n",
      "SEZL: Data doesn't exist for startDate = 1684382400, endDate = 1684468800\n",
      "SEZL: Data doesn't exist for startDate = 1684468800, endDate = 1684555200\n",
      "SEZL: Data doesn't exist for startDate = 1684555200, endDate = 1684641600\n",
      "SEZL: Data doesn't exist for startDate = 1684641600, endDate = 1684728000\n",
      "SEZL: Data doesn't exist for startDate = 1684728000, endDate = 1684814400\n",
      "SEZL: Data doesn't exist for startDate = 1684814400, endDate = 1684900800\n",
      "/var/folders/77/05l3f4755g34m9yb1kt19stm0000gn/T/ipykernel_41131/295811338.py:16: FutureWarning: The behavior of DataFrame concatenation with empty or all-NA entries is deprecated. In a future version, this will no longer exclude empty or all-NA columns when determining the result dtypes. To retain the old behavior, exclude the relevant entries before the concat operation.\n",
      "  df_target.loc[len(df_target)] = [ticker, ratio_ticker]\n"
     ]
    },
    {
     "name": "stdout",
     "output_type": "stream",
     "text": [
      "get_stock_value_ratio : Error processing ticker SEZL: unsupported operand type(s) for /: 'float' and 'NoneType'\n"
     ]
    },
    {
     "name": "stderr",
     "output_type": "stream",
     "text": [
      "SGD: Data doesn't exist for startDate = 1684296000, endDate = 1684900800\n",
      "SGD: Data doesn't exist for startDate = 1684296000, endDate = 1684382400\n",
      "SGD: Data doesn't exist for startDate = 1684382400, endDate = 1684468800\n",
      "SGD: Data doesn't exist for startDate = 1684468800, endDate = 1684555200\n",
      "SGD: Data doesn't exist for startDate = 1684555200, endDate = 1684641600\n",
      "SGD: Data doesn't exist for startDate = 1684641600, endDate = 1684728000\n",
      "SGD: Data doesn't exist for startDate = 1684728000, endDate = 1684814400\n",
      "SGD: Data doesn't exist for startDate = 1684814400, endDate = 1684900800\n",
      "/var/folders/77/05l3f4755g34m9yb1kt19stm0000gn/T/ipykernel_41131/295811338.py:16: FutureWarning: The behavior of DataFrame concatenation with empty or all-NA entries is deprecated. In a future version, this will no longer exclude empty or all-NA columns when determining the result dtypes. To retain the old behavior, exclude the relevant entries before the concat operation.\n",
      "  df_target.loc[len(df_target)] = [ticker, ratio_ticker]\n"
     ]
    },
    {
     "name": "stdout",
     "output_type": "stream",
     "text": [
      "get_stock_value_ratio : Error processing ticker SGD: unsupported operand type(s) for /: 'float' and 'NoneType'\n"
     ]
    },
    {
     "name": "stderr",
     "output_type": "stream",
     "text": [
      "SGMT: Data doesn't exist for startDate = 1684296000, endDate = 1684900800\n",
      "SGMT: Data doesn't exist for startDate = 1684296000, endDate = 1684382400\n",
      "SGMT: Data doesn't exist for startDate = 1684382400, endDate = 1684468800\n",
      "SGMT: Data doesn't exist for startDate = 1684468800, endDate = 1684555200\n",
      "SGMT: Data doesn't exist for startDate = 1684555200, endDate = 1684641600\n",
      "SGMT: Data doesn't exist for startDate = 1684641600, endDate = 1684728000\n",
      "SGMT: Data doesn't exist for startDate = 1684728000, endDate = 1684814400\n",
      "SGMT: Data doesn't exist for startDate = 1684814400, endDate = 1684900800\n",
      "/var/folders/77/05l3f4755g34m9yb1kt19stm0000gn/T/ipykernel_41131/295811338.py:16: FutureWarning: The behavior of DataFrame concatenation with empty or all-NA entries is deprecated. In a future version, this will no longer exclude empty or all-NA columns when determining the result dtypes. To retain the old behavior, exclude the relevant entries before the concat operation.\n",
      "  df_target.loc[len(df_target)] = [ticker, ratio_ticker]\n"
     ]
    },
    {
     "name": "stdout",
     "output_type": "stream",
     "text": [
      "get_stock_value_ratio : Error processing ticker SGMT: unsupported operand type(s) for /: 'float' and 'NoneType'\n"
     ]
    },
    {
     "name": "stderr",
     "output_type": "stream",
     "text": [
      "SGN: Data doesn't exist for startDate = 1684296000, endDate = 1684900800\n",
      "SGN: Data doesn't exist for startDate = 1684296000, endDate = 1684382400\n",
      "SGN: Data doesn't exist for startDate = 1684382400, endDate = 1684468800\n",
      "SGN: Data doesn't exist for startDate = 1684468800, endDate = 1684555200\n",
      "SGN: Data doesn't exist for startDate = 1684555200, endDate = 1684641600\n",
      "SGN: Data doesn't exist for startDate = 1684641600, endDate = 1684728000\n",
      "SGN: Data doesn't exist for startDate = 1684728000, endDate = 1684814400\n",
      "SGN: Data doesn't exist for startDate = 1684814400, endDate = 1684900800\n",
      "/var/folders/77/05l3f4755g34m9yb1kt19stm0000gn/T/ipykernel_41131/295811338.py:16: FutureWarning: The behavior of DataFrame concatenation with empty or all-NA entries is deprecated. In a future version, this will no longer exclude empty or all-NA columns when determining the result dtypes. To retain the old behavior, exclude the relevant entries before the concat operation.\n",
      "  df_target.loc[len(df_target)] = [ticker, ratio_ticker]\n"
     ]
    },
    {
     "name": "stdout",
     "output_type": "stream",
     "text": [
      "get_stock_value_ratio : Error processing ticker SGN: unsupported operand type(s) for /: 'float' and 'NoneType'\n"
     ]
    },
    {
     "name": "stderr",
     "output_type": "stream",
     "text": [
      "SHFSW: Period '1mo' is invalid, must be one of ['1d', '5d']\n",
      "SHFSW: Period '1mo' is invalid, must be one of ['1d', '5d']\n",
      "SHFSW: Period '1mo' is invalid, must be one of ['1d', '5d']\n",
      "SHFSW: Period '1mo' is invalid, must be one of ['1d', '5d']\n",
      "SHFSW: Period '1mo' is invalid, must be one of ['1d', '5d']\n",
      "SHFSW: Period '1mo' is invalid, must be one of ['1d', '5d']\n",
      "SHFSW: Period '1mo' is invalid, must be one of ['1d', '5d']\n",
      "SHFSW: Period '1mo' is invalid, must be one of ['1d', '5d']\n",
      "/var/folders/77/05l3f4755g34m9yb1kt19stm0000gn/T/ipykernel_41131/295811338.py:16: FutureWarning: The behavior of DataFrame concatenation with empty or all-NA entries is deprecated. In a future version, this will no longer exclude empty or all-NA columns when determining the result dtypes. To retain the old behavior, exclude the relevant entries before the concat operation.\n",
      "  df_target.loc[len(df_target)] = [ticker, ratio_ticker]\n",
      "SHIM: Data doesn't exist for startDate = 1684296000, endDate = 1684900800\n",
      "SHIM: Data doesn't exist for startDate = 1684296000, endDate = 1684382400\n",
      "SHIM: Data doesn't exist for startDate = 1684382400, endDate = 1684468800\n",
      "SHIM: Data doesn't exist for startDate = 1684468800, endDate = 1684555200\n",
      "SHIM: Data doesn't exist for startDate = 1684555200, endDate = 1684641600\n",
      "SHIM: Data doesn't exist for startDate = 1684641600, endDate = 1684728000\n",
      "SHIM: Data doesn't exist for startDate = 1684728000, endDate = 1684814400\n",
      "SHIM: Data doesn't exist for startDate = 1684814400, endDate = 1684900800\n",
      "/var/folders/77/05l3f4755g34m9yb1kt19stm0000gn/T/ipykernel_41131/295811338.py:16: FutureWarning: The behavior of DataFrame concatenation with empty or all-NA entries is deprecated. In a future version, this will no longer exclude empty or all-NA columns when determining the result dtypes. To retain the old behavior, exclude the relevant entries before the concat operation.\n",
      "  df_target.loc[len(df_target)] = [ticker, ratio_ticker]\n"
     ]
    },
    {
     "name": "stdout",
     "output_type": "stream",
     "text": [
      "get_stock_value_ratio : Error processing ticker SHIM: unsupported operand type(s) for /: 'float' and 'NoneType'\n"
     ]
    },
    {
     "name": "stderr",
     "output_type": "stream",
     "text": [
      "SHMD: Data doesn't exist for startDate = 1684296000, endDate = 1684900800\n",
      "SHMD: Data doesn't exist for startDate = 1684296000, endDate = 1684382400\n",
      "SHMD: Data doesn't exist for startDate = 1684382400, endDate = 1684468800\n",
      "SHMD: Data doesn't exist for startDate = 1684468800, endDate = 1684555200\n",
      "SHMD: Data doesn't exist for startDate = 1684555200, endDate = 1684641600\n",
      "SHMD: Data doesn't exist for startDate = 1684641600, endDate = 1684728000\n",
      "SHMD: Data doesn't exist for startDate = 1684728000, endDate = 1684814400\n",
      "SHMD: Data doesn't exist for startDate = 1684814400, endDate = 1684900800\n",
      "/var/folders/77/05l3f4755g34m9yb1kt19stm0000gn/T/ipykernel_41131/295811338.py:16: FutureWarning: The behavior of DataFrame concatenation with empty or all-NA entries is deprecated. In a future version, this will no longer exclude empty or all-NA columns when determining the result dtypes. To retain the old behavior, exclude the relevant entries before the concat operation.\n",
      "  df_target.loc[len(df_target)] = [ticker, ratio_ticker]\n",
      "SHMDW: Period '1mo' is invalid, must be one of ['1d', '5d']\n"
     ]
    },
    {
     "name": "stdout",
     "output_type": "stream",
     "text": [
      "get_stock_value_ratio : Error processing ticker SHMD: unsupported operand type(s) for /: 'float' and 'NoneType'\n"
     ]
    },
    {
     "name": "stderr",
     "output_type": "stream",
     "text": [
      "SHMDW: Period '1mo' is invalid, must be one of ['1d', '5d']\n",
      "SHMDW: Period '1mo' is invalid, must be one of ['1d', '5d']\n",
      "SHMDW: Period '1mo' is invalid, must be one of ['1d', '5d']\n",
      "SHMDW: Period '1mo' is invalid, must be one of ['1d', '5d']\n",
      "SHMDW: Period '1mo' is invalid, must be one of ['1d', '5d']\n",
      "SHMDW: Period '1mo' is invalid, must be one of ['1d', '5d']\n",
      "SHMDW: Period '1mo' is invalid, must be one of ['1d', '5d']\n",
      "/var/folders/77/05l3f4755g34m9yb1kt19stm0000gn/T/ipykernel_41131/295811338.py:16: FutureWarning: The behavior of DataFrame concatenation with empty or all-NA entries is deprecated. In a future version, this will no longer exclude empty or all-NA columns when determining the result dtypes. To retain the old behavior, exclude the relevant entries before the concat operation.\n",
      "  df_target.loc[len(df_target)] = [ticker, ratio_ticker]\n",
      "SHOTW: Period '1mo' is invalid, must be one of ['1d', '5d']\n",
      "SHOTW: Period '1mo' is invalid, must be one of ['1d', '5d']\n",
      "SHOTW: Period '1mo' is invalid, must be one of ['1d', '5d']\n",
      "SHOTW: Period '1mo' is invalid, must be one of ['1d', '5d']\n",
      "SHOTW: Period '1mo' is invalid, must be one of ['1d', '5d']\n",
      "SHOTW: Period '1mo' is invalid, must be one of ['1d', '5d']\n",
      "SHOTW: Period '1mo' is invalid, must be one of ['1d', '5d']\n",
      "SHOTW: Period '1mo' is invalid, must be one of ['1d', '5d']\n",
      "/var/folders/77/05l3f4755g34m9yb1kt19stm0000gn/T/ipykernel_41131/295811338.py:16: FutureWarning: The behavior of DataFrame concatenation with empty or all-NA entries is deprecated. In a future version, this will no longer exclude empty or all-NA columns when determining the result dtypes. To retain the old behavior, exclude the relevant entries before the concat operation.\n",
      "  df_target.loc[len(df_target)] = [ticker, ratio_ticker]\n",
      "SHPWW: Period '1mo' is invalid, must be one of ['1d', '5d']\n",
      "SHPWW: Period '1mo' is invalid, must be one of ['1d', '5d']\n",
      "SHPWW: Period '1mo' is invalid, must be one of ['1d', '5d']\n",
      "SHPWW: Period '1mo' is invalid, must be one of ['1d', '5d']\n",
      "SHPWW: Period '1mo' is invalid, must be one of ['1d', '5d']\n",
      "SHPWW: Period '1mo' is invalid, must be one of ['1d', '5d']\n",
      "SHPWW: Period '1mo' is invalid, must be one of ['1d', '5d']\n",
      "SHPWW: Period '1mo' is invalid, must be one of ['1d', '5d']\n",
      "/var/folders/77/05l3f4755g34m9yb1kt19stm0000gn/T/ipykernel_41131/295811338.py:16: FutureWarning: The behavior of DataFrame concatenation with empty or all-NA entries is deprecated. In a future version, this will no longer exclude empty or all-NA columns when determining the result dtypes. To retain the old behavior, exclude the relevant entries before the concat operation.\n",
      "  df_target.loc[len(df_target)] = [ticker, ratio_ticker]\n",
      "SING: Data doesn't exist for startDate = 1684296000, endDate = 1684900800\n",
      "SING: Data doesn't exist for startDate = 1684296000, endDate = 1684382400\n",
      "SING: Data doesn't exist for startDate = 1684382400, endDate = 1684468800\n",
      "SING: Data doesn't exist for startDate = 1684468800, endDate = 1684555200\n",
      "SING: Data doesn't exist for startDate = 1684555200, endDate = 1684641600\n",
      "SING: Data doesn't exist for startDate = 1684641600, endDate = 1684728000\n",
      "SING: Data doesn't exist for startDate = 1684728000, endDate = 1684814400\n",
      "SING: Data doesn't exist for startDate = 1684814400, endDate = 1684900800\n",
      "/var/folders/77/05l3f4755g34m9yb1kt19stm0000gn/T/ipykernel_41131/295811338.py:16: FutureWarning: The behavior of DataFrame concatenation with empty or all-NA entries is deprecated. In a future version, this will no longer exclude empty or all-NA columns when determining the result dtypes. To retain the old behavior, exclude the relevant entries before the concat operation.\n",
      "  df_target.loc[len(df_target)] = [ticker, ratio_ticker]\n"
     ]
    },
    {
     "name": "stdout",
     "output_type": "stream",
     "text": [
      "get_stock_value_ratio : Error processing ticker SING: unsupported operand type(s) for /: 'float' and 'NoneType'\n"
     ]
    },
    {
     "name": "stderr",
     "output_type": "stream",
     "text": [
      "SLAMW: Period '1mo' is invalid, must be one of ['1d', '5d']\n",
      "SLAMW: Period '1mo' is invalid, must be one of ['1d', '5d']\n",
      "SLAMW: Period '1mo' is invalid, must be one of ['1d', '5d']\n",
      "SLAMW: Period '1mo' is invalid, must be one of ['1d', '5d']\n",
      "SLAMW: Period '1mo' is invalid, must be one of ['1d', '5d']\n",
      "SLAMW: Period '1mo' is invalid, must be one of ['1d', '5d']\n",
      "SLAMW: Period '1mo' is invalid, must be one of ['1d', '5d']\n",
      "SLAMW: Period '1mo' is invalid, must be one of ['1d', '5d']\n",
      "/var/folders/77/05l3f4755g34m9yb1kt19stm0000gn/T/ipykernel_41131/295811338.py:16: FutureWarning: The behavior of DataFrame concatenation with empty or all-NA entries is deprecated. In a future version, this will no longer exclude empty or all-NA columns when determining the result dtypes. To retain the old behavior, exclude the relevant entries before the concat operation.\n",
      "  df_target.loc[len(df_target)] = [ticker, ratio_ticker]\n",
      "SLDPW: Period '1mo' is invalid, must be one of ['1d', '5d']\n",
      "SLDPW: Period '1mo' is invalid, must be one of ['1d', '5d']\n",
      "SLDPW: Period '1mo' is invalid, must be one of ['1d', '5d']\n",
      "SLDPW: Period '1mo' is invalid, must be one of ['1d', '5d']\n",
      "SLDPW: Period '1mo' is invalid, must be one of ['1d', '5d']\n",
      "SLDPW: Period '1mo' is invalid, must be one of ['1d', '5d']\n",
      "SLDPW: Period '1mo' is invalid, must be one of ['1d', '5d']\n",
      "SLDPW: Period '1mo' is invalid, must be one of ['1d', '5d']\n",
      "/var/folders/77/05l3f4755g34m9yb1kt19stm0000gn/T/ipykernel_41131/295811338.py:16: FutureWarning: The behavior of DataFrame concatenation with empty or all-NA entries is deprecated. In a future version, this will no longer exclude empty or all-NA columns when determining the result dtypes. To retain the old behavior, exclude the relevant entries before the concat operation.\n",
      "  df_target.loc[len(df_target)] = [ticker, ratio_ticker]\n",
      "SLNAW: Period '1mo' is invalid, must be one of ['1d', '5d']\n",
      "SLNAW: Period '1mo' is invalid, must be one of ['1d', '5d']\n",
      "SLNAW: Period '1mo' is invalid, must be one of ['1d', '5d']\n",
      "SLNAW: Period '1mo' is invalid, must be one of ['1d', '5d']\n",
      "SLNAW: Period '1mo' is invalid, must be one of ['1d', '5d']\n",
      "SLNAW: Period '1mo' is invalid, must be one of ['1d', '5d']\n",
      "SLNAW: Period '1mo' is invalid, must be one of ['1d', '5d']\n",
      "SLNAW: Period '1mo' is invalid, must be one of ['1d', '5d']\n",
      "/var/folders/77/05l3f4755g34m9yb1kt19stm0000gn/T/ipykernel_41131/295811338.py:16: FutureWarning: The behavior of DataFrame concatenation with empty or all-NA entries is deprecated. In a future version, this will no longer exclude empty or all-NA columns when determining the result dtypes. To retain the old behavior, exclude the relevant entries before the concat operation.\n",
      "  df_target.loc[len(df_target)] = [ticker, ratio_ticker]\n",
      "SMXT: Data doesn't exist for startDate = 1684296000, endDate = 1684900800\n",
      "SMXT: Data doesn't exist for startDate = 1684296000, endDate = 1684382400\n",
      "SMXT: Data doesn't exist for startDate = 1684382400, endDate = 1684468800\n",
      "SMXT: Data doesn't exist for startDate = 1684468800, endDate = 1684555200\n",
      "SMXT: Data doesn't exist for startDate = 1684555200, endDate = 1684641600\n",
      "SMXT: Data doesn't exist for startDate = 1684641600, endDate = 1684728000\n",
      "SMXT: Data doesn't exist for startDate = 1684728000, endDate = 1684814400\n",
      "SMXT: Data doesn't exist for startDate = 1684814400, endDate = 1684900800\n",
      "/var/folders/77/05l3f4755g34m9yb1kt19stm0000gn/T/ipykernel_41131/295811338.py:16: FutureWarning: The behavior of DataFrame concatenation with empty or all-NA entries is deprecated. In a future version, this will no longer exclude empty or all-NA columns when determining the result dtypes. To retain the old behavior, exclude the relevant entries before the concat operation.\n",
      "  df_target.loc[len(df_target)] = [ticker, ratio_ticker]\n",
      "SMXWW: Period '1mo' is invalid, must be one of ['1d', '5d']\n"
     ]
    },
    {
     "name": "stdout",
     "output_type": "stream",
     "text": [
      "get_stock_value_ratio : Error processing ticker SMXT: unsupported operand type(s) for /: 'float' and 'NoneType'\n"
     ]
    },
    {
     "name": "stderr",
     "output_type": "stream",
     "text": [
      "SMXWW: Period '1mo' is invalid, must be one of ['1d', '5d']\n",
      "SMXWW: Period '1mo' is invalid, must be one of ['1d', '5d']\n",
      "SMXWW: Period '1mo' is invalid, must be one of ['1d', '5d']\n",
      "SMXWW: Period '1mo' is invalid, must be one of ['1d', '5d']\n",
      "SMXWW: Period '1mo' is invalid, must be one of ['1d', '5d']\n",
      "SMXWW: Period '1mo' is invalid, must be one of ['1d', '5d']\n",
      "SMXWW: Period '1mo' is invalid, must be one of ['1d', '5d']\n",
      "/var/folders/77/05l3f4755g34m9yb1kt19stm0000gn/T/ipykernel_41131/295811338.py:16: FutureWarning: The behavior of DataFrame concatenation with empty or all-NA entries is deprecated. In a future version, this will no longer exclude empty or all-NA columns when determining the result dtypes. To retain the old behavior, exclude the relevant entries before the concat operation.\n",
      "  df_target.loc[len(df_target)] = [ticker, ratio_ticker]\n",
      "SN: Data doesn't exist for startDate = 1684296000, endDate = 1684900800\n",
      "SN: Data doesn't exist for startDate = 1684296000, endDate = 1684382400\n",
      "SN: Data doesn't exist for startDate = 1684382400, endDate = 1684468800\n",
      "SN: Data doesn't exist for startDate = 1684468800, endDate = 1684555200\n",
      "SN: Data doesn't exist for startDate = 1684555200, endDate = 1684641600\n",
      "SN: Data doesn't exist for startDate = 1684641600, endDate = 1684728000\n",
      "SN: Data doesn't exist for startDate = 1684728000, endDate = 1684814400\n",
      "SN: Data doesn't exist for startDate = 1684814400, endDate = 1684900800\n",
      "/var/folders/77/05l3f4755g34m9yb1kt19stm0000gn/T/ipykernel_41131/295811338.py:16: FutureWarning: The behavior of DataFrame concatenation with empty or all-NA entries is deprecated. In a future version, this will no longer exclude empty or all-NA columns when determining the result dtypes. To retain the old behavior, exclude the relevant entries before the concat operation.\n",
      "  df_target.loc[len(df_target)] = [ticker, ratio_ticker]\n"
     ]
    },
    {
     "name": "stdout",
     "output_type": "stream",
     "text": [
      "get_stock_value_ratio : Error processing ticker SN: unsupported operand type(s) for /: 'float' and 'NoneType'\n"
     ]
    },
    {
     "name": "stderr",
     "output_type": "stream",
     "text": [
      "SNAXW: Period '1mo' is invalid, must be one of ['1d', '5d']\n",
      "SNAXW: Period '1mo' is invalid, must be one of ['1d', '5d']\n",
      "SNAXW: Period '1mo' is invalid, must be one of ['1d', '5d']\n",
      "SNAXW: Period '1mo' is invalid, must be one of ['1d', '5d']\n",
      "SNAXW: Period '1mo' is invalid, must be one of ['1d', '5d']\n",
      "SNAXW: Period '1mo' is invalid, must be one of ['1d', '5d']\n",
      "SNAXW: Period '1mo' is invalid, must be one of ['1d', '5d']\n",
      "SNAXW: Period '1mo' is invalid, must be one of ['1d', '5d']\n",
      "/var/folders/77/05l3f4755g34m9yb1kt19stm0000gn/T/ipykernel_41131/295811338.py:16: FutureWarning: The behavior of DataFrame concatenation with empty or all-NA entries is deprecated. In a future version, this will no longer exclude empty or all-NA columns when determining the result dtypes. To retain the old behavior, exclude the relevant entries before the concat operation.\n",
      "  df_target.loc[len(df_target)] = [ticker, ratio_ticker]\n",
      "SOLV: Data doesn't exist for startDate = 1684296000, endDate = 1684900800\n",
      "SOLV: Data doesn't exist for startDate = 1684296000, endDate = 1684382400\n",
      "SOLV: Data doesn't exist for startDate = 1684382400, endDate = 1684468800\n",
      "SOLV: Data doesn't exist for startDate = 1684468800, endDate = 1684555200\n",
      "SOLV: Data doesn't exist for startDate = 1684555200, endDate = 1684641600\n",
      "SOLV: Data doesn't exist for startDate = 1684641600, endDate = 1684728000\n",
      "SOLV: Data doesn't exist for startDate = 1684728000, endDate = 1684814400\n",
      "SOLV: Data doesn't exist for startDate = 1684814400, endDate = 1684900800\n",
      "/var/folders/77/05l3f4755g34m9yb1kt19stm0000gn/T/ipykernel_41131/295811338.py:16: FutureWarning: The behavior of DataFrame concatenation with empty or all-NA entries is deprecated. In a future version, this will no longer exclude empty or all-NA columns when determining the result dtypes. To retain the old behavior, exclude the relevant entries before the concat operation.\n",
      "  df_target.loc[len(df_target)] = [ticker, ratio_ticker]\n"
     ]
    },
    {
     "name": "stdout",
     "output_type": "stream",
     "text": [
      "get_stock_value_ratio : Error processing ticker SOLV: unsupported operand type(s) for /: 'float' and 'NoneType'\n"
     ]
    },
    {
     "name": "stderr",
     "output_type": "stream",
     "text": [
      "SONDW: Period '1mo' is invalid, must be one of ['1d', '5d']\n",
      "SONDW: Period '1mo' is invalid, must be one of ['1d', '5d']\n",
      "SONDW: Period '1mo' is invalid, must be one of ['1d', '5d']\n",
      "SONDW: Period '1mo' is invalid, must be one of ['1d', '5d']\n",
      "SONDW: Period '1mo' is invalid, must be one of ['1d', '5d']\n",
      "SONDW: Period '1mo' is invalid, must be one of ['1d', '5d']\n",
      "SONDW: Period '1mo' is invalid, must be one of ['1d', '5d']\n",
      "SONDW: Period '1mo' is invalid, must be one of ['1d', '5d']\n",
      "/var/folders/77/05l3f4755g34m9yb1kt19stm0000gn/T/ipykernel_41131/295811338.py:16: FutureWarning: The behavior of DataFrame concatenation with empty or all-NA entries is deprecated. In a future version, this will no longer exclude empty or all-NA columns when determining the result dtypes. To retain the old behavior, exclude the relevant entries before the concat operation.\n",
      "  df_target.loc[len(df_target)] = [ticker, ratio_ticker]\n",
      "SOUNW: Period '1mo' is invalid, must be one of ['1d', '5d']\n",
      "SOUNW: Period '1mo' is invalid, must be one of ['1d', '5d']\n",
      "SOUNW: Period '1mo' is invalid, must be one of ['1d', '5d']\n",
      "SOUNW: Period '1mo' is invalid, must be one of ['1d', '5d']\n",
      "SOUNW: Period '1mo' is invalid, must be one of ['1d', '5d']\n",
      "SOUNW: Period '1mo' is invalid, must be one of ['1d', '5d']\n",
      "SOUNW: Period '1mo' is invalid, must be one of ['1d', '5d']\n",
      "SOUNW: Period '1mo' is invalid, must be one of ['1d', '5d']\n",
      "/var/folders/77/05l3f4755g34m9yb1kt19stm0000gn/T/ipykernel_41131/295811338.py:16: FutureWarning: The behavior of DataFrame concatenation with empty or all-NA entries is deprecated. In a future version, this will no longer exclude empty or all-NA columns when determining the result dtypes. To retain the old behavior, exclude the relevant entries before the concat operation.\n",
      "  df_target.loc[len(df_target)] = [ticker, ratio_ticker]\n",
      "SPECW: Period '1mo' is invalid, must be one of ['1d', '5d']\n",
      "SPECW: Period '1mo' is invalid, must be one of ['1d', '5d']\n",
      "SPECW: Period '1mo' is invalid, must be one of ['1d', '5d']\n",
      "SPECW: Period '1mo' is invalid, must be one of ['1d', '5d']\n",
      "SPECW: Period '1mo' is invalid, must be one of ['1d', '5d']\n",
      "SPECW: Period '1mo' is invalid, must be one of ['1d', '5d']\n",
      "SPECW: Period '1mo' is invalid, must be one of ['1d', '5d']\n",
      "SPECW: Period '1mo' is invalid, must be one of ['1d', '5d']\n",
      "/var/folders/77/05l3f4755g34m9yb1kt19stm0000gn/T/ipykernel_41131/295811338.py:16: FutureWarning: The behavior of DataFrame concatenation with empty or all-NA entries is deprecated. In a future version, this will no longer exclude empty or all-NA columns when determining the result dtypes. To retain the old behavior, exclude the relevant entries before the concat operation.\n",
      "  df_target.loc[len(df_target)] = [ticker, ratio_ticker]\n",
      "SPGC: Data doesn't exist for startDate = 1684296000, endDate = 1684900800\n",
      "SPGC: Data doesn't exist for startDate = 1684296000, endDate = 1684382400\n",
      "SPGC: Data doesn't exist for startDate = 1684382400, endDate = 1684468800\n",
      "SPGC: Data doesn't exist for startDate = 1684468800, endDate = 1684555200\n",
      "SPGC: Data doesn't exist for startDate = 1684555200, endDate = 1684641600\n",
      "SPGC: Data doesn't exist for startDate = 1684641600, endDate = 1684728000\n",
      "SPGC: Data doesn't exist for startDate = 1684728000, endDate = 1684814400\n",
      "SPGC: Data doesn't exist for startDate = 1684814400, endDate = 1684900800\n",
      "/var/folders/77/05l3f4755g34m9yb1kt19stm0000gn/T/ipykernel_41131/295811338.py:16: FutureWarning: The behavior of DataFrame concatenation with empty or all-NA entries is deprecated. In a future version, this will no longer exclude empty or all-NA columns when determining the result dtypes. To retain the old behavior, exclude the relevant entries before the concat operation.\n",
      "  df_target.loc[len(df_target)] = [ticker, ratio_ticker]\n"
     ]
    },
    {
     "name": "stdout",
     "output_type": "stream",
     "text": [
      "get_stock_value_ratio : Error processing ticker SPGC: unsupported operand type(s) for /: 'float' and 'NoneType'\n"
     ]
    },
    {
     "name": "stderr",
     "output_type": "stream",
     "text": [
      "SPKL: Data doesn't exist for startDate = 1684296000, endDate = 1684900800\n",
      "SPKL: Data doesn't exist for startDate = 1684296000, endDate = 1684382400\n",
      "SPKL: Data doesn't exist for startDate = 1684382400, endDate = 1684468800\n",
      "SPKL: Data doesn't exist for startDate = 1684468800, endDate = 1684555200\n",
      "SPKL: Data doesn't exist for startDate = 1684555200, endDate = 1684641600\n",
      "SPKL: Data doesn't exist for startDate = 1684641600, endDate = 1684728000\n",
      "SPKL: Data doesn't exist for startDate = 1684728000, endDate = 1684814400\n",
      "SPKL: Data doesn't exist for startDate = 1684814400, endDate = 1684900800\n",
      "/var/folders/77/05l3f4755g34m9yb1kt19stm0000gn/T/ipykernel_41131/295811338.py:16: FutureWarning: The behavior of DataFrame concatenation with empty or all-NA entries is deprecated. In a future version, this will no longer exclude empty or all-NA columns when determining the result dtypes. To retain the old behavior, exclude the relevant entries before the concat operation.\n",
      "  df_target.loc[len(df_target)] = [ticker, ratio_ticker]\n"
     ]
    },
    {
     "name": "stdout",
     "output_type": "stream",
     "text": [
      "get_stock_value_ratio : Error processing ticker SPKL: unsupported operand type(s) for /: 'float' and 'NoneType'\n"
     ]
    },
    {
     "name": "stderr",
     "output_type": "stream",
     "text": [
      "SPKLU: Data doesn't exist for startDate = 1684296000, endDate = 1684900800\n",
      "SPKLU: Data doesn't exist for startDate = 1684296000, endDate = 1684382400\n",
      "SPKLU: Data doesn't exist for startDate = 1684382400, endDate = 1684468800\n",
      "SPKLU: Data doesn't exist for startDate = 1684468800, endDate = 1684555200\n",
      "SPKLU: Data doesn't exist for startDate = 1684555200, endDate = 1684641600\n",
      "SPKLU: Data doesn't exist for startDate = 1684641600, endDate = 1684728000\n",
      "SPKLU: Data doesn't exist for startDate = 1684728000, endDate = 1684814400\n",
      "SPKLU: Data doesn't exist for startDate = 1684814400, endDate = 1684900800\n",
      "/var/folders/77/05l3f4755g34m9yb1kt19stm0000gn/T/ipykernel_41131/295811338.py:16: FutureWarning: The behavior of DataFrame concatenation with empty or all-NA entries is deprecated. In a future version, this will no longer exclude empty or all-NA columns when determining the result dtypes. To retain the old behavior, exclude the relevant entries before the concat operation.\n",
      "  df_target.loc[len(df_target)] = [ticker, ratio_ticker]\n",
      "SPKLW: Period '1mo' is invalid, must be one of ['1d', '5d']\n"
     ]
    },
    {
     "name": "stdout",
     "output_type": "stream",
     "text": [
      "get_stock_value_ratio : Error processing ticker SPKLU: unsupported operand type(s) for /: 'float' and 'NoneType'\n"
     ]
    },
    {
     "name": "stderr",
     "output_type": "stream",
     "text": [
      "SPKLW: Period '1mo' is invalid, must be one of ['1d', '5d']\n",
      "SPKLW: Period '1mo' is invalid, must be one of ['1d', '5d']\n",
      "SPKLW: Period '1mo' is invalid, must be one of ['1d', '5d']\n",
      "SPKLW: Period '1mo' is invalid, must be one of ['1d', '5d']\n",
      "SPKLW: Period '1mo' is invalid, must be one of ['1d', '5d']\n",
      "SPKLW: Period '1mo' is invalid, must be one of ['1d', '5d']\n",
      "SPKLW: Period '1mo' is invalid, must be one of ['1d', '5d']\n",
      "/var/folders/77/05l3f4755g34m9yb1kt19stm0000gn/T/ipykernel_41131/295811338.py:16: FutureWarning: The behavior of DataFrame concatenation with empty or all-NA entries is deprecated. In a future version, this will no longer exclude empty or all-NA columns when determining the result dtypes. To retain the old behavior, exclude the relevant entries before the concat operation.\n",
      "  df_target.loc[len(df_target)] = [ticker, ratio_ticker]\n",
      "SPPL: Data doesn't exist for startDate = 1684296000, endDate = 1684900800\n",
      "SPPL: Data doesn't exist for startDate = 1684296000, endDate = 1684382400\n",
      "SPPL: Data doesn't exist for startDate = 1684382400, endDate = 1684468800\n",
      "SPPL: Data doesn't exist for startDate = 1684468800, endDate = 1684555200\n",
      "SPPL: Data doesn't exist for startDate = 1684555200, endDate = 1684641600\n",
      "SPPL: Data doesn't exist for startDate = 1684641600, endDate = 1684728000\n",
      "SPPL: Data doesn't exist for startDate = 1684728000, endDate = 1684814400\n",
      "SPPL: Data doesn't exist for startDate = 1684814400, endDate = 1684900800\n",
      "/var/folders/77/05l3f4755g34m9yb1kt19stm0000gn/T/ipykernel_41131/295811338.py:16: FutureWarning: The behavior of DataFrame concatenation with empty or all-NA entries is deprecated. In a future version, this will no longer exclude empty or all-NA columns when determining the result dtypes. To retain the old behavior, exclude the relevant entries before the concat operation.\n",
      "  df_target.loc[len(df_target)] = [ticker, ratio_ticker]\n"
     ]
    },
    {
     "name": "stdout",
     "output_type": "stream",
     "text": [
      "get_stock_value_ratio : Error processing ticker SPPL: unsupported operand type(s) for /: 'float' and 'NoneType'\n"
     ]
    },
    {
     "name": "stderr",
     "output_type": "stream",
     "text": [
      "SQFTW: Period '1mo' is invalid, must be one of ['1d', '5d']\n",
      "SQFTW: Period '1mo' is invalid, must be one of ['1d', '5d']\n",
      "SQFTW: Period '1mo' is invalid, must be one of ['1d', '5d']\n",
      "SQFTW: Period '1mo' is invalid, must be one of ['1d', '5d']\n",
      "SQFTW: Period '1mo' is invalid, must be one of ['1d', '5d']\n",
      "SQFTW: Period '1mo' is invalid, must be one of ['1d', '5d']\n",
      "SQFTW: Period '1mo' is invalid, must be one of ['1d', '5d']\n",
      "SQFTW: Period '1mo' is invalid, must be one of ['1d', '5d']\n",
      "/var/folders/77/05l3f4755g34m9yb1kt19stm0000gn/T/ipykernel_41131/295811338.py:16: FutureWarning: The behavior of DataFrame concatenation with empty or all-NA entries is deprecated. In a future version, this will no longer exclude empty or all-NA columns when determining the result dtypes. To retain the old behavior, exclude the relevant entries before the concat operation.\n",
      "  df_target.loc[len(df_target)] = [ticker, ratio_ticker]\n",
      "SRBK: Data doesn't exist for startDate = 1684296000, endDate = 1684900800\n",
      "SRBK: Data doesn't exist for startDate = 1684296000, endDate = 1684382400\n",
      "SRBK: Data doesn't exist for startDate = 1684382400, endDate = 1684468800\n",
      "SRBK: Data doesn't exist for startDate = 1684468800, endDate = 1684555200\n",
      "SRBK: Data doesn't exist for startDate = 1684555200, endDate = 1684641600\n",
      "SRBK: Data doesn't exist for startDate = 1684641600, endDate = 1684728000\n",
      "SRBK: Data doesn't exist for startDate = 1684728000, endDate = 1684814400\n",
      "SRBK: Data doesn't exist for startDate = 1684814400, endDate = 1684900800\n",
      "/var/folders/77/05l3f4755g34m9yb1kt19stm0000gn/T/ipykernel_41131/295811338.py:16: FutureWarning: The behavior of DataFrame concatenation with empty or all-NA entries is deprecated. In a future version, this will no longer exclude empty or all-NA columns when determining the result dtypes. To retain the old behavior, exclude the relevant entries before the concat operation.\n",
      "  df_target.loc[len(df_target)] = [ticker, ratio_ticker]\n"
     ]
    },
    {
     "name": "stdout",
     "output_type": "stream",
     "text": [
      "get_stock_value_ratio : Error processing ticker SRBK: unsupported operand type(s) for /: 'float' and 'NoneType'\n"
     ]
    },
    {
     "name": "stderr",
     "output_type": "stream",
     "text": [
      "SRFM: Data doesn't exist for startDate = 1684296000, endDate = 1684900800\n",
      "SRFM: Data doesn't exist for startDate = 1684296000, endDate = 1684382400\n",
      "SRFM: Data doesn't exist for startDate = 1684382400, endDate = 1684468800\n",
      "SRFM: Data doesn't exist for startDate = 1684468800, endDate = 1684555200\n",
      "SRFM: Data doesn't exist for startDate = 1684555200, endDate = 1684641600\n",
      "SRFM: Data doesn't exist for startDate = 1684641600, endDate = 1684728000\n",
      "SRFM: Data doesn't exist for startDate = 1684728000, endDate = 1684814400\n",
      "SRFM: Data doesn't exist for startDate = 1684814400, endDate = 1684900800\n",
      "/var/folders/77/05l3f4755g34m9yb1kt19stm0000gn/T/ipykernel_41131/295811338.py:16: FutureWarning: The behavior of DataFrame concatenation with empty or all-NA entries is deprecated. In a future version, this will no longer exclude empty or all-NA columns when determining the result dtypes. To retain the old behavior, exclude the relevant entries before the concat operation.\n",
      "  df_target.loc[len(df_target)] = [ticker, ratio_ticker]\n"
     ]
    },
    {
     "name": "stdout",
     "output_type": "stream",
     "text": [
      "get_stock_value_ratio : Error processing ticker SRFM: unsupported operand type(s) for /: 'float' and 'NoneType'\n"
     ]
    },
    {
     "name": "stderr",
     "output_type": "stream",
     "text": [
      "SRM: Data doesn't exist for startDate = 1684296000, endDate = 1684900800\n",
      "SRM: Data doesn't exist for startDate = 1684296000, endDate = 1684382400\n",
      "SRM: Data doesn't exist for startDate = 1684382400, endDate = 1684468800\n",
      "SRM: Data doesn't exist for startDate = 1684468800, endDate = 1684555200\n",
      "SRM: Data doesn't exist for startDate = 1684555200, endDate = 1684641600\n",
      "SRM: Data doesn't exist for startDate = 1684641600, endDate = 1684728000\n",
      "SRM: Data doesn't exist for startDate = 1684728000, endDate = 1684814400\n",
      "SRM: Data doesn't exist for startDate = 1684814400, endDate = 1684900800\n",
      "/var/folders/77/05l3f4755g34m9yb1kt19stm0000gn/T/ipykernel_41131/295811338.py:16: FutureWarning: The behavior of DataFrame concatenation with empty or all-NA entries is deprecated. In a future version, this will no longer exclude empty or all-NA columns when determining the result dtypes. To retain the old behavior, exclude the relevant entries before the concat operation.\n",
      "  df_target.loc[len(df_target)] = [ticker, ratio_ticker]\n"
     ]
    },
    {
     "name": "stdout",
     "output_type": "stream",
     "text": [
      "get_stock_value_ratio : Error processing ticker SRM: unsupported operand type(s) for /: 'float' and 'NoneType'\n"
     ]
    },
    {
     "name": "stderr",
     "output_type": "stream",
     "text": [
      "SRZNW: Period '1mo' is invalid, must be one of ['1d', '5d']\n",
      "SRZNW: Period '1mo' is invalid, must be one of ['1d', '5d']\n",
      "SRZNW: Period '1mo' is invalid, must be one of ['1d', '5d']\n",
      "SRZNW: Period '1mo' is invalid, must be one of ['1d', '5d']\n",
      "SRZNW: Period '1mo' is invalid, must be one of ['1d', '5d']\n",
      "SRZNW: Period '1mo' is invalid, must be one of ['1d', '5d']\n",
      "SRZNW: Period '1mo' is invalid, must be one of ['1d', '5d']\n",
      "SRZNW: Period '1mo' is invalid, must be one of ['1d', '5d']\n",
      "/var/folders/77/05l3f4755g34m9yb1kt19stm0000gn/T/ipykernel_41131/295811338.py:16: FutureWarning: The behavior of DataFrame concatenation with empty or all-NA entries is deprecated. In a future version, this will no longer exclude empty or all-NA columns when determining the result dtypes. To retain the old behavior, exclude the relevant entries before the concat operation.\n",
      "  df_target.loc[len(df_target)] = [ticker, ratio_ticker]\n",
      "STSSW: Period '1mo' is invalid, must be one of ['1d', '5d']\n",
      "STSSW: Period '1mo' is invalid, must be one of ['1d', '5d']\n",
      "STSSW: Period '1mo' is invalid, must be one of ['1d', '5d']\n",
      "STSSW: Period '1mo' is invalid, must be one of ['1d', '5d']\n",
      "STSSW: Period '1mo' is invalid, must be one of ['1d', '5d']\n",
      "STSSW: Period '1mo' is invalid, must be one of ['1d', '5d']\n",
      "STSSW: Period '1mo' is invalid, must be one of ['1d', '5d']\n",
      "STSSW: Period '1mo' is invalid, must be one of ['1d', '5d']\n",
      "/var/folders/77/05l3f4755g34m9yb1kt19stm0000gn/T/ipykernel_41131/295811338.py:16: FutureWarning: The behavior of DataFrame concatenation with empty or all-NA entries is deprecated. In a future version, this will no longer exclude empty or all-NA columns when determining the result dtypes. To retain the old behavior, exclude the relevant entries before the concat operation.\n",
      "  df_target.loc[len(df_target)] = [ticker, ratio_ticker]\n",
      "SUGP: Data doesn't exist for startDate = 1684296000, endDate = 1684900800\n",
      "SUGP: Data doesn't exist for startDate = 1684296000, endDate = 1684382400\n",
      "SUGP: Data doesn't exist for startDate = 1684382400, endDate = 1684468800\n",
      "SUGP: Data doesn't exist for startDate = 1684468800, endDate = 1684555200\n",
      "SUGP: Data doesn't exist for startDate = 1684555200, endDate = 1684641600\n",
      "SUGP: Data doesn't exist for startDate = 1684641600, endDate = 1684728000\n",
      "SUGP: Data doesn't exist for startDate = 1684728000, endDate = 1684814400\n",
      "SUGP: Data doesn't exist for startDate = 1684814400, endDate = 1684900800\n",
      "/var/folders/77/05l3f4755g34m9yb1kt19stm0000gn/T/ipykernel_41131/295811338.py:16: FutureWarning: The behavior of DataFrame concatenation with empty or all-NA entries is deprecated. In a future version, this will no longer exclude empty or all-NA columns when determining the result dtypes. To retain the old behavior, exclude the relevant entries before the concat operation.\n",
      "  df_target.loc[len(df_target)] = [ticker, ratio_ticker]\n"
     ]
    },
    {
     "name": "stdout",
     "output_type": "stream",
     "text": [
      "get_stock_value_ratio : Error processing ticker SUGP: unsupported operand type(s) for /: 'float' and 'NoneType'\n"
     ]
    },
    {
     "name": "stderr",
     "output_type": "stream",
     "text": [
      "SURGW: Period '1mo' is invalid, must be one of ['1d', '5d']\n",
      "SURGW: Period '1mo' is invalid, must be one of ['1d', '5d']\n",
      "SURGW: Period '1mo' is invalid, must be one of ['1d', '5d']\n",
      "SURGW: Period '1mo' is invalid, must be one of ['1d', '5d']\n",
      "SURGW: Period '1mo' is invalid, must be one of ['1d', '5d']\n",
      "SURGW: Period '1mo' is invalid, must be one of ['1d', '5d']\n",
      "SURGW: Period '1mo' is invalid, must be one of ['1d', '5d']\n",
      "SURGW: Period '1mo' is invalid, must be one of ['1d', '5d']\n",
      "/var/folders/77/05l3f4755g34m9yb1kt19stm0000gn/T/ipykernel_41131/295811338.py:16: FutureWarning: The behavior of DataFrame concatenation with empty or all-NA entries is deprecated. In a future version, this will no longer exclude empty or all-NA columns when determining the result dtypes. To retain the old behavior, exclude the relevant entries before the concat operation.\n",
      "  df_target.loc[len(df_target)] = [ticker, ratio_ticker]\n",
      "SUUN: Data doesn't exist for startDate = 1684296000, endDate = 1684900800\n",
      "SUUN: Data doesn't exist for startDate = 1684296000, endDate = 1684382400\n",
      "SUUN: Data doesn't exist for startDate = 1684382400, endDate = 1684468800\n",
      "SUUN: Data doesn't exist for startDate = 1684468800, endDate = 1684555200\n",
      "SUUN: Data doesn't exist for startDate = 1684555200, endDate = 1684641600\n",
      "SUUN: Data doesn't exist for startDate = 1684641600, endDate = 1684728000\n",
      "SUUN: Data doesn't exist for startDate = 1684728000, endDate = 1684814400\n",
      "SUUN: Data doesn't exist for startDate = 1684814400, endDate = 1684900800\n",
      "/var/folders/77/05l3f4755g34m9yb1kt19stm0000gn/T/ipykernel_41131/295811338.py:16: FutureWarning: The behavior of DataFrame concatenation with empty or all-NA entries is deprecated. In a future version, this will no longer exclude empty or all-NA columns when determining the result dtypes. To retain the old behavior, exclude the relevant entries before the concat operation.\n",
      "  df_target.loc[len(df_target)] = [ticker, ratio_ticker]\n"
     ]
    },
    {
     "name": "stdout",
     "output_type": "stream",
     "text": [
      "get_stock_value_ratio : Error processing ticker SUUN: unsupported operand type(s) for /: 'float' and 'NoneType'\n"
     ]
    },
    {
     "name": "stderr",
     "output_type": "stream",
     "text": [
      "SVCO: Data doesn't exist for startDate = 1684296000, endDate = 1684900800\n",
      "SVCO: Data doesn't exist for startDate = 1684296000, endDate = 1684382400\n",
      "SVCO: Data doesn't exist for startDate = 1684382400, endDate = 1684468800\n",
      "SVCO: Data doesn't exist for startDate = 1684468800, endDate = 1684555200\n",
      "SVCO: Data doesn't exist for startDate = 1684555200, endDate = 1684641600\n",
      "SVCO: Data doesn't exist for startDate = 1684641600, endDate = 1684728000\n",
      "SVCO: Data doesn't exist for startDate = 1684728000, endDate = 1684814400\n",
      "SVCO: Data doesn't exist for startDate = 1684814400, endDate = 1684900800\n",
      "/var/folders/77/05l3f4755g34m9yb1kt19stm0000gn/T/ipykernel_41131/295811338.py:16: FutureWarning: The behavior of DataFrame concatenation with empty or all-NA entries is deprecated. In a future version, this will no longer exclude empty or all-NA columns when determining the result dtypes. To retain the old behavior, exclude the relevant entries before the concat operation.\n",
      "  df_target.loc[len(df_target)] = [ticker, ratio_ticker]\n"
     ]
    },
    {
     "name": "stdout",
     "output_type": "stream",
     "text": [
      "get_stock_value_ratio : Error processing ticker SVCO: unsupported operand type(s) for /: 'float' and 'NoneType'\n"
     ]
    },
    {
     "name": "stderr",
     "output_type": "stream",
     "text": [
      "SVIIW: Period '1mo' is invalid, must be one of ['1d', '5d']\n",
      "SVIIW: Period '1mo' is invalid, must be one of ['1d', '5d']\n",
      "SVIIW: Period '1mo' is invalid, must be one of ['1d', '5d']\n",
      "SVIIW: Period '1mo' is invalid, must be one of ['1d', '5d']\n",
      "SVIIW: Period '1mo' is invalid, must be one of ['1d', '5d']\n",
      "SVIIW: Period '1mo' is invalid, must be one of ['1d', '5d']\n",
      "SVIIW: Period '1mo' is invalid, must be one of ['1d', '5d']\n",
      "SVIIW: Period '1mo' is invalid, must be one of ['1d', '5d']\n",
      "/var/folders/77/05l3f4755g34m9yb1kt19stm0000gn/T/ipykernel_41131/295811338.py:16: FutureWarning: The behavior of DataFrame concatenation with empty or all-NA entries is deprecated. In a future version, this will no longer exclude empty or all-NA columns when determining the result dtypes. To retain the old behavior, exclude the relevant entries before the concat operation.\n",
      "  df_target.loc[len(df_target)] = [ticker, ratio_ticker]\n",
      "SVV: Data doesn't exist for startDate = 1684296000, endDate = 1684900800\n",
      "SVV: Data doesn't exist for startDate = 1684296000, endDate = 1684382400\n",
      "SVV: Data doesn't exist for startDate = 1684382400, endDate = 1684468800\n",
      "SVV: Data doesn't exist for startDate = 1684468800, endDate = 1684555200\n",
      "SVV: Data doesn't exist for startDate = 1684555200, endDate = 1684641600\n",
      "SVV: Data doesn't exist for startDate = 1684641600, endDate = 1684728000\n",
      "SVV: Data doesn't exist for startDate = 1684728000, endDate = 1684814400\n",
      "SVV: Data doesn't exist for startDate = 1684814400, endDate = 1684900800\n",
      "/var/folders/77/05l3f4755g34m9yb1kt19stm0000gn/T/ipykernel_41131/295811338.py:16: FutureWarning: The behavior of DataFrame concatenation with empty or all-NA entries is deprecated. In a future version, this will no longer exclude empty or all-NA columns when determining the result dtypes. To retain the old behavior, exclude the relevant entries before the concat operation.\n",
      "  df_target.loc[len(df_target)] = [ticker, ratio_ticker]\n"
     ]
    },
    {
     "name": "stdout",
     "output_type": "stream",
     "text": [
      "get_stock_value_ratio : Error processing ticker SVV: unsupported operand type(s) for /: 'float' and 'NoneType'\n"
     ]
    },
    {
     "name": "stderr",
     "output_type": "stream",
     "text": [
      "SWIN: Data doesn't exist for startDate = 1684296000, endDate = 1684900800\n",
      "SWIN: Data doesn't exist for startDate = 1684296000, endDate = 1684382400\n",
      "SWIN: Data doesn't exist for startDate = 1684382400, endDate = 1684468800\n",
      "SWIN: Data doesn't exist for startDate = 1684468800, endDate = 1684555200\n",
      "SWIN: Data doesn't exist for startDate = 1684555200, endDate = 1684641600\n",
      "SWIN: Data doesn't exist for startDate = 1684641600, endDate = 1684728000\n",
      "SWIN: Data doesn't exist for startDate = 1684728000, endDate = 1684814400\n",
      "SWIN: Data doesn't exist for startDate = 1684814400, endDate = 1684900800\n",
      "/var/folders/77/05l3f4755g34m9yb1kt19stm0000gn/T/ipykernel_41131/295811338.py:16: FutureWarning: The behavior of DataFrame concatenation with empty or all-NA entries is deprecated. In a future version, this will no longer exclude empty or all-NA columns when determining the result dtypes. To retain the old behavior, exclude the relevant entries before the concat operation.\n",
      "  df_target.loc[len(df_target)] = [ticker, ratio_ticker]\n"
     ]
    },
    {
     "name": "stdout",
     "output_type": "stream",
     "text": [
      "get_stock_value_ratio : Error processing ticker SWIN: unsupported operand type(s) for /: 'float' and 'NoneType'\n"
     ]
    },
    {
     "name": "stderr",
     "output_type": "stream",
     "text": [
      "SWVLW: Period '1mo' is invalid, must be one of ['1d', '5d']\n",
      "SWVLW: Period '1mo' is invalid, must be one of ['1d', '5d']\n",
      "SWVLW: Period '1mo' is invalid, must be one of ['1d', '5d']\n",
      "SWVLW: Period '1mo' is invalid, must be one of ['1d', '5d']\n",
      "SWVLW: Period '1mo' is invalid, must be one of ['1d', '5d']\n",
      "SWVLW: Period '1mo' is invalid, must be one of ['1d', '5d']\n",
      "SWVLW: Period '1mo' is invalid, must be one of ['1d', '5d']\n",
      "SWVLW: Period '1mo' is invalid, must be one of ['1d', '5d']\n",
      "/var/folders/77/05l3f4755g34m9yb1kt19stm0000gn/T/ipykernel_41131/295811338.py:16: FutureWarning: The behavior of DataFrame concatenation with empty or all-NA entries is deprecated. In a future version, this will no longer exclude empty or all-NA columns when determining the result dtypes. To retain the old behavior, exclude the relevant entries before the concat operation.\n",
      "  df_target.loc[len(df_target)] = [ticker, ratio_ticker]\n",
      "SXTP: Data doesn't exist for startDate = 1684296000, endDate = 1684900800\n",
      "SXTP: Data doesn't exist for startDate = 1684296000, endDate = 1684382400\n",
      "SXTP: Data doesn't exist for startDate = 1684382400, endDate = 1684468800\n",
      "SXTP: Data doesn't exist for startDate = 1684468800, endDate = 1684555200\n",
      "SXTP: Data doesn't exist for startDate = 1684555200, endDate = 1684641600\n",
      "SXTP: Data doesn't exist for startDate = 1684641600, endDate = 1684728000\n",
      "SXTP: Data doesn't exist for startDate = 1684728000, endDate = 1684814400\n",
      "SXTP: Data doesn't exist for startDate = 1684814400, endDate = 1684900800\n",
      "/var/folders/77/05l3f4755g34m9yb1kt19stm0000gn/T/ipykernel_41131/295811338.py:16: FutureWarning: The behavior of DataFrame concatenation with empty or all-NA entries is deprecated. In a future version, this will no longer exclude empty or all-NA columns when determining the result dtypes. To retain the old behavior, exclude the relevant entries before the concat operation.\n",
      "  df_target.loc[len(df_target)] = [ticker, ratio_ticker]\n"
     ]
    },
    {
     "name": "stdout",
     "output_type": "stream",
     "text": [
      "get_stock_value_ratio : Error processing ticker SXTP: unsupported operand type(s) for /: 'float' and 'NoneType'\n"
     ]
    },
    {
     "name": "stderr",
     "output_type": "stream",
     "text": [
      "SYNX: Data doesn't exist for startDate = 1684296000, endDate = 1684900800\n",
      "SYNX: Data doesn't exist for startDate = 1684296000, endDate = 1684382400\n",
      "SYNX: Data doesn't exist for startDate = 1684382400, endDate = 1684468800\n",
      "SYNX: Data doesn't exist for startDate = 1684468800, endDate = 1684555200\n",
      "SYNX: Data doesn't exist for startDate = 1684555200, endDate = 1684641600\n",
      "SYNX: Data doesn't exist for startDate = 1684641600, endDate = 1684728000\n",
      "SYNX: Data doesn't exist for startDate = 1684728000, endDate = 1684814400\n",
      "SYNX: Data doesn't exist for startDate = 1684814400, endDate = 1684900800\n",
      "/var/folders/77/05l3f4755g34m9yb1kt19stm0000gn/T/ipykernel_41131/295811338.py:16: FutureWarning: The behavior of DataFrame concatenation with empty or all-NA entries is deprecated. In a future version, this will no longer exclude empty or all-NA columns when determining the result dtypes. To retain the old behavior, exclude the relevant entries before the concat operation.\n",
      "  df_target.loc[len(df_target)] = [ticker, ratio_ticker]\n"
     ]
    },
    {
     "name": "stdout",
     "output_type": "stream",
     "text": [
      "get_stock_value_ratio : Error processing ticker SYNX: unsupported operand type(s) for /: 'float' and 'NoneType'\n"
     ]
    },
    {
     "name": "stderr",
     "output_type": "stream",
     "text": [
      "SYRA: Data doesn't exist for startDate = 1684296000, endDate = 1684900800\n",
      "SYRA: Data doesn't exist for startDate = 1684296000, endDate = 1684382400\n",
      "$SYRA: possibly delisted; No price data found  (1d 2023-05-18 00:00:00 -> 2023-05-19 00:00:00)\n",
      "SYRA: Data doesn't exist for startDate = 1684468800, endDate = 1684555200\n",
      "SYRA: Data doesn't exist for startDate = 1684555200, endDate = 1684641600\n",
      "SYRA: Data doesn't exist for startDate = 1684641600, endDate = 1684728000\n",
      "SYRA: Data doesn't exist for startDate = 1684728000, endDate = 1684814400\n",
      "SYRA: Data doesn't exist for startDate = 1684814400, endDate = 1684900800\n",
      "/var/folders/77/05l3f4755g34m9yb1kt19stm0000gn/T/ipykernel_41131/295811338.py:16: FutureWarning: The behavior of DataFrame concatenation with empty or all-NA entries is deprecated. In a future version, this will no longer exclude empty or all-NA columns when determining the result dtypes. To retain the old behavior, exclude the relevant entries before the concat operation.\n",
      "  df_target.loc[len(df_target)] = [ticker, ratio_ticker]\n"
     ]
    },
    {
     "name": "stdout",
     "output_type": "stream",
     "text": [
      "get_stock_value_ratio : Error processing ticker SYRA: unsupported operand type(s) for /: 'float' and 'NoneType'\n"
     ]
    },
    {
     "name": "stderr",
     "output_type": "stream",
     "text": [
      "SYTAW: Period '1mo' is invalid, must be one of ['1d', '5d']\n",
      "SYTAW: Period '1mo' is invalid, must be one of ['1d', '5d']\n",
      "SYTAW: Period '1mo' is invalid, must be one of ['1d', '5d']\n",
      "SYTAW: Period '1mo' is invalid, must be one of ['1d', '5d']\n",
      "SYTAW: Period '1mo' is invalid, must be one of ['1d', '5d']\n",
      "SYTAW: Period '1mo' is invalid, must be one of ['1d', '5d']\n",
      "SYTAW: Period '1mo' is invalid, must be one of ['1d', '5d']\n",
      "SYTAW: Period '1mo' is invalid, must be one of ['1d', '5d']\n",
      "/var/folders/77/05l3f4755g34m9yb1kt19stm0000gn/T/ipykernel_41131/295811338.py:16: FutureWarning: The behavior of DataFrame concatenation with empty or all-NA entries is deprecated. In a future version, this will no longer exclude empty or all-NA columns when determining the result dtypes. To retain the old behavior, exclude the relevant entries before the concat operation.\n",
      "  df_target.loc[len(df_target)] = [ticker, ratio_ticker]\n",
      "TALKW: Period '1mo' is invalid, must be one of ['1d', '5d']\n",
      "TALKW: Period '1mo' is invalid, must be one of ['1d', '5d']\n",
      "TALKW: Period '1mo' is invalid, must be one of ['1d', '5d']\n",
      "TALKW: Period '1mo' is invalid, must be one of ['1d', '5d']\n",
      "TALKW: Period '1mo' is invalid, must be one of ['1d', '5d']\n",
      "TALKW: Period '1mo' is invalid, must be one of ['1d', '5d']\n",
      "TALKW: Period '1mo' is invalid, must be one of ['1d', '5d']\n",
      "TALKW: Period '1mo' is invalid, must be one of ['1d', '5d']\n",
      "/var/folders/77/05l3f4755g34m9yb1kt19stm0000gn/T/ipykernel_41131/295811338.py:16: FutureWarning: The behavior of DataFrame concatenation with empty or all-NA entries is deprecated. In a future version, this will no longer exclude empty or all-NA columns when determining the result dtypes. To retain the old behavior, exclude the relevant entries before the concat operation.\n",
      "  df_target.loc[len(df_target)] = [ticker, ratio_ticker]\n",
      "TBBB: Data doesn't exist for startDate = 1684296000, endDate = 1684900800\n",
      "TBBB: Data doesn't exist for startDate = 1684296000, endDate = 1684382400\n",
      "TBBB: Data doesn't exist for startDate = 1684382400, endDate = 1684468800\n",
      "TBBB: Data doesn't exist for startDate = 1684468800, endDate = 1684555200\n",
      "TBBB: Data doesn't exist for startDate = 1684555200, endDate = 1684641600\n",
      "TBBB: Data doesn't exist for startDate = 1684641600, endDate = 1684728000\n",
      "TBBB: Data doesn't exist for startDate = 1684728000, endDate = 1684814400\n",
      "TBBB: Data doesn't exist for startDate = 1684814400, endDate = 1684900800\n",
      "/var/folders/77/05l3f4755g34m9yb1kt19stm0000gn/T/ipykernel_41131/295811338.py:16: FutureWarning: The behavior of DataFrame concatenation with empty or all-NA entries is deprecated. In a future version, this will no longer exclude empty or all-NA columns when determining the result dtypes. To retain the old behavior, exclude the relevant entries before the concat operation.\n",
      "  df_target.loc[len(df_target)] = [ticker, ratio_ticker]\n"
     ]
    },
    {
     "name": "stdout",
     "output_type": "stream",
     "text": [
      "get_stock_value_ratio : Error processing ticker TBBB: unsupported operand type(s) for /: 'float' and 'NoneType'\n"
     ]
    },
    {
     "name": "stderr",
     "output_type": "stream",
     "text": [
      "TBLAW: Period '1mo' is invalid, must be one of ['1d', '5d']\n",
      "TBLAW: Period '1mo' is invalid, must be one of ['1d', '5d']\n",
      "TBLAW: Period '1mo' is invalid, must be one of ['1d', '5d']\n",
      "TBLAW: Period '1mo' is invalid, must be one of ['1d', '5d']\n",
      "TBLAW: Period '1mo' is invalid, must be one of ['1d', '5d']\n",
      "TBLAW: Period '1mo' is invalid, must be one of ['1d', '5d']\n",
      "TBLAW: Period '1mo' is invalid, must be one of ['1d', '5d']\n",
      "TBLAW: Period '1mo' is invalid, must be one of ['1d', '5d']\n",
      "/var/folders/77/05l3f4755g34m9yb1kt19stm0000gn/T/ipykernel_41131/295811338.py:16: FutureWarning: The behavior of DataFrame concatenation with empty or all-NA entries is deprecated. In a future version, this will no longer exclude empty or all-NA columns when determining the result dtypes. To retain the old behavior, exclude the relevant entries before the concat operation.\n",
      "  df_target.loc[len(df_target)] = [ticker, ratio_ticker]\n",
      "TCBPW: Period '1mo' is invalid, must be one of ['1d', '5d']\n",
      "TCBPW: Period '1mo' is invalid, must be one of ['1d', '5d']\n",
      "TCBPW: Period '1mo' is invalid, must be one of ['1d', '5d']\n",
      "TCBPW: Period '1mo' is invalid, must be one of ['1d', '5d']\n",
      "TCBPW: Period '1mo' is invalid, must be one of ['1d', '5d']\n",
      "TCBPW: Period '1mo' is invalid, must be one of ['1d', '5d']\n",
      "TCBPW: Period '1mo' is invalid, must be one of ['1d', '5d']\n",
      "TCBPW: Period '1mo' is invalid, must be one of ['1d', '5d']\n",
      "/var/folders/77/05l3f4755g34m9yb1kt19stm0000gn/T/ipykernel_41131/295811338.py:16: FutureWarning: The behavior of DataFrame concatenation with empty or all-NA entries is deprecated. In a future version, this will no longer exclude empty or all-NA columns when determining the result dtypes. To retain the old behavior, exclude the relevant entries before the concat operation.\n",
      "  df_target.loc[len(df_target)] = [ticker, ratio_ticker]\n",
      "TELO: Data doesn't exist for startDate = 1684296000, endDate = 1684900800\n",
      "TELO: Data doesn't exist for startDate = 1684296000, endDate = 1684382400\n",
      "TELO: Data doesn't exist for startDate = 1684382400, endDate = 1684468800\n",
      "TELO: Data doesn't exist for startDate = 1684468800, endDate = 1684555200\n",
      "TELO: Data doesn't exist for startDate = 1684555200, endDate = 1684641600\n",
      "TELO: Data doesn't exist for startDate = 1684641600, endDate = 1684728000\n",
      "TELO: Data doesn't exist for startDate = 1684728000, endDate = 1684814400\n",
      "TELO: Data doesn't exist for startDate = 1684814400, endDate = 1684900800\n",
      "/var/folders/77/05l3f4755g34m9yb1kt19stm0000gn/T/ipykernel_41131/295811338.py:16: FutureWarning: The behavior of DataFrame concatenation with empty or all-NA entries is deprecated. In a future version, this will no longer exclude empty or all-NA columns when determining the result dtypes. To retain the old behavior, exclude the relevant entries before the concat operation.\n",
      "  df_target.loc[len(df_target)] = [ticker, ratio_ticker]\n"
     ]
    },
    {
     "name": "stdout",
     "output_type": "stream",
     "text": [
      "get_stock_value_ratio : Error processing ticker TELO: unsupported operand type(s) for /: 'float' and 'NoneType'\n"
     ]
    },
    {
     "name": "stderr",
     "output_type": "stream",
     "text": [
      "TETEW: Period '1mo' is invalid, must be one of ['1d', '5d']\n",
      "TETEW: Period '1mo' is invalid, must be one of ['1d', '5d']\n",
      "TETEW: Period '1mo' is invalid, must be one of ['1d', '5d']\n",
      "TETEW: Period '1mo' is invalid, must be one of ['1d', '5d']\n",
      "TETEW: Period '1mo' is invalid, must be one of ['1d', '5d']\n",
      "TETEW: Period '1mo' is invalid, must be one of ['1d', '5d']\n",
      "TETEW: Period '1mo' is invalid, must be one of ['1d', '5d']\n",
      "TETEW: Period '1mo' is invalid, must be one of ['1d', '5d']\n",
      "/var/folders/77/05l3f4755g34m9yb1kt19stm0000gn/T/ipykernel_41131/295811338.py:16: FutureWarning: The behavior of DataFrame concatenation with empty or all-NA entries is deprecated. In a future version, this will no longer exclude empty or all-NA columns when determining the result dtypes. To retain the old behavior, exclude the relevant entries before the concat operation.\n",
      "  df_target.loc[len(df_target)] = [ticker, ratio_ticker]\n",
      "TGAAW: Period '1mo' is invalid, must be one of ['1d', '5d']\n",
      "TGAAW: Period '1mo' is invalid, must be one of ['1d', '5d']\n",
      "TGAAW: Period '1mo' is invalid, must be one of ['1d', '5d']\n",
      "TGAAW: Period '1mo' is invalid, must be one of ['1d', '5d']\n",
      "TGAAW: Period '1mo' is invalid, must be one of ['1d', '5d']\n",
      "TGAAW: Period '1mo' is invalid, must be one of ['1d', '5d']\n",
      "TGAAW: Period '1mo' is invalid, must be one of ['1d', '5d']\n",
      "TGAAW: Period '1mo' is invalid, must be one of ['1d', '5d']\n",
      "/var/folders/77/05l3f4755g34m9yb1kt19stm0000gn/T/ipykernel_41131/295811338.py:16: FutureWarning: The behavior of DataFrame concatenation with empty or all-NA entries is deprecated. In a future version, this will no longer exclude empty or all-NA columns when determining the result dtypes. To retain the old behavior, exclude the relevant entries before the concat operation.\n",
      "  df_target.loc[len(df_target)] = [ticker, ratio_ticker]\n",
      "THCPW: Period '1mo' is invalid, must be one of ['1d', '5d']\n",
      "THCPW: Period '1mo' is invalid, must be one of ['1d', '5d']\n",
      "THCPW: Period '1mo' is invalid, must be one of ['1d', '5d']\n",
      "THCPW: Period '1mo' is invalid, must be one of ['1d', '5d']\n",
      "THCPW: Period '1mo' is invalid, must be one of ['1d', '5d']\n",
      "THCPW: Period '1mo' is invalid, must be one of ['1d', '5d']\n",
      "THCPW: Period '1mo' is invalid, must be one of ['1d', '5d']\n",
      "THCPW: Period '1mo' is invalid, must be one of ['1d', '5d']\n",
      "/var/folders/77/05l3f4755g34m9yb1kt19stm0000gn/T/ipykernel_41131/295811338.py:16: FutureWarning: The behavior of DataFrame concatenation with empty or all-NA entries is deprecated. In a future version, this will no longer exclude empty or all-NA columns when determining the result dtypes. To retain the old behavior, exclude the relevant entries before the concat operation.\n",
      "  df_target.loc[len(df_target)] = [ticker, ratio_ticker]\n",
      "TNONW: Period '1mo' is invalid, must be one of ['1d', '5d']\n",
      "TNONW: Period '1mo' is invalid, must be one of ['1d', '5d']\n",
      "TNONW: Period '1mo' is invalid, must be one of ['1d', '5d']\n",
      "TNONW: Period '1mo' is invalid, must be one of ['1d', '5d']\n",
      "TNONW: Period '1mo' is invalid, must be one of ['1d', '5d']\n",
      "TNONW: Period '1mo' is invalid, must be one of ['1d', '5d']\n",
      "TNONW: Period '1mo' is invalid, must be one of ['1d', '5d']\n",
      "TNONW: Period '1mo' is invalid, must be one of ['1d', '5d']\n",
      "/var/folders/77/05l3f4755g34m9yb1kt19stm0000gn/T/ipykernel_41131/295811338.py:16: FutureWarning: The behavior of DataFrame concatenation with empty or all-NA entries is deprecated. In a future version, this will no longer exclude empty or all-NA columns when determining the result dtypes. To retain the old behavior, exclude the relevant entries before the concat operation.\n",
      "  df_target.loc[len(df_target)] = [ticker, ratio_ticker]\n",
      "TOIIW: Period '1mo' is invalid, must be one of ['1d', '5d']\n",
      "TOIIW: Period '1mo' is invalid, must be one of ['1d', '5d']\n",
      "TOIIW: Period '1mo' is invalid, must be one of ['1d', '5d']\n",
      "TOIIW: Period '1mo' is invalid, must be one of ['1d', '5d']\n",
      "TOIIW: Period '1mo' is invalid, must be one of ['1d', '5d']\n",
      "TOIIW: Period '1mo' is invalid, must be one of ['1d', '5d']\n",
      "TOIIW: Period '1mo' is invalid, must be one of ['1d', '5d']\n",
      "TOIIW: Period '1mo' is invalid, must be one of ['1d', '5d']\n",
      "/var/folders/77/05l3f4755g34m9yb1kt19stm0000gn/T/ipykernel_41131/295811338.py:16: FutureWarning: The behavior of DataFrame concatenation with empty or all-NA entries is deprecated. In a future version, this will no longer exclude empty or all-NA columns when determining the result dtypes. To retain the old behavior, exclude the relevant entries before the concat operation.\n",
      "  df_target.loc[len(df_target)] = [ticker, ratio_ticker]\n",
      "TRONW: Period '1mo' is invalid, must be one of ['1d', '5d']\n",
      "TRONW: Period '1mo' is invalid, must be one of ['1d', '5d']\n",
      "TRONW: Period '1mo' is invalid, must be one of ['1d', '5d']\n",
      "TRONW: Period '1mo' is invalid, must be one of ['1d', '5d']\n",
      "TRONW: Period '1mo' is invalid, must be one of ['1d', '5d']\n",
      "TRONW: Period '1mo' is invalid, must be one of ['1d', '5d']\n",
      "TRONW: Period '1mo' is invalid, must be one of ['1d', '5d']\n",
      "TRONW: Period '1mo' is invalid, must be one of ['1d', '5d']\n",
      "/var/folders/77/05l3f4755g34m9yb1kt19stm0000gn/T/ipykernel_41131/295811338.py:16: FutureWarning: The behavior of DataFrame concatenation with empty or all-NA entries is deprecated. In a future version, this will no longer exclude empty or all-NA columns when determining the result dtypes. To retain the old behavior, exclude the relevant entries before the concat operation.\n",
      "  df_target.loc[len(df_target)] = [ticker, ratio_ticker]\n",
      "TRSG: Data doesn't exist for startDate = 1684296000, endDate = 1684900800\n",
      "TRSG: Data doesn't exist for startDate = 1684296000, endDate = 1684382400\n",
      "TRSG: Data doesn't exist for startDate = 1684382400, endDate = 1684468800\n",
      "TRSG: Data doesn't exist for startDate = 1684468800, endDate = 1684555200\n",
      "TRSG: Data doesn't exist for startDate = 1684555200, endDate = 1684641600\n",
      "TRSG: Data doesn't exist for startDate = 1684641600, endDate = 1684728000\n",
      "TRSG: Data doesn't exist for startDate = 1684728000, endDate = 1684814400\n",
      "TRSG: Data doesn't exist for startDate = 1684814400, endDate = 1684900800\n",
      "/var/folders/77/05l3f4755g34m9yb1kt19stm0000gn/T/ipykernel_41131/295811338.py:16: FutureWarning: The behavior of DataFrame concatenation with empty or all-NA entries is deprecated. In a future version, this will no longer exclude empty or all-NA columns when determining the result dtypes. To retain the old behavior, exclude the relevant entries before the concat operation.\n",
      "  df_target.loc[len(df_target)] = [ticker, ratio_ticker]\n"
     ]
    },
    {
     "name": "stdout",
     "output_type": "stream",
     "text": [
      "get_stock_value_ratio : Error processing ticker TRSG: unsupported operand type(s) for /: 'float' and 'NoneType'\n"
     ]
    },
    {
     "name": "stderr",
     "output_type": "stream",
     "text": [
      "TSBX: Data doesn't exist for startDate = 1684296000, endDate = 1684900800\n",
      "TSBX: Data doesn't exist for startDate = 1684296000, endDate = 1684382400\n",
      "TSBX: Data doesn't exist for startDate = 1684382400, endDate = 1684468800\n",
      "TSBX: Data doesn't exist for startDate = 1684468800, endDate = 1684555200\n",
      "TSBX: Data doesn't exist for startDate = 1684555200, endDate = 1684641600\n",
      "TSBX: Data doesn't exist for startDate = 1684641600, endDate = 1684728000\n",
      "TSBX: Data doesn't exist for startDate = 1684728000, endDate = 1684814400\n",
      "TSBX: Data doesn't exist for startDate = 1684814400, endDate = 1684900800\n",
      "/var/folders/77/05l3f4755g34m9yb1kt19stm0000gn/T/ipykernel_41131/295811338.py:16: FutureWarning: The behavior of DataFrame concatenation with empty or all-NA entries is deprecated. In a future version, this will no longer exclude empty or all-NA columns when determining the result dtypes. To retain the old behavior, exclude the relevant entries before the concat operation.\n",
      "  df_target.loc[len(df_target)] = [ticker, ratio_ticker]\n"
     ]
    },
    {
     "name": "stdout",
     "output_type": "stream",
     "text": [
      "get_stock_value_ratio : Error processing ticker TSBX: unsupported operand type(s) for /: 'float' and 'NoneType'\n"
     ]
    },
    {
     "name": "stderr",
     "output_type": "stream",
     "text": [
      "TURB: Data doesn't exist for startDate = 1684296000, endDate = 1684900800\n",
      "TURB: Data doesn't exist for startDate = 1684296000, endDate = 1684382400\n",
      "TURB: Data doesn't exist for startDate = 1684382400, endDate = 1684468800\n",
      "TURB: Data doesn't exist for startDate = 1684468800, endDate = 1684555200\n",
      "TURB: Data doesn't exist for startDate = 1684555200, endDate = 1684641600\n",
      "TURB: Data doesn't exist for startDate = 1684641600, endDate = 1684728000\n",
      "TURB: Data doesn't exist for startDate = 1684728000, endDate = 1684814400\n",
      "TURB: Data doesn't exist for startDate = 1684814400, endDate = 1684900800\n",
      "/var/folders/77/05l3f4755g34m9yb1kt19stm0000gn/T/ipykernel_41131/295811338.py:16: FutureWarning: The behavior of DataFrame concatenation with empty or all-NA entries is deprecated. In a future version, this will no longer exclude empty or all-NA columns when determining the result dtypes. To retain the old behavior, exclude the relevant entries before the concat operation.\n",
      "  df_target.loc[len(df_target)] = [ticker, ratio_ticker]\n"
     ]
    },
    {
     "name": "stdout",
     "output_type": "stream",
     "text": [
      "get_stock_value_ratio : Error processing ticker TURB: unsupported operand type(s) for /: 'float' and 'NoneType'\n"
     ]
    },
    {
     "name": "stderr",
     "output_type": "stream",
     "text": [
      "TVGNW: Period '1mo' is invalid, must be one of ['1d', '5d']\n",
      "TVGNW: Period '1mo' is invalid, must be one of ['1d', '5d']\n",
      "TVGNW: Period '1mo' is invalid, must be one of ['1d', '5d']\n",
      "TVGNW: Period '1mo' is invalid, must be one of ['1d', '5d']\n",
      "TVGNW: Period '1mo' is invalid, must be one of ['1d', '5d']\n",
      "TVGNW: Period '1mo' is invalid, must be one of ['1d', '5d']\n",
      "TVGNW: Period '1mo' is invalid, must be one of ['1d', '5d']\n",
      "TVGNW: Period '1mo' is invalid, must be one of ['1d', '5d']\n",
      "/var/folders/77/05l3f4755g34m9yb1kt19stm0000gn/T/ipykernel_41131/295811338.py:16: FutureWarning: The behavior of DataFrame concatenation with empty or all-NA entries is deprecated. In a future version, this will no longer exclude empty or all-NA columns when determining the result dtypes. To retain the old behavior, exclude the relevant entries before the concat operation.\n",
      "  df_target.loc[len(df_target)] = [ticker, ratio_ticker]\n",
      "TWG: Data doesn't exist for startDate = 1684296000, endDate = 1684900800\n",
      "TWG: Data doesn't exist for startDate = 1684296000, endDate = 1684382400\n",
      "TWG: Data doesn't exist for startDate = 1684382400, endDate = 1684468800\n",
      "TWG: Data doesn't exist for startDate = 1684468800, endDate = 1684555200\n",
      "TWG: Data doesn't exist for startDate = 1684555200, endDate = 1684641600\n",
      "TWG: Data doesn't exist for startDate = 1684641600, endDate = 1684728000\n",
      "TWG: Data doesn't exist for startDate = 1684728000, endDate = 1684814400\n",
      "TWG: Data doesn't exist for startDate = 1684814400, endDate = 1684900800\n",
      "/var/folders/77/05l3f4755g34m9yb1kt19stm0000gn/T/ipykernel_41131/295811338.py:16: FutureWarning: The behavior of DataFrame concatenation with empty or all-NA entries is deprecated. In a future version, this will no longer exclude empty or all-NA columns when determining the result dtypes. To retain the old behavior, exclude the relevant entries before the concat operation.\n",
      "  df_target.loc[len(df_target)] = [ticker, ratio_ticker]\n"
     ]
    },
    {
     "name": "stdout",
     "output_type": "stream",
     "text": [
      "get_stock_value_ratio : Error processing ticker TWG: unsupported operand type(s) for /: 'float' and 'NoneType'\n"
     ]
    },
    {
     "name": "stderr",
     "output_type": "stream",
     "text": [
      "UBXG: Data doesn't exist for startDate = 1684296000, endDate = 1684900800\n",
      "UBXG: Data doesn't exist for startDate = 1684296000, endDate = 1684382400\n",
      "UBXG: Data doesn't exist for startDate = 1684382400, endDate = 1684468800\n",
      "UBXG: Data doesn't exist for startDate = 1684468800, endDate = 1684555200\n",
      "UBXG: Data doesn't exist for startDate = 1684555200, endDate = 1684641600\n",
      "UBXG: Data doesn't exist for startDate = 1684641600, endDate = 1684728000\n",
      "UBXG: Data doesn't exist for startDate = 1684728000, endDate = 1684814400\n",
      "UBXG: Data doesn't exist for startDate = 1684814400, endDate = 1684900800\n",
      "/var/folders/77/05l3f4755g34m9yb1kt19stm0000gn/T/ipykernel_41131/295811338.py:16: FutureWarning: The behavior of DataFrame concatenation with empty or all-NA entries is deprecated. In a future version, this will no longer exclude empty or all-NA columns when determining the result dtypes. To retain the old behavior, exclude the relevant entries before the concat operation.\n",
      "  df_target.loc[len(df_target)] = [ticker, ratio_ticker]\n"
     ]
    },
    {
     "name": "stdout",
     "output_type": "stream",
     "text": [
      "get_stock_value_ratio : Error processing ticker UBXG: unsupported operand type(s) for /: 'float' and 'NoneType'\n"
     ]
    },
    {
     "name": "stderr",
     "output_type": "stream",
     "text": [
      "UHGWW: Period '1mo' is invalid, must be one of ['1d', '5d']\n",
      "UHGWW: Period '1mo' is invalid, must be one of ['1d', '5d']\n",
      "UHGWW: Period '1mo' is invalid, must be one of ['1d', '5d']\n",
      "UHGWW: Period '1mo' is invalid, must be one of ['1d', '5d']\n",
      "UHGWW: Period '1mo' is invalid, must be one of ['1d', '5d']\n",
      "UHGWW: Period '1mo' is invalid, must be one of ['1d', '5d']\n",
      "UHGWW: Period '1mo' is invalid, must be one of ['1d', '5d']\n",
      "UHGWW: Period '1mo' is invalid, must be one of ['1d', '5d']\n",
      "/var/folders/77/05l3f4755g34m9yb1kt19stm0000gn/T/ipykernel_41131/295811338.py:16: FutureWarning: The behavior of DataFrame concatenation with empty or all-NA entries is deprecated. In a future version, this will no longer exclude empty or all-NA columns when determining the result dtypes. To retain the old behavior, exclude the relevant entries before the concat operation.\n",
      "  df_target.loc[len(df_target)] = [ticker, ratio_ticker]\n",
      "UKOMW: Period '1mo' is invalid, must be one of ['1d', '5d']\n",
      "UKOMW: Period '1mo' is invalid, must be one of ['1d', '5d']\n",
      "UKOMW: Period '1mo' is invalid, must be one of ['1d', '5d']\n",
      "UKOMW: Period '1mo' is invalid, must be one of ['1d', '5d']\n",
      "UKOMW: Period '1mo' is invalid, must be one of ['1d', '5d']\n",
      "UKOMW: Period '1mo' is invalid, must be one of ['1d', '5d']\n",
      "UKOMW: Period '1mo' is invalid, must be one of ['1d', '5d']\n",
      "UKOMW: Period '1mo' is invalid, must be one of ['1d', '5d']\n",
      "/var/folders/77/05l3f4755g34m9yb1kt19stm0000gn/T/ipykernel_41131/295811338.py:16: FutureWarning: The behavior of DataFrame concatenation with empty or all-NA entries is deprecated. In a future version, this will no longer exclude empty or all-NA columns when determining the result dtypes. To retain the old behavior, exclude the relevant entries before the concat operation.\n",
      "  df_target.loc[len(df_target)] = [ticker, ratio_ticker]\n",
      "$ULS: possibly delisted; No price data found  (1d 2023-05-17 00:00:00 -> 2023-05-24 00:00:00)\n",
      "$ULS: possibly delisted; No price data found  (1d 2023-05-17 00:00:00 -> 2023-05-18 00:00:00)\n",
      "ULS: Data doesn't exist for startDate = 1684382400, endDate = 1684468800\n",
      "ULS: Data doesn't exist for startDate = 1684468800, endDate = 1684555200\n",
      "ULS: Data doesn't exist for startDate = 1684555200, endDate = 1684641600\n",
      "ULS: Data doesn't exist for startDate = 1684641600, endDate = 1684728000\n",
      "ULS: Data doesn't exist for startDate = 1684728000, endDate = 1684814400\n",
      "ULS: Data doesn't exist for startDate = 1684814400, endDate = 1684900800\n",
      "/var/folders/77/05l3f4755g34m9yb1kt19stm0000gn/T/ipykernel_41131/295811338.py:16: FutureWarning: The behavior of DataFrame concatenation with empty or all-NA entries is deprecated. In a future version, this will no longer exclude empty or all-NA columns when determining the result dtypes. To retain the old behavior, exclude the relevant entries before the concat operation.\n",
      "  df_target.loc[len(df_target)] = [ticker, ratio_ticker]\n"
     ]
    },
    {
     "name": "stdout",
     "output_type": "stream",
     "text": [
      "get_stock_value_ratio : Error processing ticker ULS: unsupported operand type(s) for /: 'float' and 'NoneType'\n"
     ]
    },
    {
     "name": "stderr",
     "output_type": "stream",
     "text": [
      "ULY: Data doesn't exist for startDate = 1684296000, endDate = 1684900800\n",
      "ULY: Data doesn't exist for startDate = 1684296000, endDate = 1684382400\n",
      "ULY: Data doesn't exist for startDate = 1684382400, endDate = 1684468800\n",
      "ULY: Data doesn't exist for startDate = 1684468800, endDate = 1684555200\n",
      "ULY: Data doesn't exist for startDate = 1684555200, endDate = 1684641600\n",
      "ULY: Data doesn't exist for startDate = 1684641600, endDate = 1684728000\n",
      "ULY: Data doesn't exist for startDate = 1684728000, endDate = 1684814400\n",
      "ULY: Data doesn't exist for startDate = 1684814400, endDate = 1684900800\n",
      "/var/folders/77/05l3f4755g34m9yb1kt19stm0000gn/T/ipykernel_41131/295811338.py:16: FutureWarning: The behavior of DataFrame concatenation with empty or all-NA entries is deprecated. In a future version, this will no longer exclude empty or all-NA columns when determining the result dtypes. To retain the old behavior, exclude the relevant entries before the concat operation.\n",
      "  df_target.loc[len(df_target)] = [ticker, ratio_ticker]\n"
     ]
    },
    {
     "name": "stdout",
     "output_type": "stream",
     "text": [
      "get_stock_value_ratio : Error processing ticker ULY: unsupported operand type(s) for /: 'float' and 'NoneType'\n"
     ]
    },
    {
     "name": "stderr",
     "output_type": "stream",
     "text": [
      "UMAC: Data doesn't exist for startDate = 1684296000, endDate = 1684900800\n",
      "UMAC: Data doesn't exist for startDate = 1684296000, endDate = 1684382400\n",
      "UMAC: Data doesn't exist for startDate = 1684382400, endDate = 1684468800\n",
      "UMAC: Data doesn't exist for startDate = 1684468800, endDate = 1684555200\n",
      "UMAC: Data doesn't exist for startDate = 1684555200, endDate = 1684641600\n",
      "UMAC: Data doesn't exist for startDate = 1684641600, endDate = 1684728000\n",
      "UMAC: Data doesn't exist for startDate = 1684728000, endDate = 1684814400\n",
      "UMAC: Data doesn't exist for startDate = 1684814400, endDate = 1684900800\n",
      "/var/folders/77/05l3f4755g34m9yb1kt19stm0000gn/T/ipykernel_41131/295811338.py:16: FutureWarning: The behavior of DataFrame concatenation with empty or all-NA entries is deprecated. In a future version, this will no longer exclude empty or all-NA columns when determining the result dtypes. To retain the old behavior, exclude the relevant entries before the concat operation.\n",
      "  df_target.loc[len(df_target)] = [ticker, ratio_ticker]\n"
     ]
    },
    {
     "name": "stdout",
     "output_type": "stream",
     "text": [
      "get_stock_value_ratio : Error processing ticker UMAC: unsupported operand type(s) for /: 'float' and 'NoneType'\n"
     ]
    },
    {
     "name": "stderr",
     "output_type": "stream",
     "text": [
      "USGOW: Period '1mo' is invalid, must be one of ['1d', '5d']\n",
      "USGOW: Period '1mo' is invalid, must be one of ['1d', '5d']\n",
      "USGOW: Period '1mo' is invalid, must be one of ['1d', '5d']\n",
      "USGOW: Period '1mo' is invalid, must be one of ['1d', '5d']\n",
      "USGOW: Period '1mo' is invalid, must be one of ['1d', '5d']\n",
      "USGOW: Period '1mo' is invalid, must be one of ['1d', '5d']\n",
      "USGOW: Period '1mo' is invalid, must be one of ['1d', '5d']\n",
      "USGOW: Period '1mo' is invalid, must be one of ['1d', '5d']\n",
      "/var/folders/77/05l3f4755g34m9yb1kt19stm0000gn/T/ipykernel_41131/295811338.py:16: FutureWarning: The behavior of DataFrame concatenation with empty or all-NA entries is deprecated. In a future version, this will no longer exclude empty or all-NA columns when determining the result dtypes. To retain the old behavior, exclude the relevant entries before the concat operation.\n",
      "  df_target.loc[len(df_target)] = [ticker, ratio_ticker]\n",
      "VFS: Data doesn't exist for startDate = 1684296000, endDate = 1684900800\n",
      "VFS: Data doesn't exist for startDate = 1684296000, endDate = 1684382400\n",
      "VFS: Data doesn't exist for startDate = 1684382400, endDate = 1684468800\n",
      "VFS: Data doesn't exist for startDate = 1684468800, endDate = 1684555200\n",
      "VFS: Data doesn't exist for startDate = 1684555200, endDate = 1684641600\n",
      "VFS: Data doesn't exist for startDate = 1684641600, endDate = 1684728000\n",
      "VFS: Data doesn't exist for startDate = 1684728000, endDate = 1684814400\n",
      "VFS: Data doesn't exist for startDate = 1684814400, endDate = 1684900800\n",
      "/var/folders/77/05l3f4755g34m9yb1kt19stm0000gn/T/ipykernel_41131/295811338.py:16: FutureWarning: The behavior of DataFrame concatenation with empty or all-NA entries is deprecated. In a future version, this will no longer exclude empty or all-NA columns when determining the result dtypes. To retain the old behavior, exclude the relevant entries before the concat operation.\n",
      "  df_target.loc[len(df_target)] = [ticker, ratio_ticker]\n"
     ]
    },
    {
     "name": "stdout",
     "output_type": "stream",
     "text": [
      "get_stock_value_ratio : Error processing ticker VFS: unsupported operand type(s) for /: 'float' and 'NoneType'\n"
     ]
    },
    {
     "name": "stderr",
     "output_type": "stream",
     "text": [
      "VFSWW: Data doesn't exist for startDate = 1684296000, endDate = 1684900800\n",
      "VFSWW: Data doesn't exist for startDate = 1684296000, endDate = 1684382400\n",
      "VFSWW: Data doesn't exist for startDate = 1684382400, endDate = 1684468800\n",
      "VFSWW: Data doesn't exist for startDate = 1684468800, endDate = 1684555200\n",
      "VFSWW: Data doesn't exist for startDate = 1684555200, endDate = 1684641600\n",
      "VFSWW: Data doesn't exist for startDate = 1684641600, endDate = 1684728000\n",
      "VFSWW: Data doesn't exist for startDate = 1684728000, endDate = 1684814400\n",
      "VFSWW: Data doesn't exist for startDate = 1684814400, endDate = 1684900800\n",
      "/var/folders/77/05l3f4755g34m9yb1kt19stm0000gn/T/ipykernel_41131/295811338.py:16: FutureWarning: The behavior of DataFrame concatenation with empty or all-NA entries is deprecated. In a future version, this will no longer exclude empty or all-NA columns when determining the result dtypes. To retain the old behavior, exclude the relevant entries before the concat operation.\n",
      "  df_target.loc[len(df_target)] = [ticker, ratio_ticker]\n"
     ]
    },
    {
     "name": "stdout",
     "output_type": "stream",
     "text": [
      "get_stock_value_ratio : Error processing ticker VFSWW: unsupported operand type(s) for /: 'float' and 'NoneType'\n"
     ]
    },
    {
     "name": "stderr",
     "output_type": "stream",
     "text": [
      "VGASW: Period '1mo' is invalid, must be one of ['1d', '5d']\n",
      "VGASW: Period '1mo' is invalid, must be one of ['1d', '5d']\n",
      "VGASW: Period '1mo' is invalid, must be one of ['1d', '5d']\n",
      "VGASW: Period '1mo' is invalid, must be one of ['1d', '5d']\n",
      "VGASW: Period '1mo' is invalid, must be one of ['1d', '5d']\n",
      "VGASW: Period '1mo' is invalid, must be one of ['1d', '5d']\n",
      "VGASW: Period '1mo' is invalid, must be one of ['1d', '5d']\n",
      "VGASW: Period '1mo' is invalid, must be one of ['1d', '5d']\n",
      "/var/folders/77/05l3f4755g34m9yb1kt19stm0000gn/T/ipykernel_41131/295811338.py:16: FutureWarning: The behavior of DataFrame concatenation with empty or all-NA entries is deprecated. In a future version, this will no longer exclude empty or all-NA columns when determining the result dtypes. To retain the old behavior, exclude the relevant entries before the concat operation.\n",
      "  df_target.loc[len(df_target)] = [ticker, ratio_ticker]\n",
      "VHAI: Data doesn't exist for startDate = 1684296000, endDate = 1684900800\n",
      "VHAI: Data doesn't exist for startDate = 1684296000, endDate = 1684382400\n",
      "VHAI: Data doesn't exist for startDate = 1684382400, endDate = 1684468800\n",
      "VHAI: Data doesn't exist for startDate = 1684468800, endDate = 1684555200\n",
      "VHAI: Data doesn't exist for startDate = 1684555200, endDate = 1684641600\n",
      "VHAI: Data doesn't exist for startDate = 1684641600, endDate = 1684728000\n",
      "VHAI: Data doesn't exist for startDate = 1684728000, endDate = 1684814400\n",
      "VHAI: Data doesn't exist for startDate = 1684814400, endDate = 1684900800\n",
      "/var/folders/77/05l3f4755g34m9yb1kt19stm0000gn/T/ipykernel_41131/295811338.py:16: FutureWarning: The behavior of DataFrame concatenation with empty or all-NA entries is deprecated. In a future version, this will no longer exclude empty or all-NA columns when determining the result dtypes. To retain the old behavior, exclude the relevant entries before the concat operation.\n",
      "  df_target.loc[len(df_target)] = [ticker, ratio_ticker]\n"
     ]
    },
    {
     "name": "stdout",
     "output_type": "stream",
     "text": [
      "get_stock_value_ratio : Error processing ticker VHAI: unsupported operand type(s) for /: 'float' and 'NoneType'\n"
     ]
    },
    {
     "name": "stderr",
     "output_type": "stream",
     "text": [
      "VIK: Data doesn't exist for startDate = 1684296000, endDate = 1684900800\n",
      "VIK: Data doesn't exist for startDate = 1684296000, endDate = 1684382400\n",
      "VIK: Data doesn't exist for startDate = 1684382400, endDate = 1684468800\n",
      "VIK: Data doesn't exist for startDate = 1684468800, endDate = 1684555200\n",
      "VIK: Data doesn't exist for startDate = 1684555200, endDate = 1684641600\n",
      "VIK: Data doesn't exist for startDate = 1684641600, endDate = 1684728000\n",
      "VIK: Data doesn't exist for startDate = 1684728000, endDate = 1684814400\n",
      "VIK: Data doesn't exist for startDate = 1684814400, endDate = 1684900800\n",
      "/var/folders/77/05l3f4755g34m9yb1kt19stm0000gn/T/ipykernel_41131/295811338.py:16: FutureWarning: The behavior of DataFrame concatenation with empty or all-NA entries is deprecated. In a future version, this will no longer exclude empty or all-NA columns when determining the result dtypes. To retain the old behavior, exclude the relevant entries before the concat operation.\n",
      "  df_target.loc[len(df_target)] = [ticker, ratio_ticker]\n"
     ]
    },
    {
     "name": "stdout",
     "output_type": "stream",
     "text": [
      "get_stock_value_ratio : Error processing ticker VIK: unsupported operand type(s) for /: 'float' and 'NoneType'\n"
     ]
    },
    {
     "name": "stderr",
     "output_type": "stream",
     "text": [
      "VLTO: Data doesn't exist for startDate = 1684296000, endDate = 1684900800\n",
      "VLTO: Data doesn't exist for startDate = 1684296000, endDate = 1684382400\n",
      "VLTO: Data doesn't exist for startDate = 1684382400, endDate = 1684468800\n",
      "VLTO: Data doesn't exist for startDate = 1684468800, endDate = 1684555200\n",
      "VLTO: Data doesn't exist for startDate = 1684555200, endDate = 1684641600\n",
      "VLTO: Data doesn't exist for startDate = 1684641600, endDate = 1684728000\n",
      "VLTO: Data doesn't exist for startDate = 1684728000, endDate = 1684814400\n",
      "VLTO: Data doesn't exist for startDate = 1684814400, endDate = 1684900800\n",
      "/var/folders/77/05l3f4755g34m9yb1kt19stm0000gn/T/ipykernel_41131/295811338.py:16: FutureWarning: The behavior of DataFrame concatenation with empty or all-NA entries is deprecated. In a future version, this will no longer exclude empty or all-NA columns when determining the result dtypes. To retain the old behavior, exclude the relevant entries before the concat operation.\n",
      "  df_target.loc[len(df_target)] = [ticker, ratio_ticker]\n"
     ]
    },
    {
     "name": "stdout",
     "output_type": "stream",
     "text": [
      "get_stock_value_ratio : Error processing ticker VLTO: unsupported operand type(s) for /: 'float' and 'NoneType'\n"
     ]
    },
    {
     "name": "stderr",
     "output_type": "stream",
     "text": [
      "VRMEW: Period '1mo' is invalid, must be one of ['1d', '5d']\n",
      "VRMEW: Period '1mo' is invalid, must be one of ['1d', '5d']\n",
      "VRMEW: Period '1mo' is invalid, must be one of ['1d', '5d']\n",
      "VRMEW: Period '1mo' is invalid, must be one of ['1d', '5d']\n",
      "VRMEW: Period '1mo' is invalid, must be one of ['1d', '5d']\n",
      "VRMEW: Period '1mo' is invalid, must be one of ['1d', '5d']\n",
      "VRMEW: Period '1mo' is invalid, must be one of ['1d', '5d']\n",
      "VRMEW: Period '1mo' is invalid, must be one of ['1d', '5d']\n",
      "/var/folders/77/05l3f4755g34m9yb1kt19stm0000gn/T/ipykernel_41131/295811338.py:16: FutureWarning: The behavior of DataFrame concatenation with empty or all-NA entries is deprecated. In a future version, this will no longer exclude empty or all-NA columns when determining the result dtypes. To retain the old behavior, exclude the relevant entries before the concat operation.\n",
      "  df_target.loc[len(df_target)] = [ticker, ratio_ticker]\n",
      "VSME: Data doesn't exist for startDate = 1684296000, endDate = 1684900800\n",
      "VSME: Data doesn't exist for startDate = 1684296000, endDate = 1684382400\n",
      "VSME: Data doesn't exist for startDate = 1684382400, endDate = 1684468800\n",
      "VSME: Data doesn't exist for startDate = 1684468800, endDate = 1684555200\n",
      "VSME: Data doesn't exist for startDate = 1684555200, endDate = 1684641600\n",
      "VSME: Data doesn't exist for startDate = 1684641600, endDate = 1684728000\n",
      "VSME: Data doesn't exist for startDate = 1684728000, endDate = 1684814400\n",
      "VSME: Data doesn't exist for startDate = 1684814400, endDate = 1684900800\n",
      "/var/folders/77/05l3f4755g34m9yb1kt19stm0000gn/T/ipykernel_41131/295811338.py:16: FutureWarning: The behavior of DataFrame concatenation with empty or all-NA entries is deprecated. In a future version, this will no longer exclude empty or all-NA columns when determining the result dtypes. To retain the old behavior, exclude the relevant entries before the concat operation.\n",
      "  df_target.loc[len(df_target)] = [ticker, ratio_ticker]\n"
     ]
    },
    {
     "name": "stdout",
     "output_type": "stream",
     "text": [
      "get_stock_value_ratio : Error processing ticker VSME: unsupported operand type(s) for /: 'float' and 'NoneType'\n"
     ]
    },
    {
     "name": "stderr",
     "output_type": "stream",
     "text": [
      "VSTEW: Period '1mo' is invalid, must be one of ['1d', '5d']\n",
      "VSTEW: Period '1mo' is invalid, must be one of ['1d', '5d']\n",
      "VSTEW: Period '1mo' is invalid, must be one of ['1d', '5d']\n",
      "VSTEW: Period '1mo' is invalid, must be one of ['1d', '5d']\n",
      "VSTEW: Period '1mo' is invalid, must be one of ['1d', '5d']\n",
      "VSTEW: Period '1mo' is invalid, must be one of ['1d', '5d']\n",
      "VSTEW: Period '1mo' is invalid, must be one of ['1d', '5d']\n",
      "VSTEW: Period '1mo' is invalid, must be one of ['1d', '5d']\n",
      "/var/folders/77/05l3f4755g34m9yb1kt19stm0000gn/T/ipykernel_41131/295811338.py:16: FutureWarning: The behavior of DataFrame concatenation with empty or all-NA entries is deprecated. In a future version, this will no longer exclude empty or all-NA columns when determining the result dtypes. To retain the old behavior, exclude the relevant entries before the concat operation.\n",
      "  df_target.loc[len(df_target)] = [ticker, ratio_ticker]\n",
      "VSTS: Data doesn't exist for startDate = 1684296000, endDate = 1684900800\n",
      "VSTS: Data doesn't exist for startDate = 1684296000, endDate = 1684382400\n",
      "VSTS: Data doesn't exist for startDate = 1684382400, endDate = 1684468800\n",
      "VSTS: Data doesn't exist for startDate = 1684468800, endDate = 1684555200\n",
      "VSTS: Data doesn't exist for startDate = 1684555200, endDate = 1684641600\n",
      "VSTS: Data doesn't exist for startDate = 1684641600, endDate = 1684728000\n",
      "VSTS: Data doesn't exist for startDate = 1684728000, endDate = 1684814400\n",
      "VSTS: Data doesn't exist for startDate = 1684814400, endDate = 1684900800\n",
      "/var/folders/77/05l3f4755g34m9yb1kt19stm0000gn/T/ipykernel_41131/295811338.py:16: FutureWarning: The behavior of DataFrame concatenation with empty or all-NA entries is deprecated. In a future version, this will no longer exclude empty or all-NA columns when determining the result dtypes. To retain the old behavior, exclude the relevant entries before the concat operation.\n",
      "  df_target.loc[len(df_target)] = [ticker, ratio_ticker]\n"
     ]
    },
    {
     "name": "stdout",
     "output_type": "stream",
     "text": [
      "get_stock_value_ratio : Error processing ticker VSTS: unsupported operand type(s) for /: 'float' and 'NoneType'\n"
     ]
    },
    {
     "name": "stderr",
     "output_type": "stream",
     "text": [
      "VTMX: Data doesn't exist for startDate = 1684296000, endDate = 1684900800\n",
      "VTMX: Data doesn't exist for startDate = 1684296000, endDate = 1684382400\n",
      "VTMX: Data doesn't exist for startDate = 1684382400, endDate = 1684468800\n",
      "VTMX: Data doesn't exist for startDate = 1684468800, endDate = 1684555200\n",
      "VTMX: Data doesn't exist for startDate = 1684555200, endDate = 1684641600\n",
      "VTMX: Data doesn't exist for startDate = 1684641600, endDate = 1684728000\n",
      "VTMX: Data doesn't exist for startDate = 1684728000, endDate = 1684814400\n",
      "VTMX: Data doesn't exist for startDate = 1684814400, endDate = 1684900800\n",
      "/var/folders/77/05l3f4755g34m9yb1kt19stm0000gn/T/ipykernel_41131/295811338.py:16: FutureWarning: The behavior of DataFrame concatenation with empty or all-NA entries is deprecated. In a future version, this will no longer exclude empty or all-NA columns when determining the result dtypes. To retain the old behavior, exclude the relevant entries before the concat operation.\n",
      "  df_target.loc[len(df_target)] = [ticker, ratio_ticker]\n"
     ]
    },
    {
     "name": "stdout",
     "output_type": "stream",
     "text": [
      "get_stock_value_ratio : Error processing ticker VTMX: unsupported operand type(s) for /: 'float' and 'NoneType'\n"
     ]
    },
    {
     "name": "stderr",
     "output_type": "stream",
     "text": [
      "VWEWW: Period '1mo' is invalid, must be one of ['1d', '5d']\n",
      "VWEWW: Period '1mo' is invalid, must be one of ['1d', '5d']\n",
      "VWEWW: Period '1mo' is invalid, must be one of ['1d', '5d']\n",
      "VWEWW: Period '1mo' is invalid, must be one of ['1d', '5d']\n",
      "VWEWW: Period '1mo' is invalid, must be one of ['1d', '5d']\n",
      "VWEWW: Period '1mo' is invalid, must be one of ['1d', '5d']\n",
      "VWEWW: Period '1mo' is invalid, must be one of ['1d', '5d']\n",
      "VWEWW: Period '1mo' is invalid, must be one of ['1d', '5d']\n",
      "/var/folders/77/05l3f4755g34m9yb1kt19stm0000gn/T/ipykernel_41131/295811338.py:16: FutureWarning: The behavior of DataFrame concatenation with empty or all-NA entries is deprecated. In a future version, this will no longer exclude empty or all-NA columns when determining the result dtypes. To retain the old behavior, exclude the relevant entries before the concat operation.\n",
      "  df_target.loc[len(df_target)] = [ticker, ratio_ticker]\n",
      "WAVSW: Period '1mo' is invalid, must be one of ['1d', '5d']\n",
      "WAVSW: Period '1mo' is invalid, must be one of ['1d', '5d']\n",
      "WAVSW: Period '1mo' is invalid, must be one of ['1d', '5d']\n",
      "WAVSW: Period '1mo' is invalid, must be one of ['1d', '5d']\n",
      "WAVSW: Period '1mo' is invalid, must be one of ['1d', '5d']\n",
      "WAVSW: Period '1mo' is invalid, must be one of ['1d', '5d']\n",
      "WAVSW: Period '1mo' is invalid, must be one of ['1d', '5d']\n",
      "WAVSW: Period '1mo' is invalid, must be one of ['1d', '5d']\n",
      "/var/folders/77/05l3f4755g34m9yb1kt19stm0000gn/T/ipykernel_41131/295811338.py:16: FutureWarning: The behavior of DataFrame concatenation with empty or all-NA entries is deprecated. In a future version, this will no longer exclude empty or all-NA columns when determining the result dtypes. To retain the old behavior, exclude the relevant entries before the concat operation.\n",
      "  df_target.loc[len(df_target)] = [ticker, ratio_ticker]\n",
      "WBUY: Data doesn't exist for startDate = 1684296000, endDate = 1684900800\n",
      "WBUY: Data doesn't exist for startDate = 1684296000, endDate = 1684382400\n",
      "WBUY: Data doesn't exist for startDate = 1684382400, endDate = 1684468800\n",
      "WBUY: Data doesn't exist for startDate = 1684468800, endDate = 1684555200\n",
      "WBUY: Data doesn't exist for startDate = 1684555200, endDate = 1684641600\n",
      "WBUY: Data doesn't exist for startDate = 1684641600, endDate = 1684728000\n",
      "WBUY: Data doesn't exist for startDate = 1684728000, endDate = 1684814400\n",
      "WBUY: Data doesn't exist for startDate = 1684814400, endDate = 1684900800\n",
      "/var/folders/77/05l3f4755g34m9yb1kt19stm0000gn/T/ipykernel_41131/295811338.py:16: FutureWarning: The behavior of DataFrame concatenation with empty or all-NA entries is deprecated. In a future version, this will no longer exclude empty or all-NA columns when determining the result dtypes. To retain the old behavior, exclude the relevant entries before the concat operation.\n",
      "  df_target.loc[len(df_target)] = [ticker, ratio_ticker]\n"
     ]
    },
    {
     "name": "stdout",
     "output_type": "stream",
     "text": [
      "get_stock_value_ratio : Error processing ticker WBUY: unsupported operand type(s) for /: 'float' and 'NoneType'\n"
     ]
    },
    {
     "name": "stderr",
     "output_type": "stream",
     "text": [
      "WESTW: Period '1mo' is invalid, must be one of ['1d', '5d']\n",
      "WESTW: Period '1mo' is invalid, must be one of ['1d', '5d']\n",
      "WESTW: Period '1mo' is invalid, must be one of ['1d', '5d']\n",
      "WESTW: Period '1mo' is invalid, must be one of ['1d', '5d']\n",
      "WESTW: Period '1mo' is invalid, must be one of ['1d', '5d']\n",
      "WESTW: Period '1mo' is invalid, must be one of ['1d', '5d']\n",
      "WESTW: Period '1mo' is invalid, must be one of ['1d', '5d']\n",
      "WESTW: Period '1mo' is invalid, must be one of ['1d', '5d']\n",
      "/var/folders/77/05l3f4755g34m9yb1kt19stm0000gn/T/ipykernel_41131/295811338.py:16: FutureWarning: The behavior of DataFrame concatenation with empty or all-NA entries is deprecated. In a future version, this will no longer exclude empty or all-NA columns when determining the result dtypes. To retain the old behavior, exclude the relevant entries before the concat operation.\n",
      "  df_target.loc[len(df_target)] = [ticker, ratio_ticker]\n",
      "WETH: Data doesn't exist for startDate = 1684296000, endDate = 1684900800\n",
      "WETH: Data doesn't exist for startDate = 1684296000, endDate = 1684382400\n",
      "WETH: Data doesn't exist for startDate = 1684382400, endDate = 1684468800\n",
      "WETH: Data doesn't exist for startDate = 1684468800, endDate = 1684555200\n",
      "WETH: Data doesn't exist for startDate = 1684555200, endDate = 1684641600\n",
      "WETH: Data doesn't exist for startDate = 1684641600, endDate = 1684728000\n",
      "WETH: Data doesn't exist for startDate = 1684728000, endDate = 1684814400\n",
      "WETH: Data doesn't exist for startDate = 1684814400, endDate = 1684900800\n",
      "/var/folders/77/05l3f4755g34m9yb1kt19stm0000gn/T/ipykernel_41131/295811338.py:16: FutureWarning: The behavior of DataFrame concatenation with empty or all-NA entries is deprecated. In a future version, this will no longer exclude empty or all-NA columns when determining the result dtypes. To retain the old behavior, exclude the relevant entries before the concat operation.\n",
      "  df_target.loc[len(df_target)] = [ticker, ratio_ticker]\n"
     ]
    },
    {
     "name": "stdout",
     "output_type": "stream",
     "text": [
      "get_stock_value_ratio : Error processing ticker WETH: unsupported operand type(s) for /: 'float' and 'NoneType'\n"
     ]
    },
    {
     "name": "stderr",
     "output_type": "stream",
     "text": [
      "WGSWW: Period '1mo' is invalid, must be one of ['1d', '5d']\n",
      "WGSWW: Period '1mo' is invalid, must be one of ['1d', '5d']\n",
      "WGSWW: Period '1mo' is invalid, must be one of ['1d', '5d']\n",
      "WGSWW: Period '1mo' is invalid, must be one of ['1d', '5d']\n",
      "WGSWW: Period '1mo' is invalid, must be one of ['1d', '5d']\n",
      "WGSWW: Period '1mo' is invalid, must be one of ['1d', '5d']\n",
      "WGSWW: Period '1mo' is invalid, must be one of ['1d', '5d']\n",
      "WGSWW: Period '1mo' is invalid, must be one of ['1d', '5d']\n",
      "/var/folders/77/05l3f4755g34m9yb1kt19stm0000gn/T/ipykernel_41131/295811338.py:16: FutureWarning: The behavior of DataFrame concatenation with empty or all-NA entries is deprecated. In a future version, this will no longer exclude empty or all-NA columns when determining the result dtypes. To retain the old behavior, exclude the relevant entries before the concat operation.\n",
      "  df_target.loc[len(df_target)] = [ticker, ratio_ticker]\n",
      "WINVW: Period '1mo' is invalid, must be one of ['1d', '5d']\n",
      "WINVW: Period '1mo' is invalid, must be one of ['1d', '5d']\n",
      "WINVW: Period '1mo' is invalid, must be one of ['1d', '5d']\n",
      "WINVW: Period '1mo' is invalid, must be one of ['1d', '5d']\n",
      "WINVW: Period '1mo' is invalid, must be one of ['1d', '5d']\n",
      "WINVW: Period '1mo' is invalid, must be one of ['1d', '5d']\n",
      "WINVW: Period '1mo' is invalid, must be one of ['1d', '5d']\n",
      "WINVW: Period '1mo' is invalid, must be one of ['1d', '5d']\n",
      "/var/folders/77/05l3f4755g34m9yb1kt19stm0000gn/T/ipykernel_41131/295811338.py:16: FutureWarning: The behavior of DataFrame concatenation with empty or all-NA entries is deprecated. In a future version, this will no longer exclude empty or all-NA columns when determining the result dtypes. To retain the old behavior, exclude the relevant entries before the concat operation.\n",
      "  df_target.loc[len(df_target)] = [ticker, ratio_ticker]\n",
      "WKSPW: Period '1mo' is invalid, must be one of ['1d', '5d']\n",
      "WKSPW: Period '1mo' is invalid, must be one of ['1d', '5d']\n",
      "WKSPW: Period '1mo' is invalid, must be one of ['1d', '5d']\n",
      "WKSPW: Period '1mo' is invalid, must be one of ['1d', '5d']\n",
      "WKSPW: Period '1mo' is invalid, must be one of ['1d', '5d']\n",
      "WKSPW: Period '1mo' is invalid, must be one of ['1d', '5d']\n",
      "WKSPW: Period '1mo' is invalid, must be one of ['1d', '5d']\n",
      "WKSPW: Period '1mo' is invalid, must be one of ['1d', '5d']\n",
      "/var/folders/77/05l3f4755g34m9yb1kt19stm0000gn/T/ipykernel_41131/295811338.py:16: FutureWarning: The behavior of DataFrame concatenation with empty or all-NA entries is deprecated. In a future version, this will no longer exclude empty or all-NA columns when determining the result dtypes. To retain the old behavior, exclude the relevant entries before the concat operation.\n",
      "  df_target.loc[len(df_target)] = [ticker, ratio_ticker]\n",
      "WLDSW: Period '1mo' is invalid, must be one of ['1d', '5d']\n",
      "WLDSW: Period '1mo' is invalid, must be one of ['1d', '5d']\n",
      "WLDSW: Period '1mo' is invalid, must be one of ['1d', '5d']\n",
      "WLDSW: Period '1mo' is invalid, must be one of ['1d', '5d']\n",
      "WLDSW: Period '1mo' is invalid, must be one of ['1d', '5d']\n",
      "WLDSW: Period '1mo' is invalid, must be one of ['1d', '5d']\n",
      "WLDSW: Period '1mo' is invalid, must be one of ['1d', '5d']\n",
      "WLDSW: Period '1mo' is invalid, must be one of ['1d', '5d']\n",
      "/var/folders/77/05l3f4755g34m9yb1kt19stm0000gn/T/ipykernel_41131/295811338.py:16: FutureWarning: The behavior of DataFrame concatenation with empty or all-NA entries is deprecated. In a future version, this will no longer exclude empty or all-NA columns when determining the result dtypes. To retain the old behavior, exclude the relevant entries before the concat operation.\n",
      "  df_target.loc[len(df_target)] = [ticker, ratio_ticker]\n",
      "WRNT: Data doesn't exist for startDate = 1684296000, endDate = 1684900800\n",
      "WRNT: Data doesn't exist for startDate = 1684296000, endDate = 1684382400\n",
      "WRNT: Data doesn't exist for startDate = 1684382400, endDate = 1684468800\n",
      "WRNT: Data doesn't exist for startDate = 1684468800, endDate = 1684555200\n",
      "WRNT: Data doesn't exist for startDate = 1684555200, endDate = 1684641600\n",
      "WRNT: Data doesn't exist for startDate = 1684641600, endDate = 1684728000\n",
      "WRNT: Data doesn't exist for startDate = 1684728000, endDate = 1684814400\n",
      "WRNT: Data doesn't exist for startDate = 1684814400, endDate = 1684900800\n",
      "/var/folders/77/05l3f4755g34m9yb1kt19stm0000gn/T/ipykernel_41131/295811338.py:16: FutureWarning: The behavior of DataFrame concatenation with empty or all-NA entries is deprecated. In a future version, this will no longer exclude empty or all-NA columns when determining the result dtypes. To retain the old behavior, exclude the relevant entries before the concat operation.\n",
      "  df_target.loc[len(df_target)] = [ticker, ratio_ticker]\n"
     ]
    },
    {
     "name": "stdout",
     "output_type": "stream",
     "text": [
      "get_stock_value_ratio : Error processing ticker WRNT: unsupported operand type(s) for /: 'float' and 'NoneType'\n"
     ]
    },
    {
     "name": "stderr",
     "output_type": "stream",
     "text": [
      "WS: Data doesn't exist for startDate = 1684296000, endDate = 1684900800\n",
      "WS: Data doesn't exist for startDate = 1684296000, endDate = 1684382400\n",
      "WS: Data doesn't exist for startDate = 1684382400, endDate = 1684468800\n",
      "WS: Data doesn't exist for startDate = 1684468800, endDate = 1684555200\n",
      "WS: Data doesn't exist for startDate = 1684555200, endDate = 1684641600\n",
      "WS: Data doesn't exist for startDate = 1684641600, endDate = 1684728000\n",
      "WS: Data doesn't exist for startDate = 1684728000, endDate = 1684814400\n",
      "WS: Data doesn't exist for startDate = 1684814400, endDate = 1684900800\n",
      "/var/folders/77/05l3f4755g34m9yb1kt19stm0000gn/T/ipykernel_41131/295811338.py:16: FutureWarning: The behavior of DataFrame concatenation with empty or all-NA entries is deprecated. In a future version, this will no longer exclude empty or all-NA columns when determining the result dtypes. To retain the old behavior, exclude the relevant entries before the concat operation.\n",
      "  df_target.loc[len(df_target)] = [ticker, ratio_ticker]\n"
     ]
    },
    {
     "name": "stdout",
     "output_type": "stream",
     "text": [
      "get_stock_value_ratio : Error processing ticker WS: unsupported operand type(s) for /: 'float' and 'NoneType'\n"
     ]
    },
    {
     "name": "stderr",
     "output_type": "stream",
     "text": [
      "XBPEW: Period '1mo' is invalid, must be one of ['1d', '5d']\n",
      "XBPEW: Period '1mo' is invalid, must be one of ['1d', '5d']\n",
      "XBPEW: Period '1mo' is invalid, must be one of ['1d', '5d']\n",
      "XBPEW: Period '1mo' is invalid, must be one of ['1d', '5d']\n",
      "XBPEW: Period '1mo' is invalid, must be one of ['1d', '5d']\n",
      "XBPEW: Period '1mo' is invalid, must be one of ['1d', '5d']\n",
      "XBPEW: Period '1mo' is invalid, must be one of ['1d', '5d']\n",
      "XBPEW: Period '1mo' is invalid, must be one of ['1d', '5d']\n",
      "/var/folders/77/05l3f4755g34m9yb1kt19stm0000gn/T/ipykernel_41131/295811338.py:16: FutureWarning: The behavior of DataFrame concatenation with empty or all-NA entries is deprecated. In a future version, this will no longer exclude empty or all-NA columns when determining the result dtypes. To retain the old behavior, exclude the relevant entries before the concat operation.\n",
      "  df_target.loc[len(df_target)] = [ticker, ratio_ticker]\n",
      "XOSWW: Period '1mo' is invalid, must be one of ['1d', '5d']\n",
      "XOSWW: Period '1mo' is invalid, must be one of ['1d', '5d']\n",
      "XOSWW: Period '1mo' is invalid, must be one of ['1d', '5d']\n",
      "XOSWW: Period '1mo' is invalid, must be one of ['1d', '5d']\n",
      "XOSWW: Period '1mo' is invalid, must be one of ['1d', '5d']\n",
      "XOSWW: Period '1mo' is invalid, must be one of ['1d', '5d']\n",
      "XOSWW: Period '1mo' is invalid, must be one of ['1d', '5d']\n",
      "XOSWW: Period '1mo' is invalid, must be one of ['1d', '5d']\n",
      "/var/folders/77/05l3f4755g34m9yb1kt19stm0000gn/T/ipykernel_41131/295811338.py:16: FutureWarning: The behavior of DataFrame concatenation with empty or all-NA entries is deprecated. In a future version, this will no longer exclude empty or all-NA columns when determining the result dtypes. To retain the old behavior, exclude the relevant entries before the concat operation.\n",
      "  df_target.loc[len(df_target)] = [ticker, ratio_ticker]\n",
      "YIBO: Data doesn't exist for startDate = 1684296000, endDate = 1684900800\n",
      "YIBO: Data doesn't exist for startDate = 1684296000, endDate = 1684382400\n",
      "YIBO: Data doesn't exist for startDate = 1684382400, endDate = 1684468800\n",
      "YIBO: Data doesn't exist for startDate = 1684468800, endDate = 1684555200\n",
      "YIBO: Data doesn't exist for startDate = 1684555200, endDate = 1684641600\n",
      "YIBO: Data doesn't exist for startDate = 1684641600, endDate = 1684728000\n",
      "YIBO: Data doesn't exist for startDate = 1684728000, endDate = 1684814400\n",
      "YIBO: Data doesn't exist for startDate = 1684814400, endDate = 1684900800\n",
      "/var/folders/77/05l3f4755g34m9yb1kt19stm0000gn/T/ipykernel_41131/295811338.py:16: FutureWarning: The behavior of DataFrame concatenation with empty or all-NA entries is deprecated. In a future version, this will no longer exclude empty or all-NA columns when determining the result dtypes. To retain the old behavior, exclude the relevant entries before the concat operation.\n",
      "  df_target.loc[len(df_target)] = [ticker, ratio_ticker]\n"
     ]
    },
    {
     "name": "stdout",
     "output_type": "stream",
     "text": [
      "get_stock_value_ratio : Error processing ticker YIBO: unsupported operand type(s) for /: 'float' and 'NoneType'\n"
     ]
    },
    {
     "name": "stderr",
     "output_type": "stream",
     "text": [
      "YOTAW: Period '1mo' is invalid, must be one of ['1d', '5d']\n",
      "YOTAW: Period '1mo' is invalid, must be one of ['1d', '5d']\n",
      "YOTAW: Period '1mo' is invalid, must be one of ['1d', '5d']\n",
      "YOTAW: Period '1mo' is invalid, must be one of ['1d', '5d']\n",
      "YOTAW: Period '1mo' is invalid, must be one of ['1d', '5d']\n",
      "YOTAW: Period '1mo' is invalid, must be one of ['1d', '5d']\n",
      "YOTAW: Period '1mo' is invalid, must be one of ['1d', '5d']\n",
      "YOTAW: Period '1mo' is invalid, must be one of ['1d', '5d']\n",
      "/var/folders/77/05l3f4755g34m9yb1kt19stm0000gn/T/ipykernel_41131/295811338.py:16: FutureWarning: The behavior of DataFrame concatenation with empty or all-NA entries is deprecated. In a future version, this will no longer exclude empty or all-NA columns when determining the result dtypes. To retain the old behavior, exclude the relevant entries before the concat operation.\n",
      "  df_target.loc[len(df_target)] = [ticker, ratio_ticker]\n",
      "YYGH: Data doesn't exist for startDate = 1684296000, endDate = 1684900800\n",
      "YYGH: Data doesn't exist for startDate = 1684296000, endDate = 1684382400\n",
      "YYGH: Data doesn't exist for startDate = 1684382400, endDate = 1684468800\n",
      "YYGH: Data doesn't exist for startDate = 1684468800, endDate = 1684555200\n",
      "YYGH: Data doesn't exist for startDate = 1684555200, endDate = 1684641600\n",
      "YYGH: Data doesn't exist for startDate = 1684641600, endDate = 1684728000\n",
      "YYGH: Data doesn't exist for startDate = 1684728000, endDate = 1684814400\n",
      "YYGH: Data doesn't exist for startDate = 1684814400, endDate = 1684900800\n",
      "/var/folders/77/05l3f4755g34m9yb1kt19stm0000gn/T/ipykernel_41131/295811338.py:16: FutureWarning: The behavior of DataFrame concatenation with empty or all-NA entries is deprecated. In a future version, this will no longer exclude empty or all-NA columns when determining the result dtypes. To retain the old behavior, exclude the relevant entries before the concat operation.\n",
      "  df_target.loc[len(df_target)] = [ticker, ratio_ticker]\n"
     ]
    },
    {
     "name": "stdout",
     "output_type": "stream",
     "text": [
      "get_stock_value_ratio : Error processing ticker YYGH: unsupported operand type(s) for /: 'float' and 'NoneType'\n"
     ]
    },
    {
     "name": "stderr",
     "output_type": "stream",
     "text": [
      "ZAPPW: Period '1mo' is invalid, must be one of ['1d', '5d']\n",
      "ZAPPW: Period '1mo' is invalid, must be one of ['1d', '5d']\n",
      "ZAPPW: Period '1mo' is invalid, must be one of ['1d', '5d']\n",
      "ZAPPW: Period '1mo' is invalid, must be one of ['1d', '5d']\n",
      "ZAPPW: Period '1mo' is invalid, must be one of ['1d', '5d']\n",
      "ZAPPW: Period '1mo' is invalid, must be one of ['1d', '5d']\n",
      "ZAPPW: Period '1mo' is invalid, must be one of ['1d', '5d']\n",
      "ZAPPW: Period '1mo' is invalid, must be one of ['1d', '5d']\n",
      "/var/folders/77/05l3f4755g34m9yb1kt19stm0000gn/T/ipykernel_41131/295811338.py:16: FutureWarning: The behavior of DataFrame concatenation with empty or all-NA entries is deprecated. In a future version, this will no longer exclude empty or all-NA columns when determining the result dtypes. To retain the old behavior, exclude the relevant entries before the concat operation.\n",
      "  df_target.loc[len(df_target)] = [ticker, ratio_ticker]\n",
      "ZBAO: Data doesn't exist for startDate = 1684296000, endDate = 1684900800\n",
      "ZBAO: Data doesn't exist for startDate = 1684296000, endDate = 1684382400\n",
      "ZBAO: Data doesn't exist for startDate = 1684382400, endDate = 1684468800\n",
      "ZBAO: Data doesn't exist for startDate = 1684468800, endDate = 1684555200\n",
      "ZBAO: Data doesn't exist for startDate = 1684555200, endDate = 1684641600\n",
      "ZBAO: Data doesn't exist for startDate = 1684641600, endDate = 1684728000\n",
      "ZBAO: Data doesn't exist for startDate = 1684728000, endDate = 1684814400\n",
      "ZBAO: Data doesn't exist for startDate = 1684814400, endDate = 1684900800\n",
      "/var/folders/77/05l3f4755g34m9yb1kt19stm0000gn/T/ipykernel_41131/295811338.py:16: FutureWarning: The behavior of DataFrame concatenation with empty or all-NA entries is deprecated. In a future version, this will no longer exclude empty or all-NA columns when determining the result dtypes. To retain the old behavior, exclude the relevant entries before the concat operation.\n",
      "  df_target.loc[len(df_target)] = [ticker, ratio_ticker]\n"
     ]
    },
    {
     "name": "stdout",
     "output_type": "stream",
     "text": [
      "get_stock_value_ratio : Error processing ticker ZBAO: unsupported operand type(s) for /: 'float' and 'NoneType'\n"
     ]
    },
    {
     "name": "stderr",
     "output_type": "stream",
     "text": [
      "ZCARW: Period '1mo' is invalid, must be one of ['1d', '5d']\n",
      "ZCARW: Period '1mo' is invalid, must be one of ['1d', '5d']\n",
      "ZCARW: Period '1mo' is invalid, must be one of ['1d', '5d']\n",
      "ZCARW: Period '1mo' is invalid, must be one of ['1d', '5d']\n",
      "ZCARW: Period '1mo' is invalid, must be one of ['1d', '5d']\n",
      "ZCARW: Period '1mo' is invalid, must be one of ['1d', '5d']\n",
      "ZCARW: Period '1mo' is invalid, must be one of ['1d', '5d']\n",
      "ZCARW: Period '1mo' is invalid, must be one of ['1d', '5d']\n",
      "/var/folders/77/05l3f4755g34m9yb1kt19stm0000gn/T/ipykernel_41131/295811338.py:16: FutureWarning: The behavior of DataFrame concatenation with empty or all-NA entries is deprecated. In a future version, this will no longer exclude empty or all-NA columns when determining the result dtypes. To retain the old behavior, exclude the relevant entries before the concat operation.\n",
      "  df_target.loc[len(df_target)] = [ticker, ratio_ticker]\n",
      "ZEOWW: Period '1mo' is invalid, must be one of ['1d', '5d']\n",
      "ZEOWW: Period '1mo' is invalid, must be one of ['1d', '5d']\n",
      "ZEOWW: Period '1mo' is invalid, must be one of ['1d', '5d']\n",
      "ZEOWW: Period '1mo' is invalid, must be one of ['1d', '5d']\n",
      "ZEOWW: Period '1mo' is invalid, must be one of ['1d', '5d']\n",
      "ZEOWW: Period '1mo' is invalid, must be one of ['1d', '5d']\n",
      "ZEOWW: Period '1mo' is invalid, must be one of ['1d', '5d']\n",
      "ZEOWW: Period '1mo' is invalid, must be one of ['1d', '5d']\n",
      "/var/folders/77/05l3f4755g34m9yb1kt19stm0000gn/T/ipykernel_41131/295811338.py:16: FutureWarning: The behavior of DataFrame concatenation with empty or all-NA entries is deprecated. In a future version, this will no longer exclude empty or all-NA columns when determining the result dtypes. To retain the old behavior, exclude the relevant entries before the concat operation.\n",
      "  df_target.loc[len(df_target)] = [ticker, ratio_ticker]\n",
      "ZK: Data doesn't exist for startDate = 1684296000, endDate = 1684900800\n",
      "ZK: Data doesn't exist for startDate = 1684296000, endDate = 1684382400\n",
      "ZK: Data doesn't exist for startDate = 1684382400, endDate = 1684468800\n",
      "ZK: Data doesn't exist for startDate = 1684468800, endDate = 1684555200\n",
      "ZK: Data doesn't exist for startDate = 1684555200, endDate = 1684641600\n",
      "ZK: Data doesn't exist for startDate = 1684641600, endDate = 1684728000\n",
      "ZK: Data doesn't exist for startDate = 1684728000, endDate = 1684814400\n",
      "ZK: Data doesn't exist for startDate = 1684814400, endDate = 1684900800\n",
      "/var/folders/77/05l3f4755g34m9yb1kt19stm0000gn/T/ipykernel_41131/295811338.py:16: FutureWarning: The behavior of DataFrame concatenation with empty or all-NA entries is deprecated. In a future version, this will no longer exclude empty or all-NA columns when determining the result dtypes. To retain the old behavior, exclude the relevant entries before the concat operation.\n",
      "  df_target.loc[len(df_target)] = [ticker, ratio_ticker]\n"
     ]
    },
    {
     "name": "stdout",
     "output_type": "stream",
     "text": [
      "get_stock_value_ratio : Error processing ticker ZK: unsupported operand type(s) for /: 'float' and 'NoneType'\n"
     ]
    },
    {
     "name": "stderr",
     "output_type": "stream",
     "text": [
      "ZKH: Data doesn't exist for startDate = 1684296000, endDate = 1684900800\n",
      "ZKH: Data doesn't exist for startDate = 1684296000, endDate = 1684382400\n",
      "ZKH: Data doesn't exist for startDate = 1684382400, endDate = 1684468800\n",
      "ZKH: Data doesn't exist for startDate = 1684468800, endDate = 1684555200\n",
      "ZKH: Data doesn't exist for startDate = 1684555200, endDate = 1684641600\n",
      "ZKH: Data doesn't exist for startDate = 1684641600, endDate = 1684728000\n",
      "ZKH: Data doesn't exist for startDate = 1684728000, endDate = 1684814400\n",
      "ZKH: Data doesn't exist for startDate = 1684814400, endDate = 1684900800\n",
      "/var/folders/77/05l3f4755g34m9yb1kt19stm0000gn/T/ipykernel_41131/295811338.py:16: FutureWarning: The behavior of DataFrame concatenation with empty or all-NA entries is deprecated. In a future version, this will no longer exclude empty or all-NA columns when determining the result dtypes. To retain the old behavior, exclude the relevant entries before the concat operation.\n",
      "  df_target.loc[len(df_target)] = [ticker, ratio_ticker]\n"
     ]
    },
    {
     "name": "stdout",
     "output_type": "stream",
     "text": [
      "get_stock_value_ratio : Error processing ticker ZKH: unsupported operand type(s) for /: 'float' and 'NoneType'\n"
     ]
    },
    {
     "name": "stderr",
     "output_type": "stream",
     "text": [
      "ZONE: Data doesn't exist for startDate = 1684296000, endDate = 1684900800\n",
      "ZONE: Data doesn't exist for startDate = 1684296000, endDate = 1684382400\n",
      "ZONE: Data doesn't exist for startDate = 1684382400, endDate = 1684468800\n",
      "ZONE: Data doesn't exist for startDate = 1684468800, endDate = 1684555200\n",
      "ZONE: Data doesn't exist for startDate = 1684555200, endDate = 1684641600\n",
      "ZONE: Data doesn't exist for startDate = 1684641600, endDate = 1684728000\n",
      "ZONE: Data doesn't exist for startDate = 1684728000, endDate = 1684814400\n",
      "ZONE: Data doesn't exist for startDate = 1684814400, endDate = 1684900800\n",
      "/var/folders/77/05l3f4755g34m9yb1kt19stm0000gn/T/ipykernel_41131/295811338.py:16: FutureWarning: The behavior of DataFrame concatenation with empty or all-NA entries is deprecated. In a future version, this will no longer exclude empty or all-NA columns when determining the result dtypes. To retain the old behavior, exclude the relevant entries before the concat operation.\n",
      "  df_target.loc[len(df_target)] = [ticker, ratio_ticker]\n"
     ]
    },
    {
     "name": "stdout",
     "output_type": "stream",
     "text": [
      "get_stock_value_ratio : Error processing ticker ZONE: unsupported operand type(s) for /: 'float' and 'NoneType'\n"
     ]
    },
    {
     "name": "stderr",
     "output_type": "stream",
     "text": [
      "ZOOZ: Data doesn't exist for startDate = 1684296000, endDate = 1684900800\n",
      "ZOOZ: Data doesn't exist for startDate = 1684296000, endDate = 1684382400\n",
      "ZOOZ: Data doesn't exist for startDate = 1684382400, endDate = 1684468800\n",
      "ZOOZ: Data doesn't exist for startDate = 1684468800, endDate = 1684555200\n",
      "ZOOZ: Data doesn't exist for startDate = 1684555200, endDate = 1684641600\n",
      "ZOOZ: Data doesn't exist for startDate = 1684641600, endDate = 1684728000\n",
      "ZOOZ: Data doesn't exist for startDate = 1684728000, endDate = 1684814400\n",
      "ZOOZ: Data doesn't exist for startDate = 1684814400, endDate = 1684900800\n",
      "/var/folders/77/05l3f4755g34m9yb1kt19stm0000gn/T/ipykernel_41131/295811338.py:16: FutureWarning: The behavior of DataFrame concatenation with empty or all-NA entries is deprecated. In a future version, this will no longer exclude empty or all-NA columns when determining the result dtypes. To retain the old behavior, exclude the relevant entries before the concat operation.\n",
      "  df_target.loc[len(df_target)] = [ticker, ratio_ticker]\n",
      "ZOOZW: Period '1mo' is invalid, must be one of ['1d', '5d']\n"
     ]
    },
    {
     "name": "stdout",
     "output_type": "stream",
     "text": [
      "get_stock_value_ratio : Error processing ticker ZOOZ: unsupported operand type(s) for /: 'float' and 'NoneType'\n"
     ]
    },
    {
     "name": "stderr",
     "output_type": "stream",
     "text": [
      "ZOOZW: Period '1mo' is invalid, must be one of ['1d', '5d']\n",
      "ZOOZW: Period '1mo' is invalid, must be one of ['1d', '5d']\n",
      "ZOOZW: Period '1mo' is invalid, must be one of ['1d', '5d']\n",
      "ZOOZW: Period '1mo' is invalid, must be one of ['1d', '5d']\n",
      "ZOOZW: Period '1mo' is invalid, must be one of ['1d', '5d']\n",
      "ZOOZW: Period '1mo' is invalid, must be one of ['1d', '5d']\n",
      "ZOOZW: Period '1mo' is invalid, must be one of ['1d', '5d']\n",
      "/var/folders/77/05l3f4755g34m9yb1kt19stm0000gn/T/ipykernel_41131/295811338.py:16: FutureWarning: The behavior of DataFrame concatenation with empty or all-NA entries is deprecated. In a future version, this will no longer exclude empty or all-NA columns when determining the result dtypes. To retain the old behavior, exclude the relevant entries before the concat operation.\n",
      "  df_target.loc[len(df_target)] = [ticker, ratio_ticker]\n",
      "ZPTA: Data doesn't exist for startDate = 1684296000, endDate = 1684900800\n",
      "ZPTA: Data doesn't exist for startDate = 1684296000, endDate = 1684382400\n",
      "ZPTA: Data doesn't exist for startDate = 1684382400, endDate = 1684468800\n",
      "ZPTA: Data doesn't exist for startDate = 1684468800, endDate = 1684555200\n",
      "ZPTA: Data doesn't exist for startDate = 1684555200, endDate = 1684641600\n",
      "ZPTA: Data doesn't exist for startDate = 1684641600, endDate = 1684728000\n",
      "ZPTA: Data doesn't exist for startDate = 1684728000, endDate = 1684814400\n",
      "ZPTA: Data doesn't exist for startDate = 1684814400, endDate = 1684900800\n",
      "/var/folders/77/05l3f4755g34m9yb1kt19stm0000gn/T/ipykernel_41131/295811338.py:16: FutureWarning: The behavior of DataFrame concatenation with empty or all-NA entries is deprecated. In a future version, this will no longer exclude empty or all-NA columns when determining the result dtypes. To retain the old behavior, exclude the relevant entries before the concat operation.\n",
      "  df_target.loc[len(df_target)] = [ticker, ratio_ticker]\n",
      "ZPTAW: Period '1mo' is invalid, must be one of ['1d', '5d']\n",
      "ZPTAW: Period '1mo' is invalid, must be one of ['1d', '5d']\n"
     ]
    },
    {
     "name": "stdout",
     "output_type": "stream",
     "text": [
      "get_stock_value_ratio : Error processing ticker ZPTA: unsupported operand type(s) for /: 'float' and 'NoneType'\n"
     ]
    },
    {
     "name": "stderr",
     "output_type": "stream",
     "text": [
      "ZPTAW: Period '1mo' is invalid, must be one of ['1d', '5d']\n",
      "ZPTAW: Period '1mo' is invalid, must be one of ['1d', '5d']\n",
      "ZPTAW: Period '1mo' is invalid, must be one of ['1d', '5d']\n",
      "ZPTAW: Period '1mo' is invalid, must be one of ['1d', '5d']\n",
      "ZPTAW: Period '1mo' is invalid, must be one of ['1d', '5d']\n",
      "ZPTAW: Period '1mo' is invalid, must be one of ['1d', '5d']\n",
      "/var/folders/77/05l3f4755g34m9yb1kt19stm0000gn/T/ipykernel_41131/295811338.py:16: FutureWarning: The behavior of DataFrame concatenation with empty or all-NA entries is deprecated. In a future version, this will no longer exclude empty or all-NA columns when determining the result dtypes. To retain the old behavior, exclude the relevant entries before the concat operation.\n",
      "  df_target.loc[len(df_target)] = [ticker, ratio_ticker]\n"
     ]
    }
   ],
   "source": [
    "df_target = create_df_target(tickers_total)"
   ]
  },
  {
   "cell_type": "code",
   "execution_count": 12,
   "id": "a5193f03-e0d1-4dde-b6b9-c436bdbd93a9",
   "metadata": {
    "scrolled": true
   },
   "outputs": [
    {
     "data": {
      "text/plain": [
       "Ticker                6334\n",
       "Ratio ticker sp500    5782\n",
       "dtype: int64"
      ]
     },
     "execution_count": 12,
     "metadata": {},
     "output_type": "execute_result"
    }
   ],
   "source": [
    "len(df_target)- df_target.isna().sum()"
   ]
  },
  {
   "cell_type": "code",
   "execution_count": 6,
   "id": "a9c7d249-0427-4f45-b8e2-a1bbb76e82d4",
   "metadata": {},
   "outputs": [],
   "source": [
    "df_target.to_csv(\"raw_data/tickers_target_ALL.csv\")"
   ]
  }
 ],
 "metadata": {
  "kernelspec": {
   "display_name": "Python 3 (ipykernel)",
   "language": "python",
   "name": "python3"
  },
  "language_info": {
   "codemirror_mode": {
    "name": "ipython",
    "version": 3
   },
   "file_extension": ".py",
   "mimetype": "text/x-python",
   "name": "python",
   "nbconvert_exporter": "python",
   "pygments_lexer": "ipython3",
   "version": "3.10.6"
  }
 },
 "nbformat": 4,
 "nbformat_minor": 5
}
